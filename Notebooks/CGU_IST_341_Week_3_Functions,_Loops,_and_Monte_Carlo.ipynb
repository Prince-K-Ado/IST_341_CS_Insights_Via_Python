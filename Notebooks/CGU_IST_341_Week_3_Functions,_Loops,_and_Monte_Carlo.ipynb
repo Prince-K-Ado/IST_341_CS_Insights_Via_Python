{
  "cells": [
    {
      "cell_type": "markdown",
      "metadata": {
        "id": "view-in-github",
        "colab_type": "text"
      },
      "source": [
        "<a href=\"https://colab.research.google.com/github/Prince-K-Ado/IST_341_CS_Insights_Via_Python/blob/main/Notebooks/CGU_IST_341_Week_3_Functions%2C_Loops%2C_and_Monte_Carlo.ipynb\" target=\"_parent\"><img src=\"https://colab.research.google.com/assets/colab-badge.svg\" alt=\"Open In Colab\"/></a>"
      ]
    },
    {
      "cell_type": "markdown",
      "source": [
        "# Welcome back, IST 341!\n",
        "\n",
        "### _Assignment 3 Notebook: Functions, Loops, and Monte Carlo!_\n",
        "\n",
        "This week is functions first -- and all the rest.\n",
        "\n",
        "Featuring:\n",
        "+ A few self-similar function applications\n",
        "+ An introduction to _looping_ functions\n",
        "+ Monte Carlo Applications! The \"birthday room\" and \"sleepwalker\" (random walks)\n",
        "+ A reading and response on ChatGPT, naturally\n",
        "  + Feel free to ChatGPT it ...\n",
        "  + ... in which case, respond to its response!"
      ],
      "metadata": {
        "id": "UrkiOTiDEjwp"
      }
    },
    {
      "cell_type": "markdown",
      "source": [
        "### <font color=\"DodgerBlue\"><b>Make your own copy of this notebook (as in each week)</b></font>\n",
        "\n",
        "**Submitting** -- When you're ready to submit, be sure to\n",
        "+ **share** the notebook with the <font color=\"darkblue\">instructor</font> (_hi!_):\n",
        "   + `zdodds@gmail.com`\n",
        "+ and also **submit** the url to your notebook at the appropriate spot on Canvas\n"
      ],
      "metadata": {
        "id": "M7dzL4m4fPYf"
      }
    },
    {
      "cell_type": "markdown",
      "source": [
        "# <b>Leading example</b>:  ``i2I_once``\n",
        "\n",
        "The alien is seeking a capital ``'I'``!\n",
        "\n",
        "The function ``i2I_once(s)`` takes in a string ``s``\n",
        "From there,\n",
        "+ if ``s`` is the single character ``'i'``, the function returns a capital ``'I'``\n",
        "+ otherwise, the function returns the original input, ``s``\n",
        "\n",
        "Try it!\n",
        "\n",
        "<b>Shortcut</b>: <tt>control-/</tt> comments and uncomments..."
      ],
      "metadata": {
        "id": "9BqFJ1etLRzR"
      }
    },
    {
      "cell_type": "code",
      "source": [
        "# single-character substitution:\n",
        "\n",
        "def i2I_once(s):\n",
        "  \"\"\" i2I_once changes an input 'i' to an output 'I'\n",
        "      all other inputs remain the same\n",
        "  \"\"\"\n",
        "  if s == 'i':\n",
        "    return 'I'\n",
        "  else:\n",
        "    return s\n",
        "\n",
        "# tests are in the next cell..."
      ],
      "metadata": {
        "id": "1krVLOH0HQsC"
      },
      "execution_count": 1,
      "outputs": []
    },
    {
      "cell_type": "code",
      "source": [
        "# Tests to try for i2I_once  (Try control-/ to uncomment them!)\n",
        "\n",
        "print(\"i2I_once('i') should be 'I' <->\", i2I_once('i'))\n",
        "print(\"i2I_once('j') should be 'j' <->\", i2I_once('j'))\n",
        "print()\n",
        "\n",
        "print(\"i2I_once('alien') should be 'alien' <->\", i2I_once('alien'))\n",
        "print(\"i2I_once('icicle') should be 'icicle' <->\", i2I_once('icicle'))"
      ],
      "metadata": {
        "id": "Y421urjHHTDd",
        "outputId": "9d8df274-84f0-4383-cda6-b0ee71fb9f4f",
        "colab": {
          "base_uri": "https://localhost:8080/"
        }
      },
      "execution_count": 2,
      "outputs": [
        {
          "output_type": "stream",
          "name": "stdout",
          "text": [
            "i2I_once('i') should be 'I' <-> I\n",
            "i2I_once('j') should be 'j' <-> j\n",
            "\n",
            "i2I_once('alien') should be 'alien' <-> alien\n",
            "i2I_once('icicle') should be 'icicle' <-> icicle\n"
          ]
        }
      ]
    },
    {
      "cell_type": "markdown",
      "source": [
        "## <b>The problem</b>\n",
        "\n",
        "The \"problem\" is that ``i2I_once`` only works on single-character strings. But... <br> **we'd like it to work on <u>every</u> character in a string!**\n",
        "\n",
        "<br>\n",
        "\n",
        "## <b>The solution!</b>\n",
        "\n",
        "We create a second function, ``i2I_all(s)`` which\n",
        "+ calls ``i2I_once`` on the ***first*** character, ``s[0]``\n",
        "+ then, calls ``i2I_all`` on the ***rest***, ``s[1:]``\n",
        "\n",
        "<b>Important!</b> There needs to be a way to stop!\n",
        "+ The function checks if the input ``s`` has no characters...\n",
        "+ in that case, there is nothing to substitute, and the empty string ``''`` is returned\n",
        "\n",
        "Try it!\n",
        "\n"
      ],
      "metadata": {
        "id": "S3fIcroiHwp1"
      }
    },
    {
      "cell_type": "code",
      "source": [
        "# multiple-character substitution\n",
        "\n",
        "def i2I_all(s):\n",
        "  \"\"\" changes i to I for all characters in the input, s \"\"\"\n",
        "  if s == '':       # EMPTY case!\n",
        "    return ''\n",
        "  else:\n",
        "    return i2I_once(s[0]) + i2I_all(s[1:])  # FIRST and REST\n",
        "\n",
        "# tests are in the next cell..."
      ],
      "metadata": {
        "id": "BdvSdeIXHUHB"
      },
      "execution_count": 4,
      "outputs": []
    },
    {
      "cell_type": "code",
      "source": [
        "# Tests to try for i2I_all\n",
        "\n",
        "print(\"i2I_all('alien') should be 'alIen' <->\", i2I_all('alien'))\n",
        "print(\"i2I_all('aliiien') should be 'alIIIen' <->\", i2I_all('aliiien'))\n",
        "print()\n",
        "\n",
        "print(\"i2I_all('icicle') should be 'IcIcle' <->\", i2I_all('icicle'))\n",
        "print(\"i2I_all('No eyes to see here') should be 'No eyes to see here' <->\", i2I_all('No eyes to see here'))"
      ],
      "metadata": {
        "id": "lX1tlDNbHVq-",
        "outputId": "4e6ebea2-8cd4-4123-b5ac-3b116e4f1795",
        "colab": {
          "base_uri": "https://localhost:8080/"
        }
      },
      "execution_count": 5,
      "outputs": [
        {
          "output_type": "stream",
          "name": "stdout",
          "text": [
            "i2I_all('alien') should be 'alIen' <-> alIen\n",
            "i2I_all('aliiien') should be 'alIIIen' <-> alIIIen\n",
            "\n",
            "i2I_all('icicle') should be 'IcIcle' <-> IcIcle\n",
            "i2I_all('No eyes to see here') should be 'No eyes to see here' <-> No eyes to see here\n"
          ]
        }
      ]
    },
    {
      "cell_type": "markdown",
      "source": [
        "## <b>An <i>alternative</i> solution...</b>\n",
        "\n",
        "The above solution uses only conditionals (`if` and `else`) and function-calls. Because the function calls _itself_, it's called **recursive** .\n",
        "\n",
        "<br>\n",
        "\n",
        "An alternative approach -- and one that, to be honest, is more often used in practice, uses a **loop**.  Loops express _repetition_. It's a bit glib, but in one sense computers are really just machines for running loops... <font size=\"-2\">That said, the loops are almost always inside functions!</font>  \n",
        "\n",
        "## <b>The <i>Loop</i> solution!</b>\n",
        "\n",
        "We create a second solution, ``i2I_all_loop(s)`` which\n",
        "+ loops over each character, giving each one the name `c` - and then\n",
        "+ calls ``i2I_once`` on ***each*** of those characters, `c`\n",
        "+ and, meanwhile, adds up all of the transformed characters\n",
        "+ In the end, it returns the final **result**.\n",
        "\n",
        "Try it!"
      ],
      "metadata": {
        "id": "BSsaKb79M-pZ"
      }
    },
    {
      "cell_type": "code",
      "source": [
        "# multiple-character substitution\n",
        "\n",
        "def i2I_all_loop(s):\n",
        "  \"\"\" changes i to I for all characters in the input, s \"\"\"\n",
        "  result = ''        # the result starts as the EMPTY string!\n",
        "\n",
        "  for c in s:        # c is the name we are giving to EACH element in s (that is, each character in s)\n",
        "    result = result + i2I_once(c)   # each time, we add the new transformed output to the end of result\n",
        "    # print(\"result is\", result)    # uncomment this to see the process, in action!\n",
        "\n",
        "  return result      # at the end, we return the final, completely-created result string!\n",
        "\n",
        "# tests are in the next cell..."
      ],
      "metadata": {
        "id": "Zar7ZreiOGAl"
      },
      "execution_count": 7,
      "outputs": []
    },
    {
      "cell_type": "code",
      "source": [
        "# Tests to try for i2I_all_loop\n",
        "\n",
        "print(\"i2I_all_loop('alien') should be 'alIen' <->\", i2I_all_loop('alien'))\n",
        "print(\"i2I_all_loop('aliiien') should be 'alIIIen' <->\", i2I_all_loop('aliiien'))\n",
        "print()\n",
        "\n",
        "print(\"i2I_all_loop('icicle') should be 'IcIcle' <->\", i2I_all_loop('icicle'))\n",
        "print(\"i2I_all_loop('No eyes to see here') should be 'No eyes to see here' <->\", i2I_all_loop('No eyes to see here'))"
      ],
      "metadata": {
        "id": "8AUnOPghPEPJ",
        "colab": {
          "base_uri": "https://localhost:8080/"
        },
        "outputId": "cdfc16f8-5d5f-4bd3-b3f5-316d019b81f4"
      },
      "execution_count": 8,
      "outputs": [
        {
          "output_type": "stream",
          "name": "stdout",
          "text": [
            "i2I_all_loop('alien') should be 'alIen' <-> alIen\n",
            "i2I_all_loop('aliiien') should be 'alIIIen' <-> alIIIen\n",
            "\n",
            "i2I_all_loop('icicle') should be 'IcIcle' <-> IcIcle\n",
            "i2I_all_loop('No eyes to see here') should be 'No eyes to see here' <-> No eyes to see here\n"
          ]
        }
      ]
    },
    {
      "cell_type": "markdown",
      "source": [
        "## Loops or Recursion: _Your choice_ ...\n",
        "\n",
        "For these next-few functions, feel free to use loops or recursion.\n",
        "\n",
        "_Suggestion_:  &nbsp; Copy-and-edit the solutions above. Adapt them to the new problem at hand!\n",
        "\n",
        "_Disclaimer_: &nbsp; This is how ***all*** software is created in professional practice: adapting old software that had been solving similar problems!\n",
        "\n",
        "<br>\n",
        "\n",
        "<hr>\n",
        "\n",
        "<br>"
      ],
      "metadata": {
        "id": "pA1aLiC6OGz0"
      }
    },
    {
      "cell_type": "markdown",
      "source": [
        "### <font color=\"darkblue\"><b>Task #1</b></font>: ``spongebobbify_each(s)``\n",
        "\n",
        "The ``i2I_all`` and `i2I_all_loop` and ``i2I_once`` patterns are very powerful -- and very general. Even universal!\n",
        "\n",
        "For <b>task #1</b>, the goal is to write ``spongebobbify_each(s)`` whose goal is to return a randomly-capitalized version of the input string ``s``. For example,\n",
        "\n",
        "``spongebobbify_all('where's gary?')`` might return ``WhERe's gARy?``\n",
        "+ or, it might return ``wHEre'S GArY?``\n",
        "\n",
        "First, we share Python's built-in upper-case and lower-case functions:"
      ],
      "metadata": {
        "id": "E3dQ1H0xLjg_"
      }
    },
    {
      "cell_type": "code",
      "source": [
        "s = 'shout!'\n",
        "print(\"s is\", s)\n",
        "print(\"s.upper() is\", s.upper())"
      ],
      "metadata": {
        "id": "Vw6cf77XOHGi",
        "colab": {
          "base_uri": "https://localhost:8080/"
        },
        "outputId": "1ffb46b4-02e1-4ef7-daa7-3cc5a80da80a"
      },
      "execution_count": 9,
      "outputs": [
        {
          "output_type": "stream",
          "name": "stdout",
          "text": [
            "s is shout!\n",
            "s.upper() is SHOUT!\n"
          ]
        }
      ]
    },
    {
      "cell_type": "code",
      "source": [
        "s = 'WHISPER...'\n",
        "print(\"s is\", s)\n",
        "print(\"s.lower() is\", s.lower())"
      ],
      "metadata": {
        "id": "UWJ2vrgyOUC0",
        "colab": {
          "base_uri": "https://localhost:8080/"
        },
        "outputId": "134ddb55-bde0-4b39-825b-6631de88d25b"
      },
      "execution_count": 10,
      "outputs": [
        {
          "output_type": "stream",
          "name": "stdout",
          "text": [
            "s is WHISPER...\n",
            "s.lower() is whisper...\n"
          ]
        }
      ]
    },
    {
      "cell_type": "markdown",
      "source": [
        "Notice that\n",
        "+ ``s.upper()`` returns a fully upper-cased version of ``s``\n",
        "+ ``s.lower()`` returns a fully lower-cased version of ``s``\n",
        "+ in both cases, non-letters are left alone..."
      ],
      "metadata": {
        "id": "Ja9-9JfLOiFn"
      }
    },
    {
      "cell_type": "markdown",
      "source": [
        "### We provide the ``once`` ...\n",
        "\n",
        "We provide the one-character version, ``spongebobbify_once(s)``\n",
        "+ Notice that it uses the ``random.choice`` function\n",
        "+ It was the same one we used in rock-paper-scissors\n",
        "\n",
        "Try it out:"
      ],
      "metadata": {
        "id": "R6i_1gFfN_7D"
      }
    },
    {
      "cell_type": "code",
      "source": [
        "# We provide the one-character version, in this case:\n",
        "import random                  #  get the random library\n",
        "\n",
        "def spongebobbify_once(s):\n",
        "  \"\"\" returns the input, randomly \"upper-cased\" or \"lower-cased\" \"\"\"\n",
        "  result = random.choice( [s.upper(), s.lower()] )   # choose one at random\n",
        "  return result\n",
        "\n",
        "# Tests in the next cell..."
      ],
      "metadata": {
        "id": "LiIQoH8hHXP-"
      },
      "execution_count": 20,
      "outputs": []
    },
    {
      "cell_type": "code",
      "source": [
        "# Tests to try for spongebobbify_once\n",
        "# There are not \"right\" answers, so we just test them:\n",
        "\n",
        "print(spongebobbify_once('F is for friends who do stuff together!'))\n",
        "print(spongebobbify_once('I knew I shouldn\\'t have gotten out of bed today.'))\n",
        "print()\n",
        "\n",
        "# but we want to use it on single letters!\n",
        "print(spongebobbify_once('a'))\n",
        "print(spongebobbify_once('b'))\n",
        "print(spongebobbify_once('c'))\n",
        "print(spongebobbify_once('d'))\n",
        "print(spongebobbify_once('e'))"
      ],
      "metadata": {
        "id": "uYfr7ERRWaev",
        "colab": {
          "base_uri": "https://localhost:8080/"
        },
        "outputId": "ddcd7f60-2672-4c25-9d24-6e3f29a99762"
      },
      "execution_count": 21,
      "outputs": [
        {
          "output_type": "stream",
          "name": "stdout",
          "text": [
            "f is for friends who do stuff together!\n",
            "i knew i shouldn't have gotten out of bed today.\n",
            "\n",
            "a\n",
            "B\n",
            "C\n",
            "D\n",
            "e\n"
          ]
        }
      ]
    },
    {
      "cell_type": "markdown",
      "source": [
        "## Now, ``spongebobify_each(s)``\n",
        "\n",
        "<b>Your task</b> is to write ``spongebobify_each(s)``\n",
        "\n",
        "Use the `i2I_all(s)` OR `i2I_all_loop(s)` as guidance and as a template/example. <br>\n",
        "Then, adapt from there:\n",
        "+ How much can be re-used?\n",
        "+ How much works as-is?\n",
        "+ Experiment!\n",
        "\n",
        "It's a remarkably versatile approach!\n",
        "\n",
        "Try our ~~tests~~ quotes -- and add three tests/quotes of your own:\n"
      ],
      "metadata": {
        "id": "nBFQKUs9YY1K"
      }
    },
    {
      "cell_type": "code",
      "source": [
        "# Here, write your  spongebobify_all(s)\n",
        "#\n",
        "def spongebobbify_all(s):\n",
        "  \"\"\" returns the input, randomly \"upper-cased\" or \"lower-cased\" \"\"\"\n",
        "  result = ''        # the result starts as the EMPTY string!\n",
        "  uppercase_next = True\n",
        "\n",
        "  for c in s:        # c is the name we are giving to EACH element in s (that is, each character in s)\n",
        "    if c.isalpha():\n",
        "      if uppercase_next:\n",
        "        result = result + c.upper()\n",
        "      else:\n",
        "        result = result + c.lower()\n",
        "      uppercase_next = not uppercase_next\n",
        "    else:\n",
        "      result = result + c\n",
        "\n",
        "  return result      # at the end, we return the final, completely-created result string!\n",
        "\n",
        "\n",
        "# Try our tests (next cell) and add three of your own...\n",
        "# Preferably sBoB QuoTeS..."
      ],
      "metadata": {
        "id": "fGGZ9ApSZEW1"
      },
      "execution_count": 23,
      "outputs": []
    },
    {
      "cell_type": "code",
      "source": [
        "# Tests to try for spongebobbify_once\n",
        "# There are not \"right\" answers, so we just test them:\n",
        "\n",
        "print(spongebobbify_all('F is for friends who do stuff together!'))\n",
        "print(spongebobbify_all('I knew I shouldn\\'t have gotten out of bed today.'))\n",
        "print(spongebobbify_all('The inner machinations of my mind are an enigma. - Patrick'))\n",
        "print()\n",
        "\n",
        "# Your tests here:\n",
        "print(spongebobbify_all(\"I'm ready, I'm ready, I'm ready\"))\n",
        "print(spongebobbify_all(\"No, this Python course is awesome\"))\n",
        "print(spongebobbify_all(\"Is mayonnaise an instrument?\"))"
      ],
      "metadata": {
        "id": "geZNGG45ZMlJ",
        "colab": {
          "base_uri": "https://localhost:8080/"
        },
        "outputId": "cbc32592-1d93-4d49-ab37-959d4453ea5f"
      },
      "execution_count": 25,
      "outputs": [
        {
          "output_type": "stream",
          "name": "stdout",
          "text": [
            "F iS fOr FrIeNdS wHo Do StUfF tOgEtHeR!\n",
            "I kNeW i ShOuLdN't HaVe GoTtEn OuT oF bEd ToDaY.\n",
            "ThE iNnEr MaChInAtIoNs Of My MiNd ArE aN eNiGmA. - pAtRiCk\n",
            "\n",
            "I'm ReAdY, i'M rEaDy, I'm ReAdY\n",
            "No, ThIs PyThOn CoUrSe Is AwEsOmE\n",
            "Is MaYoNnAiSe An InStRuMeNt?\n"
          ]
        }
      ]
    },
    {
      "cell_type": "markdown",
      "source": [
        "### <font color=\"darkblue\"><b>Task #2</b></font>: ``encode_each(s)`` and ``decode_each(s)``\n",
        "\n",
        "also ``encode_once(s)`` and ``decode_once(s)``\n",
        "\n",
        "<br>\n",
        "\n",
        "_Any_ substitution is possible with our key idea:\n",
        "+ replace the **first** element: the ``once``\n",
        "+ continue the process with the **rest**: another ``all``\n",
        "+ be sure to **stop** (``return ''``) when no input remains!\n",
        "\n",
        "For <b>task #2</b>, we invite you to create your own ``encode`` and ``decode`` functions:\n",
        "\n",
        "<br>\n",
        "\n",
        "Your encode (``encode_once`` and ``encode_all``) should\n",
        "+ replace at least ten letters with other characters\n",
        "  + your choice - other letters, punctuation, emojis ``\"☕⚽ 🦔\"`` or some other one-to-one substitution\n",
        "  + totally ok to substitute more than ten: less readable\n",
        "  + it can't be random, because it needs to be reversible!\n",
        "  + use the loop approach or the recursion approach -- up to you! (Both work...)\n",
        "\n",
        "<br>\n",
        "\n",
        "Your decode (``decode_once`` and ``decode_each``) should\n",
        "+ reverse the effects of your encode functions\n",
        "\n",
        "<br>\n",
        "\n",
        "Then, run our tests -- and add three tests of your own\n",
        "+ let's say at least a sentence, or so, in size..."
      ],
      "metadata": {
        "id": "PTNNYYC3TBrA"
      }
    },
    {
      "cell_type": "code",
      "source": [
        "#\n",
        "# Use this cell -- and/or create more cells -- for your encode and decode functions\n",
        "# There will be four functions in total!\n",
        "#\n",
        "\n",
        "encode_map = {\n",
        "    # Lowercase substitutions:\n",
        "    'a': '@',\n",
        "    'b': '8',\n",
        "    'e': '3',\n",
        "    'g': '6',\n",
        "    'i': '!',\n",
        "    'l': '1',\n",
        "    'o': '0',\n",
        "    's': '$',\n",
        "    't': '7',\n",
        "    'z': '2',\n",
        "    # Uppercase substitutions:\n",
        "    'A': 'Δ',\n",
        "    'B': 'Φ',\n",
        "    'E': 'Ω',\n",
        "    'G': 'Ψ',\n",
        "    'I': 'Λ',\n",
        "    'L': 'Ξ',\n",
        "    'O': 'Π',\n",
        "    'S': 'Σ',\n",
        "    'T': 'Θ',\n",
        "    'Z': 'Ζ'\n",
        "}\n",
        "\n",
        "decode_map = {v: k for k, v in encode_map.items()}\n",
        "\n",
        "def encode_once(c):\n",
        "    return encode_map.get(c, c)\n",
        "\n",
        "def encode_all(s):\n",
        "    result = ''\n",
        "    for c in s:\n",
        "        result += encode_once(c)\n",
        "    return result\n",
        "\n",
        "def decode_once(c):\n",
        "    return decode_map.get(c, c)\n",
        "\n",
        "def encode_each(s):\n",
        "  if s == '':\n",
        "    return ''\n",
        "  result = ''\n",
        "  for c in s:\n",
        "    result += encode_once(c)\n",
        "  return result\n",
        "\n",
        "def decode_each(s):\n",
        "  if s == '':\n",
        "    return ''\n",
        "  result = ''\n",
        "  for c in s:\n",
        "    result += decode_once(c)\n",
        "  return result\n",
        "\n",
        "\n",
        "\n",
        "\n",
        "\n",
        "# Our tests are below. Then, add three tests of your own:"
      ],
      "metadata": {
        "id": "Ofu844mMVsjg"
      },
      "execution_count": 31,
      "outputs": []
    },
    {
      "cell_type": "code",
      "source": [
        "CGU = \"\"\"Claremont Graduate University prepares individuals to be leaders\n",
        "for positive change in the world. Unique in its transdisciplinary approach,\n",
        "the university is dedicated to the creation, dissemination, and application\n",
        "of new knowledge and diverse perspectives through research, practice,\n",
        "creative works, and community engagement.\n",
        "\"\"\"\n",
        "\n",
        "E = encode_each(CGU)\n",
        "print(\"encode_all(CGU) is\", E)\n",
        "\n",
        "D = decode_each(E)\n",
        "print(\"decode_all(E) is\", D)  # should be the original!\n",
        "\n",
        "\n",
        "CMC = \"\"\"Claremont McKenna College's mission is to educate its students\n",
        "for thoughtful and productive lives and responsible leadership in\n",
        "business, government, and the professions, and to support faculty\n",
        "and student scholarship that contribute to intellectual vitality\n",
        "and the understanding of public policy issues.\"\"\"\n",
        "\n",
        "E = encode_each(CMC)\n",
        "print(\"encode_all(CMC) is\", E)\n",
        "\n",
        "D = decode_each(E)\n",
        "print(\"decode_all(E) is\", D)  # should be the original!\n",
        "\n",
        "\n",
        "SCR = \"\"\"The mission of Scripps College is to educate women to\n",
        "develop their intellects and talents through active participation\n",
        "in a community of scholars, so that as graduates they may contribute\n",
        "to society through public and private lives of leadership, service,\n",
        "integrity, and creativity..\"\"\"\n",
        "\n",
        "E = encode_each(SCR)\n",
        "print(\"encode_all(SCR) is\", E)\n",
        "\n",
        "D = decode_each(E)\n",
        "print(\"decode_all(E) is\", D)  # should be the original!\n",
        "\n"
      ],
      "metadata": {
        "id": "LzyRnUL6V1uw",
        "colab": {
          "base_uri": "https://localhost:8080/"
        },
        "outputId": "61b59afd-1916-463a-ea91-72923c27bfa6"
      },
      "execution_count": 36,
      "outputs": [
        {
          "output_type": "stream",
          "name": "stdout",
          "text": [
            "encode_all(CGU) is C1@r3m0n7 Ψr@du@73 Un!v3r$!7y pr3p@r3$ !nd!v!du@1$ 70 83 13@d3r$\n",
            "f0r p0$!7!v3 ch@n63 !n 7h3 w0r1d. Un!qu3 !n !7$ 7r@n$d!$c!p1!n@ry @ppr0@ch,\n",
            "7h3 un!v3r$!7y !$ d3d!c@73d 70 7h3 cr3@7!0n, d!$$3m!n@7!0n, @nd @pp1!c@7!0n\n",
            "0f n3w kn0w13d63 @nd d!v3r$3 p3r$p3c7!v3$ 7hr0u6h r3$3@rch, pr@c7!c3,\n",
            "cr3@7!v3 w0rk$, @nd c0mmun!7y 3n6@63m3n7.\n",
            "\n",
            "decode_all(E) is Claremont Graduate University prepares individuals to be leaders\n",
            "for positive change in the world. Unique in its transdisciplinary approach,\n",
            "the university is dedicated to the creation, dissemination, and application\n",
            "of new knowledge and diverse perspectives through research, practice,\n",
            "creative works, and community engagement.\n",
            "\n",
            "encode_all(CMC) is C1@r3m0n7 McK3nn@ C011363'$ m!$$!0n !$ 70 3duc@73 !7$ $7ud3n7$\n",
            "f0r 7h0u6h7fu1 @nd pr0duc7!v3 1!v3$ @nd r3$p0n$!813 13@d3r$h!p !n\n",
            "8u$!n3$$, 60v3rnm3n7, @nd 7h3 pr0f3$$!0n$, @nd 70 $upp0r7 f@cu17y\n",
            "@nd $7ud3n7 $ch01@r$h!p 7h@7 c0n7r!8u73 70 !n73113c7u@1 v!7@1!7y\n",
            "@nd 7h3 und3r$7@nd!n6 0f pu81!c p01!cy !$$u3$.\n",
            "decode_all(E) is Claremont McKenna College's mission is to educate its students\n",
            "for thoughtful and productive lives and responsible leadership in\n",
            "business, government, and the professions, and to support faculty\n",
            "and student scholarship that contribute to intellectual vitality\n",
            "and the understanding of public policy issues.\n",
            "encode_all(SCR) is Θh3 m!$$!0n 0f Σcr!pp$ C011363 !$ 70 3duc@73 w0m3n 70\n",
            "d3v310p 7h3!r !n73113c7$ @nd 7@13n7$ 7hr0u6h @c7!v3 p@r7!c!p@7!0n\n",
            "!n @ c0mmun!7y 0f $ch01@r$, $0 7h@7 @$ 6r@du@73$ 7h3y m@y c0n7r!8u73\n",
            "70 $0c!37y 7hr0u6h pu81!c @nd pr!v@73 1!v3$ 0f 13@d3r$h!p, $3rv!c3,\n",
            "!n736r!7y, @nd cr3@7!v!7y..\n",
            "decode_all(E) is The mission of Scripps College is to educate women to\n",
            "develop their intellects and talents through active participation\n",
            "in a community of scholars, so that as graduates they may contribute\n",
            "to society through public and private lives of leadership, service,\n",
            "integrity, and creativity..\n"
          ]
        }
      ]
    },
    {
      "cell_type": "code",
      "source": [
        "#\n",
        "# Above - or here - include three encode/decode tests of your own...\n",
        "#\n",
        "test1 = \"SpongeBob, are you ready for adventure?\"\n",
        "print(\"\\nencode_all(test1) is:\")\n",
        "print(encode_all(test1))\n",
        "print(\"decode_each(encoded test1) is:\")\n",
        "print(decode_each(encode_all(test1)))\n",
        "print()\n",
        "\n",
        "test2 = \"I live in a pineapple under the sea.\"\n",
        "print(\"\\nencode_all(test2) is:\")\n",
        "print(encode_all(test2))\n",
        "print(\"decode_each(encoded test2) is:\")\n",
        "print(decode_each(encode_all(test2)))\n",
        "print()\n",
        "\n",
        "test3 = \"The secret formula of the Krabby Patty remains a mystery.\"\n",
        "print(\"\\nencode_all(test3) is:\")\n",
        "print(encode_all(test3))\n",
        "print(\"decode_each(encoded test3) is:\")\n",
        "print(decode_each(encode_all(test3)))\n",
        "print()\n",
        "\n"
      ],
      "metadata": {
        "id": "sJ9Wcp1GeCgj",
        "colab": {
          "base_uri": "https://localhost:8080/"
        },
        "outputId": "9206b48e-e932-4f61-a525-32b61634c61e"
      },
      "execution_count": 35,
      "outputs": [
        {
          "output_type": "stream",
          "name": "stdout",
          "text": [
            "\n",
            "encode_all(test1) is:\n",
            "Σp0n63Φ08, @r3 y0u r3@dy f0r @dv3n7ur3?\n",
            "decode_each(encoded test1) is:\n",
            "SpongeBob, are you ready for adventure?\n",
            "\n",
            "\n",
            "encode_all(test2) is:\n",
            "Λ 1!v3 !n @ p!n3@pp13 und3r 7h3 $3@.\n",
            "decode_each(encoded test2) is:\n",
            "I live in a pineapple under the sea.\n",
            "\n",
            "\n",
            "encode_all(test3) is:\n",
            "Θh3 $3cr37 f0rmu1@ 0f 7h3 Kr@88y P@77y r3m@!n$ @ my$73ry.\n",
            "decode_each(encoded test3) is:\n",
            "The secret formula of the Krabby Patty remains a mystery.\n",
            "\n"
          ]
        }
      ]
    },
    {
      "cell_type": "markdown",
      "source": [
        "### <font color=\"darkblue\"><b>Task #3: Counting!</b></font> &nbsp; ``vwl_once(s)`` and ``vwl_count(s)``\n",
        "\n",
        "<br>\n",
        "\n",
        "This technique handles _any_ substitution, even numeric ones!\n",
        "\n",
        "Next, our goal will be to ***count*** the number of vowels in an input string ``s``:\n",
        "+ we use ``vwl_once(s)`` to give a count of ``1`` to vowels\n",
        "+ and we give a count of ``0`` to everything that's not a vowel\n",
        "+ For now, we'll count ``aeiou`` as vowels, and their uppercase selves\n",
        "\n",
        "Then, **you** will write  ``vwl_count(s)`` to handle arbitrary-sized inputs!\n",
        "+ The first functions is written, as shown below.\n",
        "+ The second one is prepared, and your task is to complete it...\n",
        "+ It will be very much like previous functions!\n",
        "\n",
        "<br>\n",
        "\n",
        "Then, try it out -- analyze the \"vowel-content\" of the three mission statements above -- and test your own and a friend's prose-paragraphs:"
      ],
      "metadata": {
        "id": "yquk1xgWXz2z"
      }
    },
    {
      "cell_type": "code",
      "source": [
        "#\n",
        "# Here are vwl_once and vwl_all\n",
        "#\n",
        "\n",
        "def vwl_once(s):\n",
        "  \"\"\" returns a score of 1 for single-character vowels aeiou\n",
        "      returns a score of 0 for everything else\n",
        "  \"\"\"\n",
        "  if len(s) != 1:    # not a single-character? score is 0\n",
        "    return 0\n",
        "  else:\n",
        "    s = s.lower()    # simplify by making s lower case\n",
        "    if s in 'aeiou':      # if s is in that string, it's a vowel: score is 1\n",
        "      return 1\n",
        "    else:                 # if not: score is 0\n",
        "      return 0\n",
        "\n",
        "\n",
        "def vwl_count(s):\n",
        "  \"\"\" returns the total \"vowel-score for an input string s\n",
        "      that is, we return the number of vowels in s\n",
        "  \"\"\"\n",
        "  # you need to write this one!\n",
        "  # use the previous examples (especially the \"each\" examples) as a guide! :-)\n",
        "  if s == '':\n",
        "    return 0\n",
        "  else:\n",
        "    return vwl_once(s[0]) + vwl_count(s[1:])\n",
        "\n",
        "\n",
        "# Tests and tests-to-write are in the next cells:"
      ],
      "metadata": {
        "id": "ffMaiI26eIZQ"
      },
      "execution_count": 40,
      "outputs": []
    },
    {
      "cell_type": "code",
      "source": [
        "print(\"vwl_count('English usually has lots of vowels.') should be 10 <->\", vwl_count('English usually has lots of vowels.'))\n",
        "print(\"The CGU mission statement has this many vowels: (let's see!) <->\", vwl_count(CGU))"
      ],
      "metadata": {
        "id": "YCtNmfnZetpe",
        "colab": {
          "base_uri": "https://localhost:8080/"
        },
        "outputId": "01fe0050-fe77-4c87-a128-edcebeaa8809"
      },
      "execution_count": 41,
      "outputs": [
        {
          "output_type": "stream",
          "name": "stdout",
          "text": [
            "vwl_count('English usually has lots of vowels.') should be 10 <-> 10\n",
            "The CGU mission statement has this many vowels: (let's see!) <-> 110\n"
          ]
        }
      ]
    },
    {
      "cell_type": "code",
      "source": [
        "#\n",
        "# Part 1 task: determine which mission statement has the most vowels-per-character!\n",
        "#\n",
        "#        Hint: count the vowels, then use len to determine vowels-per-character!\n",
        "#        Compare the three strings already defined above:   CGU,  CMC,  and SCR\n",
        "\n",
        "def vwl_per_char(s):\n",
        "  total_char = len(s)\n",
        "  if total_char == 0:\n",
        "    return 0\n",
        "  total_vowels = vwl_count(s)\n",
        "  return total_vowels / total_char\n",
        "\n",
        "cgu_ratio = vwl_per_char(CGU)\n",
        "cmc_ratio = vwl_per_char(CMC)\n",
        "scr_ratio = vwl_per_char(SCR)\n",
        "\n",
        "print(\"CGU has\", cgu_ratio, \"vowels per character\")\n",
        "print(\"CMC has\", cmc_ratio, \"vowels per character\")\n",
        "print(\"SCR has\", scr_ratio, \"vowels per character\")\n",
        "print()\n",
        "\n",
        "if cgu_ratio > cmc_ratio and cgu_ratio > scr_ratio:\n",
        "  print(\"CGU has the most vowels per character\")\n",
        "elif cmc_ratio > cgu_ratio and cmc_ratio > scr_ratio:\n",
        "  print(\"CMC has the most vowels per character\")\n",
        "else:\n",
        "  print(\"SCR has the most vowels per character\")\n",
        "\n",
        "\n",
        "\n"
      ],
      "metadata": {
        "id": "Vy2Q-bAdcIzB",
        "colab": {
          "base_uri": "https://localhost:8080/"
        },
        "outputId": "f670dd9e-fbc3-42b2-9c2d-92f0e097f815"
      },
      "execution_count": 48,
      "outputs": [
        {
          "output_type": "stream",
          "name": "stdout",
          "text": [
            "CGU has 0.3343465045592705 vowels per character\n",
            "CMC has 0.30392156862745096 vowels per character\n",
            "SCR has 0.3204225352112676 vowels per character\n",
            "\n",
            "CGU has the most vowels per character\n"
          ]
        }
      ]
    },
    {
      "cell_type": "code",
      "source": [
        "#\n",
        "# Part 2 task: determine whose prose is more vowel-rich?\n",
        "# + find a paragraph of prose you've written\n",
        "# + find a paragraph a friend has written (or another one that you have!)\n",
        "#\n",
        "# Assign each to a variable:\n",
        "\n",
        "YOURS = \"\"\"  <paste your prose here\n",
        "it's ok to have multiple lines inside\n",
        "triple-quoted strings>\n",
        "\"\"\"\n",
        "\n",
        "THEIRS = \"\"\"  <paste _their_ prose here\n",
        "again, ok to have multiple lines inside\n",
        "triple-quoted strings>\n",
        "\"\"\"\n",
        "\n",
        "your_ratio = vwl_per_char(YOURS)\n",
        "their_ratio = vwl_per_char(THEIRS)\n",
        "#\n",
        "# This analysis is similar to the mission statements...\n",
        "#\n",
        "print(\"You have\", your_ratio, \"vowels per character\")\n",
        "print(\"They have\", their_ratio, \"vowels per character\")\n",
        "print()\n",
        "\n",
        "if your_ratio > their_ratio:\n",
        "  print(\"You have more vowels per character\")\n",
        "elif their_ratio > your_ratio:\n",
        "  print(\"They have more vowels per character\")\n",
        "else:\n",
        "  print(\"You have the same number of vowels per character\")"
      ],
      "metadata": {
        "id": "qNmOUfXrckDv",
        "colab": {
          "base_uri": "https://localhost:8080/"
        },
        "outputId": "f48fcba1-e567-4036-a3da-247aee0a98ea"
      },
      "execution_count": 49,
      "outputs": [
        {
          "output_type": "stream",
          "name": "stdout",
          "text": [
            "You have 0.313953488372093 vowels per character\n",
            "They have 0.31868131868131866 vowels per character\n",
            "\n",
            "They have more vowels per character\n"
          ]
        }
      ]
    },
    {
      "cell_type": "markdown",
      "metadata": {
        "id": "keRyNeHE3gF4"
      },
      "source": [
        "<br>\n",
        "\n",
        "# Loops!\n",
        "\n",
        "in addition, this notebook combines last week's ideas (functions and slicing/indexing) with the most important time-saving capability of programming languages: <i>repetition</i>\n",
        "\n",
        "That is, we're diving into <i><b>loops</b></i>\n",
        "\n",
        "In addition, we explore more deeply a library we used in the rock-paper-scissors problem, namely the <b><tt>random</tt></b> library.\n",
        "\n",
        "Together, <i>randomness</i> and <i>loops</i> are a powerful combination. Later in this notebook, you will create a <i>Monte Carlo simulations</i> using randomness-within-loops.\n",
        "\n",
        "<hr>\n",
        "\n",
        "## Onward!\n",
        "\n",
        "<br>"
      ]
    },
    {
      "cell_type": "code",
      "execution_count": 50,
      "metadata": {
        "id": "djYWrO0u3gGA"
      },
      "outputs": [],
      "source": [
        "\n",
        "# this imports the library named random\n",
        "\n",
        "import random\n",
        "\n",
        "# once it's imported, you are able to call random.choice(L) for any sequence L\n",
        "# try it:"
      ]
    },
    {
      "cell_type": "code",
      "execution_count": 51,
      "metadata": {
        "id": "RPrqK2Sr3gGC",
        "colab": {
          "base_uri": "https://localhost:8080/"
        },
        "outputId": "5966f01f-1341-4b98-d8a4-41ff1f45d876"
      },
      "outputs": [
        {
          "output_type": "stream",
          "name": "stdout",
          "text": [
            "result is claremont\n"
          ]
        }
      ],
      "source": [
        "\n",
        "# Try out random.choice -- several times!\n",
        "result = random.choice( ['claremont', 'graduate', 'university'] )\n",
        "print(\"result is\", result)"
      ]
    },
    {
      "cell_type": "code",
      "execution_count": 52,
      "metadata": {
        "id": "AReUp5wT3gGD",
        "colab": {
          "base_uri": "https://localhost:8080/"
        },
        "outputId": "a3d48034-62a1-4934-85ad-ab8a0b651019"
      },
      "outputs": [
        {
          "output_type": "stream",
          "name": "stdout",
          "text": [
            "result is graduate\n",
            "result is graduate\n",
            "result is graduate\n",
            "result is graduate\n",
            "result is university\n",
            "result is claremont\n",
            "result is graduate\n",
            "result is claremont\n",
            "result is graduate\n",
            "result is university\n"
          ]
        }
      ],
      "source": [
        "\n",
        "# let's see a loop do this 10 times!\n",
        "\n",
        "for i in range(10):                # loop 10 times\n",
        "    result = random.choice( ['claremont', 'graduate', 'university'] ) # choose\n",
        "    print(\"result is\", result)     # print"
      ]
    },
    {
      "cell_type": "code",
      "execution_count": 54,
      "metadata": {
        "id": "8aAzqlsj3gGF"
      },
      "outputs": [],
      "source": [
        "\n",
        "#\n",
        "# you can also import a library can be imported by using this line:\n",
        "\n",
        "from random import *\n",
        "\n",
        "# when the above line is run, you are able to call choice(L) for any sequence L\n",
        "#\n",
        "# note that you won't need random.choice(L)\n",
        "# let's try it!"
      ]
    },
    {
      "cell_type": "code",
      "execution_count": 55,
      "metadata": {
        "id": "SKvXsosu3gGG",
        "colab": {
          "base_uri": "https://localhost:8080/"
        },
        "outputId": "f19aa8c0-6c82-44f3-9a9b-a4ee1aa0ba5d"
      },
      "outputs": [
        {
          "output_type": "stream",
          "name": "stdout",
          "text": [
            "result is scissors\n"
          ]
        }
      ],
      "source": [
        "\n",
        "result = choice( [\"rock\", \"paper\", \"scissors\"] )\n",
        "print(\"result is\", result)"
      ]
    },
    {
      "cell_type": "code",
      "execution_count": 56,
      "metadata": {
        "id": "KMZMwPDR3gGH",
        "colab": {
          "base_uri": "https://localhost:8080/"
        },
        "outputId": "13385ce6-97d7-4b3c-cd35-32b47d37319d"
      },
      "outputs": [
        {
          "output_type": "stream",
          "name": "stdout",
          "text": [
            "[0, 1, 2, 3, 4, 5, 6, 7, 8, 9, 10, 11, 12, 13, 14, 15, 16, 17, 18, 19, 20, 21, 22, 23, 24, 25, 26, 27, 28, 29, 30, 31, 32, 33, 34, 35, 36, 37, 38, 39, 40, 41, 42, 43, 44, 45, 46, 47, 48, 49, 50, 51, 52, 53, 54, 55, 56, 57, 58, 59, 60, 61, 62, 63, 64, 65, 66, 67, 68, 69, 70, 71, 72, 73, 74, 75, 76, 77, 78, 79, 80, 81, 82, 83, 84, 85, 86, 87, 88, 89, 90, 91, 92, 93, 94, 95, 96, 97, 98, 99]\n"
          ]
        }
      ],
      "source": [
        "\n",
        "# Python can create lists of any integers you'd like...\n",
        "L = list(range(0,100))    # try different values; try omitting/changing the 0\n",
        "print(L)"
      ]
    },
    {
      "cell_type": "code",
      "execution_count": 57,
      "metadata": {
        "id": "hjbvKcOx3gGI",
        "colab": {
          "base_uri": "https://localhost:8080/"
        },
        "outputId": "9b924745-1f36-4a57-f7f1-b3927d15687f"
      },
      "outputs": [
        {
          "output_type": "stream",
          "name": "stdout",
          "text": [
            "result is 17\n"
          ]
        }
      ],
      "source": [
        "\n",
        "# combining these, we can choose random integers from a list\n",
        "result = choice( range(0,100) )   # from 0 to 99\n",
        "print(\"result is\", result)"
      ]
    },
    {
      "cell_type": "code",
      "execution_count": 58,
      "metadata": {
        "id": "-vct4ZWf3gGJ",
        "colab": {
          "base_uri": "https://localhost:8080/"
        },
        "outputId": "c148e1fd-5db8-46ee-8953-bcadd066fd8c"
      },
      "outputs": [
        {
          "output_type": "stream",
          "name": "stdout",
          "text": [
            "result is 54\n",
            "result is 96\n",
            "result is 26\n",
            "result is 29\n",
            "result is 35\n",
            "result is 31\n",
            "result is 35\n",
            "result is 18\n",
            "result is 20\n",
            "result is 91\n"
          ]
        }
      ],
      "source": [
        "\n",
        "# let's run this 10 times!\n",
        "for i in range(0,10):\n",
        "    result = choice( range(0,100) )   # from 0 to 99\n",
        "    print(\"result is\", result)"
      ]
    },
    {
      "cell_type": "code",
      "execution_count": 59,
      "metadata": {
        "id": "jqs9df3l3gGJ",
        "colab": {
          "base_uri": "https://localhost:8080/"
        },
        "outputId": "27ee1f7a-f221-44d8-b0f3-b263bd7e06ec"
      },
      "outputs": [
        {
          "output_type": "stream",
          "name": "stdout",
          "text": [
            "i is 0\n",
            "i is 1\n",
            "i is 2\n"
          ]
        }
      ],
      "source": [
        "\n",
        "# let's get more comfortable with loops...\n",
        "\n",
        "for i in [0,1,2]:     # Key: What variable is being defined and set?!\n",
        "    print(\"i is\", i)\n"
      ]
    },
    {
      "cell_type": "code",
      "execution_count": 60,
      "metadata": {
        "id": "eb2C9OKS3gGJ",
        "colab": {
          "base_uri": "https://localhost:8080/"
        },
        "outputId": "82e3fb1b-f681-46c1-9509-0edcc094b803"
      },
      "outputs": [
        {
          "output_type": "stream",
          "name": "stdout",
          "text": [
            "i is 0\n",
            "i is 1\n",
            "i is 2\n"
          ]
        }
      ],
      "source": [
        "\n",
        "# Note that range(0,3) generates [0,1,2]\n",
        "\n",
        "for i in range(0,3):     # Key: What variable is being defined and set?!\n",
        "    print(\"i is\", i)\n",
        "\n",
        "# When would you _not_ want to use range for integers?"
      ]
    },
    {
      "cell_type": "code",
      "execution_count": 61,
      "metadata": {
        "id": "H8qzyqaS3gGU",
        "colab": {
          "base_uri": "https://localhost:8080/"
        },
        "outputId": "ff4ef9fa-fbd9-4d30-8225-3ad3cd41a2e9"
      },
      "outputs": [
        {
          "output_type": "stream",
          "name": "stdout",
          "text": [
            "x is 2\n",
            "x is 15\n",
            "x is 2025\n"
          ]
        }
      ],
      "source": [
        "\n",
        "# Usually i is for counting, x is for other things (wise, not req.)\n",
        "\n",
        "for x in [2,15,2025]:     # Key: the loop variable\n",
        "    print(\"x is\", x)\n",
        "\n",
        "# When would you _not_ want to use range for integers?"
      ]
    },
    {
      "cell_type": "code",
      "execution_count": 63,
      "metadata": {
        "id": "SCG79oyN3gGU",
        "colab": {
          "base_uri": "https://localhost:8080/"
        },
        "outputId": "ef79a25c-f5be-468d-9cb5-e29a2784031d"
      },
      "outputs": [
        {
          "output_type": "stream",
          "name": "stdout",
          "text": [
            "Happy birthday!\n",
            "Happy birthday!\n",
            "Happy birthday!\n",
            "Happy birthday!\n",
            "Happy birthday!\n",
            "Happy birthday!\n",
            "Happy birthday!\n",
            "Happy birthday!\n",
            "Happy birthday!\n",
            "Happy birthday!\n",
            "Happy birthday!\n",
            "Happy birthday!\n",
            "Happy birthday!\n",
            "Happy birthday!\n",
            "Happy birthday!\n",
            "Happy birthday!\n",
            "Happy birthday!\n",
            "Happy birthday!\n",
            "Happy birthday!\n",
            "Happy birthday!\n",
            "Happy birthday!\n",
            "Happy birthday!\n",
            "Happy birthday!\n",
            "Happy birthday!\n",
            "Happy birthday!\n",
            "Happy birthday!\n",
            "Happy birthday!\n",
            "Happy birthday!\n",
            "Happy birthday!\n",
            "Happy birthday!\n",
            "Happy birthday!\n",
            "Happy birthday!\n",
            "Happy birthday!\n",
            "Happy birthday!\n",
            "Happy birthday!\n",
            "Happy birthday!\n",
            "Happy birthday!\n",
            "Happy birthday!\n",
            "Happy birthday!\n",
            "Happy birthday!\n",
            "Happy birthday!\n",
            "Happy birthday!\n"
          ]
        }
      ],
      "source": [
        "\n",
        "# How could we get this to print \"Happy birthday!\" 42 times?\n",
        "\n",
        "for i in range(0,42):\n",
        "    print('Happy birthday!')"
      ]
    },
    {
      "cell_type": "markdown",
      "metadata": {
        "id": "7KFo8pX73gGV"
      },
      "source": [
        "<br>\n",
        "\n",
        "#### Functions often use loops... Watch out!\n",
        "+ <tt><b>return</b></tt> is <i>more powerful</i> than the loop\n",
        "+ <tt><b>return</b></tt> <i>always</i> wins!\n",
        "\n",
        "Take a look:"
      ]
    },
    {
      "cell_type": "code",
      "execution_count": 64,
      "metadata": {
        "id": "hzE-We7i3gGV"
      },
      "outputs": [],
      "source": [
        "\n",
        "# return _after_ a loop:\n",
        "\n",
        "def funA():\n",
        "    for i in range(0,3):\n",
        "        print(\"i is\", i)\n",
        "    return\n",
        "\n",
        "# why does this not print anything?!??\n"
      ]
    },
    {
      "cell_type": "code",
      "execution_count": 65,
      "metadata": {
        "id": "n4nsuJUZ3gGW"
      },
      "outputs": [],
      "source": [
        "\n",
        "# return _within_ a loop:\n",
        "\n",
        "def funB():\n",
        "    for i in range(0,3):\n",
        "       print(\"i is\", i)\n",
        "       return\n",
        "\n",
        "# What do we need here?  (Is this what you expect?!)\n"
      ]
    },
    {
      "cell_type": "code",
      "execution_count": 66,
      "metadata": {
        "id": "KTm78DFX3gGW"
      },
      "outputs": [],
      "source": [
        "\n",
        "# let's add an if statement (a conditional)\n",
        "#              ... to test different indentations\n",
        "\n",
        "def funB1():\n",
        "    for i in range(1,6):\n",
        "        if i%2 == 0:\n",
        "            print(\"i is\", i)\n",
        "            return\n"
      ]
    },
    {
      "cell_type": "markdown",
      "metadata": {
        "id": "U1e4MYjc3gGW"
      },
      "source": [
        "<br>\n",
        "\n",
        "#### Accumulators\n",
        "+ a <i>very</i> common approach is to use a loop to <i>accumulate</i> a desired result\n",
        "+ the idea is to start the result at a \"nothing\" value, which is not always zero...\n",
        "+ then operate on it until it becomes the final result!\n",
        "\n",
        "#### factorial\n",
        "+ <pre>fac(5) == 1*2*3*4*5</pre>\n",
        "+ <pre>fac(N) == 1*2*3*4* ... *(N-2)*(N-1)*N</pre>\n",
        "\n",
        "#### addup\n",
        "+ <pre>addup(5) == 1+2+3+4+5</pre>\n",
        "+ <pre>addup(N) == 1+2+3+4+ ... +(N-2)+(N-1)+N</pre>\n",
        "\n",
        "<br>"
      ]
    },
    {
      "cell_type": "code",
      "execution_count": 67,
      "metadata": {
        "id": "NZhaHVNV3gGY"
      },
      "outputs": [],
      "source": [
        "\n",
        "# an add-em-up function\n",
        "\n",
        "def addup(N):\n",
        "    \"\"\" adds from 1 through N (inclusive)\n",
        "    \"\"\"\n",
        "    result = 0\n",
        "\n",
        "    for x in range(1,N+1):\n",
        "        result = result + x\n",
        "\n",
        "    return result\n",
        "\n",
        "# addup(4) should be 0+1+2+3+4 == 10"
      ]
    },
    {
      "cell_type": "code",
      "execution_count": 68,
      "metadata": {
        "id": "JscgqV1Q3gGY"
      },
      "outputs": [],
      "source": [
        "\n",
        "# an factorial function\n",
        "\n",
        "def fac(N):\n",
        "    \"\"\" a factorial function, returns the factorial of the input N\n",
        "    \"\"\"\n",
        "    result = 1\n",
        "\n",
        "    for x in range(1,N+1):\n",
        "        result = result*x\n",
        "\n",
        "    return result\n",
        "\n",
        "# fac(4) should be 1*2*3*4 == 24"
      ]
    },
    {
      "cell_type": "code",
      "execution_count": 72,
      "metadata": {
        "id": "RchpwL0V3gGZ",
        "colab": {
          "base_uri": "https://localhost:8080/"
        },
        "outputId": "bb747016-721d-40c3-908e-0d7dfb390254"
      },
      "outputs": [
        {
          "output_type": "stream",
          "name": "stdout",
          "text": [
            "40\n",
            "40\n",
            "fore!\n",
            "tee\n",
            "tttto\n"
          ]
        }
      ],
      "source": [
        "\n",
        "\n",
        "#Loops we tried in our \"breakout quiz\":\n",
        "\n",
        "# upper left\n",
        "result = 1\n",
        "for x in [2,5,1,4]:\n",
        "    result *= x\n",
        "print(result)\n",
        "\n",
        "# upper right\n",
        "x = 0\n",
        "for i in range(4):\n",
        "    x += 10\n",
        "print(x)\n",
        "\n",
        "# lower left\n",
        "L = ['golf','fore!','club','tee']\n",
        "for i in range(len(L)):\n",
        "    if i%2 == 1:\n",
        "        print(L[i])\n",
        "\n",
        "# lower right\n",
        "S = 'time to think this over! '\n",
        "result = ''\n",
        "for i in range(len(S)):\n",
        "    if S[i-1] == ' ':\n",
        "        result += S[i]\n",
        "print(result)\n",
        "\n"
      ]
    },
    {
      "cell_type": "code",
      "execution_count": 73,
      "metadata": {
        "id": "FNuv6DoJ3gGa",
        "colab": {
          "base_uri": "https://localhost:8080/"
        },
        "outputId": "339143ab-8be7-4492-d77e-ce06d123de39"
      },
      "outputs": [
        {
          "output_type": "stream",
          "name": "stdout",
          "text": [
            "Start!\n"
          ]
        }
      ],
      "source": [
        "\n",
        "# staging area...\n",
        "\n",
        "print(\"Start!\")\n"
      ]
    },
    {
      "cell_type": "code",
      "execution_count": null,
      "metadata": {
        "id": "E5d6udae3gGa"
      },
      "outputs": [],
      "source": [
        "\n",
        "#\n",
        "# Functions with for loops to write:\n",
        "#\n",
        "# for loops:\n",
        "#\n",
        "# summer(L)               returns the sum of the #'s in L\n",
        "# summedOdds(L)           returns the sum of the _odd_ #'s in L\n",
        "# summedExcept(exc, L)    returns the sum of all #'s in L not equal to exc\n",
        "#                                 exc is the \"exception\"\n",
        "# summedUpto(exc, L)      returns the sum of all #'s in L upto exc (not including exc)\n",
        "\n",
        "\n",
        "# examples:\n",
        "#       summer( [2,3,4,1] )    ->  10\n",
        "#   summedOdds( [2,3,4,1] )    ->   4\n",
        "# summedExcept( 4, [2,3,4,1] ) ->   6\n",
        "#   summedUpto( 4, [2,3,4,1] ) ->   5"
      ]
    },
    {
      "cell_type": "code",
      "execution_count": 74,
      "metadata": {
        "id": "IxqR0uRC3gGa",
        "colab": {
          "base_uri": "https://localhost:8080/"
        },
        "outputId": "9681ae03-92df-467f-abc0-e0acff87a9ee"
      },
      "outputs": [
        {
          "output_type": "stream",
          "name": "stdout",
          "text": [
            "summer( [2,3,4,1] )  should be 10 <-> None\n",
            "summer( [35,3,4,100] )  should be 142 <-> None\n"
          ]
        }
      ],
      "source": [
        "#\n",
        "# here, write the summer function!\n",
        "#\n",
        "\n",
        "def summer(L):\n",
        "    \"\"\" uses a for loop to add and return all of the elements in L\n",
        "    \"\"\"\n",
        "\n",
        "\n",
        "\n",
        "# Here are two tests -- be sure to try them!\n",
        "print(\"summer( [2,3,4,1] )  should be 10 <->\", summer( [2,3,4,1] ))\n",
        "print(\"summer( [35,3,4,100] )  should be 142 <->\", summer( [35,3,4,100] ))"
      ]
    },
    {
      "cell_type": "code",
      "execution_count": 75,
      "metadata": {
        "id": "QN6ZBN9w3gGa",
        "colab": {
          "base_uri": "https://localhost:8080/"
        },
        "outputId": "00799ce5-7010-4a51-f4e2-ca2f8f076529"
      },
      "outputs": [
        {
          "output_type": "stream",
          "name": "stdout",
          "text": [
            "summedOdds( [2,3,4,1] )  should be 4 <-> None\n",
            "summedOdds( [35,3,4,100] )  should be 38 <-> None\n"
          ]
        }
      ],
      "source": [
        "#\n",
        "# here, write the summedOdds function!\n",
        "#\n",
        "\n",
        "def summedOdds(L):\n",
        "    \"\"\" uses a for loop to add and return all of the _odd_ elements in L\n",
        "    \"\"\"\n",
        "\n",
        "\n",
        "\n",
        "# Here are two tests -- be sure to try them!\n",
        "print(\"summedOdds( [2,3,4,1] )  should be 4 <->\", summedOdds( [2,3,4,1] ))\n",
        "print(\"summedOdds( [35,3,4,100] )  should be 38 <->\", summedOdds( [35,3,4,100] ))"
      ]
    },
    {
      "cell_type": "code",
      "execution_count": 76,
      "metadata": {
        "id": "9XkwO1Yb3gGb",
        "colab": {
          "base_uri": "https://localhost:8080/"
        },
        "outputId": "28d1ab9c-b1bd-4ec6-a710-4e20ae35374e"
      },
      "outputs": [
        {
          "output_type": "stream",
          "name": "stdout",
          "text": [
            "summedExcept( 4, [2,3,4,1] )  should be 6 <-> None\n",
            "summedExcept( 4, [35,3,4,100] )  should be 138 <-> None\n"
          ]
        }
      ],
      "source": [
        "#\n",
        "# here, write the summedExcept function!\n",
        "#\n",
        "\n",
        "def summedExcept( exc, L ):\n",
        "    \"\"\" include a short description here!\n",
        "    \"\"\"\n",
        "\n",
        "\n",
        "\n",
        "# Here are two tests -- be sure to try them!\n",
        "print(\"summedExcept( 4, [2,3,4,1] )  should be 6 <->\", summedExcept( 4, [2,3,4,1] ))\n",
        "print(\"summedExcept( 4, [35,3,4,100] )  should be 138 <->\", summedExcept( 4, [35,3,4,100] ))"
      ]
    },
    {
      "cell_type": "code",
      "execution_count": 77,
      "metadata": {
        "id": "FpoOHpGc3gGb",
        "colab": {
          "base_uri": "https://localhost:8080/"
        },
        "outputId": "1999fa25-ae00-4f48-f349-d429419bc2b0"
      },
      "outputs": [
        {
          "output_type": "stream",
          "name": "stdout",
          "text": [
            "summedUpto( 4, [2,3,4,1] )  should be 5 <-> None\n",
            "summedUpto( 100, [35,3,4,100] )  should be 42 <-> None\n"
          ]
        }
      ],
      "source": [
        "#\n",
        "# here, write the summedUpto function!\n",
        "#\n",
        "\n",
        "def summedUpto( exc, L ):\n",
        "    \"\"\" include a short description here!\n",
        "    \"\"\"\n",
        "\n",
        "\n",
        "\n",
        "\n",
        "\n",
        "# Here are two tests -- be sure to try them!\n",
        "print(\"summedUpto( 4, [2,3,4,1] )  should be 5 <->\", summedUpto( 4, [2,3,4,1] ))\n",
        "print(\"summedUpto( 100, [35,3,4,100] )  should be 42 <->\", summedUpto( 100, [35,3,4,100] ))"
      ]
    },
    {
      "cell_type": "code",
      "execution_count": 4,
      "metadata": {
        "id": "im7h59uw3gGb",
        "colab": {
          "base_uri": "https://localhost:8080/"
        },
        "outputId": "159fb7da-de85-478d-cdef-aa001f653129"
      },
      "outputs": [
        {
          "output_type": "execute_result",
          "data": {
            "text/plain": [
              "520"
            ]
          },
          "metadata": {},
          "execution_count": 4
        }
      ],
      "source": [
        "\n",
        "#\n",
        "# Example while loop: the \"guessing game\"\n",
        "#\n",
        "\n",
        "from random import *\n",
        "\n",
        "def guess( hidden ):\n",
        "    \"\"\"\n",
        "        have the computer guess numbers until it gets the \"hidden\" value\n",
        "        return the number of guesses\n",
        "    \"\"\"\n",
        "    guess = -1      # start with a wrong guess and don't count it as a guess\n",
        "    number_of_guesses = 0   # start with no guesses made so far...\n",
        "\n",
        "    while guess != hidden:\n",
        "        guess = choice( range(0,100) )  # 0 to 99, inclusive\n",
        "        number_of_guesses += 1\n",
        "\n",
        "    return number_of_guesses\n",
        "\n",
        "# test our function!\n",
        "guess(42)"
      ]
    },
    {
      "cell_type": "code",
      "execution_count": 81,
      "metadata": {
        "id": "Sib6asIv3gGn"
      },
      "outputs": [],
      "source": [
        "\n",
        "#\n",
        "# Functions with while loops to write:\n",
        "#\n",
        "\n",
        "# guess_between(low,high) like guess, but until it gets a number anywhere between\n",
        "#                         low and high. Specifically, until it guesses\n",
        "#                         less than high, and greater than or equal to low.\n",
        "#\n",
        "#\n",
        "# listTilRepeat(high)     accumulates a list of values in range(0,high) until one repeats\n",
        "#                         and returns the whole list\n",
        "#\n",
        "\n",
        "\n",
        "# examples (don't forget the randomness will change things!)\n",
        "#\n",
        "# guess_between(40,50)   ->   8    (on average, around 10)\n",
        "#\n",
        "# listTilRepeat(10)      ->   [4, 7, 8, 3, 7]     (the final # must be a repeat)\n",
        "# listTilRepeat(10)      ->   [2, 1, 9, 9]     (the final # must be a repeat)\n"
      ]
    },
    {
      "cell_type": "code",
      "execution_count": 83,
      "metadata": {
        "id": "eAbbImBL3gGv"
      },
      "outputs": [],
      "source": [
        "#\n",
        "# here, write guess_between\n",
        "#\n",
        "import random\n",
        "def guess_between(low,high):\n",
        "    \"\"\" guesses a # from 0 to 99 (inclusive) until\n",
        "        it gets one that is strictly less than high and\n",
        "        greater than or equal to low\n",
        "        Then, this function returns the total # of guesses made\n",
        "    \"\"\"\n",
        "    count = 0\n",
        "    while True:\n",
        "      guess = random.randint(0,99)\n",
        "      count += 1\n",
        "      if guess < high and guess >= low:\n",
        "        return count"
      ]
    },
    {
      "cell_type": "code",
      "source": [
        "#\n",
        "# be sure to test your guess_between here -- and leave the test in the notebook!\n",
        "#\n",
        "print(\"guess_between(40,50):\", guess_between(40,50))\n",
        "\n"
      ],
      "metadata": {
        "id": "wrh7eQOHAWi0",
        "colab": {
          "base_uri": "https://localhost:8080/"
        },
        "outputId": "17bdf07e-25a0-4b33-e8be-a1337e099959"
      },
      "execution_count": 92,
      "outputs": [
        {
          "output_type": "stream",
          "name": "stdout",
          "text": [
            "guess_between(40,50): 4\n"
          ]
        }
      ]
    },
    {
      "cell_type": "code",
      "execution_count": 20,
      "metadata": {
        "id": "9HnVqdj83gGw",
        "colab": {
          "base_uri": "https://localhost:8080/"
        },
        "outputId": "25bc1731-8ec1-4596-e6cf-45f2307bd59c"
      },
      "outputs": [
        {
          "output_type": "stream",
          "name": "stdout",
          "text": [
            "Before: L is [3, 4]\n",
            " After: L is [3, 4, 42]\n"
          ]
        }
      ],
      "source": [
        "\n",
        "# Try out adding elements to Lists\n",
        "\n",
        "L = [3,4]\n",
        "print(\"Before: L is\", L)\n",
        "\n",
        "guess = 42\n",
        "L = L + [guess]\n",
        "print(\" After: L is\", L)"
      ]
    },
    {
      "cell_type": "code",
      "execution_count": 93,
      "metadata": {
        "id": "7v9qoep83gGx"
      },
      "outputs": [],
      "source": [
        "#\n",
        "# here, write listTilRepeat\n",
        "#\n",
        "\n",
        "def listTilRepeat(high):\n",
        "    \"\"\" this f'n accumulates random guesses into a list, L, until a repeat is found\n",
        "        it then returns the list (the final element should be repeated, somewhere)\n",
        "    \"\"\"\n",
        "    result = []\n",
        "    while True:\n",
        "      guess = random.randint(0,high-1)\n",
        "      if guess not in result:\n",
        "        result.append(guess)\n",
        "      else:\n",
        "        result.append(guess)\n",
        "        return result\n",
        "    return result"
      ]
    },
    {
      "cell_type": "code",
      "source": [
        "#\n",
        "# be sure to test your listTilRepeat here -- and leave the test in the notebook!\n",
        "#\n",
        "print(\"listTilRepeat(10):\", listTilRepeat(10))\n",
        "print(\"listTilRepeat(10):\", listTilRepeat(10))\n"
      ],
      "metadata": {
        "id": "iWvncComAdAa",
        "colab": {
          "base_uri": "https://localhost:8080/"
        },
        "outputId": "51aea372-bb57-4810-a4db-920eff7edd06"
      },
      "execution_count": 97,
      "outputs": [
        {
          "output_type": "stream",
          "name": "stdout",
          "text": [
            "listTilRepeat(10): [4, 0, 8, 1, 6, 2, 6]\n",
            "listTilRepeat(10): [8, 9, 0, 8]\n"
          ]
        }
      ]
    },
    {
      "cell_type": "code",
      "execution_count": null,
      "metadata": {
        "id": "Y8bY1Hag3gGx"
      },
      "outputs": [],
      "source": [
        "\n",
        "# The birthday paradox is the fact that\n",
        "#     listTilRepeat(365) has surprisingly few elements!\n",
        "#\n",
        "# Run listTilRepeat(365) a few times and print its _length_ each time\n",
        "#     (Don't print the lists... it's too much to digest.)\n",
        "#\n",
        "# To many people, the results feel counterintuitive!"
      ]
    },
    {
      "cell_type": "code",
      "source": [
        "print (\"len(listTilRepeat(365)):\", len(listTilRepeat(365)))"
      ],
      "metadata": {
        "id": "Wyqpw9n6HIUF",
        "outputId": "f6717351-b689-45a5-c67c-2816820a11aa",
        "colab": {
          "base_uri": "https://localhost:8080/"
        }
      },
      "execution_count": 121,
      "outputs": [
        {
          "output_type": "stream",
          "name": "stdout",
          "text": [
            "len(listTilRepeat(365)): 9\n"
          ]
        }
      ]
    },
    {
      "cell_type": "markdown",
      "metadata": {
        "id": "rGp1vbmb3gf5"
      },
      "source": [
        "<br>\n",
        "\n",
        "# Monte Carlo simulations\n",
        "+ ... are repeated actions that involve repetition and randomness\n",
        "+ that is, loops!\n",
        "\n",
        "In fact, the guessing and birthday challenges above _are_ examples of Monte Carlo simulations.\n",
        "\n",
        "Next, you'll try a few more:\n",
        "+ Our in-class guessing game, dice-rolling challenge, and three-curtain challenge...\n",
        "+ Then, you'll try the \"sleepwalker\" (a single random walker)\n",
        "\n",
        "Finally, you'll adapt the single random walker to a two-walker simulation of your own design! There are lots of ideas:\n",
        "+ Have two random walkers \"race\" to the middle (which might be a poptart...)\n",
        "+ Have two random walkers \"race\" to the walls\n",
        "+ Have them wander until they find each other\n",
        "+ Have the walls close in on them!\n",
        "+ Have them chase another object that's moving around...\n",
        "+ ... and so on!\n",
        "\n",
        "The key is to have\n",
        "+ **two** independently-wandering \"actors\"\n",
        "+ within a \"line\" or \"world\" that you can print out...\n",
        "+ ... with a backstory that you've invented,\n",
        "+ and then animate the result!\n",
        "\n",
        "<br>\n",
        "\n",
        "Looking forward to it!"
      ]
    },
    {
      "cell_type": "code",
      "execution_count": 122,
      "metadata": {
        "id": "TAw-VXXQ3gf6",
        "colab": {
          "base_uri": "https://localhost:8080/"
        },
        "outputId": "91dc226b-ad5b-4c7f-898b-5b99c92d2ccd"
      },
      "outputs": [
        {
          "output_type": "execute_result",
          "data": {
            "text/plain": [
              "138"
            ]
          },
          "metadata": {},
          "execution_count": 122
        }
      ],
      "source": [
        "\n",
        "#\n",
        "# Example while loop: the \"guessing game\"\n",
        "#\n",
        "\n",
        "from random import *\n",
        "\n",
        "def guess( hidden ):\n",
        "    \"\"\"\n",
        "        have the computer guess numbers until it gets the \"hidden\" value\n",
        "        return the number of guesses\n",
        "    \"\"\"\n",
        "    guess = hidden - 1      # start with a wrong guess + don't count it as a guess\n",
        "    number_of_guesses = 0   # start with no guesses made so far...\n",
        "\n",
        "    while guess != hidden:\n",
        "        guess = choice( range(0,100) )  # 0 to 99, inclusive\n",
        "        number_of_guesses += 1\n",
        "\n",
        "    return number_of_guesses\n",
        "\n",
        "# test our function!\n",
        "guess(42)"
      ]
    },
    {
      "cell_type": "code",
      "execution_count": 251,
      "metadata": {
        "id": "pMj48CN63gf8",
        "colab": {
          "base_uri": "https://localhost:8080/"
        },
        "outputId": "233403d0-aa5c-4e4d-ff89-3fb0b1e1d309"
      },
      "outputs": [
        {
          "output_type": "stream",
          "name": "stdout",
          "text": [
            "run 0 roll: 3 4  \n",
            "run 1 roll: 3 3 🙂\n",
            "run 2 roll: 2 1  \n",
            "run 3 roll: 5 1  \n",
            "run 4 roll: 2 4  \n",
            "run 5 roll: 1 1 🙂\n",
            "run 6 roll: 2 1  \n",
            "run 7 roll: 5 5 🙂\n",
            "run 8 roll: 1 1 🙂\n",
            "run 9 roll: 6 6 🙂\n"
          ]
        },
        {
          "output_type": "execute_result",
          "data": {
            "text/plain": [
              "5"
            ]
          },
          "metadata": {},
          "execution_count": 251
        }
      ],
      "source": [
        "\n",
        "#\n",
        "# Example Monte Carlo simulation: rolling two dice and counting doubles\n",
        "#\n",
        "import time\n",
        "from random import *\n",
        "\n",
        "def count_doubles( num_rolls ):\n",
        "    \"\"\"\n",
        "        have the computer roll two six-sided dice, counting the # of doubles\n",
        "        (same value on both dice)\n",
        "        Then, return the number of doubles...\n",
        "    \"\"\"\n",
        "    numdoubles = 0       # start with no doubles so far...\n",
        "\n",
        "    for i in range(0,num_rolls):   # roll repeatedly: i keeps track\n",
        "        d1 = choice( [1,2,3,4,5,6] )  # 0 to 6, inclusive\n",
        "        d2 = choice( range(1,7) )     # 0 to 6, inclusive\n",
        "        if d1 == d2:\n",
        "            numdoubles += 1\n",
        "            you = \"🙂\"\n",
        "        else:\n",
        "            you = \" \"\n",
        "\n",
        "        print(\"run\", i, \"roll:\", d1, d2, you, flush=True)\n",
        "        time.sleep(.01)\n",
        "\n",
        "    return numdoubles\n",
        "\n",
        "# test our function!\n",
        "count_doubles(10)"
      ]
    },
    {
      "cell_type": "code",
      "execution_count": 252,
      "metadata": {
        "id": "k4rkSYX_3gf9",
        "colab": {
          "base_uri": "https://localhost:8080/"
        },
        "outputId": "d409a4cc-8ab2-4c15-a574-c39d905f1a6b"
      },
      "outputs": [
        {
          "output_type": "stream",
          "name": "stdout",
          "text": [
            "run 1 you lose...\n",
            "run 2 you lose...\n",
            "run 3 you lose...\n",
            "run 4 you lose...\n",
            "run 5 you  Win!!!\n",
            "run 6 you lose...\n",
            "run 7 you lose...\n",
            "run 8 you  Win!!!\n",
            "run 9 you  Win!!!\n",
            "run 10 you lose...\n"
          ]
        },
        {
          "output_type": "execute_result",
          "data": {
            "text/plain": [
              "3"
            ]
          },
          "metadata": {},
          "execution_count": 252
        }
      ],
      "source": [
        "\n",
        "#\n",
        "# Example Monte Carlo simulation: the Monte-Carlo Monte Hall paradox\n",
        "#\n",
        "\n",
        "import random\n",
        "import time\n",
        "\n",
        "def count_wins( N, original_choice, stay_or_switch ):\n",
        "    \"\"\"\n",
        "        run the Monte Hall paradox N times, with\n",
        "        original_choice, which can be 1, 2, or 3 and\n",
        "        stay_or_switch, which can be \"stay\" or \"switch\"\n",
        "        Count the number of wins and return that number.\n",
        "    \"\"\"\n",
        "    numwins = 0       # start with no wins so far...\n",
        "\n",
        "    for i in range(1,N+1):      # run repeatedly: i keeps track\n",
        "        win_curtain = random.choice([1,2,3])   # the curtain with the grand prize\n",
        "        original_choice = original_choice      # just a reminder that we have this variable\n",
        "        stay_or_switch = stay_or_switch        # a reminder that we have this, too\n",
        "\n",
        "        result = \"\"\n",
        "        if original_choice == win_curtain and stay_or_switch == \"stay\": result = \" Win!!!\"\n",
        "        elif original_choice == win_curtain and stay_or_switch == \"switch\": result = \"lose...\"\n",
        "        elif original_choice != win_curtain and stay_or_switch == \"stay\": result = \"lose...\"\n",
        "        elif original_choice != win_curtain and stay_or_switch == \"switch\": result = \" Win!!!\"\n",
        "\n",
        "        print(\"run\", i, \"you\", result, flush=True)\n",
        "        time.sleep(.025)\n",
        "\n",
        "        if result == \" Win!!!\":\n",
        "            numwins += 1\n",
        "\n",
        "\n",
        "    return numwins\n",
        "\n",
        "# test our three-curtain-game, many times:\n",
        "count_wins(10, 1, \"stay\")"
      ]
    },
    {
      "cell_type": "code",
      "execution_count": 253,
      "metadata": {
        "id": "MawBqtpX3gf-",
        "colab": {
          "base_uri": "https://localhost:8080/"
        },
        "outputId": "9d027705-8f9c-4049-c51b-6354b7516151"
      },
      "outputs": [
        {
          "output_type": "stream",
          "name": "stdout",
          "text": [
            "At location: 47\n",
            "At location: 46\n",
            "At location: 47\n",
            "At location: 48\n",
            "At location: 47\n",
            "At location: 46\n",
            "At location: 47\n",
            "At location: 48\n",
            "At location: 49\n",
            "At location: 50\n"
          ]
        },
        {
          "output_type": "execute_result",
          "data": {
            "text/plain": [
              "50"
            ]
          },
          "metadata": {},
          "execution_count": 253
        }
      ],
      "source": [
        "\n",
        "\n",
        "# More Monte Carlo simulations!\n",
        "\n",
        "#\n",
        "# Example of a random-walk (but no animation is intended here...)\n",
        "#\n",
        "\n",
        "import random\n",
        "\n",
        "def rs():\n",
        "    \"\"\" One random step \"\"\"\n",
        "    return random.choice([-1, 1])\n",
        "\n",
        "\n",
        "def rpos(start,N):\n",
        "    \"\"\" wander from start for N steps, printing as we go\n",
        "        return the position at the end (the final \"current\" position)\n",
        "    \"\"\"\n",
        "    current = start        # our current position begins at start...\n",
        "\n",
        "    for i in range(N):     # step repeatedly:  i keeps track from 0..N\n",
        "        print(\"At location:\", current)\n",
        "        current = current + rs()  # add one step,\n",
        "\n",
        "    print(\"At location:\", current)\n",
        "    return current\n",
        "\n",
        "\n",
        "# let's test it, perhaps start at 47 and take 9 steps...\n",
        "rpos(47,9)"
      ]
    },
    {
      "cell_type": "code",
      "execution_count": 257,
      "metadata": {
        "id": "vgqXW52w3gf_",
        "colab": {
          "base_uri": "https://localhost:8080/"
        },
        "outputId": "e96eac6a-9060-4ca0-fdf8-6c79baa8bb75"
      },
      "outputs": [
        {
          "output_type": "stream",
          "name": "stdout",
          "text": [
            "Random walk starting at 5 with boundaries 0 and 10: \n",
            "|______S____|\n",
            "|_______S___|\n",
            "|________S__|\n",
            "|_______S___|\n",
            "|________S__|\n",
            "|_______S___|\n",
            "|________S__|\n",
            "|_______S___|\n",
            "|______S____|\n",
            "|_______S___|\n",
            "|________S__|\n",
            "|_________S_|\n",
            "|________S__|\n",
            "|_______S___|\n",
            "|________S__|\n",
            "|_______S___|\n",
            "|________S__|\n",
            "|_________S_|\n",
            "|________S__|\n",
            "|_________S_|\n",
            "|__________S|\n"
          ]
        },
        {
          "output_type": "execute_result",
          "data": {
            "text/plain": [
              "21"
            ]
          },
          "metadata": {},
          "execution_count": 257
        }
      ],
      "source": [
        "\n",
        "# Monte Carlo simulation #2... the random-walker\n",
        "\n",
        "#\n",
        "# Task #1:  understand the _single_ \"sleepwalker\":\n",
        "#           change the character sleepwalking to something else, emoji, etc.\n",
        "#           change the \"walls\" to something else\n",
        "#           change the \"sidewalk\" to something else (water, air, walls, ...)\n",
        "#           try it with some different inputs... then you'll be ready for task 2\n",
        "\n",
        "import time\n",
        "import random\n",
        "\n",
        "def rs():\n",
        "    \"\"\" One random step \"\"\"\n",
        "    return random.choice([-1, 1])\n",
        "\n",
        "def rwalk(start, low, high):\n",
        "    \"\"\" Random walk between -radius and +radius  (starting at 0 by default) \"\"\"\n",
        "    totalsteps = 0          # Initial value of totalsteps (_not_ final value!)\n",
        "    current = start         # Current location (_not_ the total # of steps)\n",
        "\n",
        "    while True:             # Run \"forever\" (really, until a return or break)\n",
        "        if current <= low:  # too low!\n",
        "            return totalsteps # Phew!  Return totalsteps (stops the while loop)\n",
        "        elif current >= high: # too high!\n",
        "            return totalsteps # Phew!  Return totalsteps (stops the while loop)\n",
        "        else:\n",
        "            current = current + rs()  # take a step\n",
        "            totalsteps += 1           # count it\n",
        "\n",
        "            # let's animate!\n",
        "            left_side = current - low   # distance on the left of our sleepwalker\n",
        "            right_side = high - current\n",
        "            print(\"|\" + \"_\"*left_side + \"S\" + \"_\"*right_side + \"|\", flush=True)  # a start of our \"ASCIImation\"\n",
        "            time.sleep(0.042)\n",
        "\n",
        "    # the code can never get here!\n",
        "\n",
        "# You will need to add the right-hand side, too\n",
        "# Then, improve your sleepwalker!\n",
        "print(\"Random walk starting at 5 with boundaries 0 and 10: \")\n",
        "# let's try it!  rwalk(tart, low, high)\n",
        "rwalk(5,0,10)\n",
        "# print(\"Random walk starting at 15 with boundaries 0 and 30: \")\n",
        "# let's try it!  rwalk(tart, low, high\n",
        "# rwalk(15,0,30)\n"
      ]
    },
    {
      "cell_type": "code",
      "execution_count": 262,
      "metadata": {
        "id": "t8S3Gu6Y3ggB",
        "colab": {
          "base_uri": "https://localhost:8080/"
        },
        "outputId": "f9aa9dbe-929c-4d8d-b097-0379f2c5a7f1"
      },
      "outputs": [
        {
          "output_type": "stream",
          "name": "stdout",
          "text": [
            "|__________\u001b[92mKomi\u001b[0m_________\u001b[94mProf_Zach\u001b[0m__________|\n",
            "|___________\u001b[92mKomi\u001b[0m_________\u001b[94mProf_Zach\u001b[0m_________|\n",
            "|__________\u001b[92mKomi\u001b[0m_________\u001b[94mProf_Zach\u001b[0m__________|\n",
            "|_________\u001b[92mKomi\u001b[0m___________\u001b[94mProf_Zach\u001b[0m_________|\n",
            "|__________\u001b[92mKomi\u001b[0m_________\u001b[94mProf_Zach\u001b[0m__________|\n",
            "|_________\u001b[92mKomi\u001b[0m_________\u001b[94mProf_Zach\u001b[0m___________|\n",
            "|__________\u001b[92mKomi\u001b[0m_______\u001b[94mProf_Zach\u001b[0m____________|\n",
            "|___________\u001b[92mKomi\u001b[0m_____\u001b[94mProf_Zach\u001b[0m_____________|\n",
            "|__________\u001b[92mKomi\u001b[0m_____\u001b[94mProf_Zach\u001b[0m______________|\n",
            "|___________\u001b[92mKomi\u001b[0m___\u001b[94mProf_Zach\u001b[0m_______________|\n",
            "|____________\u001b[92mKomi\u001b[0m_\u001b[94mProf_Zach\u001b[0m________________|\n",
            "|_____________\u001b[1;35m*\u001b[0m_________________|\n",
            "|____________\u001b[92mKomi\u001b[0m_\u001b[94mProf_Zach\u001b[0m________________|\n",
            "|___________\u001b[92mKomi\u001b[0m___\u001b[94mProf_Zach\u001b[0m_______________|\n",
            "|____________\u001b[92mKomi\u001b[0m___\u001b[94mProf_Zach\u001b[0m______________|\n",
            "|_____________\u001b[92mKomi\u001b[0m___\u001b[94mProf_Zach\u001b[0m_____________|\n",
            "|____________\u001b[92mKomi\u001b[0m_____\u001b[94mProf_Zach\u001b[0m____________|\n",
            "|___________\u001b[92mKomi\u001b[0m_______\u001b[94mProf_Zach\u001b[0m___________|\n",
            "|____________\u001b[92mKomi\u001b[0m_____\u001b[94mProf_Zach\u001b[0m____________|\n",
            "|___________\u001b[92mKomi\u001b[0m_____\u001b[94mProf_Zach\u001b[0m_____________|\n",
            "|____________\u001b[92mKomi\u001b[0m_____\u001b[94mProf_Zach\u001b[0m____________|\n",
            "|_____________\u001b[92mKomi\u001b[0m___\u001b[94mProf_Zach\u001b[0m_____________|\n",
            "|______________\u001b[92mKomi\u001b[0m_\u001b[94mProf_Zach\u001b[0m______________|\n",
            "|_____________\u001b[92mKomi\u001b[0m___\u001b[94mProf_Zach\u001b[0m_____________|\n",
            "|____________\u001b[92mKomi\u001b[0m___\u001b[94mProf_Zach\u001b[0m______________|\n",
            "|_____________\u001b[92mKomi\u001b[0m___\u001b[94mProf_Zach\u001b[0m_____________|\n",
            "|____________\u001b[92mKomi\u001b[0m___\u001b[94mProf_Zach\u001b[0m______________|\n",
            "|_____________\u001b[92mKomi\u001b[0m_\u001b[94mProf_Zach\u001b[0m_______________|\n",
            "|____________\u001b[92mKomi\u001b[0m_\u001b[94mProf_Zach\u001b[0m________________|\n",
            "|___________\u001b[92mKomi\u001b[0m___\u001b[94mProf_Zach\u001b[0m_______________|\n",
            "|__________\u001b[92mKomi\u001b[0m___\u001b[94mProf_Zach\u001b[0m________________|\n",
            "|_________\u001b[92mKomi\u001b[0m_____\u001b[94mProf_Zach\u001b[0m_______________|\n",
            "|__________\u001b[92mKomi\u001b[0m___\u001b[94mProf_Zach\u001b[0m________________|\n",
            "|_________\u001b[92mKomi\u001b[0m___\u001b[94mProf_Zach\u001b[0m_________________|\n",
            "|__________\u001b[92mKomi\u001b[0m___\u001b[94mProf_Zach\u001b[0m________________|\n",
            "|___________\u001b[92mKomi\u001b[0m_\u001b[94mProf_Zach\u001b[0m_________________|\n",
            "|____________\u001b[92mKomi\u001b[0m_\u001b[94mProf_Zach\u001b[0m________________|\n",
            "|_____________\u001b[92mKomi\u001b[0m_\u001b[94mProf_Zach\u001b[0m_______________|\n",
            "|____________\u001b[92mKomi\u001b[0m_\u001b[94mProf_Zach\u001b[0m________________|\n",
            "|___________\u001b[92mKomi\u001b[0m_\u001b[94mProf_Zach\u001b[0m_________________|\n",
            "|__________\u001b[92mKomi\u001b[0m___\u001b[94mProf_Zach\u001b[0m________________|\n",
            "|___________\u001b[92mKomi\u001b[0m___\u001b[94mProf_Zach\u001b[0m_______________|\n",
            "|__________\u001b[92mKomi\u001b[0m___\u001b[94mProf_Zach\u001b[0m________________|\n",
            "|___________\u001b[92mKomi\u001b[0m___\u001b[94mProf_Zach\u001b[0m_______________|\n",
            "|____________\u001b[92mKomi\u001b[0m___\u001b[94mProf_Zach\u001b[0m______________|\n",
            "|_____________\u001b[92mKomi\u001b[0m___\u001b[94mProf_Zach\u001b[0m_____________|\n",
            "|______________\u001b[92mKomi\u001b[0m___\u001b[94mProf_Zach\u001b[0m____________|\n",
            "|_______________\u001b[92mKomi\u001b[0m___\u001b[94mProf_Zach\u001b[0m___________|\n",
            "|______________\u001b[92mKomi\u001b[0m_____\u001b[94mProf_Zach\u001b[0m__________|\n",
            "|_____________\u001b[92mKomi\u001b[0m_______\u001b[94mProf_Zach\u001b[0m_________|\n",
            "|____________\u001b[92mKomi\u001b[0m_________\u001b[94mProf_Zach\u001b[0m________|\n",
            "|_____________\u001b[92mKomi\u001b[0m_________\u001b[94mProf_Zach\u001b[0m_______|\n",
            "|____________\u001b[92mKomi\u001b[0m_________\u001b[94mProf_Zach\u001b[0m________|\n",
            "|_____________\u001b[92mKomi\u001b[0m_________\u001b[94mProf_Zach\u001b[0m_______|\n",
            "|____________\u001b[92mKomi\u001b[0m_________\u001b[94mProf_Zach\u001b[0m________|\n",
            "|___________\u001b[92mKomi\u001b[0m_________\u001b[94mProf_Zach\u001b[0m_________|\n",
            "|____________\u001b[92mKomi\u001b[0m_________\u001b[94mProf_Zach\u001b[0m________|\n",
            "|_____________\u001b[92mKomi\u001b[0m_______\u001b[94mProf_Zach\u001b[0m_________|\n",
            "|______________\u001b[92mKomi\u001b[0m_____\u001b[94mProf_Zach\u001b[0m__________|\n",
            "|_______________\u001b[92mKomi\u001b[0m___\u001b[94mProf_Zach\u001b[0m___________|\n",
            "|________________\u001b[92mKomi\u001b[0m___\u001b[94mProf_Zach\u001b[0m__________|\n",
            "|_______________\u001b[92mKomi\u001b[0m___\u001b[94mProf_Zach\u001b[0m___________|\n",
            "|________________\u001b[92mKomi\u001b[0m_\u001b[94mProf_Zach\u001b[0m____________|\n",
            "|_________________\u001b[92mKomi\u001b[0m_\u001b[94mProf_Zach\u001b[0m___________|\n",
            "|__________________\u001b[92mKomi\u001b[0m_\u001b[94mProf_Zach\u001b[0m__________|\n",
            "|___________________\u001b[92mKomi\u001b[0m_\u001b[94mProf_Zach\u001b[0m_________|\n",
            "|__________________\u001b[92mKomi\u001b[0m___\u001b[94mProf_Zach\u001b[0m________|\n",
            "|_________________\u001b[92mKomi\u001b[0m___\u001b[94mProf_Zach\u001b[0m_________|\n",
            "|________________\u001b[92mKomi\u001b[0m___\u001b[94mProf_Zach\u001b[0m__________|\n",
            "|_______________\u001b[92mKomi\u001b[0m___\u001b[94mProf_Zach\u001b[0m___________|\n",
            "|________________\u001b[92mKomi\u001b[0m___\u001b[94mProf_Zach\u001b[0m__________|\n",
            "|_________________\u001b[92mKomi\u001b[0m___\u001b[94mProf_Zach\u001b[0m_________|\n",
            "|________________\u001b[92mKomi\u001b[0m_____\u001b[94mProf_Zach\u001b[0m________|\n",
            "|_______________\u001b[92mKomi\u001b[0m_______\u001b[94mProf_Zach\u001b[0m_______|\n",
            "|______________\u001b[92mKomi\u001b[0m_______\u001b[94mProf_Zach\u001b[0m________|\n",
            "|_______________\u001b[92mKomi\u001b[0m_____\u001b[94mProf_Zach\u001b[0m_________|\n",
            "|______________\u001b[92mKomi\u001b[0m_______\u001b[94mProf_Zach\u001b[0m________|\n",
            "|_______________\u001b[92mKomi\u001b[0m_____\u001b[94mProf_Zach\u001b[0m_________|\n",
            "|______________\u001b[92mKomi\u001b[0m_____\u001b[94mProf_Zach\u001b[0m__________|\n",
            "|_______________\u001b[92mKomi\u001b[0m_____\u001b[94mProf_Zach\u001b[0m_________|\n",
            "|______________\u001b[92mKomi\u001b[0m_______\u001b[94mProf_Zach\u001b[0m________|\n",
            "|_____________\u001b[92mKomi\u001b[0m_________\u001b[94mProf_Zach\u001b[0m_______|\n",
            "|____________\u001b[92mKomi\u001b[0m_________\u001b[94mProf_Zach\u001b[0m________|\n",
            "|___________\u001b[92mKomi\u001b[0m_________\u001b[94mProf_Zach\u001b[0m_________|\n",
            "|__________\u001b[92mKomi\u001b[0m_________\u001b[94mProf_Zach\u001b[0m__________|\n",
            "|_________\u001b[92mKomi\u001b[0m_________\u001b[94mProf_Zach\u001b[0m___________|\n",
            "|________\u001b[92mKomi\u001b[0m___________\u001b[94mProf_Zach\u001b[0m__________|\n",
            "|_______\u001b[92mKomi\u001b[0m_____________\u001b[94mProf_Zach\u001b[0m_________|\n",
            "|______\u001b[92mKomi\u001b[0m_____________\u001b[94mProf_Zach\u001b[0m__________|\n",
            "|_______\u001b[92mKomi\u001b[0m_____________\u001b[94mProf_Zach\u001b[0m_________|\n",
            "|______\u001b[92mKomi\u001b[0m_____________\u001b[94mProf_Zach\u001b[0m__________|\n",
            "|_______\u001b[92mKomi\u001b[0m_____________\u001b[94mProf_Zach\u001b[0m_________|\n",
            "|________\u001b[92mKomi\u001b[0m_____________\u001b[94mProf_Zach\u001b[0m________|\n",
            "|_______\u001b[92mKomi\u001b[0m_____________\u001b[94mProf_Zach\u001b[0m_________|\n",
            "|______\u001b[92mKomi\u001b[0m_______________\u001b[94mProf_Zach\u001b[0m________|\n",
            "|_______\u001b[92mKomi\u001b[0m_____________\u001b[94mProf_Zach\u001b[0m_________|\n",
            "|______\u001b[92mKomi\u001b[0m_____________\u001b[94mProf_Zach\u001b[0m__________|\n",
            "|_____\u001b[92mKomi\u001b[0m_____________\u001b[94mProf_Zach\u001b[0m___________|\n",
            "|______\u001b[92mKomi\u001b[0m_____________\u001b[94mProf_Zach\u001b[0m__________|\n",
            "|_______\u001b[92mKomi\u001b[0m___________\u001b[94mProf_Zach\u001b[0m___________|\n",
            "|______\u001b[92mKomi\u001b[0m___________\u001b[94mProf_Zach\u001b[0m____________|\n",
            "|_______\u001b[92mKomi\u001b[0m___________\u001b[94mProf_Zach\u001b[0m___________|\n",
            "|________\u001b[92mKomi\u001b[0m_________\u001b[94mProf_Zach\u001b[0m____________|\n",
            "|_________\u001b[92mKomi\u001b[0m_______\u001b[94mProf_Zach\u001b[0m_____________|\n",
            "|__________\u001b[92mKomi\u001b[0m_______\u001b[94mProf_Zach\u001b[0m____________|\n",
            "|___________\u001b[92mKomi\u001b[0m_____\u001b[94mProf_Zach\u001b[0m_____________|\n",
            "|__________\u001b[92mKomi\u001b[0m_______\u001b[94mProf_Zach\u001b[0m____________|\n",
            "|_________\u001b[92mKomi\u001b[0m_______\u001b[94mProf_Zach\u001b[0m_____________|\n",
            "|__________\u001b[92mKomi\u001b[0m_____\u001b[94mProf_Zach\u001b[0m______________|\n",
            "|___________\u001b[92mKomi\u001b[0m_____\u001b[94mProf_Zach\u001b[0m_____________|\n",
            "|__________\u001b[92mKomi\u001b[0m_____\u001b[94mProf_Zach\u001b[0m______________|\n",
            "|___________\u001b[92mKomi\u001b[0m___\u001b[94mProf_Zach\u001b[0m_______________|\n",
            "|____________\u001b[92mKomi\u001b[0m_\u001b[94mProf_Zach\u001b[0m________________|\n",
            "|_____________\u001b[92mKomi\u001b[0m_\u001b[94mProf_Zach\u001b[0m_______________|\n",
            "|____________\u001b[92mKomi\u001b[0m_\u001b[94mProf_Zach\u001b[0m________________|\n",
            "|_____________\u001b[1;35m*\u001b[0m_________________|\n",
            "|____________\u001b[1;35m*\u001b[0m__________________|\n",
            "|___________\u001b[92mKomi\u001b[0m_\u001b[94mProf_Zach\u001b[0m_________________|\n",
            "|____________\u001b[92mKomi\u001b[0m_\u001b[94mProf_Zach\u001b[0m________________|\n",
            "|___________\u001b[92mKomi\u001b[0m_\u001b[94mProf_Zach\u001b[0m_________________|\n",
            "|__________\u001b[92mKomi\u001b[0m_\u001b[94mProf_Zach\u001b[0m__________________|\n",
            "|_________\u001b[92mKomi\u001b[0m_\u001b[94mProf_Zach\u001b[0m___________________|\n",
            "|__________\u001b[92mKomi\u001b[0m_\u001b[94mProf_Zach\u001b[0m__________________|\n",
            "|_________\u001b[92mKomi\u001b[0m_\u001b[94mProf_Zach\u001b[0m___________________|\n",
            "|________\u001b[92mKomi\u001b[0m___\u001b[94mProf_Zach\u001b[0m__________________|\n",
            "|_________\u001b[92mKomi\u001b[0m_\u001b[94mProf_Zach\u001b[0m___________________|\n",
            "|________\u001b[92mKomi\u001b[0m___\u001b[94mProf_Zach\u001b[0m__________________|\n",
            "|_______\u001b[92mKomi\u001b[0m_____\u001b[94mProf_Zach\u001b[0m_________________|\n",
            "|______\u001b[92mKomi\u001b[0m_______\u001b[94mProf_Zach\u001b[0m________________|\n",
            "|_____\u001b[92mKomi\u001b[0m_________\u001b[94mProf_Zach\u001b[0m_______________|\n",
            "|______\u001b[92mKomi\u001b[0m_______\u001b[94mProf_Zach\u001b[0m________________|\n",
            "|_______\u001b[92mKomi\u001b[0m_______\u001b[94mProf_Zach\u001b[0m_______________|\n",
            "|________\u001b[92mKomi\u001b[0m_______\u001b[94mProf_Zach\u001b[0m______________|\n",
            "|_________\u001b[92mKomi\u001b[0m_______\u001b[94mProf_Zach\u001b[0m_____________|\n",
            "|________\u001b[92mKomi\u001b[0m_________\u001b[94mProf_Zach\u001b[0m____________|\n",
            "|_________\u001b[92mKomi\u001b[0m_______\u001b[94mProf_Zach\u001b[0m_____________|\n",
            "|________\u001b[92mKomi\u001b[0m_______\u001b[94mProf_Zach\u001b[0m______________|\n",
            "|_________\u001b[92mKomi\u001b[0m_____\u001b[94mProf_Zach\u001b[0m_______________|\n",
            "|________\u001b[92mKomi\u001b[0m_______\u001b[94mProf_Zach\u001b[0m______________|\n",
            "|_______\u001b[92mKomi\u001b[0m_________\u001b[94mProf_Zach\u001b[0m_____________|\n",
            "|________\u001b[92mKomi\u001b[0m_________\u001b[94mProf_Zach\u001b[0m____________|\n",
            "|_______\u001b[92mKomi\u001b[0m_________\u001b[94mProf_Zach\u001b[0m_____________|\n",
            "|________\u001b[92mKomi\u001b[0m_________\u001b[94mProf_Zach\u001b[0m____________|\n",
            "|_______\u001b[92mKomi\u001b[0m_________\u001b[94mProf_Zach\u001b[0m_____________|\n",
            "|________\u001b[92mKomi\u001b[0m_______\u001b[94mProf_Zach\u001b[0m______________|\n",
            "|_________\u001b[92mKomi\u001b[0m_______\u001b[94mProf_Zach\u001b[0m_____________|\n",
            "|________\u001b[92mKomi\u001b[0m_________\u001b[94mProf_Zach\u001b[0m____________|\n",
            "|_______\u001b[92mKomi\u001b[0m___________\u001b[94mProf_Zach\u001b[0m___________|\n",
            "|______\u001b[92mKomi\u001b[0m___________\u001b[94mProf_Zach\u001b[0m____________|\n",
            "|_____\u001b[92mKomi\u001b[0m_____________\u001b[94mProf_Zach\u001b[0m___________|\n",
            "|____\u001b[92mKomi\u001b[0m_______________\u001b[94mProf_Zach\u001b[0m__________|\n",
            "|___\u001b[92mKomi\u001b[0m_________________\u001b[94mProf_Zach\u001b[0m_________|\n",
            "|__\u001b[92mKomi\u001b[0m___________________\u001b[94mProf_Zach\u001b[0m________|\n",
            "|_\u001b[92mKomi\u001b[0m_____________________\u001b[94mProf_Zach\u001b[0m_______|\n",
            "|\u001b[92mKomi\u001b[0m_______________________\u001b[94mProf_Zach\u001b[0m______|\n",
            "Sleepwalker Komi went out of bounds!\n"
          ]
        },
        {
          "output_type": "execute_result",
          "data": {
            "text/plain": [
              "154"
            ]
          },
          "metadata": {},
          "execution_count": 262
        }
      ],
      "source": [
        "#\n",
        "# Task #2:  create a _two_ sleepwalker animation!\n",
        "#           For an example _idea_ see the next cell...\n",
        "import time\n",
        "import random\n",
        "\n",
        "def rs():\n",
        "    \"\"\"Return a random step: -1 or 1.\"\"\"\n",
        "    return random.choice([-1, 1])\n",
        "\n",
        "def print_sleepwalkers(s1, s2, low, high):\n",
        "    \"\"\"\n",
        "    Print a visualization of the sidewalk with two sleepwalkers.\n",
        "    The sidewalk is bordered by a left and right wall.\n",
        "\n",
        "    If both sleepwalkers share the same position, a combined symbol is printed.\n",
        "    Otherwise, sleepwalker A (green \"Komi\") and sleepwalker B (blue \"Prof_Zach\")\n",
        "    are printed at their respective positions.\n",
        "    \"\"\"\n",
        "    left_wall = \"|\"\n",
        "    right_wall = \"|\"\n",
        "\n",
        "    if s1 == s2:\n",
        "        # When the two sleepwalkers meet, print a combined symbol.\n",
        "        gap_left = s1 - low\n",
        "        gap_right = high - s1\n",
        "        combined = \"\\033[1;35m*\\033[0m\"  # magenta star as a combined symbol\n",
        "        line = left_wall + \"_\" * gap_left + combined + \"_\" * gap_right + right_wall\n",
        "    else:\n",
        "        # Determine the left and right positions.\n",
        "        left_pos = min(s1, s2)\n",
        "        right_pos = max(s1, s2)\n",
        "        gap_left = left_pos - low\n",
        "        gap_mid = right_pos - left_pos - 1\n",
        "        gap_right = high - right_pos\n",
        "        # Assign symbols based on which sleepwalker is left/right.\n",
        "        # Here, sleepwalker A (green \"A\") and sleepwalker B (blue \"B\")\n",
        "        if s1 < s2:\n",
        "            symbol_left = \"\\033[92mK\\033[0m\"  # green A\n",
        "            symbol_right = \"\\033[94mProf_Z\\033[0m\"  # blue B\n",
        "        else:\n",
        "            symbol_left = \"\\033[92mK\\033[0m\"\n",
        "            symbol_right = \"\\033[94mProf_Z\\033[0m\"\n",
        "        line = (left_wall + \"_\" * gap_left + symbol_left +\n",
        "                \"_\" * gap_mid + symbol_right + \"_\" * gap_right + right_wall)\n",
        "    print(line, flush=True)\n",
        "\n",
        "def two_sleepwalker_race(s1, s2, low, high):\n",
        "    \"\"\"\n",
        "    Animate two sleepwalkers starting at positions s1 and s2 on a sidewalk defined by low and high.\n",
        "    Each sleepwalker takes a random step (rs()) concurrently.\n",
        "    The simulation continues until one or both sleepwalkers go out-of-bounds.\n",
        "    Returns the number of steps taken.\n",
        "    \"\"\"\n",
        "    steps = 0\n",
        "    while low < s1 < high and low < s2 < high:\n",
        "        print_sleepwalkers(s1, s2, low, high)\n",
        "        # Both sleepwalkers take a random step.\n",
        "        s1 += rs()\n",
        "        s2 += rs()\n",
        "        steps += 1\n",
        "        time.sleep(0.1)  # pause for animation effect\n",
        "\n",
        "    # Print final configuration:\n",
        "    print_sleepwalkers(s1, s2, low, high)\n",
        "\n",
        "    # Announce which sleepwalker went out-of-bounds:\n",
        "    if not (low < s1 < high) and (low < s2 < high):\n",
        "        print(\"Sleepwalker Komi went out of bounds!\")\n",
        "    elif not (low < s2 < high) and (low < s1 < high):\n",
        "        print(\"Sleepwalker Prof_Zach went out of bounds!\")\n",
        "    else:\n",
        "        print(\"Both sleepwalkers went out of bounds!\")\n",
        "\n",
        "    return steps\n",
        "\n",
        "# Example usage:\n",
        "# Two sleepwalkers starting at positions 10 and 20 on a sidewalk from 0 to 30.\n",
        "two_sleepwalker_race(10, 20, 0, 30)\n"
      ]
    },
    {
      "cell_type": "code",
      "execution_count": 258,
      "metadata": {
        "id": "1zZ5kFlm3ggA"
      },
      "outputs": [],
      "source": [
        "\n",
        "# here is an _example_ of a two-sleepwalker animation idea\n",
        "# a starting point has been written... but only one wanderer is wandering!\n",
        "# your task is to make sure TWO wanderers are wandering... in a fashion you design...\n",
        "\n",
        "import time\n",
        "import random\n",
        "\n",
        "def rs():\n",
        "    \"\"\" One random step \"\"\"\n",
        "    return random.choice([-1, 1])\n",
        "\n",
        "def print_poptarts(pST, pSM):\n",
        "    \"\"\" print the two poptarts! \"\"\"\n",
        "    if pST < pSM:\n",
        "        pLeft = pST;   cLeft = \"\\033[6;33;41m\" + \"P\" + \"\\033[0m\"\n",
        "        pRight = pSM;  cRight = \"\\033[6;36;43m\" + \"P\" + \"\\033[0m\"\n",
        "    else:\n",
        "        pLeft = pSM;   cLeft = \"\\033[6;36;43m\" + \"P\" + \"\\033[0m\"\n",
        "        pRight = pST;  cRight = \"\\033[6;33;41m\" + \"P\" + \"\\033[0m\"\n",
        "\n",
        "    left_space = (pLeft-0)\n",
        "    middle_space = (pRight-pLeft)\n",
        "    right_space = (30-pRight)\n",
        "\n",
        "    print(\"CGU|\" + \"_\"*left_space + cLeft + \"_\"*middle_space + cRight + \"_\"*right_space + \"|Toaster\", flush=True)\n",
        "\n",
        "\n",
        "def poptart_race(pST, pSM):\n",
        "    \"\"\"\n",
        "        This simulator observes two poptarts, pST, pSM (you can guess the flavors...)\n",
        "        wandering between 0 and 30.\n",
        "\n",
        "        Call this with\n",
        "               poptart_race(10, 20)\n",
        "           or  poptart_race(pST=10, pSM=20)    # this is the same as the line above\n",
        "\n",
        "        The endpoints are always at 0 and 30. We check that  0 < pST < 30 and 0 < pSM < 30\n",
        "\n",
        "        Other values to try:  poptart_race(18, 22)    # evenly spaced\n",
        "                              poptart_race(5, 15)     # uneven spacing: pST is closer...\n",
        "    \"\"\"\n",
        "    num_steps = 0       # count the number of steps\n",
        "\n",
        "    while 0 < pST < 30:\n",
        "        print_poptarts(pST, pSM)   # print the current poptart-configuration!\n",
        "        pST = pST + rs()           # take a random step for the strawberry poptart...\n",
        "        num_steps += 1             # add 1 to our count of steps (in the variable num_steps)\n",
        "        time.sleep(0.05)           # pause a bit, to add drama!\n",
        "\n",
        "    # finished with the while loop!\n",
        "    return num_steps\n",
        "\n"
      ]
    },
    {
      "cell_type": "code",
      "source": [
        "poptart_race(10, 20)"
      ],
      "metadata": {
        "id": "VbhjtXudzAC4",
        "colab": {
          "base_uri": "https://localhost:8080/"
        },
        "outputId": "e4cee70a-97a2-4992-ae8f-1d7e21795238"
      },
      "execution_count": 259,
      "outputs": [
        {
          "output_type": "stream",
          "name": "stdout",
          "text": [
            "CGU|__________\u001b[6;33;41mP\u001b[0m__________\u001b[6;36;43mP\u001b[0m__________|Toaster\n",
            "CGU|_________\u001b[6;33;41mP\u001b[0m___________\u001b[6;36;43mP\u001b[0m__________|Toaster\n",
            "CGU|________\u001b[6;33;41mP\u001b[0m____________\u001b[6;36;43mP\u001b[0m__________|Toaster\n",
            "CGU|_______\u001b[6;33;41mP\u001b[0m_____________\u001b[6;36;43mP\u001b[0m__________|Toaster\n",
            "CGU|________\u001b[6;33;41mP\u001b[0m____________\u001b[6;36;43mP\u001b[0m__________|Toaster\n",
            "CGU|_________\u001b[6;33;41mP\u001b[0m___________\u001b[6;36;43mP\u001b[0m__________|Toaster\n",
            "CGU|________\u001b[6;33;41mP\u001b[0m____________\u001b[6;36;43mP\u001b[0m__________|Toaster\n",
            "CGU|_______\u001b[6;33;41mP\u001b[0m_____________\u001b[6;36;43mP\u001b[0m__________|Toaster\n",
            "CGU|______\u001b[6;33;41mP\u001b[0m______________\u001b[6;36;43mP\u001b[0m__________|Toaster\n",
            "CGU|_______\u001b[6;33;41mP\u001b[0m_____________\u001b[6;36;43mP\u001b[0m__________|Toaster\n",
            "CGU|______\u001b[6;33;41mP\u001b[0m______________\u001b[6;36;43mP\u001b[0m__________|Toaster\n",
            "CGU|_______\u001b[6;33;41mP\u001b[0m_____________\u001b[6;36;43mP\u001b[0m__________|Toaster\n",
            "CGU|________\u001b[6;33;41mP\u001b[0m____________\u001b[6;36;43mP\u001b[0m__________|Toaster\n",
            "CGU|_________\u001b[6;33;41mP\u001b[0m___________\u001b[6;36;43mP\u001b[0m__________|Toaster\n",
            "CGU|________\u001b[6;33;41mP\u001b[0m____________\u001b[6;36;43mP\u001b[0m__________|Toaster\n",
            "CGU|_______\u001b[6;33;41mP\u001b[0m_____________\u001b[6;36;43mP\u001b[0m__________|Toaster\n",
            "CGU|______\u001b[6;33;41mP\u001b[0m______________\u001b[6;36;43mP\u001b[0m__________|Toaster\n",
            "CGU|_____\u001b[6;33;41mP\u001b[0m_______________\u001b[6;36;43mP\u001b[0m__________|Toaster\n",
            "CGU|____\u001b[6;33;41mP\u001b[0m________________\u001b[6;36;43mP\u001b[0m__________|Toaster\n",
            "CGU|_____\u001b[6;33;41mP\u001b[0m_______________\u001b[6;36;43mP\u001b[0m__________|Toaster\n",
            "CGU|______\u001b[6;33;41mP\u001b[0m______________\u001b[6;36;43mP\u001b[0m__________|Toaster\n",
            "CGU|_______\u001b[6;33;41mP\u001b[0m_____________\u001b[6;36;43mP\u001b[0m__________|Toaster\n",
            "CGU|________\u001b[6;33;41mP\u001b[0m____________\u001b[6;36;43mP\u001b[0m__________|Toaster\n",
            "CGU|_________\u001b[6;33;41mP\u001b[0m___________\u001b[6;36;43mP\u001b[0m__________|Toaster\n",
            "CGU|________\u001b[6;33;41mP\u001b[0m____________\u001b[6;36;43mP\u001b[0m__________|Toaster\n",
            "CGU|_________\u001b[6;33;41mP\u001b[0m___________\u001b[6;36;43mP\u001b[0m__________|Toaster\n",
            "CGU|________\u001b[6;33;41mP\u001b[0m____________\u001b[6;36;43mP\u001b[0m__________|Toaster\n",
            "CGU|_______\u001b[6;33;41mP\u001b[0m_____________\u001b[6;36;43mP\u001b[0m__________|Toaster\n",
            "CGU|________\u001b[6;33;41mP\u001b[0m____________\u001b[6;36;43mP\u001b[0m__________|Toaster\n",
            "CGU|_______\u001b[6;33;41mP\u001b[0m_____________\u001b[6;36;43mP\u001b[0m__________|Toaster\n",
            "CGU|________\u001b[6;33;41mP\u001b[0m____________\u001b[6;36;43mP\u001b[0m__________|Toaster\n",
            "CGU|_______\u001b[6;33;41mP\u001b[0m_____________\u001b[6;36;43mP\u001b[0m__________|Toaster\n",
            "CGU|______\u001b[6;33;41mP\u001b[0m______________\u001b[6;36;43mP\u001b[0m__________|Toaster\n",
            "CGU|_______\u001b[6;33;41mP\u001b[0m_____________\u001b[6;36;43mP\u001b[0m__________|Toaster\n",
            "CGU|________\u001b[6;33;41mP\u001b[0m____________\u001b[6;36;43mP\u001b[0m__________|Toaster\n",
            "CGU|_________\u001b[6;33;41mP\u001b[0m___________\u001b[6;36;43mP\u001b[0m__________|Toaster\n",
            "CGU|________\u001b[6;33;41mP\u001b[0m____________\u001b[6;36;43mP\u001b[0m__________|Toaster\n",
            "CGU|_________\u001b[6;33;41mP\u001b[0m___________\u001b[6;36;43mP\u001b[0m__________|Toaster\n",
            "CGU|__________\u001b[6;33;41mP\u001b[0m__________\u001b[6;36;43mP\u001b[0m__________|Toaster\n",
            "CGU|___________\u001b[6;33;41mP\u001b[0m_________\u001b[6;36;43mP\u001b[0m__________|Toaster\n",
            "CGU|____________\u001b[6;33;41mP\u001b[0m________\u001b[6;36;43mP\u001b[0m__________|Toaster\n",
            "CGU|_____________\u001b[6;33;41mP\u001b[0m_______\u001b[6;36;43mP\u001b[0m__________|Toaster\n",
            "CGU|____________\u001b[6;33;41mP\u001b[0m________\u001b[6;36;43mP\u001b[0m__________|Toaster\n",
            "CGU|_____________\u001b[6;33;41mP\u001b[0m_______\u001b[6;36;43mP\u001b[0m__________|Toaster\n",
            "CGU|____________\u001b[6;33;41mP\u001b[0m________\u001b[6;36;43mP\u001b[0m__________|Toaster\n",
            "CGU|___________\u001b[6;33;41mP\u001b[0m_________\u001b[6;36;43mP\u001b[0m__________|Toaster\n",
            "CGU|__________\u001b[6;33;41mP\u001b[0m__________\u001b[6;36;43mP\u001b[0m__________|Toaster\n",
            "CGU|_________\u001b[6;33;41mP\u001b[0m___________\u001b[6;36;43mP\u001b[0m__________|Toaster\n",
            "CGU|________\u001b[6;33;41mP\u001b[0m____________\u001b[6;36;43mP\u001b[0m__________|Toaster\n",
            "CGU|_________\u001b[6;33;41mP\u001b[0m___________\u001b[6;36;43mP\u001b[0m__________|Toaster\n",
            "CGU|________\u001b[6;33;41mP\u001b[0m____________\u001b[6;36;43mP\u001b[0m__________|Toaster\n",
            "CGU|_______\u001b[6;33;41mP\u001b[0m_____________\u001b[6;36;43mP\u001b[0m__________|Toaster\n",
            "CGU|________\u001b[6;33;41mP\u001b[0m____________\u001b[6;36;43mP\u001b[0m__________|Toaster\n",
            "CGU|_________\u001b[6;33;41mP\u001b[0m___________\u001b[6;36;43mP\u001b[0m__________|Toaster\n",
            "CGU|________\u001b[6;33;41mP\u001b[0m____________\u001b[6;36;43mP\u001b[0m__________|Toaster\n",
            "CGU|_______\u001b[6;33;41mP\u001b[0m_____________\u001b[6;36;43mP\u001b[0m__________|Toaster\n",
            "CGU|______\u001b[6;33;41mP\u001b[0m______________\u001b[6;36;43mP\u001b[0m__________|Toaster\n",
            "CGU|_____\u001b[6;33;41mP\u001b[0m_______________\u001b[6;36;43mP\u001b[0m__________|Toaster\n",
            "CGU|______\u001b[6;33;41mP\u001b[0m______________\u001b[6;36;43mP\u001b[0m__________|Toaster\n",
            "CGU|_____\u001b[6;33;41mP\u001b[0m_______________\u001b[6;36;43mP\u001b[0m__________|Toaster\n",
            "CGU|____\u001b[6;33;41mP\u001b[0m________________\u001b[6;36;43mP\u001b[0m__________|Toaster\n",
            "CGU|___\u001b[6;33;41mP\u001b[0m_________________\u001b[6;36;43mP\u001b[0m__________|Toaster\n",
            "CGU|____\u001b[6;33;41mP\u001b[0m________________\u001b[6;36;43mP\u001b[0m__________|Toaster\n",
            "CGU|___\u001b[6;33;41mP\u001b[0m_________________\u001b[6;36;43mP\u001b[0m__________|Toaster\n",
            "CGU|__\u001b[6;33;41mP\u001b[0m__________________\u001b[6;36;43mP\u001b[0m__________|Toaster\n",
            "CGU|_\u001b[6;33;41mP\u001b[0m___________________\u001b[6;36;43mP\u001b[0m__________|Toaster\n"
          ]
        },
        {
          "output_type": "execute_result",
          "data": {
            "text/plain": [
              "66"
            ]
          },
          "metadata": {},
          "execution_count": 259
        }
      ]
    },
    {
      "cell_type": "markdown",
      "metadata": {
        "id": "IrzyA63F3ggB"
      },
      "source": [
        "\n",
        "<br>\n",
        "\n",
        "#### Hints, suggestions, and other references\n",
        "+ Be sure that there is a <i>finishing condition</i>\n",
        "+ Have a meaningful return value - such as the number of steps\n",
        "+ There should be some interaction between the wandering agents (each other), as well as between the wanderers and the endpoints, e.g., walls, cliffs, wells, teleports, etc.\n",
        "\n",
        "<br>\n",
        "\n",
        "As a few possible examples, you might consider:\n",
        "+ two wanderers that are trying to reach an item between them (see above)\n",
        "+ two wanderers that are unable to switch places (they \"bounce\"), with the simulation ending when one—or both—reach the walls\n",
        "+ two endpoints of a single \"entity\" that's trying to consume the whole environment (reach both sides)\n",
        "+ a single wanderer hoping to avoid an \"obstacle\" that is also a wanderer... it moves around and/or (dis)appears: a moving obstacle definitely counts as a second wanderer\n",
        "+ one or both walls can be a \"wanderer\"\n",
        "+ there are many more possibilities, for sure!\n",
        "\n",
        "\n",
        "<br>\n",
        "\n",
        "Other resources/references:\n",
        "+ [Lots of ideas are here at the cs5 page](https://www.cs.hmc.edu/twiki/bin/view/CS5Fall2019/SleepwalkingStudentGold)\n",
        "+ You can also add emojis and other unicode characters\n",
        "+ And you can change the colors -- see the next couple of cells for examples...\n",
        "+ [Here is the terminal-colors in Python page](https://www.cs.hmc.edu/twiki/bin/view/CS5/TerminalColorsInPython)"
      ]
    },
    {
      "cell_type": "code",
      "execution_count": 264,
      "metadata": {
        "id": "CpFeTj_83ggC",
        "colab": {
          "base_uri": "https://localhost:8080/"
        },
        "outputId": "60188b8d-9a13-4d7f-eadd-4883f01f84c2"
      },
      "outputs": [
        {
          "output_type": "stream",
          "name": "stdout",
          "text": [
            "|_🙂_________|\n",
            "|__🙂________|\n",
            "|___🙂_______|\n",
            "|____🙂______|\n",
            "|_____🙂_____|\n",
            "|______🙂____|\n",
            "|_______🙂___|\n",
            "|________🙂__|\n",
            "|_________🙂_|\n"
          ]
        }
      ],
      "source": [
        "import time\n",
        "\n",
        "# emoji test\n",
        "emoji_list = [ \"♫\", \"♪\" ]\n",
        "for i in range(1,10):\n",
        "    left_side = i\n",
        "    right_side = (10-i)\n",
        "\n",
        "    e = \"🙂\"\n",
        "    # e = random.choice(emoji_list)\n",
        "\n",
        "    print(\"|\" + \"_\"*left_side + e + \"_\"*right_side + \"|\", flush=True)\n",
        "    time.sleep(0.25)"
      ]
    },
    {
      "cell_type": "code",
      "execution_count": null,
      "metadata": {
        "id": "jhB1t4kZ3ggC"
      },
      "outputs": [],
      "source": [
        "print(\"\\nbefore: \" + \"\\033[6;30;43m\" + \"This text uses 6;30;43 .\" + \"\\033[0m\" + \" :end\\n\")"
      ]
    },
    {
      "cell_type": "markdown",
      "source": [
        "Here's an example with the black-and-gold text:"
      ],
      "metadata": {
        "id": "mp0pOdGpQ8cA"
      }
    },
    {
      "cell_type": "code",
      "source": [
        "import time\n",
        "\n",
        "def gold_bg(text):\n",
        "    return \"\\033[6;30;43m\" + text + \"\\033[0m\"\n",
        "\n",
        "# gold_bg test\n",
        "for i in range(1,10):\n",
        "    left_side = i\n",
        "    right_side = (10-i)\n",
        "\n",
        "    e = \"E\"\n",
        "    # e = random.choice(emoji_list)\n",
        "\n",
        "    print(\"|\" + \"_\"*left_side + gold_bg(e) + \"_\"*right_side + \"|\", flush=True)\n",
        "    time.sleep(0.25)\n",
        "\n",
        "# by Zach\n",
        "\n",
        "# REVERSE gold_bg test\n",
        "for i in range(10,0,-1):\n",
        "    left_side = i\n",
        "    right_side = (10-i)\n",
        "\n",
        "    e = \"E\"\n",
        "    # e = random.choice(emoji_list)\n",
        "\n",
        "    print(\"|\" + gold_bg(\"_\"*left_side) + e + gold_bg(\"_\"*right_side) + \"|\", flush=True)\n",
        "    time.sleep(0.25)"
      ],
      "metadata": {
        "id": "Ow8QYU-dQ_Xg",
        "colab": {
          "base_uri": "https://localhost:8080/"
        },
        "outputId": "c1577524-7b24-4fcb-b79f-1281f773d93e"
      },
      "execution_count": 266,
      "outputs": [
        {
          "output_type": "stream",
          "name": "stdout",
          "text": [
            "|_\u001b[6;30;43mE\u001b[0m_________|\n",
            "|__\u001b[6;30;43mE\u001b[0m________|\n",
            "|___\u001b[6;30;43mE\u001b[0m_______|\n",
            "|____\u001b[6;30;43mE\u001b[0m______|\n",
            "|_____\u001b[6;30;43mE\u001b[0m_____|\n",
            "|______\u001b[6;30;43mE\u001b[0m____|\n",
            "|_______\u001b[6;30;43mE\u001b[0m___|\n",
            "|________\u001b[6;30;43mE\u001b[0m__|\n",
            "|_________\u001b[6;30;43mE\u001b[0m_|\n",
            "|\u001b[6;30;43m__________\u001b[0mE\u001b[6;30;43m\u001b[0m|\n",
            "|\u001b[6;30;43m_________\u001b[0mE\u001b[6;30;43m_\u001b[0m|\n",
            "|\u001b[6;30;43m________\u001b[0mE\u001b[6;30;43m__\u001b[0m|\n",
            "|\u001b[6;30;43m_______\u001b[0mE\u001b[6;30;43m___\u001b[0m|\n",
            "|\u001b[6;30;43m______\u001b[0mE\u001b[6;30;43m____\u001b[0m|\n",
            "|\u001b[6;30;43m_____\u001b[0mE\u001b[6;30;43m_____\u001b[0m|\n",
            "|\u001b[6;30;43m____\u001b[0mE\u001b[6;30;43m______\u001b[0m|\n",
            "|\u001b[6;30;43m___\u001b[0mE\u001b[6;30;43m_______\u001b[0m|\n",
            "|\u001b[6;30;43m__\u001b[0mE\u001b[6;30;43m________\u001b[0m|\n",
            "|\u001b[6;30;43m_\u001b[0mE\u001b[6;30;43m_________\u001b[0m|\n"
          ]
        }
      ]
    },
    {
      "cell_type": "code",
      "source": [
        "name = input(\"What is your name? \")\n",
        "print(\"Hello,\", name, \"!\")"
      ],
      "metadata": {
        "colab": {
          "base_uri": "https://localhost:8080/"
        },
        "id": "SxHCRjBYfP3q",
        "outputId": "7b08ff1d-a270-4551-e4aa-8f9316491d05"
      },
      "execution_count": 267,
      "outputs": [
        {
          "output_type": "stream",
          "name": "stdout",
          "text": [
            "What is your name? Komi Adomayakpor\n",
            "Hello, Komi Adomayakpor !\n"
          ]
        }
      ]
    },
    {
      "cell_type": "code",
      "source": [
        "print('How did I cheat? Don\\'t let me cheat!!!  :) ')"
      ],
      "metadata": {
        "colab": {
          "base_uri": "https://localhost:8080/"
        },
        "id": "Wpl0lTp-hNz-",
        "outputId": "8a4adb49-1c74-47d8-c5b6-989de1ad7de7"
      },
      "execution_count": 269,
      "outputs": [
        {
          "output_type": "stream",
          "name": "stdout",
          "text": [
            "How did I cheat? Don't let me cheat!!!  :) \n"
          ]
        }
      ]
    },
    {
      "cell_type": "markdown",
      "metadata": {
        "id": "234UmAAE3ggD"
      },
      "source": [
        "<br>\n",
        "\n",
        "####  Complete!\n",
        "+ When you have ~~completed~~ your two-sleepwalker simulation, be sure that you have at least one run held in the output of your cell(s)\n",
        "+ More than one run is ok, too\n",
        "+ Remember, once you've defined a function, you're able to run it in many cells afterwards...\n",
        "\n",
        "<br>\n",
        "\n",
        "Then, submit this to its Gradescope spot..."
      ]
    },
    {
      "cell_type": "markdown",
      "source": [
        "# Reading and Response: _ChatGPT_\n",
        "\n",
        "Of course, we have to have a ChatGPT article!\n",
        "\n",
        "Happily, the NYTimes has written many of these 😀\n",
        "+ [NYTimes article](https://www.nytimes.com/2023/02/03/technology/chatgpt-openai-artificial-intelligence.html)\n",
        "+ [Local pdf in case the above link does not work](https://drive.google.com/file/d/1SUhVAcDPcC80FfMyKUSt6EmKHOo7eImf/view?usp=sharing)\n",
        "\n",
        "The article summarizes\n",
        "+ the surprising progress in _generative AI_\n",
        "+ including both text and images\n",
        "+ and looks ahead at what's coming...\n",
        "\n",
        "<br>\n",
        "\n",
        "When you've read the article, share a short paragraph that describes\n",
        "+ your thoughts on \"Should ChatGPT be called 'sentient'?\"  That is, is it \"thinking,\" in the way you use that word. Why or why not...\n",
        "+ or, your thoughts on the differences between ChatGPT's \"thinking\" and \"human thinking\": how would you describe those?\n",
        "+ or, share your thoughts on _which traditionally-human activity_ will ChatGPT have the largest influence on, over the next 2-3 years?\n",
        "\n",
        "<br>\n",
        "\n",
        "Also, **feel free to use ChatGPT** to write your response to these prompts above... If you do this, then:\n",
        "+ add your thoughts on how well ChatGPT was able to answer the prompt\n",
        "+ also, share whether you agree, disagree, or derive some other opinion with respect to ChatGPT's self-description!\n",
        "\n",
        "<br>\n",
        "\n",
        "It's an interesting era in which we live!"
      ],
      "metadata": {
        "id": "7pzngEXA4h8U"
      }
    },
    {
      "cell_type": "markdown",
      "source": [
        "### Feel free to use this cell for your thoughts\n",
        "\n",
        "... or ChatGPT's thoughts, and your thoughts about those!\n",
        "\n",
        "<br><br>\n",
        "\n",
        "\n",
        "\n",
        "<br><br>"
      ],
      "metadata": {
        "id": "dtcBswtz6M7y"
      }
    },
    {
      "cell_type": "markdown",
      "source": [
        "# Submitting...\n",
        "\n",
        "Be sure to submit the url of _your_ copy -- with the challenges, questions, and programs composed --\n",
        "+ to Canvas in the appropriate spot\n",
        "+ by the appropriate Frisay evening (any time)\n",
        "+ shared with me (ZD)  ``zdodds@gmail.com``\n",
        "\n",
        "Remember that there is lots of tutoring support, as well as office-hour support available...  \n",
        "\n",
        "<br>\n",
        "\n",
        "\n",
        "As a reminder, the programming parts of IST341 match the spirit of the course, in seeking, among other things:\n",
        "+ creativity/novelty\n",
        "+ personalization/individual context\n",
        "+ exploration and understanding (does it run?)"
      ],
      "metadata": {
        "id": "rNHGo2zHWUuo"
      }
    }
  ],
  "metadata": {
    "colab": {
      "provenance": [],
      "include_colab_link": true
    },
    "kernelspec": {
      "display_name": "Python 3",
      "name": "python3"
    },
    "language_info": {
      "name": "python"
    }
  },
  "nbformat": 4,
  "nbformat_minor": 0
}