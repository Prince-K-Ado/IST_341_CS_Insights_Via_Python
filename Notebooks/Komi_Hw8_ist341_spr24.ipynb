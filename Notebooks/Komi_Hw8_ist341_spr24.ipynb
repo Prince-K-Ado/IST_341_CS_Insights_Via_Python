{
  "cells": [
    {
      "cell_type": "markdown",
      "metadata": {
        "id": "view-in-github",
        "colab_type": "text"
      },
      "source": [
        "<a href=\"https://colab.research.google.com/github/Prince-K-Ado/IST_341_CS_Insights_Via_Python/blob/main/Notebooks/Komi_Hw8_ist341_spr24.ipynb\" target=\"_parent\"><img src=\"https://colab.research.google.com/assets/colab-badge.svg\" alt=\"Open In Colab\"/></a>"
      ]
    },
    {
      "cell_type": "markdown",
      "source": [
        "# Looking for the **\"All-in-one\"** notebook?\n",
        "\n",
        "It's located [here at this link](https://colab.research.google.com/drive/19jZDFIqD-ABndSgd1EQzSl_soQ-FU4J-#scrollTo=e-xLewmU4p0s&uniqifier=1)"
      ],
      "metadata": {
        "id": "_R0urFoU5Nkz"
      }
    },
    {
      "cell_type": "markdown",
      "metadata": {
        "id": "PlIsJQHcbTov"
      },
      "source": [
        "<br>\n",
        "\n",
        "#   Homework 8\n",
        "+ clasification via decision trees and random forests...\n",
        "+ which are both \"the same\" as k-nearest-neighbors, and\n",
        "+ \"the opposite\" of k-nearest-neighbors!\n",
        "\n",
        "It all hinges on how we define ***near*** .\n",
        "\n",
        "Let's see how it works:\n",
        "\n"
      ]
    },
    {
      "cell_type": "markdown",
      "source": [
        "# Decision Trees: Iris Example"
      ],
      "metadata": {
        "id": "hRyCaCQBfY6W"
      }
    },
    {
      "cell_type": "code",
      "execution_count": null,
      "metadata": {
        "id": "5cqLKYpwbToy"
      },
      "outputs": [],
      "source": [
        "# libraries!\n",
        "import numpy as np      # numpy is Python's \"array\" library\n",
        "import pandas as pd     # Pandas is Python's \"data\" library (\"dataframe\" == spreadsheet)"
      ]
    },
    {
      "cell_type": "code",
      "execution_count": null,
      "metadata": {
        "id": "LvKIZtNFbToy",
        "colab": {
          "base_uri": "https://localhost:8080/"
        },
        "outputId": "71a5c496-1218-4282-a0cd-79adae06565f"
      },
      "outputs": [
        {
          "output_type": "stream",
          "name": "stdout",
          "text": [
            "iris_cleaned.csv : file read into a pandas dataframe.\n"
          ]
        }
      ],
      "source": [
        "# let's read in our flower data...\n",
        "#\n",
        "# be sure to upload iris_cleaned.csv, which should be in the zip archive for this week\n",
        "#\n",
        "filename = 'iris_cleaned.csv'\n",
        "df_tidy = pd.read_csv(filename)      # encoding = \"utf-8\", \"latin1\"\n",
        "print(f\"{filename} : file read into a pandas dataframe.\")"
      ]
    },
    {
      "cell_type": "code",
      "execution_count": null,
      "metadata": {
        "id": "VNRqSL8jbToz",
        "colab": {
          "base_uri": "https://localhost:8080/",
          "height": 684
        },
        "outputId": "6596dbda-7d11-4694-97d2-8da1313d855a"
      },
      "outputs": [
        {
          "output_type": "stream",
          "name": "stdout",
          "text": [
            "df_tidy.shape is (141, 6)\n",
            "\n",
            "<class 'pandas.core.frame.DataFrame'>\n",
            "Index: 141 entries, 0 to 140\n",
            "Data columns (total 6 columns):\n",
            " #   Column    Non-Null Count  Dtype  \n",
            "---  ------    --------------  -----  \n",
            " 0   sepallen  141 non-null    float64\n",
            " 1   sepalwid  141 non-null    float64\n",
            " 2   petallen  141 non-null    float64\n",
            " 3   petalwid  141 non-null    float64\n",
            " 4   irisname  141 non-null    object \n",
            " 5   irisnum   141 non-null    int64  \n",
            "dtypes: float64(4), int64(1), object(1)\n",
            "memory usage: 7.7+ KB\n"
          ]
        },
        {
          "output_type": "execute_result",
          "data": {
            "text/plain": [
              "     sepallen  sepalwid  petallen  petalwid   irisname  irisnum\n",
              "0         4.6       3.6       1.0       0.2     setosa        0\n",
              "1         4.3       3.0       1.1       0.1     setosa        0\n",
              "2         5.0       3.2       1.2       0.2     setosa        0\n",
              "3         5.8       4.0       1.2       0.2     setosa        0\n",
              "4         4.4       3.0       1.3       0.2     setosa        0\n",
              "..        ...       ...       ...       ...        ...      ...\n",
              "136       7.9       3.8       6.4       2.0  virginica        2\n",
              "137       7.6       3.0       6.6       2.1  virginica        2\n",
              "138       7.7       3.8       6.7       2.2  virginica        2\n",
              "139       7.7       2.8       6.7       2.0  virginica        2\n",
              "140       7.7       2.6       6.9       2.3  virginica        2\n",
              "\n",
              "[141 rows x 6 columns]"
            ],
            "text/html": [
              "\n",
              "  <div id=\"df-9476c9a8-26a8-4c6f-99a2-df37d4ad37d9\" class=\"colab-df-container\">\n",
              "    <div>\n",
              "<style scoped>\n",
              "    .dataframe tbody tr th:only-of-type {\n",
              "        vertical-align: middle;\n",
              "    }\n",
              "\n",
              "    .dataframe tbody tr th {\n",
              "        vertical-align: top;\n",
              "    }\n",
              "\n",
              "    .dataframe thead th {\n",
              "        text-align: right;\n",
              "    }\n",
              "</style>\n",
              "<table border=\"1\" class=\"dataframe\">\n",
              "  <thead>\n",
              "    <tr style=\"text-align: right;\">\n",
              "      <th></th>\n",
              "      <th>sepallen</th>\n",
              "      <th>sepalwid</th>\n",
              "      <th>petallen</th>\n",
              "      <th>petalwid</th>\n",
              "      <th>irisname</th>\n",
              "      <th>irisnum</th>\n",
              "    </tr>\n",
              "  </thead>\n",
              "  <tbody>\n",
              "    <tr>\n",
              "      <th>0</th>\n",
              "      <td>4.6</td>\n",
              "      <td>3.6</td>\n",
              "      <td>1.0</td>\n",
              "      <td>0.2</td>\n",
              "      <td>setosa</td>\n",
              "      <td>0</td>\n",
              "    </tr>\n",
              "    <tr>\n",
              "      <th>1</th>\n",
              "      <td>4.3</td>\n",
              "      <td>3.0</td>\n",
              "      <td>1.1</td>\n",
              "      <td>0.1</td>\n",
              "      <td>setosa</td>\n",
              "      <td>0</td>\n",
              "    </tr>\n",
              "    <tr>\n",
              "      <th>2</th>\n",
              "      <td>5.0</td>\n",
              "      <td>3.2</td>\n",
              "      <td>1.2</td>\n",
              "      <td>0.2</td>\n",
              "      <td>setosa</td>\n",
              "      <td>0</td>\n",
              "    </tr>\n",
              "    <tr>\n",
              "      <th>3</th>\n",
              "      <td>5.8</td>\n",
              "      <td>4.0</td>\n",
              "      <td>1.2</td>\n",
              "      <td>0.2</td>\n",
              "      <td>setosa</td>\n",
              "      <td>0</td>\n",
              "    </tr>\n",
              "    <tr>\n",
              "      <th>4</th>\n",
              "      <td>4.4</td>\n",
              "      <td>3.0</td>\n",
              "      <td>1.3</td>\n",
              "      <td>0.2</td>\n",
              "      <td>setosa</td>\n",
              "      <td>0</td>\n",
              "    </tr>\n",
              "    <tr>\n",
              "      <th>...</th>\n",
              "      <td>...</td>\n",
              "      <td>...</td>\n",
              "      <td>...</td>\n",
              "      <td>...</td>\n",
              "      <td>...</td>\n",
              "      <td>...</td>\n",
              "    </tr>\n",
              "    <tr>\n",
              "      <th>136</th>\n",
              "      <td>7.9</td>\n",
              "      <td>3.8</td>\n",
              "      <td>6.4</td>\n",
              "      <td>2.0</td>\n",
              "      <td>virginica</td>\n",
              "      <td>2</td>\n",
              "    </tr>\n",
              "    <tr>\n",
              "      <th>137</th>\n",
              "      <td>7.6</td>\n",
              "      <td>3.0</td>\n",
              "      <td>6.6</td>\n",
              "      <td>2.1</td>\n",
              "      <td>virginica</td>\n",
              "      <td>2</td>\n",
              "    </tr>\n",
              "    <tr>\n",
              "      <th>138</th>\n",
              "      <td>7.7</td>\n",
              "      <td>3.8</td>\n",
              "      <td>6.7</td>\n",
              "      <td>2.2</td>\n",
              "      <td>virginica</td>\n",
              "      <td>2</td>\n",
              "    </tr>\n",
              "    <tr>\n",
              "      <th>139</th>\n",
              "      <td>7.7</td>\n",
              "      <td>2.8</td>\n",
              "      <td>6.7</td>\n",
              "      <td>2.0</td>\n",
              "      <td>virginica</td>\n",
              "      <td>2</td>\n",
              "    </tr>\n",
              "    <tr>\n",
              "      <th>140</th>\n",
              "      <td>7.7</td>\n",
              "      <td>2.6</td>\n",
              "      <td>6.9</td>\n",
              "      <td>2.3</td>\n",
              "      <td>virginica</td>\n",
              "      <td>2</td>\n",
              "    </tr>\n",
              "  </tbody>\n",
              "</table>\n",
              "<p>141 rows × 6 columns</p>\n",
              "</div>\n",
              "    <div class=\"colab-df-buttons\">\n",
              "\n",
              "  <div class=\"colab-df-container\">\n",
              "    <button class=\"colab-df-convert\" onclick=\"convertToInteractive('df-9476c9a8-26a8-4c6f-99a2-df37d4ad37d9')\"\n",
              "            title=\"Convert this dataframe to an interactive table.\"\n",
              "            style=\"display:none;\">\n",
              "\n",
              "  <svg xmlns=\"http://www.w3.org/2000/svg\" height=\"24px\" viewBox=\"0 -960 960 960\">\n",
              "    <path d=\"M120-120v-720h720v720H120Zm60-500h600v-160H180v160Zm220 220h160v-160H400v160Zm0 220h160v-160H400v160ZM180-400h160v-160H180v160Zm440 0h160v-160H620v160ZM180-180h160v-160H180v160Zm440 0h160v-160H620v160Z\"/>\n",
              "  </svg>\n",
              "    </button>\n",
              "\n",
              "  <style>\n",
              "    .colab-df-container {\n",
              "      display:flex;\n",
              "      gap: 12px;\n",
              "    }\n",
              "\n",
              "    .colab-df-convert {\n",
              "      background-color: #E8F0FE;\n",
              "      border: none;\n",
              "      border-radius: 50%;\n",
              "      cursor: pointer;\n",
              "      display: none;\n",
              "      fill: #1967D2;\n",
              "      height: 32px;\n",
              "      padding: 0 0 0 0;\n",
              "      width: 32px;\n",
              "    }\n",
              "\n",
              "    .colab-df-convert:hover {\n",
              "      background-color: #E2EBFA;\n",
              "      box-shadow: 0px 1px 2px rgba(60, 64, 67, 0.3), 0px 1px 3px 1px rgba(60, 64, 67, 0.15);\n",
              "      fill: #174EA6;\n",
              "    }\n",
              "\n",
              "    .colab-df-buttons div {\n",
              "      margin-bottom: 4px;\n",
              "    }\n",
              "\n",
              "    [theme=dark] .colab-df-convert {\n",
              "      background-color: #3B4455;\n",
              "      fill: #D2E3FC;\n",
              "    }\n",
              "\n",
              "    [theme=dark] .colab-df-convert:hover {\n",
              "      background-color: #434B5C;\n",
              "      box-shadow: 0px 1px 3px 1px rgba(0, 0, 0, 0.15);\n",
              "      filter: drop-shadow(0px 1px 2px rgba(0, 0, 0, 0.3));\n",
              "      fill: #FFFFFF;\n",
              "    }\n",
              "  </style>\n",
              "\n",
              "    <script>\n",
              "      const buttonEl =\n",
              "        document.querySelector('#df-9476c9a8-26a8-4c6f-99a2-df37d4ad37d9 button.colab-df-convert');\n",
              "      buttonEl.style.display =\n",
              "        google.colab.kernel.accessAllowed ? 'block' : 'none';\n",
              "\n",
              "      async function convertToInteractive(key) {\n",
              "        const element = document.querySelector('#df-9476c9a8-26a8-4c6f-99a2-df37d4ad37d9');\n",
              "        const dataTable =\n",
              "          await google.colab.kernel.invokeFunction('convertToInteractive',\n",
              "                                                    [key], {});\n",
              "        if (!dataTable) return;\n",
              "\n",
              "        const docLinkHtml = 'Like what you see? Visit the ' +\n",
              "          '<a target=\"_blank\" href=https://colab.research.google.com/notebooks/data_table.ipynb>data table notebook</a>'\n",
              "          + ' to learn more about interactive tables.';\n",
              "        element.innerHTML = '';\n",
              "        dataTable['output_type'] = 'display_data';\n",
              "        await google.colab.output.renderOutput(dataTable, element);\n",
              "        const docLink = document.createElement('div');\n",
              "        docLink.innerHTML = docLinkHtml;\n",
              "        element.appendChild(docLink);\n",
              "      }\n",
              "    </script>\n",
              "  </div>\n",
              "\n",
              "\n",
              "<div id=\"df-7ad30074-b196-4495-9355-5ab39b9740cf\">\n",
              "  <button class=\"colab-df-quickchart\" onclick=\"quickchart('df-7ad30074-b196-4495-9355-5ab39b9740cf')\"\n",
              "            title=\"Suggest charts\"\n",
              "            style=\"display:none;\">\n",
              "\n",
              "<svg xmlns=\"http://www.w3.org/2000/svg\" height=\"24px\"viewBox=\"0 0 24 24\"\n",
              "     width=\"24px\">\n",
              "    <g>\n",
              "        <path d=\"M19 3H5c-1.1 0-2 .9-2 2v14c0 1.1.9 2 2 2h14c1.1 0 2-.9 2-2V5c0-1.1-.9-2-2-2zM9 17H7v-7h2v7zm4 0h-2V7h2v10zm4 0h-2v-4h2v4z\"/>\n",
              "    </g>\n",
              "</svg>\n",
              "  </button>\n",
              "\n",
              "<style>\n",
              "  .colab-df-quickchart {\n",
              "      --bg-color: #E8F0FE;\n",
              "      --fill-color: #1967D2;\n",
              "      --hover-bg-color: #E2EBFA;\n",
              "      --hover-fill-color: #174EA6;\n",
              "      --disabled-fill-color: #AAA;\n",
              "      --disabled-bg-color: #DDD;\n",
              "  }\n",
              "\n",
              "  [theme=dark] .colab-df-quickchart {\n",
              "      --bg-color: #3B4455;\n",
              "      --fill-color: #D2E3FC;\n",
              "      --hover-bg-color: #434B5C;\n",
              "      --hover-fill-color: #FFFFFF;\n",
              "      --disabled-bg-color: #3B4455;\n",
              "      --disabled-fill-color: #666;\n",
              "  }\n",
              "\n",
              "  .colab-df-quickchart {\n",
              "    background-color: var(--bg-color);\n",
              "    border: none;\n",
              "    border-radius: 50%;\n",
              "    cursor: pointer;\n",
              "    display: none;\n",
              "    fill: var(--fill-color);\n",
              "    height: 32px;\n",
              "    padding: 0;\n",
              "    width: 32px;\n",
              "  }\n",
              "\n",
              "  .colab-df-quickchart:hover {\n",
              "    background-color: var(--hover-bg-color);\n",
              "    box-shadow: 0 1px 2px rgba(60, 64, 67, 0.3), 0 1px 3px 1px rgba(60, 64, 67, 0.15);\n",
              "    fill: var(--button-hover-fill-color);\n",
              "  }\n",
              "\n",
              "  .colab-df-quickchart-complete:disabled,\n",
              "  .colab-df-quickchart-complete:disabled:hover {\n",
              "    background-color: var(--disabled-bg-color);\n",
              "    fill: var(--disabled-fill-color);\n",
              "    box-shadow: none;\n",
              "  }\n",
              "\n",
              "  .colab-df-spinner {\n",
              "    border: 2px solid var(--fill-color);\n",
              "    border-color: transparent;\n",
              "    border-bottom-color: var(--fill-color);\n",
              "    animation:\n",
              "      spin 1s steps(1) infinite;\n",
              "  }\n",
              "\n",
              "  @keyframes spin {\n",
              "    0% {\n",
              "      border-color: transparent;\n",
              "      border-bottom-color: var(--fill-color);\n",
              "      border-left-color: var(--fill-color);\n",
              "    }\n",
              "    20% {\n",
              "      border-color: transparent;\n",
              "      border-left-color: var(--fill-color);\n",
              "      border-top-color: var(--fill-color);\n",
              "    }\n",
              "    30% {\n",
              "      border-color: transparent;\n",
              "      border-left-color: var(--fill-color);\n",
              "      border-top-color: var(--fill-color);\n",
              "      border-right-color: var(--fill-color);\n",
              "    }\n",
              "    40% {\n",
              "      border-color: transparent;\n",
              "      border-right-color: var(--fill-color);\n",
              "      border-top-color: var(--fill-color);\n",
              "    }\n",
              "    60% {\n",
              "      border-color: transparent;\n",
              "      border-right-color: var(--fill-color);\n",
              "    }\n",
              "    80% {\n",
              "      border-color: transparent;\n",
              "      border-right-color: var(--fill-color);\n",
              "      border-bottom-color: var(--fill-color);\n",
              "    }\n",
              "    90% {\n",
              "      border-color: transparent;\n",
              "      border-bottom-color: var(--fill-color);\n",
              "    }\n",
              "  }\n",
              "</style>\n",
              "\n",
              "  <script>\n",
              "    async function quickchart(key) {\n",
              "      const quickchartButtonEl =\n",
              "        document.querySelector('#' + key + ' button');\n",
              "      quickchartButtonEl.disabled = true;  // To prevent multiple clicks.\n",
              "      quickchartButtonEl.classList.add('colab-df-spinner');\n",
              "      try {\n",
              "        const charts = await google.colab.kernel.invokeFunction(\n",
              "            'suggestCharts', [key], {});\n",
              "      } catch (error) {\n",
              "        console.error('Error during call to suggestCharts:', error);\n",
              "      }\n",
              "      quickchartButtonEl.classList.remove('colab-df-spinner');\n",
              "      quickchartButtonEl.classList.add('colab-df-quickchart-complete');\n",
              "    }\n",
              "    (() => {\n",
              "      let quickchartButtonEl =\n",
              "        document.querySelector('#df-7ad30074-b196-4495-9355-5ab39b9740cf button');\n",
              "      quickchartButtonEl.style.display =\n",
              "        google.colab.kernel.accessAllowed ? 'block' : 'none';\n",
              "    })();\n",
              "  </script>\n",
              "</div>\n",
              "\n",
              "  <div id=\"id_053936b9-7c04-466e-97d6-7315472d10bc\">\n",
              "    <style>\n",
              "      .colab-df-generate {\n",
              "        background-color: #E8F0FE;\n",
              "        border: none;\n",
              "        border-radius: 50%;\n",
              "        cursor: pointer;\n",
              "        display: none;\n",
              "        fill: #1967D2;\n",
              "        height: 32px;\n",
              "        padding: 0 0 0 0;\n",
              "        width: 32px;\n",
              "      }\n",
              "\n",
              "      .colab-df-generate:hover {\n",
              "        background-color: #E2EBFA;\n",
              "        box-shadow: 0px 1px 2px rgba(60, 64, 67, 0.3), 0px 1px 3px 1px rgba(60, 64, 67, 0.15);\n",
              "        fill: #174EA6;\n",
              "      }\n",
              "\n",
              "      [theme=dark] .colab-df-generate {\n",
              "        background-color: #3B4455;\n",
              "        fill: #D2E3FC;\n",
              "      }\n",
              "\n",
              "      [theme=dark] .colab-df-generate:hover {\n",
              "        background-color: #434B5C;\n",
              "        box-shadow: 0px 1px 3px 1px rgba(0, 0, 0, 0.15);\n",
              "        filter: drop-shadow(0px 1px 2px rgba(0, 0, 0, 0.3));\n",
              "        fill: #FFFFFF;\n",
              "      }\n",
              "    </style>\n",
              "    <button class=\"colab-df-generate\" onclick=\"generateWithVariable('df_tidy')\"\n",
              "            title=\"Generate code using this dataframe.\"\n",
              "            style=\"display:none;\">\n",
              "\n",
              "  <svg xmlns=\"http://www.w3.org/2000/svg\" height=\"24px\"viewBox=\"0 0 24 24\"\n",
              "       width=\"24px\">\n",
              "    <path d=\"M7,19H8.4L18.45,9,17,7.55,7,17.6ZM5,21V16.75L18.45,3.32a2,2,0,0,1,2.83,0l1.4,1.43a1.91,1.91,0,0,1,.58,1.4,1.91,1.91,0,0,1-.58,1.4L9.25,21ZM18.45,9,17,7.55Zm-12,3A5.31,5.31,0,0,0,4.9,8.1,5.31,5.31,0,0,0,1,6.5,5.31,5.31,0,0,0,4.9,4.9,5.31,5.31,0,0,0,6.5,1,5.31,5.31,0,0,0,8.1,4.9,5.31,5.31,0,0,0,12,6.5,5.46,5.46,0,0,0,6.5,12Z\"/>\n",
              "  </svg>\n",
              "    </button>\n",
              "    <script>\n",
              "      (() => {\n",
              "      const buttonEl =\n",
              "        document.querySelector('#id_053936b9-7c04-466e-97d6-7315472d10bc button.colab-df-generate');\n",
              "      buttonEl.style.display =\n",
              "        google.colab.kernel.accessAllowed ? 'block' : 'none';\n",
              "\n",
              "      buttonEl.onclick = () => {\n",
              "        google.colab.notebook.generateWithVariable('df_tidy');\n",
              "      }\n",
              "      })();\n",
              "    </script>\n",
              "  </div>\n",
              "\n",
              "    </div>\n",
              "  </div>\n"
            ],
            "application/vnd.google.colaboratory.intrinsic+json": {
              "type": "dataframe",
              "variable_name": "df_tidy",
              "summary": "{\n  \"name\": \"df_tidy\",\n  \"rows\": 141,\n  \"fields\": [\n    {\n      \"column\": \"sepallen\",\n      \"properties\": {\n        \"dtype\": \"number\",\n        \"std\": 0.8430285059257748,\n        \"min\": 4.3,\n        \"max\": 7.9,\n        \"num_unique_values\": 35,\n        \"samples\": [\n          6.8,\n          5.3,\n          6.2\n        ],\n        \"semantic_type\": \"\",\n        \"description\": \"\"\n      }\n    },\n    {\n      \"column\": \"sepalwid\",\n      \"properties\": {\n        \"dtype\": \"number\",\n        \"std\": 0.4325310162757426,\n        \"min\": 2.0,\n        \"max\": 4.4,\n        \"num_unique_values\": 22,\n        \"samples\": [\n          3.6,\n          3.7,\n          3.4\n        ],\n        \"semantic_type\": \"\",\n        \"description\": \"\"\n      }\n    },\n    {\n      \"column\": \"petallen\",\n      \"properties\": {\n        \"dtype\": \"number\",\n        \"std\": 1.774728884641754,\n        \"min\": 1.0,\n        \"max\": 6.9,\n        \"num_unique_values\": 42,\n        \"samples\": [\n          5.0,\n          3.7,\n          1.9\n        ],\n        \"semantic_type\": \"\",\n        \"description\": \"\"\n      }\n    },\n    {\n      \"column\": \"petalwid\",\n      \"properties\": {\n        \"dtype\": \"number\",\n        \"std\": 0.7639569310520933,\n        \"min\": 0.1,\n        \"max\": 2.5,\n        \"num_unique_values\": 22,\n        \"samples\": [\n          0.2,\n          1.8,\n          1.3\n        ],\n        \"semantic_type\": \"\",\n        \"description\": \"\"\n      }\n    },\n    {\n      \"column\": \"irisname\",\n      \"properties\": {\n        \"dtype\": \"category\",\n        \"num_unique_values\": 3,\n        \"samples\": [\n          \"setosa\",\n          \"versicolor\",\n          \"virginica\"\n        ],\n        \"semantic_type\": \"\",\n        \"description\": \"\"\n      }\n    },\n    {\n      \"column\": \"irisnum\",\n      \"properties\": {\n        \"dtype\": \"number\",\n        \"std\": 0,\n        \"min\": 0,\n        \"max\": 2,\n        \"num_unique_values\": 3,\n        \"samples\": [\n          0,\n          1,\n          2\n        ],\n        \"semantic_type\": \"\",\n        \"description\": \"\"\n      }\n    }\n  ]\n}"
            }
          },
          "metadata": {},
          "execution_count": 98
        }
      ],
      "source": [
        "#\n",
        "# different version vary on how to see all rows (adapt to suit your system!)\n",
        "#\n",
        "print(f\"df_tidy.shape is {df_tidy.shape}\\n\")\n",
        "df_tidy.info()  # prints column information\n",
        "\n",
        "# easiest way to print all rows:   print(df_tidy.to_string())\n",
        "# or, in table form:\n",
        "# pd.set_option(\"display.min_rows\",150)  # 10 is default\n",
        "# pd.set_option(\"display.max_rows\",150)  # 10 is default\n",
        "# or, the deafult:\n",
        "df_tidy\n"
      ]
    },
    {
      "cell_type": "code",
      "execution_count": null,
      "metadata": {
        "id": "81wlce-sbToz",
        "colab": {
          "base_uri": "https://localhost:8080/",
          "height": 423
        },
        "outputId": "ba100574-beb6-448d-b845-b642d39f1789"
      },
      "outputs": [
        {
          "output_type": "execute_result",
          "data": {
            "text/plain": [
              "     sepallen  sepalwid  petallen  petalwid  irisnum\n",
              "0         4.6       3.6       1.0       0.2        0\n",
              "1         4.3       3.0       1.1       0.1        0\n",
              "2         5.0       3.2       1.2       0.2        0\n",
              "3         5.8       4.0       1.2       0.2        0\n",
              "4         4.4       3.0       1.3       0.2        0\n",
              "..        ...       ...       ...       ...      ...\n",
              "136       7.9       3.8       6.4       2.0        2\n",
              "137       7.6       3.0       6.6       2.1        2\n",
              "138       7.7       3.8       6.7       2.2        2\n",
              "139       7.7       2.8       6.7       2.0        2\n",
              "140       7.7       2.6       6.9       2.3        2\n",
              "\n",
              "[141 rows x 5 columns]"
            ],
            "text/html": [
              "\n",
              "  <div id=\"df-a6ed82d6-2540-476a-a95e-42c1e693f575\" class=\"colab-df-container\">\n",
              "    <div>\n",
              "<style scoped>\n",
              "    .dataframe tbody tr th:only-of-type {\n",
              "        vertical-align: middle;\n",
              "    }\n",
              "\n",
              "    .dataframe tbody tr th {\n",
              "        vertical-align: top;\n",
              "    }\n",
              "\n",
              "    .dataframe thead th {\n",
              "        text-align: right;\n",
              "    }\n",
              "</style>\n",
              "<table border=\"1\" class=\"dataframe\">\n",
              "  <thead>\n",
              "    <tr style=\"text-align: right;\">\n",
              "      <th></th>\n",
              "      <th>sepallen</th>\n",
              "      <th>sepalwid</th>\n",
              "      <th>petallen</th>\n",
              "      <th>petalwid</th>\n",
              "      <th>irisnum</th>\n",
              "    </tr>\n",
              "  </thead>\n",
              "  <tbody>\n",
              "    <tr>\n",
              "      <th>0</th>\n",
              "      <td>4.6</td>\n",
              "      <td>3.6</td>\n",
              "      <td>1.0</td>\n",
              "      <td>0.2</td>\n",
              "      <td>0</td>\n",
              "    </tr>\n",
              "    <tr>\n",
              "      <th>1</th>\n",
              "      <td>4.3</td>\n",
              "      <td>3.0</td>\n",
              "      <td>1.1</td>\n",
              "      <td>0.1</td>\n",
              "      <td>0</td>\n",
              "    </tr>\n",
              "    <tr>\n",
              "      <th>2</th>\n",
              "      <td>5.0</td>\n",
              "      <td>3.2</td>\n",
              "      <td>1.2</td>\n",
              "      <td>0.2</td>\n",
              "      <td>0</td>\n",
              "    </tr>\n",
              "    <tr>\n",
              "      <th>3</th>\n",
              "      <td>5.8</td>\n",
              "      <td>4.0</td>\n",
              "      <td>1.2</td>\n",
              "      <td>0.2</td>\n",
              "      <td>0</td>\n",
              "    </tr>\n",
              "    <tr>\n",
              "      <th>4</th>\n",
              "      <td>4.4</td>\n",
              "      <td>3.0</td>\n",
              "      <td>1.3</td>\n",
              "      <td>0.2</td>\n",
              "      <td>0</td>\n",
              "    </tr>\n",
              "    <tr>\n",
              "      <th>...</th>\n",
              "      <td>...</td>\n",
              "      <td>...</td>\n",
              "      <td>...</td>\n",
              "      <td>...</td>\n",
              "      <td>...</td>\n",
              "    </tr>\n",
              "    <tr>\n",
              "      <th>136</th>\n",
              "      <td>7.9</td>\n",
              "      <td>3.8</td>\n",
              "      <td>6.4</td>\n",
              "      <td>2.0</td>\n",
              "      <td>2</td>\n",
              "    </tr>\n",
              "    <tr>\n",
              "      <th>137</th>\n",
              "      <td>7.6</td>\n",
              "      <td>3.0</td>\n",
              "      <td>6.6</td>\n",
              "      <td>2.1</td>\n",
              "      <td>2</td>\n",
              "    </tr>\n",
              "    <tr>\n",
              "      <th>138</th>\n",
              "      <td>7.7</td>\n",
              "      <td>3.8</td>\n",
              "      <td>6.7</td>\n",
              "      <td>2.2</td>\n",
              "      <td>2</td>\n",
              "    </tr>\n",
              "    <tr>\n",
              "      <th>139</th>\n",
              "      <td>7.7</td>\n",
              "      <td>2.8</td>\n",
              "      <td>6.7</td>\n",
              "      <td>2.0</td>\n",
              "      <td>2</td>\n",
              "    </tr>\n",
              "    <tr>\n",
              "      <th>140</th>\n",
              "      <td>7.7</td>\n",
              "      <td>2.6</td>\n",
              "      <td>6.9</td>\n",
              "      <td>2.3</td>\n",
              "      <td>2</td>\n",
              "    </tr>\n",
              "  </tbody>\n",
              "</table>\n",
              "<p>141 rows × 5 columns</p>\n",
              "</div>\n",
              "    <div class=\"colab-df-buttons\">\n",
              "\n",
              "  <div class=\"colab-df-container\">\n",
              "    <button class=\"colab-df-convert\" onclick=\"convertToInteractive('df-a6ed82d6-2540-476a-a95e-42c1e693f575')\"\n",
              "            title=\"Convert this dataframe to an interactive table.\"\n",
              "            style=\"display:none;\">\n",
              "\n",
              "  <svg xmlns=\"http://www.w3.org/2000/svg\" height=\"24px\" viewBox=\"0 -960 960 960\">\n",
              "    <path d=\"M120-120v-720h720v720H120Zm60-500h600v-160H180v160Zm220 220h160v-160H400v160Zm0 220h160v-160H400v160ZM180-400h160v-160H180v160Zm440 0h160v-160H620v160ZM180-180h160v-160H180v160Zm440 0h160v-160H620v160Z\"/>\n",
              "  </svg>\n",
              "    </button>\n",
              "\n",
              "  <style>\n",
              "    .colab-df-container {\n",
              "      display:flex;\n",
              "      gap: 12px;\n",
              "    }\n",
              "\n",
              "    .colab-df-convert {\n",
              "      background-color: #E8F0FE;\n",
              "      border: none;\n",
              "      border-radius: 50%;\n",
              "      cursor: pointer;\n",
              "      display: none;\n",
              "      fill: #1967D2;\n",
              "      height: 32px;\n",
              "      padding: 0 0 0 0;\n",
              "      width: 32px;\n",
              "    }\n",
              "\n",
              "    .colab-df-convert:hover {\n",
              "      background-color: #E2EBFA;\n",
              "      box-shadow: 0px 1px 2px rgba(60, 64, 67, 0.3), 0px 1px 3px 1px rgba(60, 64, 67, 0.15);\n",
              "      fill: #174EA6;\n",
              "    }\n",
              "\n",
              "    .colab-df-buttons div {\n",
              "      margin-bottom: 4px;\n",
              "    }\n",
              "\n",
              "    [theme=dark] .colab-df-convert {\n",
              "      background-color: #3B4455;\n",
              "      fill: #D2E3FC;\n",
              "    }\n",
              "\n",
              "    [theme=dark] .colab-df-convert:hover {\n",
              "      background-color: #434B5C;\n",
              "      box-shadow: 0px 1px 3px 1px rgba(0, 0, 0, 0.15);\n",
              "      filter: drop-shadow(0px 1px 2px rgba(0, 0, 0, 0.3));\n",
              "      fill: #FFFFFF;\n",
              "    }\n",
              "  </style>\n",
              "\n",
              "    <script>\n",
              "      const buttonEl =\n",
              "        document.querySelector('#df-a6ed82d6-2540-476a-a95e-42c1e693f575 button.colab-df-convert');\n",
              "      buttonEl.style.display =\n",
              "        google.colab.kernel.accessAllowed ? 'block' : 'none';\n",
              "\n",
              "      async function convertToInteractive(key) {\n",
              "        const element = document.querySelector('#df-a6ed82d6-2540-476a-a95e-42c1e693f575');\n",
              "        const dataTable =\n",
              "          await google.colab.kernel.invokeFunction('convertToInteractive',\n",
              "                                                    [key], {});\n",
              "        if (!dataTable) return;\n",
              "\n",
              "        const docLinkHtml = 'Like what you see? Visit the ' +\n",
              "          '<a target=\"_blank\" href=https://colab.research.google.com/notebooks/data_table.ipynb>data table notebook</a>'\n",
              "          + ' to learn more about interactive tables.';\n",
              "        element.innerHTML = '';\n",
              "        dataTable['output_type'] = 'display_data';\n",
              "        await google.colab.output.renderOutput(dataTable, element);\n",
              "        const docLink = document.createElement('div');\n",
              "        docLink.innerHTML = docLinkHtml;\n",
              "        element.appendChild(docLink);\n",
              "      }\n",
              "    </script>\n",
              "  </div>\n",
              "\n",
              "\n",
              "<div id=\"df-8e9b8840-6427-4d66-af13-9784a8b3a0d5\">\n",
              "  <button class=\"colab-df-quickchart\" onclick=\"quickchart('df-8e9b8840-6427-4d66-af13-9784a8b3a0d5')\"\n",
              "            title=\"Suggest charts\"\n",
              "            style=\"display:none;\">\n",
              "\n",
              "<svg xmlns=\"http://www.w3.org/2000/svg\" height=\"24px\"viewBox=\"0 0 24 24\"\n",
              "     width=\"24px\">\n",
              "    <g>\n",
              "        <path d=\"M19 3H5c-1.1 0-2 .9-2 2v14c0 1.1.9 2 2 2h14c1.1 0 2-.9 2-2V5c0-1.1-.9-2-2-2zM9 17H7v-7h2v7zm4 0h-2V7h2v10zm4 0h-2v-4h2v4z\"/>\n",
              "    </g>\n",
              "</svg>\n",
              "  </button>\n",
              "\n",
              "<style>\n",
              "  .colab-df-quickchart {\n",
              "      --bg-color: #E8F0FE;\n",
              "      --fill-color: #1967D2;\n",
              "      --hover-bg-color: #E2EBFA;\n",
              "      --hover-fill-color: #174EA6;\n",
              "      --disabled-fill-color: #AAA;\n",
              "      --disabled-bg-color: #DDD;\n",
              "  }\n",
              "\n",
              "  [theme=dark] .colab-df-quickchart {\n",
              "      --bg-color: #3B4455;\n",
              "      --fill-color: #D2E3FC;\n",
              "      --hover-bg-color: #434B5C;\n",
              "      --hover-fill-color: #FFFFFF;\n",
              "      --disabled-bg-color: #3B4455;\n",
              "      --disabled-fill-color: #666;\n",
              "  }\n",
              "\n",
              "  .colab-df-quickchart {\n",
              "    background-color: var(--bg-color);\n",
              "    border: none;\n",
              "    border-radius: 50%;\n",
              "    cursor: pointer;\n",
              "    display: none;\n",
              "    fill: var(--fill-color);\n",
              "    height: 32px;\n",
              "    padding: 0;\n",
              "    width: 32px;\n",
              "  }\n",
              "\n",
              "  .colab-df-quickchart:hover {\n",
              "    background-color: var(--hover-bg-color);\n",
              "    box-shadow: 0 1px 2px rgba(60, 64, 67, 0.3), 0 1px 3px 1px rgba(60, 64, 67, 0.15);\n",
              "    fill: var(--button-hover-fill-color);\n",
              "  }\n",
              "\n",
              "  .colab-df-quickchart-complete:disabled,\n",
              "  .colab-df-quickchart-complete:disabled:hover {\n",
              "    background-color: var(--disabled-bg-color);\n",
              "    fill: var(--disabled-fill-color);\n",
              "    box-shadow: none;\n",
              "  }\n",
              "\n",
              "  .colab-df-spinner {\n",
              "    border: 2px solid var(--fill-color);\n",
              "    border-color: transparent;\n",
              "    border-bottom-color: var(--fill-color);\n",
              "    animation:\n",
              "      spin 1s steps(1) infinite;\n",
              "  }\n",
              "\n",
              "  @keyframes spin {\n",
              "    0% {\n",
              "      border-color: transparent;\n",
              "      border-bottom-color: var(--fill-color);\n",
              "      border-left-color: var(--fill-color);\n",
              "    }\n",
              "    20% {\n",
              "      border-color: transparent;\n",
              "      border-left-color: var(--fill-color);\n",
              "      border-top-color: var(--fill-color);\n",
              "    }\n",
              "    30% {\n",
              "      border-color: transparent;\n",
              "      border-left-color: var(--fill-color);\n",
              "      border-top-color: var(--fill-color);\n",
              "      border-right-color: var(--fill-color);\n",
              "    }\n",
              "    40% {\n",
              "      border-color: transparent;\n",
              "      border-right-color: var(--fill-color);\n",
              "      border-top-color: var(--fill-color);\n",
              "    }\n",
              "    60% {\n",
              "      border-color: transparent;\n",
              "      border-right-color: var(--fill-color);\n",
              "    }\n",
              "    80% {\n",
              "      border-color: transparent;\n",
              "      border-right-color: var(--fill-color);\n",
              "      border-bottom-color: var(--fill-color);\n",
              "    }\n",
              "    90% {\n",
              "      border-color: transparent;\n",
              "      border-bottom-color: var(--fill-color);\n",
              "    }\n",
              "  }\n",
              "</style>\n",
              "\n",
              "  <script>\n",
              "    async function quickchart(key) {\n",
              "      const quickchartButtonEl =\n",
              "        document.querySelector('#' + key + ' button');\n",
              "      quickchartButtonEl.disabled = true;  // To prevent multiple clicks.\n",
              "      quickchartButtonEl.classList.add('colab-df-spinner');\n",
              "      try {\n",
              "        const charts = await google.colab.kernel.invokeFunction(\n",
              "            'suggestCharts', [key], {});\n",
              "      } catch (error) {\n",
              "        console.error('Error during call to suggestCharts:', error);\n",
              "      }\n",
              "      quickchartButtonEl.classList.remove('colab-df-spinner');\n",
              "      quickchartButtonEl.classList.add('colab-df-quickchart-complete');\n",
              "    }\n",
              "    (() => {\n",
              "      let quickchartButtonEl =\n",
              "        document.querySelector('#df-8e9b8840-6427-4d66-af13-9784a8b3a0d5 button');\n",
              "      quickchartButtonEl.style.display =\n",
              "        google.colab.kernel.accessAllowed ? 'block' : 'none';\n",
              "    })();\n",
              "  </script>\n",
              "</div>\n",
              "\n",
              "  <div id=\"id_2412285d-e76b-4e27-b1b9-4bfc2307621d\">\n",
              "    <style>\n",
              "      .colab-df-generate {\n",
              "        background-color: #E8F0FE;\n",
              "        border: none;\n",
              "        border-radius: 50%;\n",
              "        cursor: pointer;\n",
              "        display: none;\n",
              "        fill: #1967D2;\n",
              "        height: 32px;\n",
              "        padding: 0 0 0 0;\n",
              "        width: 32px;\n",
              "      }\n",
              "\n",
              "      .colab-df-generate:hover {\n",
              "        background-color: #E2EBFA;\n",
              "        box-shadow: 0px 1px 2px rgba(60, 64, 67, 0.3), 0px 1px 3px 1px rgba(60, 64, 67, 0.15);\n",
              "        fill: #174EA6;\n",
              "      }\n",
              "\n",
              "      [theme=dark] .colab-df-generate {\n",
              "        background-color: #3B4455;\n",
              "        fill: #D2E3FC;\n",
              "      }\n",
              "\n",
              "      [theme=dark] .colab-df-generate:hover {\n",
              "        background-color: #434B5C;\n",
              "        box-shadow: 0px 1px 3px 1px rgba(0, 0, 0, 0.15);\n",
              "        filter: drop-shadow(0px 1px 2px rgba(0, 0, 0, 0.3));\n",
              "        fill: #FFFFFF;\n",
              "      }\n",
              "    </style>\n",
              "    <button class=\"colab-df-generate\" onclick=\"generateWithVariable('df_model1')\"\n",
              "            title=\"Generate code using this dataframe.\"\n",
              "            style=\"display:none;\">\n",
              "\n",
              "  <svg xmlns=\"http://www.w3.org/2000/svg\" height=\"24px\"viewBox=\"0 0 24 24\"\n",
              "       width=\"24px\">\n",
              "    <path d=\"M7,19H8.4L18.45,9,17,7.55,7,17.6ZM5,21V16.75L18.45,3.32a2,2,0,0,1,2.83,0l1.4,1.43a1.91,1.91,0,0,1,.58,1.4,1.91,1.91,0,0,1-.58,1.4L9.25,21ZM18.45,9,17,7.55Zm-12,3A5.31,5.31,0,0,0,4.9,8.1,5.31,5.31,0,0,0,1,6.5,5.31,5.31,0,0,0,4.9,4.9,5.31,5.31,0,0,0,6.5,1,5.31,5.31,0,0,0,8.1,4.9,5.31,5.31,0,0,0,12,6.5,5.46,5.46,0,0,0,6.5,12Z\"/>\n",
              "  </svg>\n",
              "    </button>\n",
              "    <script>\n",
              "      (() => {\n",
              "      const buttonEl =\n",
              "        document.querySelector('#id_2412285d-e76b-4e27-b1b9-4bfc2307621d button.colab-df-generate');\n",
              "      buttonEl.style.display =\n",
              "        google.colab.kernel.accessAllowed ? 'block' : 'none';\n",
              "\n",
              "      buttonEl.onclick = () => {\n",
              "        google.colab.notebook.generateWithVariable('df_model1');\n",
              "      }\n",
              "      })();\n",
              "    </script>\n",
              "  </div>\n",
              "\n",
              "    </div>\n",
              "  </div>\n"
            ],
            "application/vnd.google.colaboratory.intrinsic+json": {
              "type": "dataframe",
              "variable_name": "df_model1",
              "summary": "{\n  \"name\": \"df_model1\",\n  \"rows\": 141,\n  \"fields\": [\n    {\n      \"column\": \"sepallen\",\n      \"properties\": {\n        \"dtype\": \"number\",\n        \"std\": 0.8430285059257748,\n        \"min\": 4.3,\n        \"max\": 7.9,\n        \"num_unique_values\": 35,\n        \"samples\": [\n          6.8,\n          5.3,\n          6.2\n        ],\n        \"semantic_type\": \"\",\n        \"description\": \"\"\n      }\n    },\n    {\n      \"column\": \"sepalwid\",\n      \"properties\": {\n        \"dtype\": \"number\",\n        \"std\": 0.4325310162757426,\n        \"min\": 2.0,\n        \"max\": 4.4,\n        \"num_unique_values\": 22,\n        \"samples\": [\n          3.6,\n          3.7,\n          3.4\n        ],\n        \"semantic_type\": \"\",\n        \"description\": \"\"\n      }\n    },\n    {\n      \"column\": \"petallen\",\n      \"properties\": {\n        \"dtype\": \"number\",\n        \"std\": 1.774728884641754,\n        \"min\": 1.0,\n        \"max\": 6.9,\n        \"num_unique_values\": 42,\n        \"samples\": [\n          5.0,\n          3.7,\n          1.9\n        ],\n        \"semantic_type\": \"\",\n        \"description\": \"\"\n      }\n    },\n    {\n      \"column\": \"petalwid\",\n      \"properties\": {\n        \"dtype\": \"number\",\n        \"std\": 0.7639569310520933,\n        \"min\": 0.1,\n        \"max\": 2.5,\n        \"num_unique_values\": 22,\n        \"samples\": [\n          0.2,\n          1.8,\n          1.3\n        ],\n        \"semantic_type\": \"\",\n        \"description\": \"\"\n      }\n    },\n    {\n      \"column\": \"irisnum\",\n      \"properties\": {\n        \"dtype\": \"number\",\n        \"std\": 0,\n        \"min\": 0,\n        \"max\": 2,\n        \"num_unique_values\": 3,\n        \"samples\": [\n          0,\n          1,\n          2\n        ],\n        \"semantic_type\": \"\",\n        \"description\": \"\"\n      }\n    }\n  ]\n}"
            }
          },
          "metadata": {},
          "execution_count": 99
        }
      ],
      "source": [
        "#\n",
        "# All of the columns need to be numeric, we'll drop irisname\n",
        "ROW = 0\n",
        "COLUMN = 1\n",
        "df_model1 = df_tidy.drop( 'irisname', axis=COLUMN )\n",
        "df_model1"
      ]
    },
    {
      "cell_type": "code",
      "execution_count": null,
      "metadata": {
        "id": "_XU_DtKhbToz",
        "colab": {
          "base_uri": "https://localhost:8080/"
        },
        "outputId": "e05fb258-ff30-4d10-c779-80912f7d3e7d"
      },
      "outputs": [
        {
          "output_type": "stream",
          "name": "stdout",
          "text": [
            "COLUMNS is Index(['sepallen', 'sepalwid', 'petallen', 'petalwid', 'irisnum'], dtype='object')\n",
            "\n",
            "COLUMNS[0] is sepallen\n",
            "\n",
            "COL_INDEX is {'sepallen': 0, 'sepalwid': 1, 'petallen': 2, 'petalwid': 3, 'irisnum': 4}\n",
            "\n",
            "\n",
            "setosa maps to 0\n",
            "versicolor maps to 1\n",
            "virginica maps to 2\n"
          ]
        }
      ],
      "source": [
        "#\n",
        "# once we have all the columns we want, let's create an index of their names...\n",
        "\n",
        "#\n",
        "# Let's make sure we have all of our helpful variables in one place\n",
        "#       To be adapted if we drop/add more columns...\n",
        "#\n",
        "\n",
        "#\n",
        "# let's keep our column names in variables, for reference\n",
        "#\n",
        "COLUMNS = df_model1.columns            # \"list\" of columns\n",
        "print(f\"COLUMNS is {COLUMNS}\\n\")\n",
        "  # It's a \"pandas\" list, called an Index\n",
        "  # use it just as a Python list of strings:\n",
        "print(f\"COLUMNS[0] is {COLUMNS[0]}\\n\")\n",
        "\n",
        "# let's create a dictionary to look up any column index by name\n",
        "COL_INDEX = {}\n",
        "for i, name in enumerate(COLUMNS):\n",
        "    COL_INDEX[name] = i  # using the name (as key), look up the value (i)\n",
        "print(f\"COL_INDEX is {COL_INDEX}\\n\\n\")\n",
        "\n",
        "\n",
        "#\n",
        "# and our \"species\" names\n",
        "#\n",
        "\n",
        "# all of scikit-learn's ML routines need numbers, not strings\n",
        "#   ... even for categories/classifications (like species!)\n",
        "#   so, we will convert the flower-species to numbers:\n",
        "\n",
        "SPECIES = ['setosa','versicolor','virginica']   # int to str\n",
        "SPECIES_INDEX = {'setosa':0,'versicolor':1,'virginica':2}  # str to int\n",
        "\n",
        "# Let's try it out...\n",
        "for name in SPECIES:\n",
        "    print(f\"{name} maps to {SPECIES_INDEX[name]}\")"
      ]
    },
    {
      "cell_type": "code",
      "execution_count": null,
      "metadata": {
        "id": "qaZqveAJbTo0"
      },
      "outputs": [],
      "source": [
        "#\n",
        "# We _could_ reweight our columns...\n",
        "# For exmaple, if petalwid were \"worth\" 20x more than the others?\n",
        "#\n",
        "\n",
        "# df_model1['petalwid'] *= 20\n",
        "# df_model1\n",
        "\n",
        "#\n",
        "# With decision trees (and random forests), we don't need to\n",
        "#      adjust the \"exchange-rates\" among features\n",
        "#\n",
        "#      Instead, we let the various if/else branches separate\n",
        "#      the data into subsets that we _allow_ to be compared!\n",
        "#"
      ]
    },
    {
      "cell_type": "code",
      "execution_count": null,
      "metadata": {
        "id": "ICn0DTJ6bTo0",
        "colab": {
          "base_uri": "https://localhost:8080/"
        },
        "outputId": "1cab2b00-c5eb-4a08-f942-073177fea847"
      },
      "outputs": [
        {
          "output_type": "stream",
          "name": "stdout",
          "text": [
            "[[4.6 3.6 1.  0.2 0. ]\n",
            " [4.3 3.  1.1 0.1 0. ]\n",
            " [5.  3.2 1.2 0.2 0. ]\n",
            " [5.8 4.  1.2 0.2 0. ]\n",
            " [4.4 3.  1.3 0.2 0. ]]\n"
          ]
        }
      ],
      "source": [
        "#\n",
        "# let's convert our dataframe to a numpy array, named A\n",
        "#\n",
        "A = df_model1.to_numpy()  # convert to an array\n",
        "A = A.astype('float64')   # make sure it's all floating point\n",
        "print(A[:5])  # see the first 5 rows"
      ]
    },
    {
      "cell_type": "code",
      "execution_count": null,
      "metadata": {
        "id": "9jZQ9lYlbTo1",
        "colab": {
          "base_uri": "https://localhost:8080/"
        },
        "outputId": "98c72666-7d68-411f-98a6-150e39d866c3"
      },
      "outputs": [
        {
          "output_type": "stream",
          "name": "stdout",
          "text": [
            "\n",
            "The dataset has 141 rows and 5 cols\n"
          ]
        }
      ],
      "source": [
        "#\n",
        "# nice to have NUM_ROWS and NUM_COLS around\n",
        "#\n",
        "NUM_ROWS, NUM_COLS = A.shape\n",
        "print(f\"\\nThe dataset has {NUM_ROWS} rows and {NUM_COLS} cols\")"
      ]
    },
    {
      "cell_type": "code",
      "execution_count": null,
      "metadata": {
        "scrolled": true,
        "id": "uBE48OSrbTo1",
        "colab": {
          "base_uri": "https://localhost:8080/"
        },
        "outputId": "2db3c82c-ecdd-4642-de77-65c8164f5032"
      },
      "outputs": [
        {
          "output_type": "stream",
          "name": "stdout",
          "text": [
            "flower #140 is [7.7 2.6 6.9 2.3 2. ]\n",
            "  Its sepallen is 7.7\n",
            "  Its sepalwid is 2.6\n",
            "  Its petallen is 6.9\n",
            "  Its petalwid is 2.3\n",
            "  Its irisnum is 2.0\n",
            "  Its species is virginica (i.e., 2)\n"
          ]
        }
      ],
      "source": [
        "# let's use all our variables, to reinforce that we have\n",
        "# (1) their names...\n",
        "# (2) access and control over each...\n",
        "\n",
        "# choose a row index, n:\n",
        "n = 140\n",
        "print(f\"flower #{n} is {A[n]}\")\n",
        "\n",
        "for i in range(len(COLUMNS)):\n",
        "    colname = COLUMNS[i]\n",
        "    value = A[n][i]\n",
        "    print(f\"  Its {colname} is {value}\")\n",
        "\n",
        "species_index = COL_INDEX['irisnum']\n",
        "species_num = int(round(A[n][species_index]))\n",
        "species = SPECIES[species_num]\n",
        "print(f\"  Its species is {species} (i.e., {species_num})\")"
      ]
    },
    {
      "cell_type": "code",
      "execution_count": null,
      "metadata": {
        "id": "foWR2hd4bTo1",
        "colab": {
          "base_uri": "https://localhost:8080/"
        },
        "outputId": "bd275fe1-a6d5-45e6-d925-83aaca0af596"
      },
      "outputs": [
        {
          "output_type": "stream",
          "name": "stdout",
          "text": [
            "+++ Start of data definitions +++\n",
            "\n",
            "y_all (just the labels/species)   are \n",
            " [0. 0. 0. 0. 0. 0. 0. 0. 0. 0. 0. 0. 0. 0. 0. 0. 0. 0. 0. 0. 0. 0. 0. 0.\n",
            " 0. 0. 0. 0. 0. 0. 0. 0. 0. 0. 0. 0. 0. 0. 0. 0. 0. 0. 0. 0. 0. 0. 0. 1.\n",
            " 1. 1. 1. 1. 1. 1. 1. 1. 1. 1. 1. 1. 1. 1. 1. 1. 1. 1. 1. 1. 1. 1. 1. 1.\n",
            " 1. 1. 1. 1. 1. 1. 1. 1. 1. 1. 1. 1. 1. 1. 1. 1. 1. 1. 1. 1. 1. 2. 2. 2.\n",
            " 2. 2. 2. 2. 2. 2. 2. 2. 2. 2. 2. 2. 2. 2. 2. 2. 2. 2. 2. 2. 2. 2. 2. 2.\n",
            " 2. 2. 2. 2. 2. 2. 2. 2. 2. 2. 2. 2. 2. 2. 2. 2. 2. 2. 2. 2. 2.]\n",
            "X_all (just the features, first few rows) are \n",
            " [[4.6 3.6 1.  0.2]\n",
            " [4.3 3.  1.1 0.1]\n",
            " [5.  3.2 1.2 0.2]\n",
            " [5.8 4.  1.2 0.2]\n",
            " [4.4 3.  1.3 0.2]]\n"
          ]
        }
      ],
      "source": [
        "print(\"+++ Start of data definitions +++\\n\")\n",
        "\n",
        "#\n",
        "# we could do this at the data-frame level, too!\n",
        "#\n",
        "\n",
        "X_all = A[:,0:4]  # X (features) ... is all rows, columns 0, 1, 2, 3\n",
        "y_all = A[:,4]    # y (labels) ... is all rows, column 4 only\n",
        "\n",
        "print(f\"y_all (just the labels/species)   are \\n {y_all}\")\n",
        "print(f\"X_all (just the features, first few rows) are \\n {X_all[0:5]}\")"
      ]
    },
    {
      "cell_type": "code",
      "execution_count": null,
      "metadata": {
        "id": "Ffj5AyCtbTo1",
        "colab": {
          "base_uri": "https://localhost:8080/"
        },
        "outputId": "5029bc64-9c5c-4cc1-cea5-bb24ffbbe1ee"
      },
      "outputs": [
        {
          "output_type": "stream",
          "name": "stdout",
          "text": [
            "The scrambled labels/species are \n",
            " [0. 0. 1. 0. 1. 1. 0. 1. 0. 2. 0. 1. 2. 2. 2. 1. 2. 2. 2. 1. 0. 1. 1. 2.\n",
            " 0. 2. 0. 1. 0. 1. 2. 0. 1. 2. 1. 2. 0. 2. 1. 0. 2. 1. 0. 2. 0. 0. 2. 0.\n",
            " 2. 1. 0. 1. 1. 2. 0. 2. 1. 2. 1. 1. 2. 0. 2. 2. 2. 2. 2. 2. 1. 2. 0. 2.\n",
            " 0. 2. 1. 1. 0. 0. 0. 1. 1. 2. 0. 2. 0. 0. 1. 1. 1. 0. 1. 1. 2. 1. 2. 0.\n",
            " 0. 2. 1. 0. 2. 2. 0. 1. 2. 1. 2. 2. 1. 1. 0. 0. 0. 0. 1. 0. 2. 0. 0. 0.\n",
            " 2. 1. 1. 2. 0. 1. 0. 2. 1. 1. 0. 1. 1. 2. 0. 0. 0. 1. 2. 2. 2.]\n",
            "The corresponding data rows are \n",
            " [[4.4 3.  1.3 0.2]\n",
            " [5.  3.3 1.4 0.2]\n",
            " [5.8 2.7 3.9 1.2]\n",
            " [5.8 4.  1.2 0.2]\n",
            " [6.7 3.1 4.4 1.4]]\n"
          ]
        }
      ],
      "source": [
        "#\n",
        "# we scramble the data, to remove (potential) dependence on its ordering:\n",
        "#\n",
        "indices = np.random.permutation(len(y_all))  # indices is a permutation-list\n",
        "\n",
        "# we scramble both X and y, necessarily with the same permutation\n",
        "X_permed = X_all[indices]              # we apply the _same_ permutation to each!\n",
        "y_permed = y_all[indices]              # again...\n",
        "print(f\"The scrambled labels/species are \\n {y_permed}\")\n",
        "print(f\"The corresponding data rows are \\n {X_permed[0:5]}\")"
      ]
    },
    {
      "cell_type": "code",
      "execution_count": null,
      "metadata": {
        "id": "hvr7kECBbTo1",
        "colab": {
          "base_uri": "https://localhost:8080/"
        },
        "outputId": "bc2f4c2d-a355-4d6a-e56e-13c1b89b84a5"
      },
      "outputs": [
        {
          "output_type": "stream",
          "name": "stdout",
          "text": [
            "training with 112 rows;  testing with 29 rows\n",
            "\n",
            "Held-out data... (testing data: 29)\n",
            "y_test: [1. 2. 0. 1. 2. 2. 1. 2. 2. 0. 0. 0. 0. 2. 2. 2. 0. 2. 0. 2. 1. 2. 2. 2.\n",
            " 1. 0. 1. 0. 2.]\n",
            "\n",
            "X_test (few rows): [[6.4 2.9 4.3 1.3]\n",
            " [6.5 3.  5.2 2. ]\n",
            " [5.2 3.5 1.5 0.2]\n",
            " [5.7 2.6 3.5 1. ]\n",
            " [6.2 2.8 4.8 1.8]]\n",
            "\n",
            "Data used for modeling... (training data: 112)\n",
            "y_train: [2. 0. 0. 0. 0. 1. 1. 2. 1. 2. 1. 0. 1. 0. 0. 0. 0. 2. 1. 1. 0. 0. 2. 0.\n",
            " 0. 1. 1. 2. 1. 0. 1. 2. 2. 0. 0. 1. 2. 1. 1. 1. 1. 0. 1. 1. 1. 0. 0. 2.\n",
            " 0. 0. 1. 1. 2. 2. 0. 0. 2. 0. 0. 0. 1. 2. 0. 2. 2. 2. 1. 1. 2. 0. 2. 1.\n",
            " 2. 1. 2. 1. 0. 1. 1. 1. 1. 2. 2. 1. 1. 0. 2. 1. 1. 2. 0. 0. 2. 2. 0. 1.\n",
            " 0. 0. 0. 2. 2. 2. 1. 1. 2. 2. 0. 1. 2. 0. 1. 2.]\n",
            "\n",
            "X_train (few rows): [[6.9 3.1 5.4 2.1]\n",
            " [4.9 3.  1.4 0.2]\n",
            " [5.  3.3 1.4 0.2]\n",
            " [5.5 3.5 1.3 0.2]\n",
            " [4.8 3.4 1.6 0.2]]\n"
          ]
        }
      ],
      "source": [
        "#\n",
        "# We next separate into test data and training data ...\n",
        "#    + We will train on the training data...\n",
        "#    + We will _not_ look at the testing data to build the model\n",
        "#\n",
        "# Then, afterward, we will test on the testing data -- and see how well we do!\n",
        "#\n",
        "\n",
        "#\n",
        "# a common convention:  train on 80%, test on 20%    Let's define the TEST_PERCENT\n",
        "#\n",
        "\n",
        "from sklearn.model_selection import train_test_split\n",
        "\n",
        "X_train, X_test, y_train, y_test = train_test_split(X_all, y_all, test_size=0.2, random_state=42)\n",
        "\n",
        "print(f\"training with {len(y_train)} rows;  testing with {len(y_test)} rows\\n\" )\n",
        "\n",
        "print(f\"Held-out data... (testing data: {len(y_test)})\")\n",
        "print(f\"y_test: {y_test}\\n\")\n",
        "print(f\"X_test (few rows): {X_test[0:5,:]}\")  # 5 rows\n",
        "print()\n",
        "print(f\"Data used for modeling... (training data: {len(y_train)})\")\n",
        "print(f\"y_train: {y_train}\\n\")\n",
        "print(f\"X_train (few rows): {X_train[0:5,:]}\")  # 5 rows"
      ]
    },
    {
      "cell_type": "markdown",
      "metadata": {
        "id": "gVMTL2jtbTo1"
      },
      "source": [
        "<br>\n",
        "\n",
        "#### Here is where the model-buidling begins in earnest..."
      ]
    },
    {
      "cell_type": "code",
      "execution_count": null,
      "metadata": {
        "id": "koyBDYkKbTo1",
        "colab": {
          "base_uri": "https://localhost:8080/"
        },
        "outputId": "ab9a7332-de81-466e-f7ca-6e35d2021052"
      },
      "outputs": [
        {
          "output_type": "stream",
          "name": "stdout",
          "text": [
            "Created and trained a DT classifier with max depth = 1\n"
          ]
        }
      ],
      "source": [
        "#\n",
        "# +++ This is the \"Model-building and Model-training Cell\"\n",
        "#\n",
        "# Create a DT model and train it!\n",
        "#\n",
        "from sklearn import tree      # for decision trees\n",
        "\n",
        "best_depth = 1   # we don't know what depth to use, so let's guess 1\n",
        "dtree_model = tree.DecisionTreeClassifier(max_depth=best_depth)\n",
        "\n",
        "# Let's train the model.   It's this one line:\n",
        "dtree_model.fit(X_train, y_train)                              # yay!  trained!\n",
        "print(\"Created and trained a DT classifier with max depth =\", best_depth)"
      ]
    },
    {
      "cell_type": "markdown",
      "metadata": {
        "id": "YByW8Fp_bTo2"
      },
      "source": [
        "<br>\n",
        "\n",
        "#### That's it! :-)"
      ]
    },
    {
      "cell_type": "code",
      "execution_count": null,
      "metadata": {
        "id": "roWqg2RDbTo2",
        "colab": {
          "base_uri": "https://localhost:8080/"
        },
        "outputId": "72f1e639-a7d1-401f-9237-e522f4edff31"
      },
      "outputs": [
        {
          "output_type": "stream",
          "name": "stdout",
          "text": [
            "Predicted labels: [1. 1. 0. 1. 1. 1. 1. 1. 1. 0. 0. 0. 0. 1. 1. 1. 0. 1. 0. 1. 1. 1. 1. 1.\n",
            " 1. 0. 1. 0. 1.]\n",
            "Actual  labels  : [1. 2. 0. 1. 2. 2. 1. 2. 2. 0. 0. 0. 0. 2. 2. 2. 0. 2. 0. 2. 1. 2. 2. 2.\n",
            " 1. 0. 1. 0. 2.]\n",
            "\n",
            "Results on test set:  15 correct out of 29 total.\n"
          ]
        }
      ],
      "source": [
        "#\n",
        "# +++ This cell will \"Model-testing Cell\"\n",
        "#\n",
        "# Now, let's see how well our model does on our \"held-out data\" (the testing data)\n",
        "#\n",
        "\n",
        "# We run our test set:\n",
        "\n",
        "# the function knn_model.predict is the instantiation of our model\n",
        "# it's what runs the k-nearest-neighbors algorithm:\n",
        "predicted_labels = dtree_model.predict(X_test)\n",
        "actual_labels = y_test\n",
        "\n",
        "# Let's print them so we can compare...\n",
        "print(\"Predicted labels:\", predicted_labels)\n",
        "print(\"Actual  labels  :\", actual_labels)\n",
        "\n",
        "# And, some overall results\n",
        "num_correct = sum(predicted_labels == actual_labels)\n",
        "total = len(actual_labels)\n",
        "print(f\"\\nResults on test set:  {num_correct} correct out of {total} total.\")"
      ]
    },
    {
      "cell_type": "code",
      "execution_count": null,
      "metadata": {
        "id": "F9t8SkN8bTo2",
        "colab": {
          "base_uri": "https://localhost:8080/"
        },
        "outputId": "7de39771-38a8-4588-f1be-0cfbf2a2cf31"
      },
      "outputs": [
        {
          "output_type": "stream",
          "name": "stdout",
          "text": [
            "row   0 :   versicolor versicolor     \n",
            "row   1 :   versicolor virginica      incorrect\n",
            "row   2 :       setosa setosa         \n",
            "row   3 :   versicolor versicolor     \n",
            "row   4 :   versicolor virginica      incorrect\n",
            "row   5 :   versicolor virginica      incorrect\n",
            "row   6 :   versicolor versicolor     \n",
            "row   7 :   versicolor virginica      incorrect\n",
            "row   8 :   versicolor virginica      incorrect\n",
            "row   9 :       setosa setosa         \n",
            "row  10 :       setosa setosa         \n",
            "row  11 :       setosa setosa         \n",
            "row  12 :       setosa setosa         \n",
            "row  13 :   versicolor virginica      incorrect\n",
            "row  14 :   versicolor virginica      incorrect\n",
            "row  15 :   versicolor virginica      incorrect\n",
            "row  16 :       setosa setosa         \n",
            "row  17 :   versicolor virginica      incorrect\n",
            "row  18 :       setosa setosa         \n",
            "row  19 :   versicolor virginica      incorrect\n",
            "row  20 :   versicolor versicolor     \n",
            "row  21 :   versicolor virginica      incorrect\n",
            "row  22 :   versicolor virginica      incorrect\n",
            "row  23 :   versicolor virginica      incorrect\n",
            "row  24 :   versicolor versicolor     \n",
            "row  25 :       setosa setosa         \n",
            "row  26 :   versicolor versicolor     \n",
            "row  27 :       setosa setosa         \n",
            "row  28 :   versicolor virginica      incorrect\n",
            "\n",
            "Correct: 15 out of 29\n"
          ]
        },
        {
          "output_type": "execute_result",
          "data": {
            "text/plain": [
              "15"
            ]
          },
          "metadata": {},
          "execution_count": 23
        }
      ],
      "source": [
        "#\n",
        "# Let's print these more helpfully, in a vertical table\n",
        "#\n",
        "\n",
        "def compare_labels(predicted_labels, actual_labels):\n",
        "    \"\"\" a more neatly formatted comparison \"\"\"\n",
        "    NUM_LABELS = len(predicted_labels)\n",
        "    num_correct = 0\n",
        "\n",
        "    for i in range(NUM_LABELS):\n",
        "        p = int(round(predicted_labels[i]))         # round protects from fp error\n",
        "        a = int(round(actual_labels[i]))\n",
        "        result = \"incorrect\"\n",
        "        if p == a:  # if they match,\n",
        "            result = \"\"       # no longer incorrect\n",
        "            num_correct += 1  # and we count a match!\n",
        "\n",
        "        print(f\"row {i:>3d} : {SPECIES[p]:>12s} {SPECIES[a]:<12s}   {result}\")\n",
        "\n",
        "    print()\n",
        "    print(\"Correct:\", num_correct, \"out of\", NUM_LABELS)\n",
        "    return num_correct\n",
        "    # Get the tree_data.gv\n",
        "    tree.export_graphviz\n",
        "    # Save file\n",
        "    tree_data.gv.write_gv(tree_data.gv)\n",
        "    filename = 'tree_data.gv'\n",
        "    tree_data.gv.write_gv('tree_data.gv')\n",
        "\n",
        "# let's try it out!\n",
        "compare_labels(predicted_labels,actual_labels)"
      ]
    },
    {
      "cell_type": "markdown",
      "metadata": {
        "id": "-wXbYdxObTo2"
      },
      "source": [
        "<br>\n",
        "\n",
        "#### The online tree-visualizer is at [http://viz-js.com/](http://viz-js.com/)"
      ]
    },
    {
      "cell_type": "code",
      "execution_count": null,
      "metadata": {
        "id": "40jdJhXpbTo2",
        "colab": {
          "base_uri": "https://localhost:8080/"
        },
        "outputId": "03c7b728-843b-4456-f6ef-7cac21bb97c0"
      },
      "outputs": [
        {
          "output_type": "stream",
          "name": "stdout",
          "text": [
            "file tree_data.gv written. Try pasting its contents to  http://viz-js.com/\n",
            "\n",
            "digraph Tree {\n",
            "node [shape=box, style=\"filled\", color=\"black\", fontname=\"helvetica\"] ;\n",
            "graph [ranksep=equally, splines=polyline] ;\n",
            "edge [fontname=\"helvetica\"] ;\n",
            "0 [label=\"petalwid <= 0.8\\ngini = 0.665\\nsamples = 112\\nvalue = [38, 40, 34]\\nclass = versicolor\", fillcolor=\"#fafefc\"] ;\n",
            "1 [label=\"gini = 0.0\\nsamples = 38\\nvalue = [38, 0, 0]\\nclass = setosa\", fillcolor=\"#e58139\"] ;\n",
            "0 -> 1 [labeldistance=2.5, labelangle=45, headlabel=\"True\"] ;\n",
            "2 [label=\"gini = 0.497\\nsamples = 74\\nvalue = [0, 40, 34]\\nclass = versicolor\", fillcolor=\"#e1fbec\"] ;\n",
            "0 -> 2 [labeldistance=2.5, labelangle=-45, headlabel=\"False\"] ;\n",
            "{rank=same ; 0} ;\n",
            "{rank=same ; 1; 2} ;\n",
            "}\n"
          ]
        }
      ],
      "source": [
        "#\n",
        "# Now, let's see the tree!\n",
        "#\n",
        "\n",
        "filename = 'tree_data.gv'    # sometimes .dot is used, instead of .gv\n",
        "\n",
        "tree.export_graphviz(dtree_model, out_file=filename,  # the filename constructed above...!\n",
        "                            feature_names=COLUMNS[:-1], # actual feature names, not species\n",
        "                            filled=True,              # fun!\n",
        "                            rotate=False,             # False for Up/Down; True for L/R\n",
        "                            class_names=SPECIES,      # good to have\n",
        "                            leaves_parallel=True )    # lots of options!\n",
        "\n",
        "print(f\"file {filename} written. Try pasting its contents to  http://viz-js.com/\\n\")\n",
        "\n",
        "with open(filename, \"r\") as f:\n",
        "    all_file_text = f.read()\n",
        "    print(all_file_text)"
      ]
    },
    {
      "cell_type": "code",
      "source": [
        "#\n",
        "# not as nice-looking, but all-in-one:\n",
        "#\n",
        "\n",
        "import pydotplus #pip install pydotplus\n",
        "from IPython import display\n",
        "\n",
        "graph = pydotplus.graph_from_dot_data(all_file_text)\n",
        "graph.write_png(\"tree.png\")  # to a file - you'll see it in content at left\n",
        "display.Image(graph.create_png())  # to this cell\n"
      ],
      "metadata": {
        "id": "k5YE3iqkgAzt",
        "colab": {
          "base_uri": "https://localhost:8080/",
          "height": 162
        },
        "outputId": "7d9ccc99-a0f1-4a31-8951-01a22e2ac4ae"
      },
      "execution_count": null,
      "outputs": [
        {
          "output_type": "execute_result",
          "data": {
            "image/png": "[encoded data removed]",
            "text/plain": [
              "<IPython.core.display.Image object>"
            ]
          },
          "metadata": {},
          "execution_count": 25
        }
      ]
    },
    {
      "cell_type": "markdown",
      "metadata": {
        "id": "uMEsQWZjbTo2"
      },
      "source": [
        "<br>\n",
        "\n",
        "#### The online tree-visualizer is at [http://viz-js.com/](http://viz-js.com/)"
      ]
    },
    {
      "cell_type": "code",
      "execution_count": null,
      "metadata": {
        "id": "X4l4qPLXbTo2",
        "colab": {
          "base_uri": "https://localhost:8080/",
          "height": 652
        },
        "outputId": "84f59631-60d7-4504-e291-919eac46dd2c"
      },
      "outputs": [
        {
          "output_type": "display_data",
          "data": {
            "text/plain": [
              "<Figure size 1200x800 with 1 Axes>"
            ],
            "image/png": "[encoded data removed]"
          },
          "metadata": {}
        }
      ],
      "source": [
        "#\n",
        "# Let's render it right here!\n",
        "\n",
        "import matplotlib.pyplot as plt\n",
        "\n",
        "FEATURES = COLUMNS[0:4]\n",
        "\n",
        "#\n",
        "# Treeing!\n",
        "#\n",
        "fig = plt.figure(figsize=(12,8))\n",
        "tree_plot = tree.plot_tree(dtree_model,\n",
        "                   feature_names=FEATURES,   # Glad to have these!\n",
        "                   class_names=SPECIES,      # and these!!\n",
        "                   filled=True)\n",
        "\n",
        "plt.show()"
      ]
    },
    {
      "cell_type": "code",
      "execution_count": null,
      "metadata": {
        "id": "Q-uUORmdbTo2"
      },
      "outputs": [],
      "source": [
        "#\n",
        "# Now, we TUNE the model (with cross-validation)...\n",
        "#\n",
        "# We used a depth of 1    (only 1 split)\n",
        "# There's NO way to model three species with only 1 split!\n",
        "#\n",
        "# So, we try several depths...\n",
        "# Here, the tradeoff is not so much \"more accurate\"\n",
        "#   + deeper always has the potential to be more accurate\n",
        "#   + but at the risk of _overfitting_ the training data!\n",
        "#\n",
        "# Rather it's the underfitting(bias)/overfitting(variance) tradeoff\n",
        "#   + A heuristic: \"Choose the _smallest_ depth at which the accuracy has plateaued\"\n",
        "#   + that is, is close to maximum...\n",
        "#"
      ]
    },
    {
      "cell_type": "code",
      "execution_count": null,
      "metadata": {
        "scrolled": true,
        "id": "-3JH4VqSbTo2",
        "colab": {
          "base_uri": "https://localhost:8080/"
        },
        "outputId": "e92ad6ea-ac7a-47af-f8b0-02fe81c4503b"
      },
      "outputs": [
        {
          "output_type": "stream",
          "name": "stdout",
          "text": [
            "depth:  1  cv accuracy:  0.6964\n",
            "depth:  2  cv accuracy:  0.9458\n",
            "depth:  3  cv accuracy:  0.9640\n",
            "depth:  4  cv accuracy:  0.9553\n",
            "depth:  5  cv accuracy:  0.9553\n",
            "depth:  6  cv accuracy:  0.9462\n",
            "depth:  7  cv accuracy:  0.9462\n",
            "depth:  8  cv accuracy:  0.9462\n",
            "depth:  9  cv accuracy:  0.9462\n",
            "depth: 10  cv accuracy:  0.9462\n",
            "depth: 11  cv accuracy:  0.9462\n",
            "depth: 12  cv accuracy:  0.9553\n",
            "depth: 13  cv accuracy:  0.9462\n",
            "depth: 14  cv accuracy:  0.9553\n",
            "depth: 15  cv accuracy:  0.9553\n",
            "depth: 16  cv accuracy:  0.9462\n",
            "depth: 17  cv accuracy:  0.9462\n",
            "depth: 18  cv accuracy:  0.9553\n",
            "depth: 19  cv accuracy:  0.9553\n",
            "\n",
            "best_depth = 3 with acc: 0.9640316205533598 is our underfitting/overfitting balance.\n"
          ]
        }
      ],
      "source": [
        "#\n",
        "# To compare different tree-depths, we use cross validation\n",
        "#\n",
        "\n",
        "from sklearn.model_selection import cross_val_score\n",
        "\n",
        "#\n",
        "# cross-validation splits the training set into two pieces:\n",
        "#   + model-building and model-validation. We'll use \"build\" and \"validate\"\n",
        "#\n",
        "\n",
        "best_d = 1\n",
        "best_accuracy = 0.0\n",
        "\n",
        "for d in range(1,20):\n",
        "    cv_model = tree.DecisionTreeClassifier(max_depth=d)   # for each depth, d\n",
        "    cv_scores = cross_val_score( cv_model, X_train, y_train, cv=5 ) # 5 means 80/20 split\n",
        "    # print(cv_scores)  # we usually don't want to see the five individual scores\n",
        "    average_cv_accuracy = cv_scores.mean()  # more likely, only their average\n",
        "    print(f\"depth: {d:2d}  cv accuracy: {average_cv_accuracy:7.4f}\")\n",
        "\n",
        "    if average_cv_accuracy > best_accuracy:\n",
        "        best_accuracy = average_cv_accuracy\n",
        "        best_d = d\n",
        "\n",
        "\n",
        "\n",
        "# assign best value of d to best_depth\n",
        "best_depth = best_d   # may have to hand-tune this, depending on what happens...\n",
        "print()\n",
        "print(f\"best_depth = {best_depth} with acc: {best_accuracy} is our underfitting/overfitting balance.\")"
      ]
    },
    {
      "cell_type": "code",
      "execution_count": null,
      "metadata": {
        "id": "Mn-QGloHbTo3",
        "colab": {
          "base_uri": "https://localhost:8080/"
        },
        "outputId": "d8ac66d5-2f07-4aab-f848-d5e097ed450f"
      },
      "outputs": [
        {
          "output_type": "stream",
          "name": "stdout",
          "text": [
            "Created and trained a DT classifier with max depth = 3\n"
          ]
        }
      ],
      "source": [
        "#\n",
        "# Now, we re-create and re-run the  \"Model-building and -training Cell\"\n",
        "#\n",
        "# this time, with the best depth, best_d, found by cross-validation model tuning:\n",
        "#\n",
        "from sklearn import tree      # for decision trees\n",
        "\n",
        "# we should have best_depth from our cv exploration\n",
        "dtree_model_tuned = tree.DecisionTreeClassifier(max_depth=best_depth)\n",
        "\n",
        "# we train the model (it's one line!)\n",
        "dtree_model_tuned.fit(X_train, y_train)                              # yay!  trained!\n",
        "print(\"Created and trained a DT classifier with max depth =\", best_depth)"
      ]
    },
    {
      "cell_type": "markdown",
      "metadata": {
        "id": "wxaSc_LCbTo3"
      },
      "source": [
        "<br>\n",
        "\n",
        "#### <b>To try</b>:  showing the depth 2+ tree"
      ]
    },
    {
      "cell_type": "code",
      "execution_count": null,
      "metadata": {
        "id": "-1S7m14gbTo3",
        "colab": {
          "base_uri": "https://localhost:8080/"
        },
        "outputId": "af4598f6-b118-49a9-d618-abb4666024f7"
      },
      "outputs": [
        {
          "output_type": "stream",
          "name": "stdout",
          "text": [
            "Created and trained a DT classifier with max depth = 1\n",
            "file tree_data.gv written. Try pasting its contents to  http://viz-js.com/\n",
            "\n",
            "digraph Tree {\n",
            "node [shape=box, style=\"filled\", color=\"black\", fontname=\"helvetica\"] ;\n",
            "graph [ranksep=equally, splines=polyline] ;\n",
            "edge [fontname=\"helvetica\"] ;\n",
            "0 [label=\"petalwid <= 0.8\\ngini = 0.665\\nsamples = 112\\nvalue = [38, 40, 34]\\nclass = versicolor\", fillcolor=\"#fafefc\"] ;\n",
            "1 [label=\"gini = 0.0\\nsamples = 38\\nvalue = [38, 0, 0]\\nclass = setosa\", fillcolor=\"#e58139\"] ;\n",
            "0 -> 1 [labeldistance=2.5, labelangle=45, headlabel=\"True\"] ;\n",
            "2 [label=\"gini = 0.497\\nsamples = 74\\nvalue = [0, 40, 34]\\nclass = versicolor\", fillcolor=\"#e1fbec\"] ;\n",
            "0 -> 2 [labeldistance=2.5, labelangle=-45, headlabel=\"False\"] ;\n",
            "{rank=same ; 0} ;\n",
            "{rank=same ; 1; 2} ;\n",
            "}\n"
          ]
        }
      ],
      "source": [
        "#\n",
        "# Now, let's see the tree!\n",
        "#\n",
        "import pydotplus #pip install pydotplus\n",
        "from IPython import display\n",
        "\n",
        "dtree_model_tuned = tree.DecisionTreeClassifier(max_depth=best_depth)\n",
        "\n",
        "dtree_model_tuned.fit(X_train, y_train)                              # yay!  trained!\n",
        "print(\"Created and trained a DT classifier with max depth =\", best_depth)\n",
        "#\n",
        "#\n",
        "# Treeing!\n",
        "#\n",
        "\n",
        "filename = 'tree_data.gv'    # sometimes .dot is used, instead of .gv\n",
        "\n",
        "tree.export_graphviz(dtree_model_tuned, out_file=filename,  # the filename constructed above...!\n",
        "                            feature_names=COLUMNS[:-1], # actual feature names, not species\n",
        "                            filled=True,              # fun!\n",
        "                            rotate=False,             # False for Up/Down; True for L/R\n",
        "                            class_names=SPECIES,      # good to have\n",
        "                            leaves_parallel=True )    # lots of options!\n",
        "\n",
        "print(f\"file {filename} written. Try pasting its contents to  http://viz-js.com/\\n\")\n",
        "\n",
        "with open(filename, \"r\") as f:\n",
        "    all_file_text = f.read()\n",
        "    print(all_file_text)"
      ]
    },
    {
      "cell_type": "code",
      "execution_count": null,
      "metadata": {
        "id": "d6NZCxMgbTo3",
        "colab": {
          "base_uri": "https://localhost:8080/",
          "height": 121
        },
        "outputId": "ae6b819c-8524-4de1-9dff-0f2bc81110fb"
      },
      "outputs": [
        {
          "output_type": "execute_result",
          "data": {
            "image/png": "[encoded data removed]",
            "text/plain": [
              "<IPython.core.display.Image object>"
            ]
          },
          "metadata": {
            "image/png": {
              "width": 400
            }
          },
          "execution_count": 36
        }
      ],
      "source": [
        "#\n",
        "# You will likely have a different name...\n",
        "#\n",
        "from IPython import display\n",
        "display.Image(\"./tree.png\", width=400)  # adjust for your tree!"
      ]
    },
    {
      "cell_type": "code",
      "execution_count": null,
      "metadata": {
        "id": "m_38wNT-bTo3",
        "colab": {
          "base_uri": "https://localhost:8080/"
        },
        "outputId": "e436eb59-f520-4f3a-e307-5520859a628a"
      },
      "outputs": [
        {
          "output_type": "stream",
          "name": "stdout",
          "text": [
            "Predicted labels: [1. 1. 0. 1. 1. 1. 1. 1. 1. 0. 0. 0. 0. 1. 1. 1. 0. 1. 0. 1. 1. 1. 1. 1.\n",
            " 1. 0. 1. 0. 1.]\n",
            "Actual labels: [1. 2. 0. 1. 2. 2. 1. 2. 2. 0. 0. 0. 0. 2. 2. 2. 0. 2. 0. 2. 1. 2. 2. 2.\n",
            " 1. 0. 1. 0. 2.]\n",
            "\n",
            "row   0 :   versicolor versicolor     \n",
            "row   1 :   versicolor virginica      incorrect\n",
            "row   2 :       setosa setosa         \n",
            "row   3 :   versicolor versicolor     \n",
            "row   4 :   versicolor virginica      incorrect\n",
            "row   5 :   versicolor virginica      incorrect\n",
            "row   6 :   versicolor versicolor     \n",
            "row   7 :   versicolor virginica      incorrect\n",
            "row   8 :   versicolor virginica      incorrect\n",
            "row   9 :       setosa setosa         \n",
            "row  10 :       setosa setosa         \n",
            "row  11 :       setosa setosa         \n",
            "row  12 :       setosa setosa         \n",
            "row  13 :   versicolor virginica      incorrect\n",
            "row  14 :   versicolor virginica      incorrect\n",
            "row  15 :   versicolor virginica      incorrect\n",
            "row  16 :       setosa setosa         \n",
            "row  17 :   versicolor virginica      incorrect\n",
            "row  18 :       setosa setosa         \n",
            "row  19 :   versicolor virginica      incorrect\n",
            "row  20 :   versicolor versicolor     \n",
            "row  21 :   versicolor virginica      incorrect\n",
            "row  22 :   versicolor virginica      incorrect\n",
            "row  23 :   versicolor virginica      incorrect\n",
            "row  24 :   versicolor versicolor     \n",
            "row  25 :       setosa setosa         \n",
            "row  26 :   versicolor versicolor     \n",
            "row  27 :       setosa setosa         \n",
            "row  28 :   versicolor virginica      incorrect\n",
            "\n",
            "Correct: 15 out of 29\n"
          ]
        },
        {
          "output_type": "execute_result",
          "data": {
            "text/plain": [
              "15"
            ]
          },
          "metadata": {},
          "execution_count": 37
        }
      ],
      "source": [
        "#\n",
        "# Re-create and re-run the  \"Model-testing Cell\"     How does it do with best_k?!\n",
        "#\n",
        "predicted_labels = dtree_model_tuned.predict(X_test)\n",
        "actual_labels = y_test\n",
        "\n",
        "# Let's print them so we can compare...\n",
        "print(\"Predicted labels:\", predicted_labels)\n",
        "print(\"Actual labels:\", actual_labels)\n",
        "print()\n",
        "\n",
        "# and, we'll print our nicer table...\n",
        "compare_labels(predicted_labels,actual_labels)"
      ]
    },
    {
      "cell_type": "code",
      "execution_count": null,
      "metadata": {
        "id": "7l4jM_LqbTo3",
        "colab": {
          "base_uri": "https://localhost:8080/"
        },
        "outputId": "132e37e8-99eb-4dee-ad9b-9b5e239fa88a"
      },
      "outputs": [
        {
          "output_type": "stream",
          "name": "stdout",
          "text": [
            "Created and trained a 'final' DT classifier with max depth = 1\n"
          ]
        }
      ],
      "source": [
        "#\n",
        "# Ok!  We have tuned our DT to use the \"best\" depth...\n",
        "#\n",
        "# Now, we use ALL available data to train our final predictive model:\n",
        "#\n",
        "\n",
        "from sklearn import tree      # for decision trees\n",
        "\n",
        "# we should have best_depth from our cv exploration\n",
        "dtree_model_final = tree.DecisionTreeClassifier(max_depth=best_depth)\n",
        "\n",
        "# we train the model (it's one line!)\n",
        "dtree_model_final.fit(X_all, y_all)                              # yay!  trained!\n",
        "print(\"Created and trained a 'final' DT classifier with max depth =\", best_depth)"
      ]
    },
    {
      "cell_type": "code",
      "execution_count": null,
      "metadata": {
        "id": "P2QNoallbTo3",
        "colab": {
          "base_uri": "https://localhost:8080/"
        },
        "outputId": "38381769-08aa-4120-d3e1-cbc1aa793722"
      },
      "outputs": [
        {
          "output_type": "stream",
          "name": "stdout",
          "text": [
            "I predict 0 setosa from Features [4.6, 3.1, 2.0, 1.5]\n"
          ]
        }
      ],
      "source": [
        "#\n",
        "# final predictive model (k-nearest-neighbor), with tuned k + ALL data incorporated\n",
        "#\n",
        "\n",
        "def predictive_model( Features ):\n",
        "    \"\"\" input: a list of four features\n",
        "                [ sepallen, sepalwid, petallen, petalwid ]\n",
        "        output: the predicted species of iris, from\n",
        "                  setosa (0), versicolor (1), virginica (2)\n",
        "    \"\"\"\n",
        "    our_features = np.asarray([Features])                 # extra brackets needed\n",
        "    predicted_species = dtree_model_final.predict(our_features)\n",
        "\n",
        "    predicted_species = int(round(predicted_species[0]))  # unpack one element\n",
        "    name = SPECIES[predicted_species]\n",
        "    #print(f\"{name} ({predicted_species})\")\n",
        "    return predicted_species\n",
        "\n",
        "#\n",
        "# Try it!\n",
        "#\n",
        "# Features = eval(input(\"Enter new Features: \"))\n",
        "#\n",
        "Features = [4.6,3.1,2.0,1.5]   # [4.8,2.7,3.1,0.2] [4.6,3.1,2.0,1.5] [6.7,3.3,5.7,2.1]\n",
        "result = predictive_model( Features )\n",
        "print(f\"I predict {result} {SPECIES[result]} from Features {Features}\")"
      ]
    },
    {
      "cell_type": "code",
      "execution_count": null,
      "metadata": {
        "id": "G3ueKtcrbTo3",
        "colab": {
          "base_uri": "https://localhost:8080/"
        },
        "outputId": "cb3be210-2df9-4ad5-b110-e637c2a8f655"
      },
      "outputs": [
        {
          "output_type": "stream",
          "name": "stdout",
          "text": [
            "I predict 0 from Features [4.8, 3.1, 1.6, 0.2]\n",
            "I predict 2 from Features [5.7, 2.9, 4.2, 1.3]\n",
            "I predict 2 from Features [5.8, 2.7, 5.1, 1.9]\n",
            "I predict 0 from Features [5.2, 4.1, 1.5, 0.1]\n",
            "I predict 0 from Features [5.4, 3.4, 1.5, 0.4]\n",
            "I predict 2 from Features [5.1, 2.5, 3.0, 1.1]\n",
            "I predict 2 from Features [6.2, 2.9, 4.3, 1.3]\n",
            "I predict 2 from Features [6.3, 3.3, 6.0, 2.5]\n",
            "I predict 2 from Features [5.7, 2.8, 4.1, 1.3]\n"
          ]
        }
      ],
      "source": [
        "#\n",
        "# try it on new, \"unseen\" data!\n",
        "#\n",
        "\n",
        "LoF = [[4.8, 3.1, 1.6, 0.2 ],\n",
        "[5.7, 2.9, 4.2, 1.3 ],\n",
        "[5.8, 2.7, 5.1, 1.9 ],\n",
        "[5.2, 4.1, 1.5, 0.1 ],\n",
        "[5.4, 3.4, 1.5, 0.4 ],\n",
        "[5.1, 2.5, 3.0, 1.1 ],\n",
        "[6.2, 2.9, 4.3, 1.3 ],\n",
        "[6.3, 3.3, 6.0, 2.5 ],\n",
        "[5.7, 2.8, 4.1, 1.3 ]]\n",
        "\n",
        "for Features in LoF:\n",
        "    result = predictive_model( Features )\n",
        "    print(f\"I predict {result} from Features {Features}\")\n",
        "\n",
        "# here are the correctly-coded species: 012001122\n",
        "# almost always the final one is \"wrong\"\n",
        "# (It's a virginica that \"acts like\" a versicolor.)"
      ]
    },
    {
      "cell_type": "markdown",
      "source": [
        "### The model is complete\n",
        "+ and can predict _any_ future...\n",
        "+ ... though not always correctly.\n",
        "+ Let's plot many of them!"
      ],
      "metadata": {
        "id": "9jtRjGUt7JHt"
      }
    },
    {
      "cell_type": "code",
      "source": [
        "# we can only plot 2 dimensions at a time!\n",
        "# These two will be our constants:\n",
        "petallen = 4.95\n",
        "petalwid = 1.0\n",
        "\n",
        "VERTICAL = np.arange(0,10,.1) # array of vertical input values\n",
        "HORIZONT = np.arange(0,10,.1) # array of horizontal input values\n",
        "PLANE = np.zeros( (len(HORIZONT),len(VERTICAL)) ) # the output array\n",
        "\n",
        "row = 0\n",
        "col = 0\n",
        "for sepallen in VERTICAL: # for every sepal length\n",
        "  for sepalwid in HORIZONT: # for every sepal width\n",
        "    Features = [ sepallen, sepalwid, petallen, petalwid ]\n",
        "    output = predictive_model(Features)\n",
        "    #print(f\"Input {Features} Output: {output}\")\n",
        "    PLANE[row,col] = output\n",
        "    col += 1\n",
        "  col = 0\n",
        "  row += 1\n",
        "  print(\".\", end=\"\")  # so we know it's running\n",
        "  if row % 42 == 0: print() # same...\n",
        "\n",
        "print(\"\\n\", PLANE[0:3,0:3]) # small bit of the upper-left corner\n"
      ],
      "metadata": {
        "id": "E2lIFvWQ6Ymj",
        "colab": {
          "base_uri": "https://localhost:8080/"
        },
        "outputId": "a388d22b-1715-45c7-e44b-3a391158abba"
      },
      "execution_count": null,
      "outputs": [
        {
          "output_type": "stream",
          "name": "stdout",
          "text": [
            "..........................................\n",
            "..........................................\n",
            "................\n",
            " [[2. 2. 2.]\n",
            " [2. 2. 2.]\n",
            " [2. 2. 2.]]\n"
          ]
        }
      ]
    },
    {
      "cell_type": "code",
      "source": [
        "import seaborn as sns\n",
        "# sns.heatmap(PLANE)\n",
        "\n",
        "sns.set(rc = {'figure.figsize':(12,8)})  # figure size!\n",
        "ax = sns.heatmap(PLANE)\n",
        "ax.invert_yaxis() # to match our usual direction\n",
        "ax.set(xlabel=\"sepalwid (tenths)\", ylabel=\"sepallen (tenths)\")\n",
        "ax.set_xticks(ax.get_xticks()[::4])\n",
        "ax.set_yticks(ax.get_yticks()[::4])\n",
        "\n",
        "\n",
        "print(\"Remember our species-to-number mapping:\")\n",
        "print(\"0 - setosa\")\n",
        "print(\"1 - versicolor\")\n",
        "print(\"2 - virginica\")"
      ],
      "metadata": {
        "id": "IacW7Mbm_JCP",
        "colab": {
          "base_uri": "https://localhost:8080/",
          "height": 779
        },
        "outputId": "e178615b-6844-48e3-e322-8dabfec8f245"
      },
      "execution_count": null,
      "outputs": [
        {
          "output_type": "stream",
          "name": "stdout",
          "text": [
            "Remember our species-to-number mapping:\n",
            "0 - setosa\n",
            "1 - versicolor\n",
            "2 - virginica\n"
          ]
        },
        {
          "output_type": "display_data",
          "data": {
            "text/plain": [
              "<Figure size 1200x800 with 2 Axes>"
            ],
            "image/png": "[encoded data removed]"
          },
          "metadata": {}
        }
      ]
    },
    {
      "cell_type": "code",
      "source": [
        "#\n",
        "# let's hold the sepal length and width constant and vary petal len + wid:\n",
        "\n",
        "sepallen = 3.42\n",
        "sepalwid = 3.42\n",
        "\n",
        "VERTICAL = np.arange(0,10,.1) # array of vertical input values\n",
        "HORIZONT = np.arange(0,10,.1) # array of horizontal input values\n",
        "PLANEv2 = np.zeros( (len(HORIZONT),len(VERTICAL)) ) # the output array\n",
        "\n",
        "row = 0\n",
        "col = 0\n",
        "for petallen in VERTICAL: # for every sepal length\n",
        "  for petalwid in HORIZONT: # for every sepal width\n",
        "    Features = [ sepallen, sepalwid, petallen, petalwid ]\n",
        "    output = predictive_model(Features)\n",
        "    #print(f\"Input {Features} Output: {output}\")\n",
        "    PLANEv2[row,col] = output\n",
        "    col += 1\n",
        "  col = 0\n",
        "  row += 1\n",
        "  print(\".\", end=\"\")  # so we know it's running\n",
        "  if row % 42 == 0: print() # same...\n",
        "\n",
        "print(\"\\n\", PLANEv2[0:3,0:3]) # small bit of the upper-left corner\n"
      ],
      "metadata": {
        "id": "RHwAf0TQNR3X",
        "colab": {
          "base_uri": "https://localhost:8080/"
        },
        "outputId": "cdcd87d7-2484-4349-9948-c333f21d6736"
      },
      "execution_count": null,
      "outputs": [
        {
          "output_type": "stream",
          "name": "stdout",
          "text": [
            "..........................................\n",
            "..........................................\n",
            "................\n",
            " [[0. 0. 0.]\n",
            " [0. 0. 0.]\n",
            " [0. 0. 0.]]\n"
          ]
        }
      ]
    },
    {
      "cell_type": "code",
      "source": [
        "import seaborn as sns\n",
        "# sns.heatmap(PLANE)\n",
        "\n",
        "sns.set(rc = {'figure.figsize':(12,8)})  # figure size!\n",
        "ax = sns.heatmap(PLANEv2)\n",
        "ax.invert_yaxis()\n",
        "ax.set(xlabel=\"petalwid (tenths)\", ylabel=\"petallen (tenths)\")\n",
        "ax.set_xticks(ax.get_xticks()[::4])\n",
        "ax.set_yticks(ax.get_yticks()[::4])\n",
        "\n",
        "\n",
        "print(\"Remember our species-to-number mapping:\")\n",
        "print(\"0 - setosa\")\n",
        "print(\"1 - versicolor\")\n",
        "print(\"2 - virginica\")"
      ],
      "metadata": {
        "id": "n3p9BThENoWc",
        "colab": {
          "base_uri": "https://localhost:8080/",
          "height": 779
        },
        "outputId": "3a455c3d-08b9-462e-c8fe-7543216b5ad4"
      },
      "execution_count": null,
      "outputs": [
        {
          "output_type": "stream",
          "name": "stdout",
          "text": [
            "Remember our species-to-number mapping:\n",
            "0 - setosa\n",
            "1 - versicolor\n",
            "2 - virginica\n"
          ]
        },
        {
          "output_type": "display_data",
          "data": {
            "text/plain": [
              "<Figure size 1200x800 with 2 Axes>"
            ],
            "image/png": "[encoded data removed]"
          },
          "metadata": {}
        }
      ]
    },
    {
      "cell_type": "code",
      "execution_count": null,
      "metadata": {
        "id": "8_HwzQGSbTo3",
        "colab": {
          "base_uri": "https://localhost:8080/"
        },
        "outputId": "bdcdea8d-3310-4cfc-e23f-a754ebe72343"
      },
      "outputs": [
        {
          "output_type": "stream",
          "name": "stdout",
          "text": [
            "[0. 0. 1. 0.]\n",
            "\n",
            "Feature     sepallen has    0.00% of the decision-making importance.\n",
            "Feature     sepalwid has    0.00% of the decision-making importance.\n",
            "Feature     petallen has  100.00% of the decision-making importance.\n",
            "Feature     petalwid has    0.00% of the decision-making importance.\n"
          ]
        }
      ],
      "source": [
        "#\n",
        "# feature importances!\n",
        "#\n",
        "#     feature importances are computed by tracking which feature is used at each decision-point\n",
        "#     weighted by how often that decision-point is checked\n",
        "#\n",
        "# feature importances are often even more \"important\" than predictions,\n",
        "#         because they invite the question, \"why\" (Here, not a computational, but a biological/botanical q'n)\n",
        "#\n",
        "\n",
        "print(dtree_model_final.feature_importances_)\n",
        "print()\n",
        "\n",
        "# let's see them with each feature name:\n",
        "IMPs = dtree_model_final.feature_importances_\n",
        "\n",
        "# enumerate is great when you want indices _and_ elements!\n",
        "for i, importance in enumerate(IMPs):\n",
        "    perc = importance*100\n",
        "    print(f\"Feature {COLUMNS[i]:>12s} has {perc:>7.2f}% of the decision-making importance.\")"
      ]
    },
    {
      "cell_type": "code",
      "execution_count": null,
      "metadata": {
        "id": "As7NHkDObTo3"
      },
      "outputs": [],
      "source": [
        "#\n",
        "# That's it!  Welcome to the world of Decision-Tree models!\n",
        "#\n",
        "\n",
        "#\n",
        "# But wait, there's more!  More workflows, and more trees!  Random Forests next:\n",
        "#"
      ]
    },
    {
      "cell_type": "markdown",
      "source": [
        "# Random Forests: Iris Example"
      ],
      "metadata": {
        "id": "NJVQwHv5ip3e"
      }
    },
    {
      "cell_type": "code",
      "execution_count": null,
      "metadata": {
        "id": "zkaY4XHDbTo3"
      },
      "outputs": [],
      "source": [
        "#\n",
        "# Random Forests!!!\n",
        "#\n",
        "\n",
        "# Lots of trees, each using a subset of the data usually at a limited depth\n",
        "#                These many trees then get together to \"vote\" on the correct classification...\n",
        "\n",
        "#\n",
        "# This is an example of an \"ensemble\" classifier, because a RF is simply an ensemble of many DTs.\n",
        "#"
      ]
    },
    {
      "cell_type": "code",
      "execution_count": null,
      "metadata": {
        "id": "pvtm-ZbmbTo3",
        "colab": {
          "base_uri": "https://localhost:8080/"
        },
        "outputId": "cdb06c47-be67-4186-d198-4972a0e990a9"
      },
      "outputs": [
        {
          "output_type": "stream",
          "name": "stdout",
          "text": [
            "Built an RF with depth=1 and number of trees=42\n"
          ]
        }
      ],
      "source": [
        "#\n",
        "# +++ We're back at the \"Model-building and Model-training Cell\"\n",
        "#\n",
        "# Create a RF model and train it!\n",
        "#\n",
        "from sklearn import tree      # for decision trees\n",
        "from sklearn import ensemble  # for random forests, an ensemble classifier\n",
        "\n",
        "best_d = 1            # we don't know what depth to use, so we guess...\n",
        "best_num_trees = 42   # again, we guess\n",
        "rforest_model = ensemble.RandomForestClassifier(max_depth=best_d,\n",
        "                                                n_estimators=best_num_trees,\n",
        "                                                max_samples=0.5)\n",
        "# This max_samples=0.5 is the fraction of rows to use for each DT\n",
        "# For all of our forests, we will let max_samples be 0.5   We'll explore best_d and best_num_trees...\n",
        "\n",
        "# we train the model (again, one line):\n",
        "rforest_model.fit(X_train, y_train)                              # yay!  trained!\n",
        "print(f\"Built an RF with depth={best_d} and number of trees={best_num_trees}\")"
      ]
    },
    {
      "cell_type": "code",
      "execution_count": null,
      "metadata": {
        "id": "i-XEA_Q3bTo3",
        "colab": {
          "base_uri": "https://localhost:8080/"
        },
        "outputId": "f1578ea7-6ea5-4d76-ab3e-dee503142002"
      },
      "outputs": [
        {
          "output_type": "stream",
          "name": "stdout",
          "text": [
            "Predicted labels: [1. 2. 0. 1. 1. 2. 1. 2. 2. 0. 0. 0. 0. 2. 2. 2. 0. 2. 0. 2. 1. 1. 2. 2.\n",
            " 1. 0. 1. 0. 1.]\n",
            "Actual  labels  : [1. 2. 0. 1. 2. 2. 1. 2. 2. 0. 0. 0. 0. 2. 2. 2. 0. 2. 0. 2. 1. 2. 2. 2.\n",
            " 1. 0. 1. 0. 2.]\n",
            "\n",
            "Results on test set:  26 correct out of 29 total.\n",
            "row   0 :   versicolor versicolor     \n",
            "row   1 :    virginica virginica      \n",
            "row   2 :       setosa setosa         \n",
            "row   3 :   versicolor versicolor     \n",
            "row   4 :   versicolor virginica      incorrect\n",
            "row   5 :    virginica virginica      \n",
            "row   6 :   versicolor versicolor     \n",
            "row   7 :    virginica virginica      \n",
            "row   8 :    virginica virginica      \n",
            "row   9 :       setosa setosa         \n",
            "row  10 :       setosa setosa         \n",
            "row  11 :       setosa setosa         \n",
            "row  12 :       setosa setosa         \n",
            "row  13 :    virginica virginica      \n",
            "row  14 :    virginica virginica      \n",
            "row  15 :    virginica virginica      \n",
            "row  16 :       setosa setosa         \n",
            "row  17 :    virginica virginica      \n",
            "row  18 :       setosa setosa         \n",
            "row  19 :    virginica virginica      \n",
            "row  20 :   versicolor versicolor     \n",
            "row  21 :   versicolor virginica      incorrect\n",
            "row  22 :    virginica virginica      \n",
            "row  23 :    virginica virginica      \n",
            "row  24 :   versicolor versicolor     \n",
            "row  25 :       setosa setosa         \n",
            "row  26 :   versicolor versicolor     \n",
            "row  27 :       setosa setosa         \n",
            "row  28 :   versicolor virginica      incorrect\n",
            "\n",
            "Correct: 26 out of 29\n"
          ]
        },
        {
          "output_type": "execute_result",
          "data": {
            "text/plain": [
              "26"
            ]
          },
          "metadata": {},
          "execution_count": 50
        }
      ],
      "source": [
        "#\n",
        "# +++ This is the \"Model-testing Cell\"\n",
        "#\n",
        "# Now, let's see how well we did on our \"held-out data\" (the testing data)\n",
        "#\n",
        "\n",
        "# We run our test set!\n",
        "predicted_labels = rforest_model.predict(X_test)\n",
        "actual_labels = y_test\n",
        "\n",
        "# Let's print them so we can compare...\n",
        "print(\"Predicted labels:\", predicted_labels)\n",
        "print(\"Actual  labels  :\", actual_labels)\n",
        "\n",
        "# And, some overall results\n",
        "num_correct = sum(predicted_labels == actual_labels)\n",
        "total = len(actual_labels)\n",
        "print(f\"\\nResults on test set:  {num_correct} correct out of {total} total.\")\n",
        "\n",
        "# and, let's print our table, too...\n",
        "compare_labels(predicted_labels,actual_labels)"
      ]
    },
    {
      "cell_type": "code",
      "execution_count": null,
      "metadata": {
        "id": "ZURJKKX_bTo4",
        "colab": {
          "base_uri": "https://localhost:8080/"
        },
        "outputId": "2b937055-cdcf-4fb4-b0f3-17db893403fe"
      },
      "outputs": [
        {
          "output_type": "stream",
          "name": "stdout",
          "text": [
            "One of the forest's trees is DecisionTreeClassifier(max_depth=1, max_features='sqrt', random_state=799302772)\n",
            "file rf_tree_026.gv written. Try copying the result to http://viz-js.com/ \n",
            "\n",
            "digraph Tree {\n",
            "node [shape=box, style=\"filled\", color=\"black\", fontname=\"helvetica\"] ;\n",
            "graph [ranksep=equally, splines=polyline] ;\n",
            "edge [fontname=\"helvetica\"] ;\n",
            "0 [label=\"petalwid <= 0.7\\ngini = 0.629\\nsamples = 46\\nvalue = [27, 12, 17]\\nclass = setosa\", fillcolor=\"#f8dfcc\"] ;\n",
            "1 [label=\"gini = 0.0\\nsamples = 21\\nvalue = [27, 0, 0]\\nclass = setosa\", fillcolor=\"#e58139\"] ;\n",
            "0 -> 1 [labeldistance=2.5, labelangle=45, headlabel=\"True\"] ;\n",
            "2 [label=\"gini = 0.485\\nsamples = 25\\nvalue = [0, 12, 17]\\nclass = virginica\", fillcolor=\"#dac5f7\"] ;\n",
            "0 -> 2 [labeldistance=2.5, labelangle=-45, headlabel=\"False\"] ;\n",
            "{rank=same ; 0} ;\n",
            "{rank=same ; 1; 2} ;\n",
            "}\n"
          ]
        }
      ],
      "source": [
        "#\n",
        "# we can get the individual trees, if we want...\n",
        "#\n",
        "tree_index = 26   # which tree\n",
        "one_rf_tree = rforest_model.estimators_[tree_index]\n",
        "print(f\"One of the forest's trees is {one_rf_tree}\")\n",
        "\n",
        "# From there, it's possible to create a graphical version...\n",
        "filename = f'rf_tree_{tree_index:03d}.gv'             # f strings! Could save all trees, but we won't do so here.\n",
        "tree.export_graphviz(one_rf_tree, out_file=filename,  # the filename constructed above...!\n",
        "                            feature_names=COLUMNS[:-1], # actual feature names, not species\n",
        "                            filled=True,              # fun!\n",
        "                            rotate=False,             # False for Up/Down; True for L/R\n",
        "                            class_names=SPECIES,      # good to have\n",
        "                            leaves_parallel=True )    # lots of options!\n",
        "\n",
        "print(f\"file {filename} written. Try copying the result to http://viz-js.com/ \\n\")\n",
        "\n",
        "# Create and save the png file\n",
        "rf_tree = pydotplus.graph_from_dot_file(filename)\n",
        "rf_tree.write_png(f'rf_tree_{tree_index:03d}.png')\n",
        "\n",
        "with open(filename, \"r\") as f:\n",
        "    file_text = f.read()\n",
        "    print(file_text)"
      ]
    },
    {
      "cell_type": "code",
      "execution_count": null,
      "metadata": {
        "id": "tHxNZ5A3bTo4",
        "colab": {
          "base_uri": "https://localhost:8080/",
          "height": 95
        },
        "outputId": "222f0b3a-16b0-4a1e-d121-b9b476e9f726"
      },
      "outputs": [
        {
          "output_type": "execute_result",
          "data": {
            "image/png": "[encoded data removed]",
            "text/plain": [
              "<IPython.core.display.Image object>"
            ]
          },
          "metadata": {
            "image/png": {
              "width": 300
            }
          },
          "execution_count": 55
        }
      ],
      "source": [
        "#\n",
        "# add locally, to this notebook...\n",
        "#\n",
        "\n",
        "from IPython import display\n",
        "display.Image(\"./rf_tree_026.png\", width=300)  # adjust for your treename/size!"
      ]
    },
    {
      "cell_type": "code",
      "execution_count": null,
      "metadata": {
        "id": "L-42R5btbTo4"
      },
      "outputs": [],
      "source": [
        "#\n",
        "# Now, to TUNE the model (with cross-validation)...\n",
        "#\n",
        "#\n",
        "# We previously used a depth of 1  and #trees of 42\n",
        "#\n",
        "# So, we try several depths to find best_d\n",
        "#            and several #'s of trees to find best_ntrees\n",
        "#\n",
        "# The tradeoff is underfitting/overfitting and time...\n",
        "#     \"too many trees\" tends may add noticeably to execution time"
      ]
    },
    {
      "cell_type": "code",
      "execution_count": null,
      "metadata": {
        "id": "AwjHOqGEbTo4",
        "colab": {
          "base_uri": "https://localhost:8080/"
        },
        "outputId": "d3a9bacd-5310-436c-af3f-6a0490b56252"
      },
      "outputs": [
        {
          "output_type": "stream",
          "name": "stdout",
          "text": [
            "depth:  1 ntrees:  50 cv accuracy:  0.8648\n",
            "depth:  1 ntrees: 150 cv accuracy:  0.9640\n",
            "depth:  1 ntrees: 250 cv accuracy:  0.9458\n",
            "depth:  2 ntrees:  50 cv accuracy:  0.9545\n",
            "depth:  2 ntrees: 150 cv accuracy:  0.9545\n",
            "depth:  2 ntrees: 250 cv accuracy:  0.9545\n",
            "depth:  3 ntrees:  50 cv accuracy:  0.9545\n",
            "depth:  3 ntrees: 150 cv accuracy:  0.9545\n",
            "depth:  3 ntrees: 250 cv accuracy:  0.9545\n",
            "depth:  4 ntrees:  50 cv accuracy:  0.9545\n",
            "depth:  4 ntrees: 150 cv accuracy:  0.9455\n",
            "depth:  4 ntrees: 250 cv accuracy:  0.9545\n",
            "depth:  5 ntrees:  50 cv accuracy:  0.9458\n",
            "depth:  5 ntrees: 150 cv accuracy:  0.9458\n",
            "depth:  5 ntrees: 250 cv accuracy:  0.9545\n",
            "\n",
            "best_depth: 1 and best_num_trees: 150 are our choices. Acc: 0.9640316205533598\n"
          ]
        }
      ],
      "source": [
        "#\n",
        "# So, to compare different parameters, let's use cv\n",
        "#\n",
        "\n",
        "from sklearn.model_selection import cross_val_score\n",
        "\n",
        "#\n",
        "# cross-validation splits the training set into two pieces:\n",
        "#   + model-building and model-validation. We'll use \"build\" and \"validate\"\n",
        "#\n",
        "\n",
        "#\n",
        "# lab task:  wrap this loop in another one! (or create an inner one...)\n",
        "#\n",
        "\n",
        "best_d = 1         # range(1,6)\n",
        "best_ntrees = 50   # [50,150,250]\n",
        "best_accuracy = 0\n",
        "\n",
        "for d in range(1,6):\n",
        "    for ntrees in [50,150,250]:\n",
        "        rforest_model = ensemble.RandomForestClassifier(max_depth=d,\n",
        "                                                        n_estimators=ntrees,\n",
        "                                                        max_samples=0.5)\n",
        "        cv_scores = cross_val_score( rforest_model, X_train, y_train, cv=5 ) # 5 means 80/20 split\n",
        "        average_cv_accuracy = cv_scores.mean()  # more likely, only their average\n",
        "        print(f\"depth: {d:2d} ntrees: {ntrees:3d} cv accuracy: {average_cv_accuracy:7.4f}\")\n",
        "        if average_cv_accuracy > best_accuracy:\n",
        "            best_accuracy = average_cv_accuracy\n",
        "            best_d = d\n",
        "            best_ntrees = ntrees\n",
        "\n",
        "#\n",
        "# our task: assign best values by keeping a \"running max\"\n",
        "#\n",
        "best_depth = best_d\n",
        "best_num_trees = best_ntrees\n",
        "\n",
        "print()\n",
        "print(f\"best_depth: {best_depth} and best_num_trees: {best_num_trees} are our choices. Acc: {best_accuracy}\")\n",
        "\n",
        "#\n",
        "# remember that the RF lab task is to complete this nested cross-validation loop!\n",
        "#"
      ]
    },
    {
      "cell_type": "code",
      "execution_count": null,
      "metadata": {
        "id": "a7_tBjCJbTo4",
        "colab": {
          "base_uri": "https://localhost:8080/"
        },
        "outputId": "aa96bc73-cd02-491a-f757-2fb1d3e4169d"
      },
      "outputs": [
        {
          "output_type": "stream",
          "name": "stdout",
          "text": [
            "Built an RF classifier with depth=1 and ntrees=150\n"
          ]
        }
      ],
      "source": [
        "#\n",
        "# Now, we re-create and re-run the  \"Model-building and -training Cell\"\n",
        "#\n",
        "from sklearn import tree      # for decision trees\n",
        "from sklearn import ensemble  # for random forests\n",
        "\n",
        "best_depth = best_depth\n",
        "best_num_trees = best_num_trees\n",
        "# we should have best_depth and best_num_trees\n",
        "rforest_model_tuned = ensemble.RandomForestClassifier(max_depth=best_depth,\n",
        "                                                      n_estimators=best_num_trees,\n",
        "                                                      max_samples=0.5)\n",
        "\n",
        "# we train the model (it's one line!)\n",
        "rforest_model_tuned.fit(X_train, y_train)                              # yay!  trained!\n",
        "print(f\"Built an RF classifier with depth={best_depth} and ntrees={best_num_trees}\")"
      ]
    },
    {
      "cell_type": "code",
      "execution_count": null,
      "metadata": {
        "id": "XWAALfZ8bTo4",
        "colab": {
          "base_uri": "https://localhost:8080/"
        },
        "outputId": "cdba78d6-3d0f-4da8-eee1-9281dd91e6ec"
      },
      "outputs": [
        {
          "output_type": "stream",
          "name": "stdout",
          "text": [
            "Predicted labels: [1. 2. 0. 1. 1. 2. 1. 2. 2. 0. 0. 0. 0. 1. 2. 2. 0. 2. 0. 2. 1. 1. 2. 2.\n",
            " 1. 0. 1. 0. 1.]\n",
            "Actual  labels  : [1. 2. 0. 1. 2. 2. 1. 2. 2. 0. 0. 0. 0. 2. 2. 2. 0. 2. 0. 2. 1. 2. 2. 2.\n",
            " 1. 0. 1. 0. 2.]\n",
            "\n",
            "Results on test set:  25 correct out of 29 total.\n",
            "row   0 :   versicolor versicolor     \n",
            "row   1 :    virginica virginica      \n",
            "row   2 :       setosa setosa         \n",
            "row   3 :   versicolor versicolor     \n",
            "row   4 :   versicolor virginica      incorrect\n",
            "row   5 :    virginica virginica      \n",
            "row   6 :   versicolor versicolor     \n",
            "row   7 :    virginica virginica      \n",
            "row   8 :    virginica virginica      \n",
            "row   9 :       setosa setosa         \n",
            "row  10 :       setosa setosa         \n",
            "row  11 :       setosa setosa         \n",
            "row  12 :       setosa setosa         \n",
            "row  13 :   versicolor virginica      incorrect\n",
            "row  14 :    virginica virginica      \n",
            "row  15 :    virginica virginica      \n",
            "row  16 :       setosa setosa         \n",
            "row  17 :    virginica virginica      \n",
            "row  18 :       setosa setosa         \n",
            "row  19 :    virginica virginica      \n",
            "row  20 :   versicolor versicolor     \n",
            "row  21 :   versicolor virginica      incorrect\n",
            "row  22 :    virginica virginica      \n",
            "row  23 :    virginica virginica      \n",
            "row  24 :   versicolor versicolor     \n",
            "row  25 :       setosa setosa         \n",
            "row  26 :   versicolor versicolor     \n",
            "row  27 :       setosa setosa         \n",
            "row  28 :   versicolor virginica      incorrect\n",
            "\n",
            "Correct: 25 out of 29\n"
          ]
        },
        {
          "output_type": "execute_result",
          "data": {
            "text/plain": [
              "25"
            ]
          },
          "metadata": {},
          "execution_count": 59
        }
      ],
      "source": [
        "#\n",
        "# +++ This is our \"Model-testing Cell\"\n",
        "#\n",
        "# Now, let's see how well we did on our \"held-out data\" (the testing data)\n",
        "#\n",
        "\n",
        "# We run our test set!\n",
        "predicted_labels = rforest_model_tuned.predict(X_test)\n",
        "actual_labels = y_test\n",
        "\n",
        "# Let's print them so we can compare...\n",
        "print(\"Predicted labels:\", predicted_labels)\n",
        "print(\"Actual  labels  :\", actual_labels)\n",
        "\n",
        "# And, some overall results\n",
        "num_correct = sum(predicted_labels == actual_labels)\n",
        "total = len(actual_labels)\n",
        "print(f\"\\nResults on test set:  {num_correct} correct out of {total} total.\")\n",
        "\n",
        "# and, let's print our table, too...\n",
        "compare_labels(predicted_labels,actual_labels)"
      ]
    },
    {
      "cell_type": "code",
      "execution_count": null,
      "metadata": {
        "id": "4trRlwwlbTo4",
        "colab": {
          "base_uri": "https://localhost:8080/"
        },
        "outputId": "8db45887-35b3-4680-a52a-7503af27f854"
      },
      "outputs": [
        {
          "output_type": "stream",
          "name": "stdout",
          "text": [
            "Built an RF classifier with depth=1 and ntrees=150\n"
          ]
        }
      ],
      "source": [
        "#\n",
        "# Ok!  We have tuned our RF to use the \"best\" parameters\n",
        "#\n",
        "# Now, we use ALL available data to train our final predictive model:\n",
        "#\n",
        "from sklearn import tree      # for decision trees\n",
        "from sklearn import ensemble  # for random forests\n",
        "\n",
        "# we should have best_depth and best_num_trees\n",
        "rforest_model_final = ensemble.RandomForestClassifier(max_depth=best_depth,\n",
        "                                                      n_estimators=best_num_trees,\n",
        "                                                      max_samples=0.5)\n",
        "\n",
        "# we train the model (it's one line!)\n",
        "rforest_model_final.fit(X_all, y_all)              # yay!  trained!\n",
        "print(f\"Built an RF classifier with depth={best_depth} and ntrees={best_num_trees}\")"
      ]
    },
    {
      "cell_type": "code",
      "execution_count": null,
      "metadata": {
        "id": "AkRjWadPbTo4",
        "colab": {
          "base_uri": "https://localhost:8080/"
        },
        "outputId": "0474d85f-eb46-48ea-e410-625bbb67e021"
      },
      "outputs": [
        {
          "output_type": "stream",
          "name": "stdout",
          "text": [
            "I predict 2 from Features [6.7, 3.3, 5.7, 2.1]\n"
          ]
        }
      ],
      "source": [
        "#\n",
        "# final predictive model (k-nearest-neighbor), with tuned k + ALL data incorporated\n",
        "#\n",
        "\n",
        "def predictive_model( Features ):\n",
        "    \"\"\" input: a list of four features\n",
        "                [ sepallen, sepalwid, petallen, petalwid ]\n",
        "        output: the predicted species of iris, from\n",
        "                  setosa (0), versicolor (1), virginica (2)\n",
        "    \"\"\"\n",
        "    our_features = np.asarray([Features])                 # extra brackets needed\n",
        "    predicted_species = rforest_model_final.predict(our_features)\n",
        "\n",
        "    predicted_species = int(round(predicted_species[0]))  # unpack one element\n",
        "    name = SPECIES[predicted_species]\n",
        "    #print( f\"{name} ({predicted_species})\" )\n",
        "    return predicted_species\n",
        "\n",
        "#\n",
        "# Try it!\n",
        "#\n",
        "# Features = eval(input(\"Enter new Features: \"))\n",
        "#\n",
        "Features = [6.7,3.3,5.7,2.1]   # [4.8,2.7,3.1,0.2] [4.6,3.1,2.0,1.5] [6.7,3.3,5.7,2.1]\n",
        "result = predictive_model( Features )\n",
        "print(f\"I predict {result} from Features {Features}\")"
      ]
    },
    {
      "cell_type": "code",
      "execution_count": null,
      "metadata": {
        "id": "SeghSCekbTo4",
        "colab": {
          "base_uri": "https://localhost:8080/"
        },
        "outputId": "97feb496-20f5-4c30-9950-a6cd6b4e262e"
      },
      "outputs": [
        {
          "output_type": "stream",
          "name": "stdout",
          "text": [
            "I predict 0 from Features [4.8, 3.1, 1.6, 0.2]\n",
            "I predict 1 from Features [5.7, 2.9, 4.2, 1.3]\n",
            "I predict 2 from Features [5.8, 2.7, 5.1, 1.9]\n",
            "I predict 0 from Features [5.2, 4.1, 1.5, 0.1]\n",
            "I predict 0 from Features [5.4, 3.4, 1.5, 0.4]\n",
            "I predict 1 from Features [5.1, 2.5, 3.0, 1.1]\n",
            "I predict 1 from Features [6.2, 2.9, 4.3, 1.3]\n",
            "I predict 2 from Features [6.3, 3.3, 6.0, 2.5]\n",
            "I predict 1 from Features [5.7, 2.8, 4.1, 1.3]\n"
          ]
        }
      ],
      "source": [
        "#\n",
        "# try it on new, \"unseen\" data!\n",
        "#\n",
        "\n",
        "LoF = [[4.8, 3.1, 1.6, 0.2 ],\n",
        "[5.7, 2.9, 4.2, 1.3 ],\n",
        "[5.8, 2.7, 5.1, 1.9 ],\n",
        "[5.2, 4.1, 1.5, 0.1 ],\n",
        "[5.4, 3.4, 1.5, 0.4 ],\n",
        "[5.1, 2.5, 3.0, 1.1 ],\n",
        "[6.2, 2.9, 4.3, 1.3 ],\n",
        "[6.3, 3.3, 6.0, 2.5 ],\n",
        "[5.7, 2.8, 4.1, 1.3 ]]\n",
        "\n",
        "for Features in LoF:\n",
        "    result = predictive_model( Features )\n",
        "    print(f\"I predict {result} from Features {Features}\")\n",
        "\n",
        "# these flowers' coded species: 012001122"
      ]
    },
    {
      "cell_type": "markdown",
      "source": [
        "### Let's see our predictive model!"
      ],
      "metadata": {
        "id": "XKT9HEDg8I1C"
      }
    },
    {
      "cell_type": "code",
      "source": [
        "# we can only plot 2 dimensions at a time!\n",
        "# These two will be our constants:\n",
        "petallen = 4.2\n",
        "petalwid = 1.042\n",
        "\n",
        "VERTICAL = np.arange(0,10,.1) # array of vertical input values\n",
        "HORIZONT = np.arange(0,10,.1) # array of horizontal input values\n",
        "PLANE = np.zeros( (len(HORIZONT),len(VERTICAL)) ) # the output array\n",
        "\n",
        "row = 0\n",
        "col = 0\n",
        "for sepallen in VERTICAL: # for every sepal length\n",
        "  for sepalwid in HORIZONT: # for every sepal width\n",
        "    Features = [ sepallen, sepalwid, petallen, petalwid ]\n",
        "    output = predictive_model(Features)\n",
        "    #print(f\"Input {Features} Output: {output}\")\n",
        "    PLANE[row,col] = output\n",
        "    col += 1\n",
        "  col = 0\n",
        "  row += 1\n",
        "  print(\".\", end=\"\")  # so we know it's running\n",
        "  if row % 42 == 0: print() # same...\n",
        "\n",
        "print(\"\\n\", PLANE[0:3,0:3]) # small bit of the upper-left corner\n"
      ],
      "metadata": {
        "id": "PIcIz3Ol8MVI",
        "colab": {
          "base_uri": "https://localhost:8080/"
        },
        "outputId": "ede46748-28f4-43f5-8ea3-74c87d2d1818"
      },
      "execution_count": null,
      "outputs": [
        {
          "output_type": "stream",
          "name": "stdout",
          "text": [
            "..........................................\n",
            "..........................................\n",
            "................\n",
            " [[1. 1. 1.]\n",
            " [1. 1. 1.]\n",
            " [1. 1. 1.]]\n"
          ]
        }
      ]
    },
    {
      "cell_type": "code",
      "source": [
        "import seaborn as sns\n",
        "# sns.heatmap(PLANE)\n",
        "\n",
        "sns.set(rc = {'figure.figsize':(12,8)})  # figure size!\n",
        "ax = sns.heatmap(PLANE)\n",
        "ax.invert_yaxis() # to match our usual direction\n",
        "ax.set(xlabel=\"sepalwid (tenths)\", ylabel=\"sepallen (tenths)\")\n",
        "ax.set_xticks(ax.get_xticks()[::4])\n",
        "ax.set_yticks(ax.get_yticks()[::4])\n",
        "\n",
        "\n",
        "print(\"Remember our species-to-number mapping:\")\n",
        "print(\"0 - setosa\")\n",
        "print(\"1 - versicolor\")\n",
        "print(\"2 - virginica\")"
      ],
      "metadata": {
        "id": "RP3sK4Zo8MVJ",
        "colab": {
          "base_uri": "https://localhost:8080/",
          "height": 779
        },
        "outputId": "1267065e-3eed-4946-eb7b-9f7359ee8528"
      },
      "execution_count": null,
      "outputs": [
        {
          "output_type": "stream",
          "name": "stdout",
          "text": [
            "Remember our species-to-number mapping:\n",
            "0 - setosa\n",
            "1 - versicolor\n",
            "2 - virginica\n"
          ]
        },
        {
          "output_type": "display_data",
          "data": {
            "text/plain": [
              "<Figure size 1200x800 with 2 Axes>"
            ],
            "image/png": "[encoded data removed]"
          },
          "metadata": {}
        }
      ]
    },
    {
      "cell_type": "code",
      "source": [
        "#\n",
        "# let's hold the sepal length and width constant and vary petal len + wid:\n",
        "\n",
        "sepallen = 3.42\n",
        "sepalwid = 3.42\n",
        "\n",
        "VERTICAL = np.arange(0,10,.1) # array of vertical input values\n",
        "HORIZONT = np.arange(0,10,.1) # array of horizontal input values\n",
        "PLANEv2 = np.zeros( (len(HORIZONT),len(VERTICAL)) ) # the output array\n",
        "\n",
        "row = 0\n",
        "col = 0\n",
        "for petallen in VERTICAL: # for every sepal length\n",
        "  for petalwid in HORIZONT: # for every sepal width\n",
        "    Features = [ sepallen, sepalwid, petallen, petalwid ]\n",
        "    output = predictive_model(Features)\n",
        "    #print(f\"Input {Features} Output: {output}\")\n",
        "    PLANEv2[row,col] = output\n",
        "    col += 1\n",
        "  col = 0\n",
        "  row += 1\n",
        "  print(\".\", end=\"\")  # so we know it's running\n",
        "  if row % 42 == 0: print() # same...\n",
        "\n",
        "print(\"\\n\", PLANEv2[0:3,0:3]) # small bit of the upper-left corner\n"
      ],
      "metadata": {
        "id": "yJvhF9_g8MVJ",
        "colab": {
          "base_uri": "https://localhost:8080/"
        },
        "outputId": "095ab42e-4848-4dc8-e289-d61b16d01853"
      },
      "execution_count": null,
      "outputs": [
        {
          "output_type": "stream",
          "name": "stdout",
          "text": [
            "..........................................\n",
            "..........................................\n",
            "................\n",
            " [[0. 0. 0.]\n",
            " [0. 0. 0.]\n",
            " [0. 0. 0.]]\n"
          ]
        }
      ]
    },
    {
      "cell_type": "code",
      "source": [
        "import seaborn as sns\n",
        "# sns.heatmap(PLANE)\n",
        "\n",
        "sns.set(rc = {'figure.figsize':(12,8)})  # figure size!\n",
        "ax = sns.heatmap(PLANEv2)\n",
        "ax.invert_yaxis()\n",
        "ax.set(xlabel=\"petalwid (tenths)\", ylabel=\"petallen (tenths)\")\n",
        "ax.set_xticks(ax.get_xticks()[::4])\n",
        "ax.set_yticks(ax.get_yticks()[::4])\n",
        "\n",
        "\n",
        "print(\"Remember our species-to-number mapping:\")\n",
        "print(\"0 - setosa\")\n",
        "print(\"1 - versicolor\")\n",
        "print(\"2 - virginica\")"
      ],
      "metadata": {
        "id": "fyuq5YCN8MVK",
        "colab": {
          "base_uri": "https://localhost:8080/",
          "height": 779
        },
        "outputId": "476c4aea-4134-4726-a34f-d2b81c0d2748"
      },
      "execution_count": null,
      "outputs": [
        {
          "output_type": "stream",
          "name": "stdout",
          "text": [
            "Remember our species-to-number mapping:\n",
            "0 - setosa\n",
            "1 - versicolor\n",
            "2 - virginica\n"
          ]
        },
        {
          "output_type": "display_data",
          "data": {
            "text/plain": [
              "<Figure size 1200x800 with 2 Axes>"
            ],
            "image/png": "[encoded data removed]"
          },
          "metadata": {}
        }
      ]
    },
    {
      "cell_type": "code",
      "execution_count": null,
      "metadata": {
        "id": "1YSg01bzbTo4",
        "colab": {
          "base_uri": "https://localhost:8080/"
        },
        "outputId": "6e856385-0e3f-40c7-bb42-2143f28321dc"
      },
      "outputs": [
        {
          "output_type": "stream",
          "name": "stdout",
          "text": [
            "[0.12666667 0.         0.44666667 0.42666667]\n",
            "\n",
            "Feature     sepallen has   12.67% of the decision-making importance.\n",
            "Feature     sepalwid has    0.00% of the decision-making importance.\n",
            "Feature     petallen has   44.67% of the decision-making importance.\n",
            "Feature     petalwid has   42.67% of the decision-making importance.\n"
          ]
        }
      ],
      "source": [
        "#\n",
        "# feature importances are often even more \"important\" than predictions...\n",
        "#\n",
        "#    Random forests can provide a much \"smoother\" measure of feature importance, since\n",
        "#                   they integrate over so many individual models (each tree)\n",
        "#\n",
        "#    That is, it's much less likely that a feature will have 0% importance, unless it never varies\n",
        "#\n",
        "\n",
        "print(rforest_model_final.feature_importances_)\n",
        "print()\n",
        "\n",
        "# let's see them with each feature name:\n",
        "IMPs = rforest_model_final.feature_importances_\n",
        "\n",
        "# enumerate is great when you want indices _and_ elements!\n",
        "for i, importance in enumerate(IMPs):\n",
        "    perc = importance*100\n",
        "    print(f\"Feature {COLUMNS[i]:>12s} has {perc:>7.2f}% of the decision-making importance.\")"
      ]
    },
    {
      "cell_type": "code",
      "execution_count": null,
      "metadata": {
        "id": "F954zY84bTo4"
      },
      "outputs": [],
      "source": [
        "#\n",
        "# That's the random-forest model!\n",
        "# Let's consider ourselves not lost, but found,\n",
        "#       amid so many trees-and-forests!\n",
        "#\n",
        "# In fact, the rest of the hw is to run more DT/RF workflows:\n",
        "#          Births, Digits, and your choice of Titanic-or-something-else\n",
        "#\n",
        "#          If you do have a dataset that's of interest, I suggest use that as the \"something else\"\n",
        "#\n",
        "#          (The Titanic dataset is great, but it was a while ago... :-)\n",
        "#"
      ]
    },
    {
      "cell_type": "markdown",
      "source": [
        "### Yay!  \n",
        "\n",
        "Next up:  Births DT and RF"
      ],
      "metadata": {
        "id": "-S5CiYRu9Rk0"
      }
    },
    {
      "cell_type": "markdown",
      "source": [
        "# DT and RF: **Births** data\n",
        "\n",
        "Next, you'll do the same thing on the births dataset...\n"
      ],
      "metadata": {
        "id": "mYRwxji09beW"
      }
    },
    {
      "cell_type": "markdown",
      "source": [
        "### Suggestion:\n",
        "\n",
        "Open this notebook twice!\n",
        "\n",
        "**One window** so that you can go cell-by-cell through the iris-cleaning and iris-modeling cells...\n",
        "\n",
        "**The second window** is to copy-paste-and-adapt the iris approach to the births data\n",
        "\n",
        "The approach is identical.\n",
        "\n",
        "The data-details are different, and that's where the adaptation is necessary and important.\n",
        "\n",
        "Onward:"
      ],
      "metadata": {
        "id": "P-Z6A12S9z_s"
      }
    },
    {
      "cell_type": "markdown",
      "source": [
        "These are just placeholders.\n",
        "\n",
        "You'll copy-and-edit ***lots*** of cells from the iris example."
      ],
      "metadata": {
        "id": "UVsMOQOT-MiE"
      }
    },
    {
      "cell_type": "code",
      "source": [
        "#\n",
        "# a coding cell placeholder\n",
        "#\n",
        "\n",
        "# You'll copy lots of cells - mostly coding cells - from the iris example\n",
        "\n",
        "# libraries!\n",
        "import pandas as pd\n",
        "from sklearn.model_selection import train_test_split\n",
        "from sklearn.tree import DecisionTreeClassifier\n",
        "from sklearn.metrics import classification_report, accuracy_score\n",
        "\n",
        "\n"
      ],
      "metadata": {
        "id": "iZ1aWDSu-Szk"
      },
      "execution_count": 111,
      "outputs": []
    },
    {
      "cell_type": "code",
      "source": [
        "# If not already loaded\n",
        "births = pd.read_csv('births_cleaned.csv')\n",
        "\n",
        "# Check data types and unique values\n",
        "print(births.dtypes)\n",
        "print(births['popularity'].unique())\n",
        "\n",
        "# Features and target\n",
        "X = births[['month', 'day', 'births']]\n",
        "y = births['popularity']\n",
        "\n"
      ],
      "metadata": {
        "colab": {
          "base_uri": "https://localhost:8080/"
        },
        "id": "FZmeCmvKTKiT",
        "outputId": "2135cb86-4d4e-4d40-cb6c-a35f6f006244"
      },
      "execution_count": 113,
      "outputs": [
        {
          "output_type": "stream",
          "name": "stdout",
          "text": [
            "month                  int64\n",
            "day                    int64\n",
            "births                 int64\n",
            "above/below median    object\n",
            "popularity             int64\n",
            "dtype: object\n",
            "[0 1]\n"
          ]
        }
      ]
    },
    {
      "cell_type": "code",
      "source": [
        "# Train and split\n",
        "\n",
        "X_train, X_test, y_train, y_test = train_test_split(X, y, test_size=0.2, random_state=42)"
      ],
      "metadata": {
        "id": "QZyjMSuDvBx1"
      },
      "execution_count": 114,
      "outputs": []
    },
    {
      "cell_type": "code",
      "source": [
        "#Train the decision tree model\n",
        "\n",
        "dt_model = DecisionTreeClassifier(random_state=42)\n",
        "dt_model.fit(X_train, y_train)"
      ],
      "metadata": {
        "colab": {
          "base_uri": "https://localhost:8080/",
          "height": 80
        },
        "id": "W7USznNWvLGo",
        "outputId": "d44c91e7-7a81-4408-e55b-feaa2b4a3fb8"
      },
      "execution_count": 115,
      "outputs": [
        {
          "output_type": "execute_result",
          "data": {
            "text/plain": [
              "DecisionTreeClassifier(random_state=42)"
            ],
            "text/html": [
              "<style>#sk-container-id-1 {\n",
              "  /* Definition of color scheme common for light and dark mode */\n",
              "  --sklearn-color-text: #000;\n",
              "  --sklearn-color-text-muted: #666;\n",
              "  --sklearn-color-line: gray;\n",
              "  /* Definition of color scheme for unfitted estimators */\n",
              "  --sklearn-color-unfitted-level-0: #fff5e6;\n",
              "  --sklearn-color-unfitted-level-1: #f6e4d2;\n",
              "  --sklearn-color-unfitted-level-2: #ffe0b3;\n",
              "  --sklearn-color-unfitted-level-3: chocolate;\n",
              "  /* Definition of color scheme for fitted estimators */\n",
              "  --sklearn-color-fitted-level-0: #f0f8ff;\n",
              "  --sklearn-color-fitted-level-1: #d4ebff;\n",
              "  --sklearn-color-fitted-level-2: #b3dbfd;\n",
              "  --sklearn-color-fitted-level-3: cornflowerblue;\n",
              "\n",
              "  /* Specific color for light theme */\n",
              "  --sklearn-color-text-on-default-background: var(--sg-text-color, var(--theme-code-foreground, var(--jp-content-font-color1, black)));\n",
              "  --sklearn-color-background: var(--sg-background-color, var(--theme-background, var(--jp-layout-color0, white)));\n",
              "  --sklearn-color-border-box: var(--sg-text-color, var(--theme-code-foreground, var(--jp-content-font-color1, black)));\n",
              "  --sklearn-color-icon: #696969;\n",
              "\n",
              "  @media (prefers-color-scheme: dark) {\n",
              "    /* Redefinition of color scheme for dark theme */\n",
              "    --sklearn-color-text-on-default-background: var(--sg-text-color, var(--theme-code-foreground, var(--jp-content-font-color1, white)));\n",
              "    --sklearn-color-background: var(--sg-background-color, var(--theme-background, var(--jp-layout-color0, #111)));\n",
              "    --sklearn-color-border-box: var(--sg-text-color, var(--theme-code-foreground, var(--jp-content-font-color1, white)));\n",
              "    --sklearn-color-icon: #878787;\n",
              "  }\n",
              "}\n",
              "\n",
              "#sk-container-id-1 {\n",
              "  color: var(--sklearn-color-text);\n",
              "}\n",
              "\n",
              "#sk-container-id-1 pre {\n",
              "  padding: 0;\n",
              "}\n",
              "\n",
              "#sk-container-id-1 input.sk-hidden--visually {\n",
              "  border: 0;\n",
              "  clip: rect(1px 1px 1px 1px);\n",
              "  clip: rect(1px, 1px, 1px, 1px);\n",
              "  height: 1px;\n",
              "  margin: -1px;\n",
              "  overflow: hidden;\n",
              "  padding: 0;\n",
              "  position: absolute;\n",
              "  width: 1px;\n",
              "}\n",
              "\n",
              "#sk-container-id-1 div.sk-dashed-wrapped {\n",
              "  border: 1px dashed var(--sklearn-color-line);\n",
              "  margin: 0 0.4em 0.5em 0.4em;\n",
              "  box-sizing: border-box;\n",
              "  padding-bottom: 0.4em;\n",
              "  background-color: var(--sklearn-color-background);\n",
              "}\n",
              "\n",
              "#sk-container-id-1 div.sk-container {\n",
              "  /* jupyter's `normalize.less` sets `[hidden] { display: none; }`\n",
              "     but bootstrap.min.css set `[hidden] { display: none !important; }`\n",
              "     so we also need the `!important` here to be able to override the\n",
              "     default hidden behavior on the sphinx rendered scikit-learn.org.\n",
              "     See: https://github.com/scikit-learn/scikit-learn/issues/21755 */\n",
              "  display: inline-block !important;\n",
              "  position: relative;\n",
              "}\n",
              "\n",
              "#sk-container-id-1 div.sk-text-repr-fallback {\n",
              "  display: none;\n",
              "}\n",
              "\n",
              "div.sk-parallel-item,\n",
              "div.sk-serial,\n",
              "div.sk-item {\n",
              "  /* draw centered vertical line to link estimators */\n",
              "  background-image: linear-gradient(var(--sklearn-color-text-on-default-background), var(--sklearn-color-text-on-default-background));\n",
              "  background-size: 2px 100%;\n",
              "  background-repeat: no-repeat;\n",
              "  background-position: center center;\n",
              "}\n",
              "\n",
              "/* Parallel-specific style estimator block */\n",
              "\n",
              "#sk-container-id-1 div.sk-parallel-item::after {\n",
              "  content: \"\";\n",
              "  width: 100%;\n",
              "  border-bottom: 2px solid var(--sklearn-color-text-on-default-background);\n",
              "  flex-grow: 1;\n",
              "}\n",
              "\n",
              "#sk-container-id-1 div.sk-parallel {\n",
              "  display: flex;\n",
              "  align-items: stretch;\n",
              "  justify-content: center;\n",
              "  background-color: var(--sklearn-color-background);\n",
              "  position: relative;\n",
              "}\n",
              "\n",
              "#sk-container-id-1 div.sk-parallel-item {\n",
              "  display: flex;\n",
              "  flex-direction: column;\n",
              "}\n",
              "\n",
              "#sk-container-id-1 div.sk-parallel-item:first-child::after {\n",
              "  align-self: flex-end;\n",
              "  width: 50%;\n",
              "}\n",
              "\n",
              "#sk-container-id-1 div.sk-parallel-item:last-child::after {\n",
              "  align-self: flex-start;\n",
              "  width: 50%;\n",
              "}\n",
              "\n",
              "#sk-container-id-1 div.sk-parallel-item:only-child::after {\n",
              "  width: 0;\n",
              "}\n",
              "\n",
              "/* Serial-specific style estimator block */\n",
              "\n",
              "#sk-container-id-1 div.sk-serial {\n",
              "  display: flex;\n",
              "  flex-direction: column;\n",
              "  align-items: center;\n",
              "  background-color: var(--sklearn-color-background);\n",
              "  padding-right: 1em;\n",
              "  padding-left: 1em;\n",
              "}\n",
              "\n",
              "\n",
              "/* Toggleable style: style used for estimator/Pipeline/ColumnTransformer box that is\n",
              "clickable and can be expanded/collapsed.\n",
              "- Pipeline and ColumnTransformer use this feature and define the default style\n",
              "- Estimators will overwrite some part of the style using the `sk-estimator` class\n",
              "*/\n",
              "\n",
              "/* Pipeline and ColumnTransformer style (default) */\n",
              "\n",
              "#sk-container-id-1 div.sk-toggleable {\n",
              "  /* Default theme specific background. It is overwritten whether we have a\n",
              "  specific estimator or a Pipeline/ColumnTransformer */\n",
              "  background-color: var(--sklearn-color-background);\n",
              "}\n",
              "\n",
              "/* Toggleable label */\n",
              "#sk-container-id-1 label.sk-toggleable__label {\n",
              "  cursor: pointer;\n",
              "  display: flex;\n",
              "  width: 100%;\n",
              "  margin-bottom: 0;\n",
              "  padding: 0.5em;\n",
              "  box-sizing: border-box;\n",
              "  text-align: center;\n",
              "  align-items: start;\n",
              "  justify-content: space-between;\n",
              "  gap: 0.5em;\n",
              "}\n",
              "\n",
              "#sk-container-id-1 label.sk-toggleable__label .caption {\n",
              "  font-size: 0.6rem;\n",
              "  font-weight: lighter;\n",
              "  color: var(--sklearn-color-text-muted);\n",
              "}\n",
              "\n",
              "#sk-container-id-1 label.sk-toggleable__label-arrow:before {\n",
              "  /* Arrow on the left of the label */\n",
              "  content: \"▸\";\n",
              "  float: left;\n",
              "  margin-right: 0.25em;\n",
              "  color: var(--sklearn-color-icon);\n",
              "}\n",
              "\n",
              "#sk-container-id-1 label.sk-toggleable__label-arrow:hover:before {\n",
              "  color: var(--sklearn-color-text);\n",
              "}\n",
              "\n",
              "/* Toggleable content - dropdown */\n",
              "\n",
              "#sk-container-id-1 div.sk-toggleable__content {\n",
              "  max-height: 0;\n",
              "  max-width: 0;\n",
              "  overflow: hidden;\n",
              "  text-align: left;\n",
              "  /* unfitted */\n",
              "  background-color: var(--sklearn-color-unfitted-level-0);\n",
              "}\n",
              "\n",
              "#sk-container-id-1 div.sk-toggleable__content.fitted {\n",
              "  /* fitted */\n",
              "  background-color: var(--sklearn-color-fitted-level-0);\n",
              "}\n",
              "\n",
              "#sk-container-id-1 div.sk-toggleable__content pre {\n",
              "  margin: 0.2em;\n",
              "  border-radius: 0.25em;\n",
              "  color: var(--sklearn-color-text);\n",
              "  /* unfitted */\n",
              "  background-color: var(--sklearn-color-unfitted-level-0);\n",
              "}\n",
              "\n",
              "#sk-container-id-1 div.sk-toggleable__content.fitted pre {\n",
              "  /* unfitted */\n",
              "  background-color: var(--sklearn-color-fitted-level-0);\n",
              "}\n",
              "\n",
              "#sk-container-id-1 input.sk-toggleable__control:checked~div.sk-toggleable__content {\n",
              "  /* Expand drop-down */\n",
              "  max-height: 200px;\n",
              "  max-width: 100%;\n",
              "  overflow: auto;\n",
              "}\n",
              "\n",
              "#sk-container-id-1 input.sk-toggleable__control:checked~label.sk-toggleable__label-arrow:before {\n",
              "  content: \"▾\";\n",
              "}\n",
              "\n",
              "/* Pipeline/ColumnTransformer-specific style */\n",
              "\n",
              "#sk-container-id-1 div.sk-label input.sk-toggleable__control:checked~label.sk-toggleable__label {\n",
              "  color: var(--sklearn-color-text);\n",
              "  background-color: var(--sklearn-color-unfitted-level-2);\n",
              "}\n",
              "\n",
              "#sk-container-id-1 div.sk-label.fitted input.sk-toggleable__control:checked~label.sk-toggleable__label {\n",
              "  background-color: var(--sklearn-color-fitted-level-2);\n",
              "}\n",
              "\n",
              "/* Estimator-specific style */\n",
              "\n",
              "/* Colorize estimator box */\n",
              "#sk-container-id-1 div.sk-estimator input.sk-toggleable__control:checked~label.sk-toggleable__label {\n",
              "  /* unfitted */\n",
              "  background-color: var(--sklearn-color-unfitted-level-2);\n",
              "}\n",
              "\n",
              "#sk-container-id-1 div.sk-estimator.fitted input.sk-toggleable__control:checked~label.sk-toggleable__label {\n",
              "  /* fitted */\n",
              "  background-color: var(--sklearn-color-fitted-level-2);\n",
              "}\n",
              "\n",
              "#sk-container-id-1 div.sk-label label.sk-toggleable__label,\n",
              "#sk-container-id-1 div.sk-label label {\n",
              "  /* The background is the default theme color */\n",
              "  color: var(--sklearn-color-text-on-default-background);\n",
              "}\n",
              "\n",
              "/* On hover, darken the color of the background */\n",
              "#sk-container-id-1 div.sk-label:hover label.sk-toggleable__label {\n",
              "  color: var(--sklearn-color-text);\n",
              "  background-color: var(--sklearn-color-unfitted-level-2);\n",
              "}\n",
              "\n",
              "/* Label box, darken color on hover, fitted */\n",
              "#sk-container-id-1 div.sk-label.fitted:hover label.sk-toggleable__label.fitted {\n",
              "  color: var(--sklearn-color-text);\n",
              "  background-color: var(--sklearn-color-fitted-level-2);\n",
              "}\n",
              "\n",
              "/* Estimator label */\n",
              "\n",
              "#sk-container-id-1 div.sk-label label {\n",
              "  font-family: monospace;\n",
              "  font-weight: bold;\n",
              "  display: inline-block;\n",
              "  line-height: 1.2em;\n",
              "}\n",
              "\n",
              "#sk-container-id-1 div.sk-label-container {\n",
              "  text-align: center;\n",
              "}\n",
              "\n",
              "/* Estimator-specific */\n",
              "#sk-container-id-1 div.sk-estimator {\n",
              "  font-family: monospace;\n",
              "  border: 1px dotted var(--sklearn-color-border-box);\n",
              "  border-radius: 0.25em;\n",
              "  box-sizing: border-box;\n",
              "  margin-bottom: 0.5em;\n",
              "  /* unfitted */\n",
              "  background-color: var(--sklearn-color-unfitted-level-0);\n",
              "}\n",
              "\n",
              "#sk-container-id-1 div.sk-estimator.fitted {\n",
              "  /* fitted */\n",
              "  background-color: var(--sklearn-color-fitted-level-0);\n",
              "}\n",
              "\n",
              "/* on hover */\n",
              "#sk-container-id-1 div.sk-estimator:hover {\n",
              "  /* unfitted */\n",
              "  background-color: var(--sklearn-color-unfitted-level-2);\n",
              "}\n",
              "\n",
              "#sk-container-id-1 div.sk-estimator.fitted:hover {\n",
              "  /* fitted */\n",
              "  background-color: var(--sklearn-color-fitted-level-2);\n",
              "}\n",
              "\n",
              "/* Specification for estimator info (e.g. \"i\" and \"?\") */\n",
              "\n",
              "/* Common style for \"i\" and \"?\" */\n",
              "\n",
              ".sk-estimator-doc-link,\n",
              "a:link.sk-estimator-doc-link,\n",
              "a:visited.sk-estimator-doc-link {\n",
              "  float: right;\n",
              "  font-size: smaller;\n",
              "  line-height: 1em;\n",
              "  font-family: monospace;\n",
              "  background-color: var(--sklearn-color-background);\n",
              "  border-radius: 1em;\n",
              "  height: 1em;\n",
              "  width: 1em;\n",
              "  text-decoration: none !important;\n",
              "  margin-left: 0.5em;\n",
              "  text-align: center;\n",
              "  /* unfitted */\n",
              "  border: var(--sklearn-color-unfitted-level-1) 1pt solid;\n",
              "  color: var(--sklearn-color-unfitted-level-1);\n",
              "}\n",
              "\n",
              ".sk-estimator-doc-link.fitted,\n",
              "a:link.sk-estimator-doc-link.fitted,\n",
              "a:visited.sk-estimator-doc-link.fitted {\n",
              "  /* fitted */\n",
              "  border: var(--sklearn-color-fitted-level-1) 1pt solid;\n",
              "  color: var(--sklearn-color-fitted-level-1);\n",
              "}\n",
              "\n",
              "/* On hover */\n",
              "div.sk-estimator:hover .sk-estimator-doc-link:hover,\n",
              ".sk-estimator-doc-link:hover,\n",
              "div.sk-label-container:hover .sk-estimator-doc-link:hover,\n",
              ".sk-estimator-doc-link:hover {\n",
              "  /* unfitted */\n",
              "  background-color: var(--sklearn-color-unfitted-level-3);\n",
              "  color: var(--sklearn-color-background);\n",
              "  text-decoration: none;\n",
              "}\n",
              "\n",
              "div.sk-estimator.fitted:hover .sk-estimator-doc-link.fitted:hover,\n",
              ".sk-estimator-doc-link.fitted:hover,\n",
              "div.sk-label-container:hover .sk-estimator-doc-link.fitted:hover,\n",
              ".sk-estimator-doc-link.fitted:hover {\n",
              "  /* fitted */\n",
              "  background-color: var(--sklearn-color-fitted-level-3);\n",
              "  color: var(--sklearn-color-background);\n",
              "  text-decoration: none;\n",
              "}\n",
              "\n",
              "/* Span, style for the box shown on hovering the info icon */\n",
              ".sk-estimator-doc-link span {\n",
              "  display: none;\n",
              "  z-index: 9999;\n",
              "  position: relative;\n",
              "  font-weight: normal;\n",
              "  right: .2ex;\n",
              "  padding: .5ex;\n",
              "  margin: .5ex;\n",
              "  width: min-content;\n",
              "  min-width: 20ex;\n",
              "  max-width: 50ex;\n",
              "  color: var(--sklearn-color-text);\n",
              "  box-shadow: 2pt 2pt 4pt #999;\n",
              "  /* unfitted */\n",
              "  background: var(--sklearn-color-unfitted-level-0);\n",
              "  border: .5pt solid var(--sklearn-color-unfitted-level-3);\n",
              "}\n",
              "\n",
              ".sk-estimator-doc-link.fitted span {\n",
              "  /* fitted */\n",
              "  background: var(--sklearn-color-fitted-level-0);\n",
              "  border: var(--sklearn-color-fitted-level-3);\n",
              "}\n",
              "\n",
              ".sk-estimator-doc-link:hover span {\n",
              "  display: block;\n",
              "}\n",
              "\n",
              "/* \"?\"-specific style due to the `<a>` HTML tag */\n",
              "\n",
              "#sk-container-id-1 a.estimator_doc_link {\n",
              "  float: right;\n",
              "  font-size: 1rem;\n",
              "  line-height: 1em;\n",
              "  font-family: monospace;\n",
              "  background-color: var(--sklearn-color-background);\n",
              "  border-radius: 1rem;\n",
              "  height: 1rem;\n",
              "  width: 1rem;\n",
              "  text-decoration: none;\n",
              "  /* unfitted */\n",
              "  color: var(--sklearn-color-unfitted-level-1);\n",
              "  border: var(--sklearn-color-unfitted-level-1) 1pt solid;\n",
              "}\n",
              "\n",
              "#sk-container-id-1 a.estimator_doc_link.fitted {\n",
              "  /* fitted */\n",
              "  border: var(--sklearn-color-fitted-level-1) 1pt solid;\n",
              "  color: var(--sklearn-color-fitted-level-1);\n",
              "}\n",
              "\n",
              "/* On hover */\n",
              "#sk-container-id-1 a.estimator_doc_link:hover {\n",
              "  /* unfitted */\n",
              "  background-color: var(--sklearn-color-unfitted-level-3);\n",
              "  color: var(--sklearn-color-background);\n",
              "  text-decoration: none;\n",
              "}\n",
              "\n",
              "#sk-container-id-1 a.estimator_doc_link.fitted:hover {\n",
              "  /* fitted */\n",
              "  background-color: var(--sklearn-color-fitted-level-3);\n",
              "}\n",
              "</style><div id=\"sk-container-id-1\" class=\"sk-top-container\"><div class=\"sk-text-repr-fallback\"><pre>DecisionTreeClassifier(random_state=42)</pre><b>In a Jupyter environment, please rerun this cell to show the HTML representation or trust the notebook. <br />On GitHub, the HTML representation is unable to render, please try loading this page with nbviewer.org.</b></div><div class=\"sk-container\" hidden><div class=\"sk-item\"><div class=\"sk-estimator fitted sk-toggleable\"><input class=\"sk-toggleable__control sk-hidden--visually\" id=\"sk-estimator-id-1\" type=\"checkbox\" checked><label for=\"sk-estimator-id-1\" class=\"sk-toggleable__label fitted sk-toggleable__label-arrow\"><div><div>DecisionTreeClassifier</div></div><div><a class=\"sk-estimator-doc-link fitted\" rel=\"noreferrer\" target=\"_blank\" href=\"https://scikit-learn.org/1.6/modules/generated/sklearn.tree.DecisionTreeClassifier.html\">?<span>Documentation for DecisionTreeClassifier</span></a><span class=\"sk-estimator-doc-link fitted\">i<span>Fitted</span></span></div></label><div class=\"sk-toggleable__content fitted\"><pre>DecisionTreeClassifier(random_state=42)</pre></div> </div></div></div></div>"
            ]
          },
          "metadata": {},
          "execution_count": 115
        }
      ]
    },
    {
      "cell_type": "code",
      "source": [
        "y_pred_dt = dt_model.predict(X_test)\n"
      ],
      "metadata": {
        "id": "0tt1n3sm1SfB"
      },
      "execution_count": 125,
      "outputs": []
    },
    {
      "cell_type": "code",
      "source": [
        "# Evaluate the model\n",
        "y_pred = dt_model.predict(X_test)\n",
        "print(\"Accuracy:\", accuracy_score(y_test, y_pred))\n",
        "print(\"\\nClassification Report:\\n\", classification_report(y_test, y_pred))\n",
        "\n"
      ],
      "metadata": {
        "colab": {
          "base_uri": "https://localhost:8080/"
        },
        "id": "KSIsHJlqvS82",
        "outputId": "e4ab015d-7706-4f6c-92af-a65d51df1049"
      },
      "execution_count": 126,
      "outputs": [
        {
          "output_type": "stream",
          "name": "stdout",
          "text": [
            "Accuracy: 0.9863013698630136\n",
            "\n",
            "Classification Report:\n",
            "               precision    recall  f1-score   support\n",
            "\n",
            "           0       1.00      0.98      0.99        41\n",
            "           1       0.97      1.00      0.98        32\n",
            "\n",
            "    accuracy                           0.99        73\n",
            "   macro avg       0.98      0.99      0.99        73\n",
            "weighted avg       0.99      0.99      0.99        73\n",
            "\n"
          ]
        }
      ]
    },
    {
      "cell_type": "code",
      "source": [
        "# Training a randomn forest model\n",
        "\n",
        "from sklearn.ensemble import RandomForestClassifier\n",
        "\n",
        "rf_model = RandomForestClassifier(n_estimators=100, random_state=42)\n",
        "rf_model.fit(X_train, y_train)"
      ],
      "metadata": {
        "colab": {
          "base_uri": "https://localhost:8080/",
          "height": 80
        },
        "id": "4I99FQxpvlfG",
        "outputId": "c8ff1d70-4f90-41e8-cdd9-b3ffbcbee6b1"
      },
      "execution_count": 117,
      "outputs": [
        {
          "output_type": "execute_result",
          "data": {
            "text/plain": [
              "RandomForestClassifier(random_state=42)"
            ],
            "text/html": [
              "<style>#sk-container-id-2 {\n",
              "  /* Definition of color scheme common for light and dark mode */\n",
              "  --sklearn-color-text: #000;\n",
              "  --sklearn-color-text-muted: #666;\n",
              "  --sklearn-color-line: gray;\n",
              "  /* Definition of color scheme for unfitted estimators */\n",
              "  --sklearn-color-unfitted-level-0: #fff5e6;\n",
              "  --sklearn-color-unfitted-level-1: #f6e4d2;\n",
              "  --sklearn-color-unfitted-level-2: #ffe0b3;\n",
              "  --sklearn-color-unfitted-level-3: chocolate;\n",
              "  /* Definition of color scheme for fitted estimators */\n",
              "  --sklearn-color-fitted-level-0: #f0f8ff;\n",
              "  --sklearn-color-fitted-level-1: #d4ebff;\n",
              "  --sklearn-color-fitted-level-2: #b3dbfd;\n",
              "  --sklearn-color-fitted-level-3: cornflowerblue;\n",
              "\n",
              "  /* Specific color for light theme */\n",
              "  --sklearn-color-text-on-default-background: var(--sg-text-color, var(--theme-code-foreground, var(--jp-content-font-color1, black)));\n",
              "  --sklearn-color-background: var(--sg-background-color, var(--theme-background, var(--jp-layout-color0, white)));\n",
              "  --sklearn-color-border-box: var(--sg-text-color, var(--theme-code-foreground, var(--jp-content-font-color1, black)));\n",
              "  --sklearn-color-icon: #696969;\n",
              "\n",
              "  @media (prefers-color-scheme: dark) {\n",
              "    /* Redefinition of color scheme for dark theme */\n",
              "    --sklearn-color-text-on-default-background: var(--sg-text-color, var(--theme-code-foreground, var(--jp-content-font-color1, white)));\n",
              "    --sklearn-color-background: var(--sg-background-color, var(--theme-background, var(--jp-layout-color0, #111)));\n",
              "    --sklearn-color-border-box: var(--sg-text-color, var(--theme-code-foreground, var(--jp-content-font-color1, white)));\n",
              "    --sklearn-color-icon: #878787;\n",
              "  }\n",
              "}\n",
              "\n",
              "#sk-container-id-2 {\n",
              "  color: var(--sklearn-color-text);\n",
              "}\n",
              "\n",
              "#sk-container-id-2 pre {\n",
              "  padding: 0;\n",
              "}\n",
              "\n",
              "#sk-container-id-2 input.sk-hidden--visually {\n",
              "  border: 0;\n",
              "  clip: rect(1px 1px 1px 1px);\n",
              "  clip: rect(1px, 1px, 1px, 1px);\n",
              "  height: 1px;\n",
              "  margin: -1px;\n",
              "  overflow: hidden;\n",
              "  padding: 0;\n",
              "  position: absolute;\n",
              "  width: 1px;\n",
              "}\n",
              "\n",
              "#sk-container-id-2 div.sk-dashed-wrapped {\n",
              "  border: 1px dashed var(--sklearn-color-line);\n",
              "  margin: 0 0.4em 0.5em 0.4em;\n",
              "  box-sizing: border-box;\n",
              "  padding-bottom: 0.4em;\n",
              "  background-color: var(--sklearn-color-background);\n",
              "}\n",
              "\n",
              "#sk-container-id-2 div.sk-container {\n",
              "  /* jupyter's `normalize.less` sets `[hidden] { display: none; }`\n",
              "     but bootstrap.min.css set `[hidden] { display: none !important; }`\n",
              "     so we also need the `!important` here to be able to override the\n",
              "     default hidden behavior on the sphinx rendered scikit-learn.org.\n",
              "     See: https://github.com/scikit-learn/scikit-learn/issues/21755 */\n",
              "  display: inline-block !important;\n",
              "  position: relative;\n",
              "}\n",
              "\n",
              "#sk-container-id-2 div.sk-text-repr-fallback {\n",
              "  display: none;\n",
              "}\n",
              "\n",
              "div.sk-parallel-item,\n",
              "div.sk-serial,\n",
              "div.sk-item {\n",
              "  /* draw centered vertical line to link estimators */\n",
              "  background-image: linear-gradient(var(--sklearn-color-text-on-default-background), var(--sklearn-color-text-on-default-background));\n",
              "  background-size: 2px 100%;\n",
              "  background-repeat: no-repeat;\n",
              "  background-position: center center;\n",
              "}\n",
              "\n",
              "/* Parallel-specific style estimator block */\n",
              "\n",
              "#sk-container-id-2 div.sk-parallel-item::after {\n",
              "  content: \"\";\n",
              "  width: 100%;\n",
              "  border-bottom: 2px solid var(--sklearn-color-text-on-default-background);\n",
              "  flex-grow: 1;\n",
              "}\n",
              "\n",
              "#sk-container-id-2 div.sk-parallel {\n",
              "  display: flex;\n",
              "  align-items: stretch;\n",
              "  justify-content: center;\n",
              "  background-color: var(--sklearn-color-background);\n",
              "  position: relative;\n",
              "}\n",
              "\n",
              "#sk-container-id-2 div.sk-parallel-item {\n",
              "  display: flex;\n",
              "  flex-direction: column;\n",
              "}\n",
              "\n",
              "#sk-container-id-2 div.sk-parallel-item:first-child::after {\n",
              "  align-self: flex-end;\n",
              "  width: 50%;\n",
              "}\n",
              "\n",
              "#sk-container-id-2 div.sk-parallel-item:last-child::after {\n",
              "  align-self: flex-start;\n",
              "  width: 50%;\n",
              "}\n",
              "\n",
              "#sk-container-id-2 div.sk-parallel-item:only-child::after {\n",
              "  width: 0;\n",
              "}\n",
              "\n",
              "/* Serial-specific style estimator block */\n",
              "\n",
              "#sk-container-id-2 div.sk-serial {\n",
              "  display: flex;\n",
              "  flex-direction: column;\n",
              "  align-items: center;\n",
              "  background-color: var(--sklearn-color-background);\n",
              "  padding-right: 1em;\n",
              "  padding-left: 1em;\n",
              "}\n",
              "\n",
              "\n",
              "/* Toggleable style: style used for estimator/Pipeline/ColumnTransformer box that is\n",
              "clickable and can be expanded/collapsed.\n",
              "- Pipeline and ColumnTransformer use this feature and define the default style\n",
              "- Estimators will overwrite some part of the style using the `sk-estimator` class\n",
              "*/\n",
              "\n",
              "/* Pipeline and ColumnTransformer style (default) */\n",
              "\n",
              "#sk-container-id-2 div.sk-toggleable {\n",
              "  /* Default theme specific background. It is overwritten whether we have a\n",
              "  specific estimator or a Pipeline/ColumnTransformer */\n",
              "  background-color: var(--sklearn-color-background);\n",
              "}\n",
              "\n",
              "/* Toggleable label */\n",
              "#sk-container-id-2 label.sk-toggleable__label {\n",
              "  cursor: pointer;\n",
              "  display: flex;\n",
              "  width: 100%;\n",
              "  margin-bottom: 0;\n",
              "  padding: 0.5em;\n",
              "  box-sizing: border-box;\n",
              "  text-align: center;\n",
              "  align-items: start;\n",
              "  justify-content: space-between;\n",
              "  gap: 0.5em;\n",
              "}\n",
              "\n",
              "#sk-container-id-2 label.sk-toggleable__label .caption {\n",
              "  font-size: 0.6rem;\n",
              "  font-weight: lighter;\n",
              "  color: var(--sklearn-color-text-muted);\n",
              "}\n",
              "\n",
              "#sk-container-id-2 label.sk-toggleable__label-arrow:before {\n",
              "  /* Arrow on the left of the label */\n",
              "  content: \"▸\";\n",
              "  float: left;\n",
              "  margin-right: 0.25em;\n",
              "  color: var(--sklearn-color-icon);\n",
              "}\n",
              "\n",
              "#sk-container-id-2 label.sk-toggleable__label-arrow:hover:before {\n",
              "  color: var(--sklearn-color-text);\n",
              "}\n",
              "\n",
              "/* Toggleable content - dropdown */\n",
              "\n",
              "#sk-container-id-2 div.sk-toggleable__content {\n",
              "  max-height: 0;\n",
              "  max-width: 0;\n",
              "  overflow: hidden;\n",
              "  text-align: left;\n",
              "  /* unfitted */\n",
              "  background-color: var(--sklearn-color-unfitted-level-0);\n",
              "}\n",
              "\n",
              "#sk-container-id-2 div.sk-toggleable__content.fitted {\n",
              "  /* fitted */\n",
              "  background-color: var(--sklearn-color-fitted-level-0);\n",
              "}\n",
              "\n",
              "#sk-container-id-2 div.sk-toggleable__content pre {\n",
              "  margin: 0.2em;\n",
              "  border-radius: 0.25em;\n",
              "  color: var(--sklearn-color-text);\n",
              "  /* unfitted */\n",
              "  background-color: var(--sklearn-color-unfitted-level-0);\n",
              "}\n",
              "\n",
              "#sk-container-id-2 div.sk-toggleable__content.fitted pre {\n",
              "  /* unfitted */\n",
              "  background-color: var(--sklearn-color-fitted-level-0);\n",
              "}\n",
              "\n",
              "#sk-container-id-2 input.sk-toggleable__control:checked~div.sk-toggleable__content {\n",
              "  /* Expand drop-down */\n",
              "  max-height: 200px;\n",
              "  max-width: 100%;\n",
              "  overflow: auto;\n",
              "}\n",
              "\n",
              "#sk-container-id-2 input.sk-toggleable__control:checked~label.sk-toggleable__label-arrow:before {\n",
              "  content: \"▾\";\n",
              "}\n",
              "\n",
              "/* Pipeline/ColumnTransformer-specific style */\n",
              "\n",
              "#sk-container-id-2 div.sk-label input.sk-toggleable__control:checked~label.sk-toggleable__label {\n",
              "  color: var(--sklearn-color-text);\n",
              "  background-color: var(--sklearn-color-unfitted-level-2);\n",
              "}\n",
              "\n",
              "#sk-container-id-2 div.sk-label.fitted input.sk-toggleable__control:checked~label.sk-toggleable__label {\n",
              "  background-color: var(--sklearn-color-fitted-level-2);\n",
              "}\n",
              "\n",
              "/* Estimator-specific style */\n",
              "\n",
              "/* Colorize estimator box */\n",
              "#sk-container-id-2 div.sk-estimator input.sk-toggleable__control:checked~label.sk-toggleable__label {\n",
              "  /* unfitted */\n",
              "  background-color: var(--sklearn-color-unfitted-level-2);\n",
              "}\n",
              "\n",
              "#sk-container-id-2 div.sk-estimator.fitted input.sk-toggleable__control:checked~label.sk-toggleable__label {\n",
              "  /* fitted */\n",
              "  background-color: var(--sklearn-color-fitted-level-2);\n",
              "}\n",
              "\n",
              "#sk-container-id-2 div.sk-label label.sk-toggleable__label,\n",
              "#sk-container-id-2 div.sk-label label {\n",
              "  /* The background is the default theme color */\n",
              "  color: var(--sklearn-color-text-on-default-background);\n",
              "}\n",
              "\n",
              "/* On hover, darken the color of the background */\n",
              "#sk-container-id-2 div.sk-label:hover label.sk-toggleable__label {\n",
              "  color: var(--sklearn-color-text);\n",
              "  background-color: var(--sklearn-color-unfitted-level-2);\n",
              "}\n",
              "\n",
              "/* Label box, darken color on hover, fitted */\n",
              "#sk-container-id-2 div.sk-label.fitted:hover label.sk-toggleable__label.fitted {\n",
              "  color: var(--sklearn-color-text);\n",
              "  background-color: var(--sklearn-color-fitted-level-2);\n",
              "}\n",
              "\n",
              "/* Estimator label */\n",
              "\n",
              "#sk-container-id-2 div.sk-label label {\n",
              "  font-family: monospace;\n",
              "  font-weight: bold;\n",
              "  display: inline-block;\n",
              "  line-height: 1.2em;\n",
              "}\n",
              "\n",
              "#sk-container-id-2 div.sk-label-container {\n",
              "  text-align: center;\n",
              "}\n",
              "\n",
              "/* Estimator-specific */\n",
              "#sk-container-id-2 div.sk-estimator {\n",
              "  font-family: monospace;\n",
              "  border: 1px dotted var(--sklearn-color-border-box);\n",
              "  border-radius: 0.25em;\n",
              "  box-sizing: border-box;\n",
              "  margin-bottom: 0.5em;\n",
              "  /* unfitted */\n",
              "  background-color: var(--sklearn-color-unfitted-level-0);\n",
              "}\n",
              "\n",
              "#sk-container-id-2 div.sk-estimator.fitted {\n",
              "  /* fitted */\n",
              "  background-color: var(--sklearn-color-fitted-level-0);\n",
              "}\n",
              "\n",
              "/* on hover */\n",
              "#sk-container-id-2 div.sk-estimator:hover {\n",
              "  /* unfitted */\n",
              "  background-color: var(--sklearn-color-unfitted-level-2);\n",
              "}\n",
              "\n",
              "#sk-container-id-2 div.sk-estimator.fitted:hover {\n",
              "  /* fitted */\n",
              "  background-color: var(--sklearn-color-fitted-level-2);\n",
              "}\n",
              "\n",
              "/* Specification for estimator info (e.g. \"i\" and \"?\") */\n",
              "\n",
              "/* Common style for \"i\" and \"?\" */\n",
              "\n",
              ".sk-estimator-doc-link,\n",
              "a:link.sk-estimator-doc-link,\n",
              "a:visited.sk-estimator-doc-link {\n",
              "  float: right;\n",
              "  font-size: smaller;\n",
              "  line-height: 1em;\n",
              "  font-family: monospace;\n",
              "  background-color: var(--sklearn-color-background);\n",
              "  border-radius: 1em;\n",
              "  height: 1em;\n",
              "  width: 1em;\n",
              "  text-decoration: none !important;\n",
              "  margin-left: 0.5em;\n",
              "  text-align: center;\n",
              "  /* unfitted */\n",
              "  border: var(--sklearn-color-unfitted-level-1) 1pt solid;\n",
              "  color: var(--sklearn-color-unfitted-level-1);\n",
              "}\n",
              "\n",
              ".sk-estimator-doc-link.fitted,\n",
              "a:link.sk-estimator-doc-link.fitted,\n",
              "a:visited.sk-estimator-doc-link.fitted {\n",
              "  /* fitted */\n",
              "  border: var(--sklearn-color-fitted-level-1) 1pt solid;\n",
              "  color: var(--sklearn-color-fitted-level-1);\n",
              "}\n",
              "\n",
              "/* On hover */\n",
              "div.sk-estimator:hover .sk-estimator-doc-link:hover,\n",
              ".sk-estimator-doc-link:hover,\n",
              "div.sk-label-container:hover .sk-estimator-doc-link:hover,\n",
              ".sk-estimator-doc-link:hover {\n",
              "  /* unfitted */\n",
              "  background-color: var(--sklearn-color-unfitted-level-3);\n",
              "  color: var(--sklearn-color-background);\n",
              "  text-decoration: none;\n",
              "}\n",
              "\n",
              "div.sk-estimator.fitted:hover .sk-estimator-doc-link.fitted:hover,\n",
              ".sk-estimator-doc-link.fitted:hover,\n",
              "div.sk-label-container:hover .sk-estimator-doc-link.fitted:hover,\n",
              ".sk-estimator-doc-link.fitted:hover {\n",
              "  /* fitted */\n",
              "  background-color: var(--sklearn-color-fitted-level-3);\n",
              "  color: var(--sklearn-color-background);\n",
              "  text-decoration: none;\n",
              "}\n",
              "\n",
              "/* Span, style for the box shown on hovering the info icon */\n",
              ".sk-estimator-doc-link span {\n",
              "  display: none;\n",
              "  z-index: 9999;\n",
              "  position: relative;\n",
              "  font-weight: normal;\n",
              "  right: .2ex;\n",
              "  padding: .5ex;\n",
              "  margin: .5ex;\n",
              "  width: min-content;\n",
              "  min-width: 20ex;\n",
              "  max-width: 50ex;\n",
              "  color: var(--sklearn-color-text);\n",
              "  box-shadow: 2pt 2pt 4pt #999;\n",
              "  /* unfitted */\n",
              "  background: var(--sklearn-color-unfitted-level-0);\n",
              "  border: .5pt solid var(--sklearn-color-unfitted-level-3);\n",
              "}\n",
              "\n",
              ".sk-estimator-doc-link.fitted span {\n",
              "  /* fitted */\n",
              "  background: var(--sklearn-color-fitted-level-0);\n",
              "  border: var(--sklearn-color-fitted-level-3);\n",
              "}\n",
              "\n",
              ".sk-estimator-doc-link:hover span {\n",
              "  display: block;\n",
              "}\n",
              "\n",
              "/* \"?\"-specific style due to the `<a>` HTML tag */\n",
              "\n",
              "#sk-container-id-2 a.estimator_doc_link {\n",
              "  float: right;\n",
              "  font-size: 1rem;\n",
              "  line-height: 1em;\n",
              "  font-family: monospace;\n",
              "  background-color: var(--sklearn-color-background);\n",
              "  border-radius: 1rem;\n",
              "  height: 1rem;\n",
              "  width: 1rem;\n",
              "  text-decoration: none;\n",
              "  /* unfitted */\n",
              "  color: var(--sklearn-color-unfitted-level-1);\n",
              "  border: var(--sklearn-color-unfitted-level-1) 1pt solid;\n",
              "}\n",
              "\n",
              "#sk-container-id-2 a.estimator_doc_link.fitted {\n",
              "  /* fitted */\n",
              "  border: var(--sklearn-color-fitted-level-1) 1pt solid;\n",
              "  color: var(--sklearn-color-fitted-level-1);\n",
              "}\n",
              "\n",
              "/* On hover */\n",
              "#sk-container-id-2 a.estimator_doc_link:hover {\n",
              "  /* unfitted */\n",
              "  background-color: var(--sklearn-color-unfitted-level-3);\n",
              "  color: var(--sklearn-color-background);\n",
              "  text-decoration: none;\n",
              "}\n",
              "\n",
              "#sk-container-id-2 a.estimator_doc_link.fitted:hover {\n",
              "  /* fitted */\n",
              "  background-color: var(--sklearn-color-fitted-level-3);\n",
              "}\n",
              "</style><div id=\"sk-container-id-2\" class=\"sk-top-container\"><div class=\"sk-text-repr-fallback\"><pre>RandomForestClassifier(random_state=42)</pre><b>In a Jupyter environment, please rerun this cell to show the HTML representation or trust the notebook. <br />On GitHub, the HTML representation is unable to render, please try loading this page with nbviewer.org.</b></div><div class=\"sk-container\" hidden><div class=\"sk-item\"><div class=\"sk-estimator fitted sk-toggleable\"><input class=\"sk-toggleable__control sk-hidden--visually\" id=\"sk-estimator-id-2\" type=\"checkbox\" checked><label for=\"sk-estimator-id-2\" class=\"sk-toggleable__label fitted sk-toggleable__label-arrow\"><div><div>RandomForestClassifier</div></div><div><a class=\"sk-estimator-doc-link fitted\" rel=\"noreferrer\" target=\"_blank\" href=\"https://scikit-learn.org/1.6/modules/generated/sklearn.ensemble.RandomForestClassifier.html\">?<span>Documentation for RandomForestClassifier</span></a><span class=\"sk-estimator-doc-link fitted\">i<span>Fitted</span></span></div></label><div class=\"sk-toggleable__content fitted\"><pre>RandomForestClassifier(random_state=42)</pre></div> </div></div></div></div>"
            ]
          },
          "metadata": {},
          "execution_count": 117
        }
      ]
    },
    {
      "cell_type": "code",
      "source": [
        "# Evaluate the randomn forest model\n",
        "\n",
        "y_pred_rf = rf_model.predict(X_test)\n",
        "print(\"Random Forest Accuracy:\", accuracy_score(y_test, y_pred_rf))\n",
        "print(\"\\nRandom Forest Classification Report:\\n\", classification_report(y_test, y_pred_rf))"
      ],
      "metadata": {
        "colab": {
          "base_uri": "https://localhost:8080/"
        },
        "id": "WX7RZfUOvz0U",
        "outputId": "07a9b013-234e-43e5-d3b4-bd7d0dbdeadf"
      },
      "execution_count": 118,
      "outputs": [
        {
          "output_type": "stream",
          "name": "stdout",
          "text": [
            "Random Forest Accuracy: 0.9863013698630136\n",
            "\n",
            "Random Forest Classification Report:\n",
            "               precision    recall  f1-score   support\n",
            "\n",
            "           0       1.00      0.98      0.99        41\n",
            "           1       0.97      1.00      0.98        32\n",
            "\n",
            "    accuracy                           0.99        73\n",
            "   macro avg       0.98      0.99      0.99        73\n",
            "weighted avg       0.99      0.99      0.99        73\n",
            "\n"
          ]
        }
      ]
    },
    {
      "cell_type": "code",
      "source": [
        "from sklearn.tree import export_graphviz\n",
        "\n",
        "# Export with depth of 2 or more\n",
        "export_graphviz(\n",
        "    dt_model,\n",
        "    out_file=\"births_tree.dot\",\n",
        "    feature_names=X.columns,\n",
        "    class_names=[\"Not Popular\", \"Popular\"],\n",
        "    rounded=True,\n",
        "    filled=True,\n",
        "    max_depth=3  # visualize more than depth 2\n",
        ")\n",
        "\n"
      ],
      "metadata": {
        "id": "mOM4kDvs0hzP"
      },
      "execution_count": 119,
      "outputs": []
    },
    {
      "cell_type": "code",
      "source": [
        "import graphviz\n",
        "\n",
        "with open(\"births_tree.dot\") as f:\n",
        "    dot_graph = f.read()\n",
        "\n",
        "graphviz.Source(dot_graph)\n"
      ],
      "metadata": {
        "colab": {
          "base_uri": "https://localhost:8080/",
          "height": 282
        },
        "id": "pEyj8IS80lyU",
        "outputId": "f13f42f9-797d-4c26-b1fa-9b93b632a00a"
      },
      "execution_count": 120,
      "outputs": [
        {
          "output_type": "execute_result",
          "data": {
            "image/svg+xml": "<?xml version=\"1.0\" encoding=\"UTF-8\" standalone=\"no\"?>\n<!DOCTYPE svg PUBLIC \"-//W3C//DTD SVG 1.1//EN\"\n \"http://www.w3.org/Graphics/SVG/1.1/DTD/svg11.dtd\">\n<!-- Generated by graphviz version 2.43.0 (0)\n -->\n<!-- Title: Tree Pages: 1 -->\n<svg width=\"270pt\" height=\"195pt\"\n viewBox=\"0.00 0.00 270.00 195.00\" xmlns=\"http://www.w3.org/2000/svg\" xmlns:xlink=\"http://www.w3.org/1999/xlink\">\n<g id=\"graph0\" class=\"graph\" transform=\"scale(1 1) rotate(0) translate(4 191)\">\n<title>Tree</title>\n<polygon fill=\"white\" stroke=\"transparent\" points=\"-4,4 -4,-191 266,-191 266,4 -4,4\"/>\n<!-- 0 -->\n<g id=\"node1\" class=\"node\">\n<title>0</title>\n<path fill=\"#eaf5fc\" stroke=\"black\" d=\"M190,-187C190,-187 84,-187 84,-187 78,-187 72,-181 72,-175 72,-175 72,-116 72,-116 72,-110 78,-104 84,-104 84,-104 190,-104 190,-104 196,-104 202,-110 202,-116 202,-116 202,-175 202,-175 202,-181 196,-187 190,-187\"/>\n<text text-anchor=\"middle\" x=\"137\" y=\"-171.8\" font-family=\"Helvetica,sans-Serif\" font-size=\"14.00\">births &lt;= 190909.5</text>\n<text text-anchor=\"middle\" x=\"137\" y=\"-156.8\" font-family=\"Helvetica,sans-Serif\" font-size=\"14.00\">gini = 0.498</text>\n<text text-anchor=\"middle\" x=\"137\" y=\"-141.8\" font-family=\"Helvetica,sans-Serif\" font-size=\"14.00\">samples = 292</text>\n<text text-anchor=\"middle\" x=\"137\" y=\"-126.8\" font-family=\"Helvetica,sans-Serif\" font-size=\"14.00\">value = [138, 154]</text>\n<text text-anchor=\"middle\" x=\"137\" y=\"-111.8\" font-family=\"Helvetica,sans-Serif\" font-size=\"14.00\">class = Popular</text>\n</g>\n<!-- 1 -->\n<g id=\"node2\" class=\"node\">\n<title>1</title>\n<path fill=\"#e58139\" stroke=\"black\" d=\"M122,-68C122,-68 12,-68 12,-68 6,-68 0,-62 0,-56 0,-56 0,-12 0,-12 0,-6 6,0 12,0 12,0 122,0 122,0 128,0 134,-6 134,-12 134,-12 134,-56 134,-56 134,-62 128,-68 122,-68\"/>\n<text text-anchor=\"middle\" x=\"67\" y=\"-52.8\" font-family=\"Helvetica,sans-Serif\" font-size=\"14.00\">gini = 0.0</text>\n<text text-anchor=\"middle\" x=\"67\" y=\"-37.8\" font-family=\"Helvetica,sans-Serif\" font-size=\"14.00\">samples = 138</text>\n<text text-anchor=\"middle\" x=\"67\" y=\"-22.8\" font-family=\"Helvetica,sans-Serif\" font-size=\"14.00\">value = [138, 0]</text>\n<text text-anchor=\"middle\" x=\"67\" y=\"-7.8\" font-family=\"Helvetica,sans-Serif\" font-size=\"14.00\">class = Not Popular</text>\n</g>\n<!-- 0&#45;&gt;1 -->\n<g id=\"edge1\" class=\"edge\">\n<title>0&#45;&gt;1</title>\n<path fill=\"none\" stroke=\"black\" d=\"M110.93,-103.73C105.34,-94.97 99.41,-85.7 93.79,-76.91\"/>\n<polygon fill=\"black\" stroke=\"black\" points=\"96.62,-74.84 88.29,-68.3 90.72,-78.61 96.62,-74.84\"/>\n<text text-anchor=\"middle\" x=\"82.91\" y=\"-89.02\" font-family=\"Helvetica,sans-Serif\" font-size=\"14.00\">True</text>\n</g>\n<!-- 2 -->\n<g id=\"node3\" class=\"node\">\n<title>2</title>\n<path fill=\"#399de5\" stroke=\"black\" d=\"M250,-68C250,-68 164,-68 164,-68 158,-68 152,-62 152,-56 152,-56 152,-12 152,-12 152,-6 158,0 164,0 164,0 250,0 250,0 256,0 262,-6 262,-12 262,-12 262,-56 262,-56 262,-62 256,-68 250,-68\"/>\n<text text-anchor=\"middle\" x=\"207\" y=\"-52.8\" font-family=\"Helvetica,sans-Serif\" font-size=\"14.00\">gini = 0.0</text>\n<text text-anchor=\"middle\" x=\"207\" y=\"-37.8\" font-family=\"Helvetica,sans-Serif\" font-size=\"14.00\">samples = 154</text>\n<text text-anchor=\"middle\" x=\"207\" y=\"-22.8\" font-family=\"Helvetica,sans-Serif\" font-size=\"14.00\">value = [0, 154]</text>\n<text text-anchor=\"middle\" x=\"207\" y=\"-7.8\" font-family=\"Helvetica,sans-Serif\" font-size=\"14.00\">class = Popular</text>\n</g>\n<!-- 0&#45;&gt;2 -->\n<g id=\"edge2\" class=\"edge\">\n<title>0&#45;&gt;2</title>\n<path fill=\"none\" stroke=\"black\" d=\"M163.07,-103.73C168.66,-94.97 174.59,-85.7 180.21,-76.91\"/>\n<polygon fill=\"black\" stroke=\"black\" points=\"183.28,-78.61 185.71,-68.3 177.38,-74.84 183.28,-78.61\"/>\n<text text-anchor=\"middle\" x=\"191.09\" y=\"-89.02\" font-family=\"Helvetica,sans-Serif\" font-size=\"14.00\">False</text>\n</g>\n</g>\n</svg>\n",
            "text/plain": [
              "<graphviz.sources.Source at 0x799149f57ed0>"
            ]
          },
          "metadata": {},
          "execution_count": 120
        }
      ]
    },
    {
      "cell_type": "code",
      "source": [
        "import seaborn as sns\n",
        "import matplotlib.pyplot as plt\n",
        "from sklearn.metrics import confusion_matrix\n"
      ],
      "metadata": {
        "id": "NTGgi5xh0o-e"
      },
      "execution_count": 123,
      "outputs": []
    },
    {
      "cell_type": "code",
      "source": [
        "# Confusion matrix heatmap (Decision Tree)\n",
        "cm_dt = confusion_matrix(y_test, y_pred_dt)\n",
        "\n",
        "plt.figure(figsize=(6, 4))\n",
        "sns.heatmap(cm_dt, annot=True, fmt='d', cmap='Blues')\n",
        "plt.title('Decision Tree Confusion Matrix')\n",
        "plt.xlabel('Predicted')\n",
        "plt.ylabel('Actual')\n",
        "plt.show()\n"
      ],
      "metadata": {
        "colab": {
          "base_uri": "https://localhost:8080/",
          "height": 419
        },
        "id": "_FG5IISb0r-n",
        "outputId": "750500d3-1e6e-4381-f454-52572b86d389"
      },
      "execution_count": 127,
      "outputs": [
        {
          "output_type": "display_data",
          "data": {
            "text/plain": [
              "<Figure size 600x400 with 2 Axes>"
            ],
            "image/png": "[encoded data removed]"
          },
          "metadata": {}
        }
      ]
    },
    {
      "cell_type": "code",
      "source": [
        "# Confusion Matrix Heatmap (Random forest)\n",
        "\n",
        "cm_rf = confusion_matrix(y_test, y_pred_rf)\n",
        "\n",
        "plt.figure(figsize=(6, 4))\n",
        "sns.heatmap(cm_rf, annot=True, fmt='d', cmap='Greens')\n",
        "plt.title('Random Forest Confusion Matrix')\n",
        "plt.xlabel('Predicted')\n",
        "plt.ylabel('Actual')\n",
        "plt.show()\n"
      ],
      "metadata": {
        "colab": {
          "base_uri": "https://localhost:8080/",
          "height": 419
        },
        "id": "npqvx7Jw1sgK",
        "outputId": "cbc9ccb3-d9b1-49e2-f715-987fb22559b7"
      },
      "execution_count": 129,
      "outputs": [
        {
          "output_type": "display_data",
          "data": {
            "text/plain": [
              "<Figure size 600x400 with 2 Axes>"
            ],
            "image/png": "[encoded data removed]"
          },
          "metadata": {}
        }
      ]
    },
    {
      "cell_type": "code",
      "source": [
        "X = births[['month', 'day', 'births']]\n",
        "y = births['popularity']\n",
        "\n",
        "# Save column names for reuse\n",
        "births_feature_columns = X.columns.tolist()\n"
      ],
      "metadata": {
        "id": "JGM_wMtn8bAO"
      },
      "execution_count": 151,
      "outputs": []
    },
    {
      "cell_type": "code",
      "source": [
        "import pandas as pd\n",
        "\n",
        "def predictive_model_births(features):\n",
        "    feature_df = pd.DataFrame([features], columns=births_feature_columns)\n",
        "    return int(dt_model.predict(feature_df)[0])  # or rf_model\n",
        "\n"
      ],
      "metadata": {
        "id": "SeLKZyYR6qM6"
      },
      "execution_count": 152,
      "outputs": []
    },
    {
      "cell_type": "code",
      "source": [
        "MONTH = np.arange(1, 13, 0.1)\n",
        "BIRTHS = np.arange(100000, 200000, 1000)\n",
        "birth_plane = np.zeros((len(BIRTHS), len(MONTH)))\n",
        "\n",
        "day_fixed = 15\n",
        "\n",
        "for row, births_count in enumerate(BIRTHS):\n",
        "    for col, month_val in enumerate(MONTH):\n",
        "        features = [month_val, day_fixed, births_count]\n",
        "        output = predictive_model_births(features)\n",
        "        birth_plane[row, col] = output\n",
        "    print(\".\", end=\"\")\n"
      ],
      "metadata": {
        "colab": {
          "base_uri": "https://localhost:8080/"
        },
        "id": "t2iywd7y6IES",
        "outputId": "d4ad5d30-1a01-4cae-b37d-d3f43052d4a7"
      },
      "execution_count": 153,
      "outputs": [
        {
          "output_type": "stream",
          "name": "stdout",
          "text": [
            "...................................................................................................."
          ]
        }
      ]
    },
    {
      "cell_type": "code",
      "source": [
        "plt.figure(figsize=(12, 8))\n",
        "ax = sns.heatmap(birth_plane, cmap=\"coolwarm\", cbar_kws={'label': 'Predicted Popularity'})\n",
        "ax.invert_yaxis()\n",
        "ax.set(xlabel=\"Month\", ylabel=\"Births Count\")\n",
        "ax.set_title(\"Decision Plane for Births Popularity (DT/RF)\")\n",
        "ax.set_xticks(ax.get_xticks()[::4])\n",
        "ax.set_yticks(ax.get_yticks()[::4])\n"
      ],
      "metadata": {
        "colab": {
          "base_uri": "https://localhost:8080/",
          "height": 896
        },
        "id": "91a2eQJt6JlM",
        "outputId": "75d45214-efcb-4c6e-b192-870e07de85c2"
      },
      "execution_count": 154,
      "outputs": [
        {
          "output_type": "execute_result",
          "data": {
            "text/plain": [
              "[<matplotlib.axis.YTick at 0x799150d6d510>,\n",
              " <matplotlib.axis.YTick at 0x799150f13990>,\n",
              " <matplotlib.axis.YTick at 0x7991539f6990>,\n",
              " <matplotlib.axis.YTick at 0x799151048950>,\n",
              " <matplotlib.axis.YTick at 0x79915101fe90>,\n",
              " <matplotlib.axis.YTick at 0x7991513fc950>,\n",
              " <matplotlib.axis.YTick at 0x7991513fc650>,\n",
              " <matplotlib.axis.YTick at 0x7991513ea910>,\n",
              " <matplotlib.axis.YTick at 0x7991510c1bd0>]"
            ]
          },
          "metadata": {},
          "execution_count": 154
        },
        {
          "output_type": "display_data",
          "data": {
            "text/plain": [
              "<Figure size 1200x800 with 2 Axes>"
            ],
            "image/png": "[encoded data removed]"
          },
          "metadata": {}
        }
      ]
    },
    {
      "cell_type": "code",
      "source": [],
      "metadata": {
        "id": "g4TgJ-0l65fd"
      },
      "execution_count": null,
      "outputs": []
    },
    {
      "cell_type": "markdown",
      "source": [
        "# DT and RF: **Digits** data\n",
        "\n",
        "Next, you'll do the same thing on the digits dataset...\n",
        "\n",
        "Same suggestion as before!\n"
      ],
      "metadata": {
        "id": "Lhj8QfkH-byj"
      }
    },
    {
      "cell_type": "markdown",
      "source": [
        "Notice that you're getting more and more practice with the \"modeling workflow.\"\n",
        "\n",
        "It's not an exaggeration to say that this is, in essence, what all ML/modeling efforts look-and-feel like!"
      ],
      "metadata": {
        "id": "Vvrqzzjv-h0U"
      }
    },
    {
      "cell_type": "markdown",
      "source": [
        "<br><br>\n",
        "\n",
        "a placeholder text cell"
      ],
      "metadata": {
        "id": "SEO750qS-vi0"
      }
    },
    {
      "cell_type": "code",
      "source": [
        "# a placeholder code cell"
      ],
      "metadata": {
        "id": "kCfuNVX6-wxm"
      },
      "execution_count": null,
      "outputs": []
    },
    {
      "cell_type": "code",
      "source": [
        "import pandas as pd\n",
        "from sklearn.model_selection import train_test_split\n",
        "from sklearn.tree import DecisionTreeClassifier\n",
        "from sklearn.ensemble import RandomForestClassifier\n",
        "from sklearn.metrics import confusion_matrix, classification_report, accuracy_score\n",
        "import matplotlib.pyplot as plt\n",
        "import seaborn as sns\n",
        "\n",
        "# Load the dataset\n",
        "digits = pd.read_csv(\"digits_cleaned.csv\")\n",
        "\n",
        "# Split features and target\n",
        "X_digits = digits.drop(columns=[\"actual_digit\"])\n",
        "y_digits = digits[\"actual_digit\"]\n",
        "\n",
        "# Train/Test Split\n",
        "X_train_d, X_test_d, y_train_d, y_test_d = train_test_split(X_digits, y_digits, test_size=0.2, random_state=42)\n"
      ],
      "metadata": {
        "id": "hxQPD4YF3Mmh"
      },
      "execution_count": 130,
      "outputs": []
    },
    {
      "cell_type": "code",
      "source": [
        "# Train and evaluate decision tree.\n",
        "\n",
        "dt_digits = DecisionTreeClassifier(random_state=42)\n",
        "dt_digits.fit(X_train_d, y_train_d)\n",
        "\n",
        "y_pred_digits_dt = dt_digits.predict(X_test_d)\n",
        "\n",
        "print(\"DT Accuracy:\", accuracy_score(y_test_d, y_pred_digits_dt))\n",
        "print(classification_report(y_test_d, y_pred_digits_dt))\n"
      ],
      "metadata": {
        "colab": {
          "base_uri": "https://localhost:8080/"
        },
        "id": "9KluJ17D3OsV",
        "outputId": "9fc71420-b80f-46a1-9225-1f60e886d98f"
      },
      "execution_count": 133,
      "outputs": [
        {
          "output_type": "stream",
          "name": "stdout",
          "text": [
            "DT Accuracy: 0.8757062146892656\n",
            "              precision    recall  f1-score   support\n",
            "\n",
            "           0       0.93      1.00      0.97        28\n",
            "           1       0.88      0.91      0.90        33\n",
            "           2       0.93      0.76      0.84        37\n",
            "           3       0.81      0.81      0.81        43\n",
            "           4       0.92      0.88      0.90        40\n",
            "           5       0.97      0.97      0.97        32\n",
            "           6       1.00      0.89      0.94        38\n",
            "           7       0.91      0.88      0.89        33\n",
            "           8       0.61      0.83      0.70        30\n",
            "           9       0.88      0.88      0.88        40\n",
            "\n",
            "    accuracy                           0.88       354\n",
            "   macro avg       0.88      0.88      0.88       354\n",
            "weighted avg       0.89      0.88      0.88       354\n",
            "\n"
          ]
        }
      ]
    },
    {
      "cell_type": "code",
      "source": [
        "#Train and evaluate Random forest\n",
        "\n",
        "rf_digits = RandomForestClassifier(n_estimators=100, random_state=42)\n",
        "rf_digits.fit(X_train_d, y_train_d)\n",
        "\n",
        "y_pred_digits_rf = rf_digits.predict(X_test_d)\n",
        "\n",
        "print(\"RF Accuracy:\", accuracy_score(y_test_d, y_pred_digits_rf))\n",
        "print(classification_report(y_test_d, y_pred_digits_rf))\n",
        "\n"
      ],
      "metadata": {
        "colab": {
          "base_uri": "https://localhost:8080/"
        },
        "id": "kbkMAr4F3iX6",
        "outputId": "1bb3ba3b-7088-47ec-b433-16e442fdd37c"
      },
      "execution_count": 134,
      "outputs": [
        {
          "output_type": "stream",
          "name": "stdout",
          "text": [
            "RF Accuracy: 0.980225988700565\n",
            "              precision    recall  f1-score   support\n",
            "\n",
            "           0       1.00      1.00      1.00        28\n",
            "           1       0.92      1.00      0.96        33\n",
            "           2       0.95      0.97      0.96        37\n",
            "           3       1.00      0.98      0.99        43\n",
            "           4       1.00      1.00      1.00        40\n",
            "           5       1.00      0.97      0.98        32\n",
            "           6       1.00      0.97      0.99        38\n",
            "           7       1.00      1.00      1.00        33\n",
            "           8       0.93      0.90      0.92        30\n",
            "           9       1.00      1.00      1.00        40\n",
            "\n",
            "    accuracy                           0.98       354\n",
            "   macro avg       0.98      0.98      0.98       354\n",
            "weighted avg       0.98      0.98      0.98       354\n",
            "\n"
          ]
        }
      ]
    },
    {
      "cell_type": "code",
      "source": [
        "from sklearn.tree import export_graphviz\n",
        "\n",
        "# Export to DOT format\n",
        "export_graphviz(\n",
        "    dt_digits,\n",
        "    out_file=\"digits_tree.dot\",\n",
        "    feature_names=X_digits.columns,\n",
        "    class_names=[str(i) for i in range(10)],  # '0' to '9'\n",
        "    filled=True,\n",
        "    rounded=True,\n",
        "    max_depth=3  # Adjust for \"depth 2+\" visualization\n",
        ")\n"
      ],
      "metadata": {
        "id": "0l1fXAXC3Sjg"
      },
      "execution_count": 135,
      "outputs": []
    },
    {
      "cell_type": "code",
      "source": [
        "import graphviz\n",
        "\n",
        "with open(\"digits_tree.dot\") as f:\n",
        "    dot_text = f.read()\n",
        "\n",
        "graphviz.Source(dot_text)\n"
      ],
      "metadata": {
        "colab": {
          "base_uri": "https://localhost:8080/",
          "height": 775
        },
        "id": "rk6-Ifuh38Pu",
        "outputId": "5683da4b-3e27-483f-9512-569fbcc42d32"
      },
      "execution_count": 136,
      "outputs": [
        {
          "output_type": "execute_result",
          "data": {
            "image/svg+xml": "<?xml version=\"1.0\" encoding=\"UTF-8\" standalone=\"no\"?>\n<!DOCTYPE svg PUBLIC \"-//W3C//DTD SVG 1.1//EN\"\n \"http://www.w3.org/Graphics/SVG/1.1/DTD/svg11.dtd\">\n<!-- Generated by graphviz version 2.43.0 (0)\n -->\n<!-- Title: Tree Pages: 1 -->\n<svg width=\"2335pt\" height=\"550pt\"\n viewBox=\"0.00 0.00 2335.00 550.00\" xmlns=\"http://www.w3.org/2000/svg\" xmlns:xlink=\"http://www.w3.org/1999/xlink\">\n<g id=\"graph0\" class=\"graph\" transform=\"scale(1 1) rotate(0) translate(4 546)\">\n<title>Tree</title>\n<polygon fill=\"white\" stroke=\"transparent\" points=\"-4,4 -4,-546 2331,-546 2331,4 -4,4\"/>\n<!-- 0 -->\n<g id=\"node1\" class=\"node\">\n<title>0</title>\n<path fill=\"#ffffff\" stroke=\"black\" d=\"M1143,-542C1143,-542 802,-542 802,-542 796,-542 790,-536 790,-530 790,-530 790,-471 790,-471 790,-465 796,-459 802,-459 802,-459 1143,-459 1143,-459 1149,-459 1155,-465 1155,-471 1155,-471 1155,-530 1155,-530 1155,-536 1149,-542 1143,-542\"/>\n<text text-anchor=\"middle\" x=\"972.5\" y=\"-526.8\" font-family=\"Helvetica,sans-Serif\" font-size=\"14.00\">pix36 &lt;= 0.5</text>\n<text text-anchor=\"middle\" x=\"972.5\" y=\"-511.8\" font-family=\"Helvetica,sans-Serif\" font-size=\"14.00\">gini = 0.9</text>\n<text text-anchor=\"middle\" x=\"972.5\" y=\"-496.8\" font-family=\"Helvetica,sans-Serif\" font-size=\"14.00\">samples = 1414</text>\n<text text-anchor=\"middle\" x=\"972.5\" y=\"-481.8\" font-family=\"Helvetica,sans-Serif\" font-size=\"14.00\">value = [145, 146, 138, 138, 138, 146, 141, 144, 142, 136]</text>\n<text text-anchor=\"middle\" x=\"972.5\" y=\"-466.8\" font-family=\"Helvetica,sans-Serif\" font-size=\"14.00\">class = 1</text>\n</g>\n<!-- 1 -->\n<g id=\"node2\" class=\"node\">\n<title>1</title>\n<path fill=\"#f0b78e\" stroke=\"black\" d=\"M845,-423C845,-423 624,-423 624,-423 618,-423 612,-417 612,-411 612,-411 612,-352 612,-352 612,-346 618,-340 624,-340 624,-340 845,-340 845,-340 851,-340 857,-346 857,-352 857,-352 857,-411 857,-411 857,-417 851,-423 845,-423\"/>\n<text text-anchor=\"middle\" x=\"734.5\" y=\"-407.8\" font-family=\"Helvetica,sans-Serif\" font-size=\"14.00\">pix28 &lt;= 4.5</text>\n<text text-anchor=\"middle\" x=\"734.5\" y=\"-392.8\" font-family=\"Helvetica,sans-Serif\" font-size=\"14.00\">gini = 0.532</text>\n<text text-anchor=\"middle\" x=\"734.5\" y=\"-377.8\" font-family=\"Helvetica,sans-Serif\" font-size=\"14.00\">samples = 217</text>\n<text text-anchor=\"middle\" x=\"734.5\" y=\"-362.8\" font-family=\"Helvetica,sans-Serif\" font-size=\"14.00\">value = [141, 0, 3, 1, 5, 21, 3, 0, 2, 41]</text>\n<text text-anchor=\"middle\" x=\"734.5\" y=\"-347.8\" font-family=\"Helvetica,sans-Serif\" font-size=\"14.00\">class = 0</text>\n</g>\n<!-- 0&#45;&gt;1 -->\n<g id=\"edge1\" class=\"edge\">\n<title>0&#45;&gt;1</title>\n<path fill=\"none\" stroke=\"black\" d=\"M889.93,-458.91C869.34,-448.79 847.15,-437.88 826.16,-427.56\"/>\n<polygon fill=\"black\" stroke=\"black\" points=\"827.45,-424.29 816.93,-423.02 824.36,-430.57 827.45,-424.29\"/>\n<text text-anchor=\"middle\" x=\"824.99\" y=\"-442.98\" font-family=\"Helvetica,sans-Serif\" font-size=\"14.00\">True</text>\n</g>\n<!-- 34 -->\n<g id=\"node17\" class=\"node\">\n<title>34</title>\n<path fill=\"#ffffff\" stroke=\"black\" d=\"M1436.5,-423C1436.5,-423 1118.5,-423 1118.5,-423 1112.5,-423 1106.5,-417 1106.5,-411 1106.5,-411 1106.5,-352 1106.5,-352 1106.5,-346 1112.5,-340 1118.5,-340 1118.5,-340 1436.5,-340 1436.5,-340 1442.5,-340 1448.5,-346 1448.5,-352 1448.5,-352 1448.5,-411 1448.5,-411 1448.5,-417 1442.5,-423 1436.5,-423\"/>\n<text text-anchor=\"middle\" x=\"1277.5\" y=\"-407.8\" font-family=\"Helvetica,sans-Serif\" font-size=\"14.00\">pix21 &lt;= 0.5</text>\n<text text-anchor=\"middle\" x=\"1277.5\" y=\"-392.8\" font-family=\"Helvetica,sans-Serif\" font-size=\"14.00\">gini = 0.888</text>\n<text text-anchor=\"middle\" x=\"1277.5\" y=\"-377.8\" font-family=\"Helvetica,sans-Serif\" font-size=\"14.00\">samples = 1197</text>\n<text text-anchor=\"middle\" x=\"1277.5\" y=\"-362.8\" font-family=\"Helvetica,sans-Serif\" font-size=\"14.00\">value = [4, 146, 135, 137, 133, 125, 138, 144, 140, 95]</text>\n<text text-anchor=\"middle\" x=\"1277.5\" y=\"-347.8\" font-family=\"Helvetica,sans-Serif\" font-size=\"14.00\">class = 1</text>\n</g>\n<!-- 0&#45;&gt;34 -->\n<g id=\"edge16\" class=\"edge\">\n<title>0&#45;&gt;34</title>\n<path fill=\"none\" stroke=\"black\" d=\"M1078.32,-458.91C1105.41,-448.52 1134.67,-437.29 1162.21,-426.73\"/>\n<polygon fill=\"black\" stroke=\"black\" points=\"1163.79,-429.87 1171.87,-423.02 1161.28,-423.33 1163.79,-429.87\"/>\n<text text-anchor=\"middle\" x=\"1161.7\" y=\"-442.16\" font-family=\"Helvetica,sans-Serif\" font-size=\"14.00\">False</text>\n</g>\n<!-- 2 -->\n<g id=\"node3\" class=\"node\">\n<title>2</title>\n<path fill=\"#e78c4a\" stroke=\"black\" d=\"M507.5,-296.5C507.5,-296.5 189.5,-296.5 189.5,-296.5 183.5,-296.5 177.5,-290.5 177.5,-284.5 177.5,-284.5 177.5,-225.5 177.5,-225.5 177.5,-219.5 183.5,-213.5 189.5,-213.5 189.5,-213.5 507.5,-213.5 507.5,-213.5 513.5,-213.5 519.5,-219.5 519.5,-225.5 519.5,-225.5 519.5,-284.5 519.5,-284.5 519.5,-290.5 513.5,-296.5 507.5,-296.5\"/>\n<text text-anchor=\"middle\" x=\"348.5\" y=\"-281.3\" font-family=\"Helvetica,sans-Serif\" font-size=\"14.00\">pix21 &lt;= 0.5</text>\n<text text-anchor=\"middle\" x=\"348.5\" y=\"-266.3\" font-family=\"Helvetica,sans-Serif\" font-size=\"14.00\">gini = 0.16</text>\n<text text-anchor=\"middle\" x=\"348.5\" y=\"-251.3\" font-family=\"Helvetica,sans-Serif\" font-size=\"14.00\">samples = 154</text>\n<text text-anchor=\"middle\" x=\"348.5\" y=\"-236.3\" font-family=\"Helvetica,sans-Serif\" font-size=\"14.00\">value = [141.0, 0.0, 2.0, 0.0, 5.0, 3.0, 1.0, 0.0, 0.0, 2.0]</text>\n<text text-anchor=\"middle\" x=\"348.5\" y=\"-221.3\" font-family=\"Helvetica,sans-Serif\" font-size=\"14.00\">class = 0</text>\n</g>\n<!-- 1&#45;&gt;2 -->\n<g id=\"edge2\" class=\"edge\">\n<title>1&#45;&gt;2</title>\n<path fill=\"none\" stroke=\"black\" d=\"M611.84,-340.94C571.08,-327.79 525.48,-313.08 483.82,-299.65\"/>\n<polygon fill=\"black\" stroke=\"black\" points=\"484.76,-296.27 474.16,-296.53 482.61,-302.93 484.76,-296.27\"/>\n</g>\n<!-- 17 -->\n<g id=\"node10\" class=\"node\">\n<title>17</title>\n<path fill=\"#f3a3b1\" stroke=\"black\" d=\"M837.5,-296.5C837.5,-296.5 631.5,-296.5 631.5,-296.5 625.5,-296.5 619.5,-290.5 619.5,-284.5 619.5,-284.5 619.5,-225.5 619.5,-225.5 619.5,-219.5 625.5,-213.5 631.5,-213.5 631.5,-213.5 837.5,-213.5 837.5,-213.5 843.5,-213.5 849.5,-219.5 849.5,-225.5 849.5,-225.5 849.5,-284.5 849.5,-284.5 849.5,-290.5 843.5,-296.5 837.5,-296.5\"/>\n<text text-anchor=\"middle\" x=\"734.5\" y=\"-281.3\" font-family=\"Helvetica,sans-Serif\" font-size=\"14.00\">pix21 &lt;= 9.0</text>\n<text text-anchor=\"middle\" x=\"734.5\" y=\"-266.3\" font-family=\"Helvetica,sans-Serif\" font-size=\"14.00\">gini = 0.533</text>\n<text text-anchor=\"middle\" x=\"734.5\" y=\"-251.3\" font-family=\"Helvetica,sans-Serif\" font-size=\"14.00\">samples = 63</text>\n<text text-anchor=\"middle\" x=\"734.5\" y=\"-236.3\" font-family=\"Helvetica,sans-Serif\" font-size=\"14.00\">value = [0, 0, 1, 1, 0, 18, 2, 0, 2, 39]</text>\n<text text-anchor=\"middle\" x=\"734.5\" y=\"-221.3\" font-family=\"Helvetica,sans-Serif\" font-size=\"14.00\">class = 9</text>\n</g>\n<!-- 1&#45;&gt;17 -->\n<g id=\"edge9\" class=\"edge\">\n<title>1&#45;&gt;17</title>\n<path fill=\"none\" stroke=\"black\" d=\"M734.5,-339.73C734.5,-329.31 734.5,-317.97 734.5,-307.09\"/>\n<polygon fill=\"black\" stroke=\"black\" points=\"738,-306.86 734.5,-296.86 731,-306.86 738,-306.86\"/>\n</g>\n<!-- 3 -->\n<g id=\"node4\" class=\"node\">\n<title>3</title>\n<path fill=\"#cef8f0\" stroke=\"black\" d=\"M203,-162.5C203,-162.5 12,-162.5 12,-162.5 6,-162.5 0,-156.5 0,-150.5 0,-150.5 0,-91.5 0,-91.5 0,-85.5 6,-79.5 12,-79.5 12,-79.5 203,-79.5 203,-79.5 209,-79.5 215,-85.5 215,-91.5 215,-91.5 215,-150.5 215,-150.5 215,-156.5 209,-162.5 203,-162.5\"/>\n<text text-anchor=\"middle\" x=\"107.5\" y=\"-147.3\" font-family=\"Helvetica,sans-Serif\" font-size=\"14.00\">pix41 &lt;= 5.5</text>\n<text text-anchor=\"middle\" x=\"107.5\" y=\"-132.3\" font-family=\"Helvetica,sans-Serif\" font-size=\"14.00\">gini = 0.694</text>\n<text text-anchor=\"middle\" x=\"107.5\" y=\"-117.3\" font-family=\"Helvetica,sans-Serif\" font-size=\"14.00\">samples = 11</text>\n<text text-anchor=\"middle\" x=\"107.5\" y=\"-102.3\" font-family=\"Helvetica,sans-Serif\" font-size=\"14.00\">value = [1, 0, 1, 0, 5, 3, 1, 0, 0, 0]</text>\n<text text-anchor=\"middle\" x=\"107.5\" y=\"-87.3\" font-family=\"Helvetica,sans-Serif\" font-size=\"14.00\">class = 4</text>\n</g>\n<!-- 2&#45;&gt;3 -->\n<g id=\"edge3\" class=\"edge\">\n<title>2&#45;&gt;3</title>\n<path fill=\"none\" stroke=\"black\" d=\"M274.55,-213.5C248.08,-199 218.05,-182.55 190.83,-167.64\"/>\n<polygon fill=\"black\" stroke=\"black\" points=\"192.17,-164.39 181.72,-162.65 188.81,-170.53 192.17,-164.39\"/>\n</g>\n<!-- 12 -->\n<g id=\"node7\" class=\"node\">\n<title>12</title>\n<path fill=\"#e6843d\" stroke=\"black\" d=\"M451.5,-162.5C451.5,-162.5 245.5,-162.5 245.5,-162.5 239.5,-162.5 233.5,-156.5 233.5,-150.5 233.5,-150.5 233.5,-91.5 233.5,-91.5 233.5,-85.5 239.5,-79.5 245.5,-79.5 245.5,-79.5 451.5,-79.5 451.5,-79.5 457.5,-79.5 463.5,-85.5 463.5,-91.5 463.5,-91.5 463.5,-150.5 463.5,-150.5 463.5,-156.5 457.5,-162.5 451.5,-162.5\"/>\n<text text-anchor=\"middle\" x=\"348.5\" y=\"-147.3\" font-family=\"Helvetica,sans-Serif\" font-size=\"14.00\">pix33 &lt;= 0.5</text>\n<text text-anchor=\"middle\" x=\"348.5\" y=\"-132.3\" font-family=\"Helvetica,sans-Serif\" font-size=\"14.00\">gini = 0.041</text>\n<text text-anchor=\"middle\" x=\"348.5\" y=\"-117.3\" font-family=\"Helvetica,sans-Serif\" font-size=\"14.00\">samples = 143</text>\n<text text-anchor=\"middle\" x=\"348.5\" y=\"-102.3\" font-family=\"Helvetica,sans-Serif\" font-size=\"14.00\">value = [140, 0, 1, 0, 0, 0, 0, 0, 0, 2]</text>\n<text text-anchor=\"middle\" x=\"348.5\" y=\"-87.3\" font-family=\"Helvetica,sans-Serif\" font-size=\"14.00\">class = 0</text>\n</g>\n<!-- 2&#45;&gt;12 -->\n<g id=\"edge6\" class=\"edge\">\n<title>2&#45;&gt;12</title>\n<path fill=\"none\" stroke=\"black\" d=\"M348.5,-213.32C348.5,-200.52 348.5,-186.23 348.5,-172.82\"/>\n<polygon fill=\"black\" stroke=\"black\" points=\"352,-172.77 348.5,-162.77 345,-172.77 352,-172.77\"/>\n</g>\n<!-- 4 -->\n<g id=\"node5\" class=\"node\">\n<title>4</title>\n<path fill=\"#c0c0c0\" stroke=\"black\" d=\"M86.5,-36C86.5,-36 56.5,-36 56.5,-36 50.5,-36 44.5,-30 44.5,-24 44.5,-24 44.5,-12 44.5,-12 44.5,-6 50.5,0 56.5,0 56.5,0 86.5,0 86.5,0 92.5,0 98.5,-6 98.5,-12 98.5,-12 98.5,-24 98.5,-24 98.5,-30 92.5,-36 86.5,-36\"/>\n<text text-anchor=\"middle\" x=\"71.5\" y=\"-14.3\" font-family=\"Helvetica,sans-Serif\" font-size=\"14.00\">(...)</text>\n</g>\n<!-- 3&#45;&gt;4 -->\n<g id=\"edge4\" class=\"edge\">\n<title>3&#45;&gt;4</title>\n<path fill=\"none\" stroke=\"black\" d=\"M92.96,-79.21C88.95,-67.96 84.7,-56.04 81.05,-45.8\"/>\n<polygon fill=\"black\" stroke=\"black\" points=\"84.29,-44.46 77.63,-36.21 77.7,-46.81 84.29,-44.46\"/>\n</g>\n<!-- 11 -->\n<g id=\"node6\" class=\"node\">\n<title>11</title>\n<path fill=\"#c0c0c0\" stroke=\"black\" d=\"M158.5,-36C158.5,-36 128.5,-36 128.5,-36 122.5,-36 116.5,-30 116.5,-24 116.5,-24 116.5,-12 116.5,-12 116.5,-6 122.5,0 128.5,0 128.5,0 158.5,0 158.5,0 164.5,0 170.5,-6 170.5,-12 170.5,-12 170.5,-24 170.5,-24 170.5,-30 164.5,-36 158.5,-36\"/>\n<text text-anchor=\"middle\" x=\"143.5\" y=\"-14.3\" font-family=\"Helvetica,sans-Serif\" font-size=\"14.00\">(...)</text>\n</g>\n<!-- 3&#45;&gt;11 -->\n<g id=\"edge5\" class=\"edge\">\n<title>3&#45;&gt;11</title>\n<path fill=\"none\" stroke=\"black\" d=\"M122.04,-79.21C126.05,-67.96 130.3,-56.04 133.95,-45.8\"/>\n<polygon fill=\"black\" stroke=\"black\" points=\"137.3,-46.81 137.37,-36.21 130.71,-44.46 137.3,-46.81\"/>\n</g>\n<!-- 13 -->\n<g id=\"node8\" class=\"node\">\n<title>13</title>\n<path fill=\"#c0c0c0\" stroke=\"black\" d=\"M327.5,-36C327.5,-36 297.5,-36 297.5,-36 291.5,-36 285.5,-30 285.5,-24 285.5,-24 285.5,-12 285.5,-12 285.5,-6 291.5,0 297.5,0 297.5,0 327.5,0 327.5,0 333.5,0 339.5,-6 339.5,-12 339.5,-12 339.5,-24 339.5,-24 339.5,-30 333.5,-36 327.5,-36\"/>\n<text text-anchor=\"middle\" x=\"312.5\" y=\"-14.3\" font-family=\"Helvetica,sans-Serif\" font-size=\"14.00\">(...)</text>\n</g>\n<!-- 12&#45;&gt;13 -->\n<g id=\"edge7\" class=\"edge\">\n<title>12&#45;&gt;13</title>\n<path fill=\"none\" stroke=\"black\" d=\"M333.96,-79.21C329.95,-67.96 325.7,-56.04 322.05,-45.8\"/>\n<polygon fill=\"black\" stroke=\"black\" points=\"325.29,-44.46 318.63,-36.21 318.7,-46.81 325.29,-44.46\"/>\n</g>\n<!-- 16 -->\n<g id=\"node9\" class=\"node\">\n<title>16</title>\n<path fill=\"#c0c0c0\" stroke=\"black\" d=\"M399.5,-36C399.5,-36 369.5,-36 369.5,-36 363.5,-36 357.5,-30 357.5,-24 357.5,-24 357.5,-12 357.5,-12 357.5,-6 363.5,0 369.5,0 369.5,0 399.5,0 399.5,0 405.5,0 411.5,-6 411.5,-12 411.5,-12 411.5,-24 411.5,-24 411.5,-30 405.5,-36 399.5,-36\"/>\n<text text-anchor=\"middle\" x=\"384.5\" y=\"-14.3\" font-family=\"Helvetica,sans-Serif\" font-size=\"14.00\">(...)</text>\n</g>\n<!-- 12&#45;&gt;16 -->\n<g id=\"edge8\" class=\"edge\">\n<title>12&#45;&gt;16</title>\n<path fill=\"none\" stroke=\"black\" d=\"M363.04,-79.21C367.05,-67.96 371.3,-56.04 374.95,-45.8\"/>\n<polygon fill=\"black\" stroke=\"black\" points=\"378.3,-46.81 378.37,-36.21 371.71,-44.46 378.3,-46.81\"/>\n</g>\n<!-- 18 -->\n<g id=\"node11\" class=\"node\">\n<title>18</title>\n<path fill=\"#72b9ec\" stroke=\"black\" d=\"M691.5,-162.5C691.5,-162.5 493.5,-162.5 493.5,-162.5 487.5,-162.5 481.5,-156.5 481.5,-150.5 481.5,-150.5 481.5,-91.5 481.5,-91.5 481.5,-85.5 487.5,-79.5 493.5,-79.5 493.5,-79.5 691.5,-79.5 691.5,-79.5 697.5,-79.5 703.5,-85.5 703.5,-91.5 703.5,-91.5 703.5,-150.5 703.5,-150.5 703.5,-156.5 697.5,-162.5 691.5,-162.5\"/>\n<text text-anchor=\"middle\" x=\"592.5\" y=\"-147.3\" font-family=\"Helvetica,sans-Serif\" font-size=\"14.00\">pix4 &lt;= 11.0</text>\n<text text-anchor=\"middle\" x=\"592.5\" y=\"-132.3\" font-family=\"Helvetica,sans-Serif\" font-size=\"14.00\">gini = 0.435</text>\n<text text-anchor=\"middle\" x=\"592.5\" y=\"-117.3\" font-family=\"Helvetica,sans-Serif\" font-size=\"14.00\">samples = 23</text>\n<text text-anchor=\"middle\" x=\"592.5\" y=\"-102.3\" font-family=\"Helvetica,sans-Serif\" font-size=\"14.00\">value = [0, 0, 1, 0, 0, 17, 2, 0, 1, 2]</text>\n<text text-anchor=\"middle\" x=\"592.5\" y=\"-87.3\" font-family=\"Helvetica,sans-Serif\" font-size=\"14.00\">class = 5</text>\n</g>\n<!-- 17&#45;&gt;18 -->\n<g id=\"edge10\" class=\"edge\">\n<title>17&#45;&gt;18</title>\n<path fill=\"none\" stroke=\"black\" d=\"M690.74,-213.32C675.89,-199.52 659.17,-183.98 643.79,-169.68\"/>\n<polygon fill=\"black\" stroke=\"black\" points=\"646.07,-167.02 636.36,-162.77 641.3,-172.15 646.07,-167.02\"/>\n</g>\n<!-- 27 -->\n<g id=\"node14\" class=\"node\">\n<title>27</title>\n<path fill=\"#e74865\" stroke=\"black\" d=\"M931.5,-162.5C931.5,-162.5 733.5,-162.5 733.5,-162.5 727.5,-162.5 721.5,-156.5 721.5,-150.5 721.5,-150.5 721.5,-91.5 721.5,-91.5 721.5,-85.5 727.5,-79.5 733.5,-79.5 733.5,-79.5 931.5,-79.5 931.5,-79.5 937.5,-79.5 943.5,-85.5 943.5,-91.5 943.5,-91.5 943.5,-150.5 943.5,-150.5 943.5,-156.5 937.5,-162.5 931.5,-162.5\"/>\n<text text-anchor=\"middle\" x=\"832.5\" y=\"-147.3\" font-family=\"Helvetica,sans-Serif\" font-size=\"14.00\">pix35 &lt;= 4.5</text>\n<text text-anchor=\"middle\" x=\"832.5\" y=\"-132.3\" font-family=\"Helvetica,sans-Serif\" font-size=\"14.00\">gini = 0.142</text>\n<text text-anchor=\"middle\" x=\"832.5\" y=\"-117.3\" font-family=\"Helvetica,sans-Serif\" font-size=\"14.00\">samples = 40</text>\n<text text-anchor=\"middle\" x=\"832.5\" y=\"-102.3\" font-family=\"Helvetica,sans-Serif\" font-size=\"14.00\">value = [0, 0, 0, 1, 0, 1, 0, 0, 1, 37]</text>\n<text text-anchor=\"middle\" x=\"832.5\" y=\"-87.3\" font-family=\"Helvetica,sans-Serif\" font-size=\"14.00\">class = 9</text>\n</g>\n<!-- 17&#45;&gt;27 -->\n<g id=\"edge13\" class=\"edge\">\n<title>17&#45;&gt;27</title>\n<path fill=\"none\" stroke=\"black\" d=\"M764.7,-213.32C774.67,-199.89 785.86,-184.82 796.23,-170.85\"/>\n<polygon fill=\"black\" stroke=\"black\" points=\"799.08,-172.89 802.23,-162.77 793.46,-168.72 799.08,-172.89\"/>\n</g>\n<!-- 19 -->\n<g id=\"node12\" class=\"node\">\n<title>19</title>\n<path fill=\"#c0c0c0\" stroke=\"black\" d=\"M571.5,-36C571.5,-36 541.5,-36 541.5,-36 535.5,-36 529.5,-30 529.5,-24 529.5,-24 529.5,-12 529.5,-12 529.5,-6 535.5,0 541.5,0 541.5,0 571.5,0 571.5,0 577.5,0 583.5,-6 583.5,-12 583.5,-12 583.5,-24 583.5,-24 583.5,-30 577.5,-36 571.5,-36\"/>\n<text text-anchor=\"middle\" x=\"556.5\" y=\"-14.3\" font-family=\"Helvetica,sans-Serif\" font-size=\"14.00\">(...)</text>\n</g>\n<!-- 18&#45;&gt;19 -->\n<g id=\"edge11\" class=\"edge\">\n<title>18&#45;&gt;19</title>\n<path fill=\"none\" stroke=\"black\" d=\"M577.96,-79.21C573.95,-67.96 569.7,-56.04 566.05,-45.8\"/>\n<polygon fill=\"black\" stroke=\"black\" points=\"569.29,-44.46 562.63,-36.21 562.7,-46.81 569.29,-44.46\"/>\n</g>\n<!-- 22 -->\n<g id=\"node13\" class=\"node\">\n<title>22</title>\n<path fill=\"#c0c0c0\" stroke=\"black\" d=\"M643.5,-36C643.5,-36 613.5,-36 613.5,-36 607.5,-36 601.5,-30 601.5,-24 601.5,-24 601.5,-12 601.5,-12 601.5,-6 607.5,0 613.5,0 613.5,0 643.5,0 643.5,0 649.5,0 655.5,-6 655.5,-12 655.5,-12 655.5,-24 655.5,-24 655.5,-30 649.5,-36 643.5,-36\"/>\n<text text-anchor=\"middle\" x=\"628.5\" y=\"-14.3\" font-family=\"Helvetica,sans-Serif\" font-size=\"14.00\">(...)</text>\n</g>\n<!-- 18&#45;&gt;22 -->\n<g id=\"edge12\" class=\"edge\">\n<title>18&#45;&gt;22</title>\n<path fill=\"none\" stroke=\"black\" d=\"M607.04,-79.21C611.05,-67.96 615.3,-56.04 618.95,-45.8\"/>\n<polygon fill=\"black\" stroke=\"black\" points=\"622.3,-46.81 622.37,-36.21 615.71,-44.46 622.3,-46.81\"/>\n</g>\n<!-- 28 -->\n<g id=\"node15\" class=\"node\">\n<title>28</title>\n<path fill=\"#c0c0c0\" stroke=\"black\" d=\"M811.5,-36C811.5,-36 781.5,-36 781.5,-36 775.5,-36 769.5,-30 769.5,-24 769.5,-24 769.5,-12 769.5,-12 769.5,-6 775.5,0 781.5,0 781.5,0 811.5,0 811.5,0 817.5,0 823.5,-6 823.5,-12 823.5,-12 823.5,-24 823.5,-24 823.5,-30 817.5,-36 811.5,-36\"/>\n<text text-anchor=\"middle\" x=\"796.5\" y=\"-14.3\" font-family=\"Helvetica,sans-Serif\" font-size=\"14.00\">(...)</text>\n</g>\n<!-- 27&#45;&gt;28 -->\n<g id=\"edge14\" class=\"edge\">\n<title>27&#45;&gt;28</title>\n<path fill=\"none\" stroke=\"black\" d=\"M817.96,-79.21C813.95,-67.96 809.7,-56.04 806.05,-45.8\"/>\n<polygon fill=\"black\" stroke=\"black\" points=\"809.29,-44.46 802.63,-36.21 802.7,-46.81 809.29,-44.46\"/>\n</g>\n<!-- 31 -->\n<g id=\"node16\" class=\"node\">\n<title>31</title>\n<path fill=\"#c0c0c0\" stroke=\"black\" d=\"M883.5,-36C883.5,-36 853.5,-36 853.5,-36 847.5,-36 841.5,-30 841.5,-24 841.5,-24 841.5,-12 841.5,-12 841.5,-6 847.5,0 853.5,0 853.5,0 883.5,0 883.5,0 889.5,0 895.5,-6 895.5,-12 895.5,-12 895.5,-24 895.5,-24 895.5,-30 889.5,-36 883.5,-36\"/>\n<text text-anchor=\"middle\" x=\"868.5\" y=\"-14.3\" font-family=\"Helvetica,sans-Serif\" font-size=\"14.00\">(...)</text>\n</g>\n<!-- 27&#45;&gt;31 -->\n<g id=\"edge15\" class=\"edge\">\n<title>27&#45;&gt;31</title>\n<path fill=\"none\" stroke=\"black\" d=\"M847.04,-79.21C851.05,-67.96 855.3,-56.04 858.95,-45.8\"/>\n<polygon fill=\"black\" stroke=\"black\" points=\"862.3,-46.81 862.37,-36.21 855.71,-44.46 862.3,-46.81\"/>\n</g>\n<!-- 35 -->\n<g id=\"node18\" class=\"node\">\n<title>35</title>\n<path fill=\"#f2f2fd\" stroke=\"black\" d=\"M1444,-304C1444,-304 1111,-304 1111,-304 1105,-304 1099,-298 1099,-292 1099,-292 1099,-218 1099,-218 1099,-212 1105,-206 1111,-206 1111,-206 1444,-206 1444,-206 1450,-206 1456,-212 1456,-218 1456,-218 1456,-292 1456,-292 1456,-298 1450,-304 1444,-304\"/>\n<text text-anchor=\"middle\" x=\"1277.5\" y=\"-288.8\" font-family=\"Helvetica,sans-Serif\" font-size=\"14.00\">pix42 &lt;= 8.5</text>\n<text text-anchor=\"middle\" x=\"1277.5\" y=\"-273.8\" font-family=\"Helvetica,sans-Serif\" font-size=\"14.00\">gini = 0.745</text>\n<text text-anchor=\"middle\" x=\"1277.5\" y=\"-258.8\" font-family=\"Helvetica,sans-Serif\" font-size=\"14.00\">samples = 373</text>\n<text text-anchor=\"middle\" x=\"1277.5\" y=\"-243.8\" font-family=\"Helvetica,sans-Serif\" font-size=\"14.00\">value = [0.0, 35.0, 38.0, 13.0, 31.0, 117.0, 134.0, 4.0, 1.0</text>\n<text text-anchor=\"middle\" x=\"1277.5\" y=\"-228.8\" font-family=\"Helvetica,sans-Serif\" font-size=\"14.00\">0.0]</text>\n<text text-anchor=\"middle\" x=\"1277.5\" y=\"-213.8\" font-family=\"Helvetica,sans-Serif\" font-size=\"14.00\">class = 6</text>\n</g>\n<!-- 34&#45;&gt;35 -->\n<g id=\"edge17\" class=\"edge\">\n<title>34&#45;&gt;35</title>\n<path fill=\"none\" stroke=\"black\" d=\"M1277.5,-339.73C1277.5,-331.58 1277.5,-322.86 1277.5,-314.25\"/>\n<polygon fill=\"black\" stroke=\"black\" points=\"1281,-314.22 1277.5,-304.22 1274,-314.22 1281,-314.22\"/>\n</g>\n<!-- 90 -->\n<g id=\"node25\" class=\"node\">\n<title>90</title>\n<path fill=\"#ffffff\" stroke=\"black\" d=\"M1991.5,-304C1991.5,-304 1635.5,-304 1635.5,-304 1629.5,-304 1623.5,-298 1623.5,-292 1623.5,-292 1623.5,-218 1623.5,-218 1623.5,-212 1629.5,-206 1635.5,-206 1635.5,-206 1991.5,-206 1991.5,-206 1997.5,-206 2003.5,-212 2003.5,-218 2003.5,-218 2003.5,-292 2003.5,-292 2003.5,-298 1997.5,-304 1991.5,-304\"/>\n<text text-anchor=\"middle\" x=\"1813.5\" y=\"-288.8\" font-family=\"Helvetica,sans-Serif\" font-size=\"14.00\">pix60 &lt;= 7.5</text>\n<text text-anchor=\"middle\" x=\"1813.5\" y=\"-273.8\" font-family=\"Helvetica,sans-Serif\" font-size=\"14.00\">gini = 0.859</text>\n<text text-anchor=\"middle\" x=\"1813.5\" y=\"-258.8\" font-family=\"Helvetica,sans-Serif\" font-size=\"14.00\">samples = 824</text>\n<text text-anchor=\"middle\" x=\"1813.5\" y=\"-243.8\" font-family=\"Helvetica,sans-Serif\" font-size=\"14.00\">value = [4.0, 111.0, 97.0, 124.0, 102.0, 8.0, 4.0, 140.0, 139.0</text>\n<text text-anchor=\"middle\" x=\"1813.5\" y=\"-228.8\" font-family=\"Helvetica,sans-Serif\" font-size=\"14.00\">95.0]</text>\n<text text-anchor=\"middle\" x=\"1813.5\" y=\"-213.8\" font-family=\"Helvetica,sans-Serif\" font-size=\"14.00\">class = 7</text>\n</g>\n<!-- 34&#45;&gt;90 -->\n<g id=\"edge24\" class=\"edge\">\n<title>34&#45;&gt;90</title>\n<path fill=\"none\" stroke=\"black\" d=\"M1448.57,-340.77C1500.92,-328.61 1558.97,-315.12 1613.09,-302.55\"/>\n<polygon fill=\"black\" stroke=\"black\" points=\"1614.19,-305.89 1623.14,-300.22 1612.61,-299.07 1614.19,-305.89\"/>\n</g>\n<!-- 36 -->\n<g id=\"node19\" class=\"node\">\n<title>36</title>\n<path fill=\"#9bcdf2\" stroke=\"black\" d=\"M1285,-170C1285,-170 974,-170 974,-170 968,-170 962,-164 962,-158 962,-158 962,-84 962,-84 962,-78 968,-72 974,-72 974,-72 1285,-72 1285,-72 1291,-72 1297,-78 1297,-84 1297,-84 1297,-158 1297,-158 1297,-164 1291,-170 1285,-170\"/>\n<text text-anchor=\"middle\" x=\"1129.5\" y=\"-154.8\" font-family=\"Helvetica,sans-Serif\" font-size=\"14.00\">pix5 &lt;= 1.5</text>\n<text text-anchor=\"middle\" x=\"1129.5\" y=\"-139.8\" font-family=\"Helvetica,sans-Serif\" font-size=\"14.00\">gini = 0.612</text>\n<text text-anchor=\"middle\" x=\"1129.5\" y=\"-124.8\" font-family=\"Helvetica,sans-Serif\" font-size=\"14.00\">samples = 196</text>\n<text text-anchor=\"middle\" x=\"1129.5\" y=\"-109.8\" font-family=\"Helvetica,sans-Serif\" font-size=\"14.00\">value = [0.0, 28.0, 30.0, 13.0, 6.0, 114.0, 1.0, 3.0, 1.0</text>\n<text text-anchor=\"middle\" x=\"1129.5\" y=\"-94.8\" font-family=\"Helvetica,sans-Serif\" font-size=\"14.00\">0.0]</text>\n<text text-anchor=\"middle\" x=\"1129.5\" y=\"-79.8\" font-family=\"Helvetica,sans-Serif\" font-size=\"14.00\">class = 5</text>\n</g>\n<!-- 35&#45;&gt;36 -->\n<g id=\"edge18\" class=\"edge\">\n<title>35&#45;&gt;36</title>\n<path fill=\"none\" stroke=\"black\" d=\"M1223.65,-205.97C1213.14,-196.6 1202.05,-186.7 1191.3,-177.12\"/>\n<polygon fill=\"black\" stroke=\"black\" points=\"1193.35,-174.26 1183.56,-170.21 1188.69,-179.48 1193.35,-174.26\"/>\n</g>\n<!-- 69 -->\n<g id=\"node22\" class=\"node\">\n<title>69</title>\n<path fill=\"#7472ed\" stroke=\"black\" d=\"M1653.5,-162.5C1653.5,-162.5 1327.5,-162.5 1327.5,-162.5 1321.5,-162.5 1315.5,-156.5 1315.5,-150.5 1315.5,-150.5 1315.5,-91.5 1315.5,-91.5 1315.5,-85.5 1321.5,-79.5 1327.5,-79.5 1327.5,-79.5 1653.5,-79.5 1653.5,-79.5 1659.5,-79.5 1665.5,-85.5 1665.5,-91.5 1665.5,-91.5 1665.5,-150.5 1665.5,-150.5 1665.5,-156.5 1659.5,-162.5 1653.5,-162.5\"/>\n<text text-anchor=\"middle\" x=\"1490.5\" y=\"-147.3\" font-family=\"Helvetica,sans-Serif\" font-size=\"14.00\">pix54 &lt;= 3.5</text>\n<text text-anchor=\"middle\" x=\"1490.5\" y=\"-132.3\" font-family=\"Helvetica,sans-Serif\" font-size=\"14.00\">gini = 0.412</text>\n<text text-anchor=\"middle\" x=\"1490.5\" y=\"-117.3\" font-family=\"Helvetica,sans-Serif\" font-size=\"14.00\">samples = 177</text>\n<text text-anchor=\"middle\" x=\"1490.5\" y=\"-102.3\" font-family=\"Helvetica,sans-Serif\" font-size=\"14.00\">value = [0.0, 7.0, 8.0, 0.0, 25.0, 3.0, 133.0, 1.0, 0.0, 0.0]</text>\n<text text-anchor=\"middle\" x=\"1490.5\" y=\"-87.3\" font-family=\"Helvetica,sans-Serif\" font-size=\"14.00\">class = 6</text>\n</g>\n<!-- 35&#45;&gt;69 -->\n<g id=\"edge21\" class=\"edge\">\n<title>35&#45;&gt;69</title>\n<path fill=\"none\" stroke=\"black\" d=\"M1355,-205.97C1375,-193.58 1396.47,-180.27 1416.3,-167.98\"/>\n<polygon fill=\"black\" stroke=\"black\" points=\"1418.32,-170.85 1424.98,-162.6 1414.64,-164.9 1418.32,-170.85\"/>\n</g>\n<!-- 37 -->\n<g id=\"node20\" class=\"node\">\n<title>37</title>\n<path fill=\"#c0c0c0\" stroke=\"black\" d=\"M1108.5,-36C1108.5,-36 1078.5,-36 1078.5,-36 1072.5,-36 1066.5,-30 1066.5,-24 1066.5,-24 1066.5,-12 1066.5,-12 1066.5,-6 1072.5,0 1078.5,0 1078.5,0 1108.5,0 1108.5,0 1114.5,0 1120.5,-6 1120.5,-12 1120.5,-12 1120.5,-24 1120.5,-24 1120.5,-30 1114.5,-36 1108.5,-36\"/>\n<text text-anchor=\"middle\" x=\"1093.5\" y=\"-14.3\" font-family=\"Helvetica,sans-Serif\" font-size=\"14.00\">(...)</text>\n</g>\n<!-- 36&#45;&gt;37 -->\n<g id=\"edge19\" class=\"edge\">\n<title>36&#45;&gt;37</title>\n<path fill=\"none\" stroke=\"black\" d=\"M1112.34,-71.87C1109.13,-62.86 1105.89,-53.76 1103.02,-45.71\"/>\n<polygon fill=\"black\" stroke=\"black\" points=\"1106.27,-44.39 1099.61,-36.15 1099.67,-46.74 1106.27,-44.39\"/>\n</g>\n<!-- 58 -->\n<g id=\"node21\" class=\"node\">\n<title>58</title>\n<path fill=\"#c0c0c0\" stroke=\"black\" d=\"M1180.5,-36C1180.5,-36 1150.5,-36 1150.5,-36 1144.5,-36 1138.5,-30 1138.5,-24 1138.5,-24 1138.5,-12 1138.5,-12 1138.5,-6 1144.5,0 1150.5,0 1150.5,0 1180.5,0 1180.5,0 1186.5,0 1192.5,-6 1192.5,-12 1192.5,-12 1192.5,-24 1192.5,-24 1192.5,-30 1186.5,-36 1180.5,-36\"/>\n<text text-anchor=\"middle\" x=\"1165.5\" y=\"-14.3\" font-family=\"Helvetica,sans-Serif\" font-size=\"14.00\">(...)</text>\n</g>\n<!-- 36&#45;&gt;58 -->\n<g id=\"edge20\" class=\"edge\">\n<title>36&#45;&gt;58</title>\n<path fill=\"none\" stroke=\"black\" d=\"M1146.66,-71.87C1149.87,-62.86 1153.11,-53.76 1155.98,-45.71\"/>\n<polygon fill=\"black\" stroke=\"black\" points=\"1159.33,-46.74 1159.39,-36.15 1152.73,-44.39 1159.33,-46.74\"/>\n</g>\n<!-- 70 -->\n<g id=\"node23\" class=\"node\">\n<title>70</title>\n<path fill=\"#c0c0c0\" stroke=\"black\" d=\"M1469.5,-36C1469.5,-36 1439.5,-36 1439.5,-36 1433.5,-36 1427.5,-30 1427.5,-24 1427.5,-24 1427.5,-12 1427.5,-12 1427.5,-6 1433.5,0 1439.5,0 1439.5,0 1469.5,0 1469.5,0 1475.5,0 1481.5,-6 1481.5,-12 1481.5,-12 1481.5,-24 1481.5,-24 1481.5,-30 1475.5,-36 1469.5,-36\"/>\n<text text-anchor=\"middle\" x=\"1454.5\" y=\"-14.3\" font-family=\"Helvetica,sans-Serif\" font-size=\"14.00\">(...)</text>\n</g>\n<!-- 69&#45;&gt;70 -->\n<g id=\"edge22\" class=\"edge\">\n<title>69&#45;&gt;70</title>\n<path fill=\"none\" stroke=\"black\" d=\"M1475.96,-79.21C1471.95,-67.96 1467.7,-56.04 1464.05,-45.8\"/>\n<polygon fill=\"black\" stroke=\"black\" points=\"1467.29,-44.46 1460.63,-36.21 1460.7,-46.81 1467.29,-44.46\"/>\n</g>\n<!-- 87 -->\n<g id=\"node24\" class=\"node\">\n<title>87</title>\n<path fill=\"#c0c0c0\" stroke=\"black\" d=\"M1541.5,-36C1541.5,-36 1511.5,-36 1511.5,-36 1505.5,-36 1499.5,-30 1499.5,-24 1499.5,-24 1499.5,-12 1499.5,-12 1499.5,-6 1505.5,0 1511.5,0 1511.5,0 1541.5,0 1541.5,0 1547.5,0 1553.5,-6 1553.5,-12 1553.5,-12 1553.5,-24 1553.5,-24 1553.5,-30 1547.5,-36 1541.5,-36\"/>\n<text text-anchor=\"middle\" x=\"1526.5\" y=\"-14.3\" font-family=\"Helvetica,sans-Serif\" font-size=\"14.00\">(...)</text>\n</g>\n<!-- 69&#45;&gt;87 -->\n<g id=\"edge23\" class=\"edge\">\n<title>69&#45;&gt;87</title>\n<path fill=\"none\" stroke=\"black\" d=\"M1505.04,-79.21C1509.05,-67.96 1513.3,-56.04 1516.95,-45.8\"/>\n<polygon fill=\"black\" stroke=\"black\" points=\"1520.3,-46.81 1520.37,-36.21 1513.71,-44.46 1520.3,-46.81\"/>\n</g>\n<!-- 91 -->\n<g id=\"node26\" class=\"node\">\n<title>91</title>\n<path fill=\"#c582ef\" stroke=\"black\" d=\"M1931.5,-162.5C1931.5,-162.5 1695.5,-162.5 1695.5,-162.5 1689.5,-162.5 1683.5,-156.5 1683.5,-150.5 1683.5,-150.5 1683.5,-91.5 1683.5,-91.5 1683.5,-85.5 1689.5,-79.5 1695.5,-79.5 1695.5,-79.5 1931.5,-79.5 1931.5,-79.5 1937.5,-79.5 1943.5,-85.5 1943.5,-91.5 1943.5,-91.5 1943.5,-150.5 1943.5,-150.5 1943.5,-156.5 1937.5,-162.5 1931.5,-162.5\"/>\n<text text-anchor=\"middle\" x=\"1813.5\" y=\"-147.3\" font-family=\"Helvetica,sans-Serif\" font-size=\"14.00\">pix5 &lt;= 0.5</text>\n<text text-anchor=\"middle\" x=\"1813.5\" y=\"-132.3\" font-family=\"Helvetica,sans-Serif\" font-size=\"14.00\">gini = 0.528</text>\n<text text-anchor=\"middle\" x=\"1813.5\" y=\"-117.3\" font-family=\"Helvetica,sans-Serif\" font-size=\"14.00\">samples = 194</text>\n<text text-anchor=\"middle\" x=\"1813.5\" y=\"-102.3\" font-family=\"Helvetica,sans-Serif\" font-size=\"14.00\">value = [0, 10, 3, 5, 21, 1, 0, 130, 11, 13]</text>\n<text text-anchor=\"middle\" x=\"1813.5\" y=\"-87.3\" font-family=\"Helvetica,sans-Serif\" font-size=\"14.00\">class = 7</text>\n</g>\n<!-- 90&#45;&gt;91 -->\n<g id=\"edge25\" class=\"edge\">\n<title>90&#45;&gt;91</title>\n<path fill=\"none\" stroke=\"black\" d=\"M1813.5,-205.97C1813.5,-195.25 1813.5,-183.84 1813.5,-172.99\"/>\n<polygon fill=\"black\" stroke=\"black\" points=\"1817,-172.82 1813.5,-162.82 1810,-172.82 1817,-172.82\"/>\n</g>\n<!-- 144 -->\n<g id=\"node29\" class=\"node\">\n<title>144</title>\n<path fill=\"#fffcfe\" stroke=\"black\" d=\"M2315,-170C2315,-170 1974,-170 1974,-170 1968,-170 1962,-164 1962,-158 1962,-158 1962,-84 1962,-84 1962,-78 1968,-72 1974,-72 1974,-72 2315,-72 2315,-72 2321,-72 2327,-78 2327,-84 2327,-84 2327,-158 2327,-158 2327,-164 2321,-170 2315,-170\"/>\n<text text-anchor=\"middle\" x=\"2144.5\" y=\"-154.8\" font-family=\"Helvetica,sans-Serif\" font-size=\"14.00\">pix43 &lt;= 1.5</text>\n<text text-anchor=\"middle\" x=\"2144.5\" y=\"-139.8\" font-family=\"Helvetica,sans-Serif\" font-size=\"14.00\">gini = 0.841</text>\n<text text-anchor=\"middle\" x=\"2144.5\" y=\"-124.8\" font-family=\"Helvetica,sans-Serif\" font-size=\"14.00\">samples = 630</text>\n<text text-anchor=\"middle\" x=\"2144.5\" y=\"-109.8\" font-family=\"Helvetica,sans-Serif\" font-size=\"14.00\">value = [4.0, 101.0, 94.0, 119.0, 81.0, 7.0, 4.0, 10.0, 128.0</text>\n<text text-anchor=\"middle\" x=\"2144.5\" y=\"-94.8\" font-family=\"Helvetica,sans-Serif\" font-size=\"14.00\">82.0]</text>\n<text text-anchor=\"middle\" x=\"2144.5\" y=\"-79.8\" font-family=\"Helvetica,sans-Serif\" font-size=\"14.00\">class = 8</text>\n</g>\n<!-- 90&#45;&gt;144 -->\n<g id=\"edge28\" class=\"edge\">\n<title>90&#45;&gt;144</title>\n<path fill=\"none\" stroke=\"black\" d=\"M1933.93,-205.97C1960.14,-195.52 1987.98,-184.42 2014.54,-173.83\"/>\n<polygon fill=\"black\" stroke=\"black\" points=\"2015.89,-177.06 2023.88,-170.1 2013.29,-170.56 2015.89,-177.06\"/>\n</g>\n<!-- 92 -->\n<g id=\"node27\" class=\"node\">\n<title>92</title>\n<path fill=\"#c0c0c0\" stroke=\"black\" d=\"M1792.5,-36C1792.5,-36 1762.5,-36 1762.5,-36 1756.5,-36 1750.5,-30 1750.5,-24 1750.5,-24 1750.5,-12 1750.5,-12 1750.5,-6 1756.5,0 1762.5,0 1762.5,0 1792.5,0 1792.5,0 1798.5,0 1804.5,-6 1804.5,-12 1804.5,-12 1804.5,-24 1804.5,-24 1804.5,-30 1798.5,-36 1792.5,-36\"/>\n<text text-anchor=\"middle\" x=\"1777.5\" y=\"-14.3\" font-family=\"Helvetica,sans-Serif\" font-size=\"14.00\">(...)</text>\n</g>\n<!-- 91&#45;&gt;92 -->\n<g id=\"edge26\" class=\"edge\">\n<title>91&#45;&gt;92</title>\n<path fill=\"none\" stroke=\"black\" d=\"M1798.96,-79.21C1794.95,-67.96 1790.7,-56.04 1787.05,-45.8\"/>\n<polygon fill=\"black\" stroke=\"black\" points=\"1790.29,-44.46 1783.63,-36.21 1783.7,-46.81 1790.29,-44.46\"/>\n</g>\n<!-- 107 -->\n<g id=\"node28\" class=\"node\">\n<title>107</title>\n<path fill=\"#c0c0c0\" stroke=\"black\" d=\"M1864.5,-36C1864.5,-36 1834.5,-36 1834.5,-36 1828.5,-36 1822.5,-30 1822.5,-24 1822.5,-24 1822.5,-12 1822.5,-12 1822.5,-6 1828.5,0 1834.5,0 1834.5,0 1864.5,0 1864.5,0 1870.5,0 1876.5,-6 1876.5,-12 1876.5,-12 1876.5,-24 1876.5,-24 1876.5,-30 1870.5,-36 1864.5,-36\"/>\n<text text-anchor=\"middle\" x=\"1849.5\" y=\"-14.3\" font-family=\"Helvetica,sans-Serif\" font-size=\"14.00\">(...)</text>\n</g>\n<!-- 91&#45;&gt;107 -->\n<g id=\"edge27\" class=\"edge\">\n<title>91&#45;&gt;107</title>\n<path fill=\"none\" stroke=\"black\" d=\"M1828.04,-79.21C1832.05,-67.96 1836.3,-56.04 1839.95,-45.8\"/>\n<polygon fill=\"black\" stroke=\"black\" points=\"1843.3,-46.81 1843.37,-36.21 1836.71,-44.46 1843.3,-46.81\"/>\n</g>\n<!-- 145 -->\n<g id=\"node30\" class=\"node\">\n<title>145</title>\n<path fill=\"#c0c0c0\" stroke=\"black\" d=\"M2123.5,-36C2123.5,-36 2093.5,-36 2093.5,-36 2087.5,-36 2081.5,-30 2081.5,-24 2081.5,-24 2081.5,-12 2081.5,-12 2081.5,-6 2087.5,0 2093.5,0 2093.5,0 2123.5,0 2123.5,0 2129.5,0 2135.5,-6 2135.5,-12 2135.5,-12 2135.5,-24 2135.5,-24 2135.5,-30 2129.5,-36 2123.5,-36\"/>\n<text text-anchor=\"middle\" x=\"2108.5\" y=\"-14.3\" font-family=\"Helvetica,sans-Serif\" font-size=\"14.00\">(...)</text>\n</g>\n<!-- 144&#45;&gt;145 -->\n<g id=\"edge29\" class=\"edge\">\n<title>144&#45;&gt;145</title>\n<path fill=\"none\" stroke=\"black\" d=\"M2127.34,-71.87C2124.13,-62.86 2120.89,-53.76 2118.02,-45.71\"/>\n<polygon fill=\"black\" stroke=\"black\" points=\"2121.27,-44.39 2114.61,-36.15 2114.67,-46.74 2121.27,-44.39\"/>\n</g>\n<!-- 204 -->\n<g id=\"node31\" class=\"node\">\n<title>204</title>\n<path fill=\"#c0c0c0\" stroke=\"black\" d=\"M2195.5,-36C2195.5,-36 2165.5,-36 2165.5,-36 2159.5,-36 2153.5,-30 2153.5,-24 2153.5,-24 2153.5,-12 2153.5,-12 2153.5,-6 2159.5,0 2165.5,0 2165.5,0 2195.5,0 2195.5,0 2201.5,0 2207.5,-6 2207.5,-12 2207.5,-12 2207.5,-24 2207.5,-24 2207.5,-30 2201.5,-36 2195.5,-36\"/>\n<text text-anchor=\"middle\" x=\"2180.5\" y=\"-14.3\" font-family=\"Helvetica,sans-Serif\" font-size=\"14.00\">(...)</text>\n</g>\n<!-- 144&#45;&gt;204 -->\n<g id=\"edge30\" class=\"edge\">\n<title>144&#45;&gt;204</title>\n<path fill=\"none\" stroke=\"black\" d=\"M2161.66,-71.87C2164.87,-62.86 2168.11,-53.76 2170.98,-45.71\"/>\n<polygon fill=\"black\" stroke=\"black\" points=\"2174.33,-46.74 2174.39,-36.15 2167.73,-44.39 2174.33,-46.74\"/>\n</g>\n</g>\n</svg>\n",
            "text/plain": [
              "<graphviz.sources.Source at 0x799148ff6850>"
            ]
          },
          "metadata": {},
          "execution_count": 136
        }
      ]
    },
    {
      "cell_type": "code",
      "source": [
        "# Heatmaps DT\n",
        "\n",
        "cm_dt = confusion_matrix(y_test_d, y_pred_digits_dt)\n",
        "\n",
        "plt.figure(figsize=(8, 6))\n",
        "sns.heatmap(cm_dt, annot=True, fmt='d', cmap='Greys', linewidths=0.5, linecolor='black')\n",
        "plt.title('Decision Tree - Plane Heatmap')\n",
        "plt.xlabel('Predicted Digit')\n",
        "plt.ylabel('Actual Digit')\n",
        "plt.show()\n",
        "\n",
        "\n"
      ],
      "metadata": {
        "colab": {
          "base_uri": "https://localhost:8080/",
          "height": 573
        },
        "id": "w5gNlJ3A4DFf",
        "outputId": "9df0ba6c-955c-4a4d-f813-744f49689e83"
      },
      "execution_count": 137,
      "outputs": [
        {
          "output_type": "display_data",
          "data": {
            "text/plain": [
              "<Figure size 800x600 with 2 Axes>"
            ],
            "image/png": "[encoded data removed]"
          },
          "metadata": {}
        }
      ]
    },
    {
      "cell_type": "code",
      "source": [
        "cm_rf = confusion_matrix(y_test_d, y_pred_digits_rf)\n",
        "\n",
        "plt.figure(figsize=(8, 6))\n",
        "sns.heatmap(cm_rf, annot=True, fmt='d', cmap='YlGnBu', linewidths=0.2, cbar_kws={'label': 'Frequency'})\n",
        "plt.title('Random Forest - Planev2 Heatmap')\n",
        "plt.xlabel('Predicted Digit')\n",
        "plt.ylabel('Actual Digit')\n",
        "plt.show()\n"
      ],
      "metadata": {
        "colab": {
          "base_uri": "https://localhost:8080/",
          "height": 573
        },
        "id": "gEzcnRCc6_KH",
        "outputId": "098ce977-b454-4042-e6f8-f38197748e31"
      },
      "execution_count": 156,
      "outputs": [
        {
          "output_type": "display_data",
          "data": {
            "text/plain": [
              "<Figure size 800x600 with 2 Axes>"
            ],
            "image/png": "[encoded data removed]"
          },
          "metadata": {}
        }
      ]
    },
    {
      "cell_type": "code",
      "source": [
        "feature_columns = X_digits.columns.tolist()\n"
      ],
      "metadata": {
        "id": "Ri3D8kwD7ok5"
      },
      "execution_count": 146,
      "outputs": []
    },
    {
      "cell_type": "code",
      "source": [
        "def predictive_model_digits(features):\n",
        "    feature_df = pd.DataFrame([features], columns=feature_columns)\n",
        "    return int(rf_digits.predict(feature_df)[0])  # or dt_digits\n"
      ],
      "metadata": {
        "id": "xe5QqkB97qDU"
      },
      "execution_count": 147,
      "outputs": []
    },
    {
      "cell_type": "code",
      "source": [
        "PIX1 = np.arange(0, 16, 0.5)\n",
        "PIX2 = np.arange(0, 16, 0.5)\n",
        "digit_plane = np.zeros((len(PIX2), len(PIX1)))\n",
        "\n",
        "fixed_input = np.zeros(len(feature_columns))\n",
        "fixed_input[10] = 5  # placeholder for realism\n",
        "\n",
        "pix_a = 20\n",
        "pix_b = 30\n",
        "\n",
        "for row, pix_val2 in enumerate(PIX2):\n",
        "    for col, pix_val1 in enumerate(PIX1):\n",
        "        input_vector = fixed_input.copy()\n",
        "        input_vector[pix_a] = pix_val1\n",
        "        input_vector[pix_b] = pix_val2\n",
        "        output = predictive_model_digits(input_vector)\n",
        "        digit_plane[row, col] = output\n",
        "    print(\".\", end=\"\")\n"
      ],
      "metadata": {
        "colab": {
          "base_uri": "https://localhost:8080/"
        },
        "id": "pB95xNk37NHt",
        "outputId": "ef694fbb-7121-462f-cdb2-a7e1bb21fa6d"
      },
      "execution_count": 149,
      "outputs": [
        {
          "output_type": "stream",
          "name": "stdout",
          "text": [
            "................................"
          ]
        }
      ]
    },
    {
      "cell_type": "code",
      "source": [
        "plt.figure(figsize=(12, 8))\n",
        "ax = sns.heatmap(digit_plane, cmap=\"tab10\", cbar_kws={'label': 'Predicted Digit'})\n",
        "ax.invert_yaxis()\n",
        "ax.set(xlabel=f\"Pixel {pix_a} intensity\", ylabel=f\"Pixel {pix_b} intensity\")\n",
        "ax.set_title(\"Decision Plane for Digits (RF or DT)\")\n",
        "ax.set_xticks(ax.get_xticks()[::4])\n",
        "ax.set_yticks(ax.get_yticks()[::4])\n"
      ],
      "metadata": {
        "colab": {
          "base_uri": "https://localhost:8080/",
          "height": 866
        },
        "id": "SoTF9SfE7XcO",
        "outputId": "4ef1ea9c-2f8f-44a6-f988-417da7385246"
      },
      "execution_count": 157,
      "outputs": [
        {
          "output_type": "execute_result",
          "data": {
            "text/plain": [
              "[<matplotlib.axis.YTick at 0x799149800510>,\n",
              " <matplotlib.axis.YTick at 0x799149340090>,\n",
              " <matplotlib.axis.YTick at 0x799150db5a90>,\n",
              " <matplotlib.axis.YTick at 0x799150db7e10>,\n",
              " <matplotlib.axis.YTick at 0x799150db0a90>,\n",
              " <matplotlib.axis.YTick at 0x799150dbef90>,\n",
              " <matplotlib.axis.YTick at 0x799150dc5410>,\n",
              " <matplotlib.axis.YTick at 0x799150dc7610>]"
            ]
          },
          "metadata": {},
          "execution_count": 157
        },
        {
          "output_type": "display_data",
          "data": {
            "text/plain": [
              "<Figure size 1200x800 with 2 Axes>"
            ],
            "image/png": "[encoded data removed]"
          },
          "metadata": {}
        }
      ]
    },
    {
      "cell_type": "markdown",
      "source": [],
      "metadata": {
        "id": "L1rtn8o9-6BZ"
      }
    },
    {
      "cell_type": "markdown",
      "source": [
        "# **Next week**: Titanic or _your-own-data_\n",
        "\n",
        "Not required for this week -- but for _next_ week, IST341 will be narrowing project ideas.\n",
        "\n",
        "One of those possibilities is to choose a dataset of your own (or use the Titanic / housing dataset) and\n",
        "+ be sure it's cleaned up to the point where it's \"tidy\"\n",
        "+ the cleaning can be done in Excel/spreadsheets instead of Python, for sure\n",
        "+ or, the cleaning can be done in Python -- up to you!\n",
        "+ Then, model your dataset with DTs and RFs, just as above\n",
        "+ and, use Neural Nets (which we will feature next week...)\n",
        "\n",
        "To gain additional insight, you'll find and show the _feature importances_ for your features in your dataset...\n",
        "\n",
        "Often, these are what generate the most value, because\n",
        "+ you want to know what features have the most impact\n",
        "+ you want to know the relative strengths of the features\n",
        "+ you're waiting for future data on which to run your predictive model! :-)\n",
        "\n",
        "<br>\n",
        "<hr>\n",
        "<br>\n",
        "\n",
        "You can tell we're evolving into a \"final-project\" mindset.\n",
        "\n",
        "The final project does not have to be data-analysis at all. (That said, it's a popular option...) Big-picture, it's best if _whatever the project_ it overlaps with  your work or interests from professional/personal/other class's efforts.\n",
        "\n",
        "Onward!"
      ],
      "metadata": {
        "id": "819OSwlj-6U0"
      }
    },
    {
      "cell_type": "code",
      "source": [
        "# a placeholder code cell"
      ],
      "metadata": {
        "id": "6e9I9RuS_Lf9"
      },
      "execution_count": null,
      "outputs": []
    },
    {
      "cell_type": "markdown",
      "source": [],
      "metadata": {
        "id": "YRLBfwt7_Lf-"
      }
    }
  ],
  "metadata": {
    "kernelspec": {
      "display_name": "Python 3.10.5 64-bit",
      "language": "python",
      "name": "python3"
    },
    "language_info": {
      "codemirror_mode": {
        "name": "ipython",
        "version": 3
      },
      "file_extension": ".py",
      "mimetype": "text/x-python",
      "name": "python",
      "nbconvert_exporter": "python",
      "pygments_lexer": "ipython3",
      "version": "3.10.5"
    },
    "vscode": {
      "interpreter": {
        "hash": "292543b5c4ab753101a1f76b3f35b135c08826e5ad03d467bb949663c9544fbe"
      }
    },
    "colab": {
      "provenance": [],
      "collapsed_sections": [
        "uMEsQWZjbTo2"
      ],
      "include_colab_link": true
    }
  },
  "nbformat": 4,
  "nbformat_minor": 0
}