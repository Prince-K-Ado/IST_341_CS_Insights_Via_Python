{
  "cells": [
    {
      "cell_type": "markdown",
      "metadata": {
        "id": "view-in-github",
        "colab_type": "text"
      },
      "source": [
        "<a href=\"https://colab.research.google.com/github/Prince-K-Ado/IST_341_CS_Insights_Via_Python/blob/main/Notebooks/Week_5_CGU_For_libraries%2C_for_lists%2C_for_the_win.ipynb\" target=\"_parent\"><img src=\"https://colab.research.google.com/assets/colab-badge.svg\" alt=\"Open In Colab\"/></a>"
      ]
    },
    {
      "cell_type": "markdown",
      "source": [
        "# IST 341: Hi, everyone!\n",
        "\n",
        "### Assignment <u>5</u> Notebook: &nbsp; _For Lists_\n",
        "\n",
        "... and for the win, since _For Lists_ are Python's \"best feature\"\n",
        "\n",
        "Featuring:\n",
        "+ _For Lists_, aka _List Comprehensions_\n",
        "+ the <tt>for</tt> syntax, used for looping\n",
        "+ _Applications_: lots!\n",
        "  + functions of many sorts\n",
        "  + estimating pi-from-pie (well, pi-from-circles-and-darts!) and other simulations...\n",
        "  + incorporating <tt>libraries</tt> into our code! Here, it's <tt>requests</tt> (Yay!)\n",
        "+ plus, there is a reading-with-response that invites thinking about _algorithmic fairness and bias_\n",
        "  + a topic that is _increasingly_ important -- and pertinent!"
      ],
      "metadata": {
        "id": "UrkiOTiDEjwp"
      }
    },
    {
      "cell_type": "markdown",
      "source": [
        "### <font color=\"FireBrick\"><b>Overview of this week's Python Notebook</b> (this notebook)</font>\n",
        "\n",
        "**Last week** introduced the \"first-rest\" pattern that\n",
        "+ composed functions to \"process one element\" and then \"continue the process...\"\n",
        "+ this was a starting example of using loops\n",
        "\n",
        "<br>\n",
        "\n",
        "**This week** we emphasize lists and <tt>for</tt> syntax:\n",
        "+ Together, these _\"For Lists\"_ are elegant and powerful\n",
        "+ Python's official name for them is _List Comprehensions_\n",
        "+ They expand the power and variety of simulation-and-analysis that we can take on ...\n",
        "+ Plus, remember that the _next_ assignment will be a **Looping** challenge that uses [PythonBat](https://codingbat.com/python)\n",
        "  + You won't put the PythonBat functions into a notebook...\n",
        "\n",
        "<br>\n",
        "\n",
        "Let's dive in!"
      ],
      "metadata": {
        "id": "NoXM4SE7QVPh"
      }
    },
    {
      "cell_type": "markdown",
      "source": [
        "### <font color=\"DodgerBlue\"><b>Make your own copy of this notebook (as in each week)</b></font>\n",
        "\n",
        "**Submitting** -- When you're ready to submit, be sure to\n",
        "+ **share** the notebook with me at\n",
        "   + `zdodds@gmail.com`\n",
        "+ and also **submit** the url to your notebook at the appropriate spot on Canvas\n",
        "\n",
        "That makes it easiest to read and run!"
      ],
      "metadata": {
        "id": "M7dzL4m4fPYf"
      }
    },
    {
      "cell_type": "markdown",
      "source": [
        "# Lists!\n",
        "\n",
        "We have done a lot with strings so far, but there is an even more general sequence datatype: **lists**.  \n",
        "\n",
        "This week, we will emphasize lists, starting with five built-in functions:\n",
        "+ ``len(L)`` returns the length of a list ``L``\n",
        "+ ``max(L)`` returns ``L``'s largest element and ``min`` returns ``L``'s smallest element\n",
        "+ ``sum(L)`` adds up all of the elements (if they're numbers; if not, it's an error)\n",
        "+ ``range(low,hi)`` creates lists from ``low`` up to but not including ``hi``\n",
        "\n",
        "Try them out:"
      ],
      "metadata": {
        "id": "avPkcx0jJrJG"
      }
    },
    {
      "cell_type": "code",
      "source": [
        "L = [ 'CGU', 'CMC', 'PIT', 'SCR', 'POM', 'HMC' ]\n",
        "print(\"len(L) is\", len(L))     # just for fun, try max and min of this L:  We win! (Why?!)"
      ],
      "metadata": {
        "id": "b-rEnj4lKyNc"
      },
      "execution_count": null,
      "outputs": []
    },
    {
      "cell_type": "code",
      "source": [
        "L = [1, 2, 40, 3 ]\n",
        "print(\"max(L) is\", max(L))\n",
        "print(\"min(L) is\", min(L))\n",
        "print(\"sum(L) is\", sum(L))"
      ],
      "metadata": {
        "id": "AAp1PLczK_JE"
      },
      "execution_count": null,
      "outputs": []
    },
    {
      "cell_type": "code",
      "source": [
        "L = range(1,43)\n",
        "print(\"L is\", L)   # Uh oh... it won't create the list unless we tell it to..."
      ],
      "metadata": {
        "id": "dsXFyTKxLj_w"
      },
      "execution_count": null,
      "outputs": []
    },
    {
      "cell_type": "code",
      "source": [
        "L = list(range(1,367))  # ask it to create the list values...\n",
        "print(\"L is\", L)  # Aha!"
      ],
      "metadata": {
        "id": "dy9qf_d3MEzf"
      },
      "execution_count": null,
      "outputs": []
    },
    {
      "cell_type": "code",
      "source": [
        "print(\"max(L) is\", max(L))    # ... up to but _not_ including the endpoint!"
      ],
      "metadata": {
        "id": "O8OF1BjrMR70"
      },
      "execution_count": null,
      "outputs": []
    },
    {
      "cell_type": "markdown",
      "source": [
        "Nice! &nbsp; Let's put lists to work!\n",
        "\n",
        "<br>\n",
        "\n",
        "### <font color=\"Coral\"><b>Task #1</b></font>: Adding from 1 to 100...\n",
        "\n",
        "In the cell below, combine some of the list functions above to add up all of the numbers from 1 to 100 and print the result.\n",
        "\n",
        "Be sure to _include_ the number 100 in your addition! (What will this require...?!)\n"
      ],
      "metadata": {
        "id": "ZJdyu1n5Mgzm"
      }
    },
    {
      "cell_type": "code",
      "source": [
        "#\n",
        "# Gauss's number: adding from 1 to 100\n",
        "#\n",
        "\n",
        "gauss_number = sum(range(1,101))\n",
        "print(\"Gauss's number is\", gauss_number)\n"
      ],
      "metadata": {
        "id": "LEDEazbCNCb5",
        "colab": {
          "base_uri": "https://localhost:8080/"
        },
        "outputId": "801bb558-36d4-43c5-c8b1-4be68e71680e"
      },
      "execution_count": 1,
      "outputs": [
        {
          "output_type": "stream",
          "name": "stdout",
          "text": [
            "Gauss's number is 5050\n"
          ]
        }
      ]
    },
    {
      "cell_type": "markdown",
      "source": [
        "Now, let's _add_ another powerful element: the ``for`` keyword:"
      ],
      "metadata": {
        "id": "6GlAqoGFNZJg"
      }
    },
    {
      "cell_type": "markdown",
      "source": [
        "# <b>Example</b>:  ``vwl_once(c) and vwl_all(s)``\n",
        "\n",
        "In last week's notebook, you used ``vwl_once`` and ``vwl_all``:\n",
        "+ ``vwl_once`` scored a vowel as a ``1``, other characters as ``0``\n",
        "+ ``vwl_all`` used ``vwl_once`` to count all vowles in an input string\n",
        "\n",
        "Here is ``vwl_once(c)``. Be sure to run it:\n"
      ],
      "metadata": {
        "id": "9BqFJ1etLRzR"
      }
    },
    {
      "cell_type": "code",
      "source": [
        "# single-character substitution:\n",
        "\n",
        "def vwl_once(c):\n",
        "  \"\"\" vwl_once returns 1 for a single vowel, 0 otherwise\n",
        "  \"\"\"\n",
        "  if c in 'aeiou': return 1\n",
        "  else: return 0\n",
        "\n",
        "# two tests:\n",
        "print(\"vwl_once('a') should be 1 <->\", vwl_once('a'))\n",
        "print(\"vwl_once('b') should be 0 <->\", vwl_once('b'))"
      ],
      "metadata": {
        "id": "1krVLOH0HQsC",
        "colab": {
          "base_uri": "https://localhost:8080/"
        },
        "outputId": "bd2c6bed-ac54-476a-fd49-5d7ce483706b"
      },
      "execution_count": 2,
      "outputs": [
        {
          "output_type": "stream",
          "name": "stdout",
          "text": [
            "vwl_once('a') should be 1 <-> 1\n",
            "vwl_once('b') should be 0 <-> 0\n"
          ]
        }
      ]
    },
    {
      "cell_type": "markdown",
      "source": [
        "This week, we will use a different approach to ``vwl_all``\n",
        "+ The next cell has an example of a _For List_, or _List Comprehension_.\n",
        "+ Try it!\n",
        "+ See if you can tell what it has done"
      ],
      "metadata": {
        "id": "_PtRB7aiHDc4"
      }
    },
    {
      "cell_type": "code",
      "source": [
        "s = \"claremont\"\n",
        "print(\"s is\", s)\n",
        "print()\n",
        "\n",
        "LC = [ vwl_once(c) for c in s ]\n",
        "print(\"LC is\", LC)"
      ],
      "metadata": {
        "id": "LdKzI7ynHL4C",
        "colab": {
          "base_uri": "https://localhost:8080/"
        },
        "outputId": "27c0d186-f60f-496c-9ffa-b34de047d5c6"
      },
      "execution_count": 3,
      "outputs": [
        {
          "output_type": "stream",
          "name": "stdout",
          "text": [
            "s is claremont\n",
            "\n",
            "LC is [0, 0, 1, 0, 1, 0, 1, 0, 0]\n"
          ]
        }
      ]
    },
    {
      "cell_type": "markdown",
      "source": [
        "**Aha!**  Line 5 has created a list ``LC`` that\n",
        "+ contains the output of ``vwl_once`` for each letter in ``s``!\n",
        "\n",
        "_How does it work?_\n",
        "+ it uses the ``for`` keyword to create a _loop_ inside a list\n",
        "  + notice that the whole thing is wrapped in ``[ ]`` square brackets\n",
        "+ it defines a variable ``c``\n",
        "+ it _assigns_ the variable ``c`` to _each element in ``s``_\n",
        "+ and it runs ``vwl_once(c)`` on each\n",
        "\n",
        "``LC`` is a list of all the outputs, one for each input character ``c`` in ``s``\n",
        "\n",
        "Here is a second example:"
      ],
      "metadata": {
        "id": "OqZdoDHnHrJP"
      }
    },
    {
      "cell_type": "code",
      "source": [
        "s = \"audio\"\n",
        "print(\"s is\", s)\n",
        "print()\n",
        "\n",
        "LC = [ vwl_once(c) for c in s ]\n",
        "print(\"LC is\", LC)"
      ],
      "metadata": {
        "id": "vy_huY5WOT7c",
        "colab": {
          "base_uri": "https://localhost:8080/"
        },
        "outputId": "d7036672-7c9e-4462-c690-f14ba8b2714b"
      },
      "execution_count": 4,
      "outputs": [
        {
          "output_type": "stream",
          "name": "stdout",
          "text": [
            "s is audio\n",
            "\n",
            "LC is [1, 1, 0, 1, 1]\n"
          ]
        }
      ]
    },
    {
      "cell_type": "markdown",
      "source": [
        "``audio`` has the vowel-pattern ``[1, 1, 0, 1, 1]``\n",
        "\n",
        "Find more!\n",
        "\n",
        "### <font color=\"Coral\"><b>Task #2</b></font>: More vowel patterns...\n",
        "\n",
        "Below, write four more examples of list comprehensions. <br> Copy-paste-and-edit the examples above.\n",
        "\n",
        "Find English words whose vowel-patterns are\n",
        "+ ``[0, 1, 0, 1, 0]``\n",
        "+ ``[0, 0, 0, 1, 0, 0]``\n",
        "+ ``[1, 0, 1, 1, 0, 0, 1, 0]   # I may need more of this...``\n",
        "+ and one more \"unusual\" pattern of your choice...\n",
        "\n",
        "<br><br>\n",
        "Feel free to"
      ],
      "metadata": {
        "id": "L-BzuGsbOhXc"
      }
    },
    {
      "cell_type": "code",
      "source": [
        "#\n",
        "# feel free to use this cell to check your vowel-patterns.\n",
        "#      This example is a starting point.\n",
        "#      You'll want to copy-paste-and-change it:\n",
        "s = \"audio\"\n",
        "LC = [ vwl_once(c) for c in s ]\n",
        "print(\"LC is\", LC)"
      ],
      "metadata": {
        "id": "ok9LwagFiE8B",
        "colab": {
          "base_uri": "https://localhost:8080/"
        },
        "outputId": "8674a372-a125-465d-c25d-17d9cc4c8d0e"
      },
      "execution_count": 5,
      "outputs": [
        {
          "output_type": "stream",
          "name": "stdout",
          "text": [
            "LC is [1, 1, 0, 1, 1]\n"
          ]
        }
      ]
    },
    {
      "cell_type": "markdown",
      "source": [
        "Let's ``sum``!\n",
        "\n",
        "Along with ``sum``, we can use these ideas to implement ``vwl_all(s)``, which returns the total number of vowels in an input string ``s``:"
      ],
      "metadata": {
        "id": "W8syB1DtQIEt"
      }
    },
    {
      "cell_type": "code",
      "source": [
        "#\n",
        "# vwl_all using this technique\n",
        "#\n",
        "\n",
        "def vwl_all(s):\n",
        "  \"\"\" returns the total # of vowels in s, a string\n",
        "  \"\"\"\n",
        "  LC = [ vwl_once(c) for c in s ]\n",
        "  total = sum(LC)  # add them all up!\n",
        "  return total\n",
        "\n",
        "# two tests:\n",
        "print(\"vwl_all('claremont') should be 3 <->\", vwl_all('claremont'))\n",
        "print(\"vwl_all('caffeine') should be 4 <->\", vwl_all('caffeine'))\n"
      ],
      "metadata": {
        "id": "N2xQq8CsQbBn",
        "colab": {
          "base_uri": "https://localhost:8080/"
        },
        "outputId": "25ed1b7a-6620-4132-d7ac-dd8b4950bbfe"
      },
      "execution_count": 6,
      "outputs": [
        {
          "output_type": "stream",
          "name": "stdout",
          "text": [
            "vwl_all('claremont') should be 3 <-> 3\n",
            "vwl_all('caffeine') should be 4 <-> 4\n"
          ]
        }
      ]
    },
    {
      "cell_type": "markdown",
      "source": [
        "### List comprehensions\n",
        "\n",
        "The syntax above is called a _list comprehension_ in Python\n",
        "+ More evocative names might have been possible!\n",
        "+ I would have preferred _For List_\n",
        "+ or, even better, _Fun List_\n",
        "+ (its most common use is running a function on each element)\n",
        "\n",
        "Alas, it's _List Comprehension_\n",
        "+ as a reminder, I'll often use ``LC``\n",
        "+ However, _any_ variable name can be used to name the result\n",
        "\n"
      ],
      "metadata": {
        "id": "pvfJW18zIxqO"
      }
    },
    {
      "cell_type": "markdown",
      "source": [
        "Here is a second example, using ``scrabble`` and an analysis using the results. <br> Then, you'll write two more.\n",
        "\n",
        "### **Example 2**: ``scrabble``\n",
        "+ ``scrabble_one`` returns one letter's score\n",
        "+ ``scrabble_all`` uses a list comprehension to score a full string"
      ],
      "metadata": {
        "id": "3LQkGTOTJk33"
      }
    },
    {
      "cell_type": "code",
      "source": [
        "# scrabble-scoring\n",
        "\n",
        "def scrabble_one(c):\n",
        "  \"\"\" returns the scrabble score of one character, c\n",
        "  \"\"\"\n",
        "  c = c.lower()\n",
        "  if c in 'aeilnorstu':   return 1\n",
        "  elif c in 'dg':         return 2\n",
        "  elif c in 'bcmp':       return 3\n",
        "  elif c in 'fhvwy':      return 4\n",
        "  elif c in 'k':          return 5\n",
        "  elif c in 'jx':         return 8\n",
        "  elif c in 'qz':         return 10\n",
        "  else:                   return 0\n",
        "\n",
        "# tests:\n",
        "print(\"scrabble_one('q') should be 10 <->\", scrabble_one('q'))\n",
        "print(\"scrabble_one('!') should be 0 <->\", scrabble_one('!'))\n",
        "print(\"scrabble_one('u') should be 1 <->\", scrabble_one('u'))"
      ],
      "metadata": {
        "id": "1CnqGkrNS-ts",
        "colab": {
          "base_uri": "https://localhost:8080/"
        },
        "outputId": "a946916e-cdc6-475b-892a-abd9347776a1"
      },
      "execution_count": 7,
      "outputs": [
        {
          "output_type": "stream",
          "name": "stdout",
          "text": [
            "scrabble_one('q') should be 10 <-> 10\n",
            "scrabble_one('!') should be 0 <-> 0\n",
            "scrabble_one('u') should be 1 <-> 1\n"
          ]
        }
      ]
    },
    {
      "cell_type": "markdown",
      "source": [
        "``scrabble_one`` provides scores, and <br>  ``scrabble_all`` then uses the same pattern as ``vwl_all``:"
      ],
      "metadata": {
        "id": "a_3CwdhzUA5M"
      }
    },
    {
      "cell_type": "code",
      "source": [
        "#\n",
        "# scrabble_all using this technique\n",
        "#\n",
        "\n",
        "def scrabble_all(s):\n",
        "  \"\"\" returns the total scrabble score of s\n",
        "  \"\"\"\n",
        "  LC = [ scrabble_one(c) for c in s ]\n",
        "  total = sum(LC)  # add them all up!\n",
        "  return total\n",
        "\n",
        "\n",
        "# two tests:\n",
        "print(\"scrabble_all('Zany Sci Ten Quiz') should be 46 <->\", scrabble_all('Zany Sci Ten Quiz'))\n",
        "print(\"scrabble_all('Claremont') should be 13 <->\", scrabble_all('Claremont'))\n",
        "print(\"scrabble_all('abcdefghijklmnopqrstuvwxyz!') should be 87 <->\", scrabble_all('abcdefghijklmnopqrstuvwxyz!'))"
      ],
      "metadata": {
        "id": "ble5vYdpUPGL",
        "colab": {
          "base_uri": "https://localhost:8080/"
        },
        "outputId": "2cedebc5-3755-4413-d9fb-6c79a659c6c0"
      },
      "execution_count": 8,
      "outputs": [
        {
          "output_type": "stream",
          "name": "stdout",
          "text": [
            "scrabble_all('Zany Sci Ten Quiz') should be 46 <-> 46\n",
            "scrabble_all('Claremont') should be 13 <-> 13\n",
            "scrabble_all('abcdefghijklmnopqrstuvwxyz!') should be 87 <-> 87\n"
          ]
        }
      ]
    },
    {
      "cell_type": "markdown",
      "source": [
        "### <b>Example analysis</b>\n",
        "\n",
        "Using ``scrabble_all`` we analyze the scrabble-score richness of Plankton vs Patrick, both raw score and per-character:\n",
        "\n",
        "\n",
        "\n",
        "\n",
        "\n"
      ],
      "metadata": {
        "id": "S3fIcroiHwp1"
      }
    },
    {
      "cell_type": "code",
      "source": [
        "# Here are the two texts:\n",
        "\n",
        "PLANKTON = \"\"\"I'm As Evil As Ever. I'll Prove It\n",
        "Right Now By Stealing The Krabby Patty Secret Formula.\"\"\"\n",
        "\n",
        "PATRICK = \"\"\"I can't hear you.\n",
        "It's too dark in here.\"\"\""
      ],
      "metadata": {
        "id": "0rNonriYXG0E"
      },
      "execution_count": 10,
      "outputs": []
    },
    {
      "cell_type": "code",
      "source": [
        "#\n",
        "# raw scrabble comparison\n",
        "#\n",
        "\n",
        "print(\"PLANKTON, total score:\", scrabble_all(PLANKTON))\n",
        "print(\"PATRICK, total score:\", scrabble_all(PATRICK))"
      ],
      "metadata": {
        "id": "Lgg2ULLRXN99",
        "colab": {
          "base_uri": "https://localhost:8080/"
        },
        "outputId": "740d630a-d697-47ab-87dd-bf102bb265b0"
      },
      "execution_count": 11,
      "outputs": [
        {
          "output_type": "stream",
          "name": "stdout",
          "text": [
            "PLANKTON, total score: 121\n",
            "PATRICK, total score: 44\n"
          ]
        }
      ]
    },
    {
      "cell_type": "code",
      "source": [
        "#\n",
        "# per-character (\"average/expected\") scrabble comparison\n",
        "#\n",
        "\n",
        "print(\"PLANKTON, per-char score:\", scrabble_all(PLANKTON)/len(PLANKTON))\n",
        "print(\"PATRICK, per-char score:\", scrabble_all(PATRICK)/len(PATRICK))"
      ],
      "metadata": {
        "id": "pcoLCWciXkrL"
      },
      "execution_count": null,
      "outputs": []
    },
    {
      "cell_type": "markdown",
      "source": [
        "### Some more list-comprehension examples...\n",
        "\n",
        "Practice with these, then you'll develop an application for analyzing prose..."
      ],
      "metadata": {
        "id": "22bfgVx5wqYI"
      }
    },
    {
      "cell_type": "code",
      "source": [
        "\n",
        "# let's see a \"plain\"  LC   (list comprehension)\n",
        "\n",
        "[ 2*x for x in [0,1,2,3,4,5] ]\n",
        "\n",
        "# it _should_ result in     [0, 2, 4, 6, 8, 10]"
      ],
      "metadata": {
        "id": "Sxd7c-rCwzyn",
        "colab": {
          "base_uri": "https://localhost:8080/"
        },
        "outputId": "3908776a-d479-41a6-b0df-7dfbb02ef939"
      },
      "execution_count": 12,
      "outputs": [
        {
          "output_type": "execute_result",
          "data": {
            "text/plain": [
              "[0, 2, 4, 6, 8, 10]"
            ]
          },
          "metadata": {},
          "execution_count": 12
        }
      ]
    },
    {
      "cell_type": "code",
      "source": [
        "\n",
        "# let's see a few more  list comprehensions.  For sure, we can name them:\n",
        "\n",
        "A  =  [ 10*x for x in [0,1,2,3,4,5] if x%2==0]   # notice the \"if\"! (there's no else...)\n",
        "print(A)"
      ],
      "metadata": {
        "id": "wdnNCJfUxAMX",
        "colab": {
          "base_uri": "https://localhost:8080/"
        },
        "outputId": "17619902-5518-4a18-f0f8-f52abee9b780"
      },
      "execution_count": 13,
      "outputs": [
        {
          "output_type": "stream",
          "name": "stdout",
          "text": [
            "[0, 20, 40]\n"
          ]
        }
      ]
    },
    {
      "cell_type": "code",
      "source": [
        "\n",
        "B = [ y*21 for y in list(range(0,3)) ]    # remember what range does?\n",
        "print(B)"
      ],
      "metadata": {
        "id": "YXdY3txdxFjo",
        "colab": {
          "base_uri": "https://localhost:8080/"
        },
        "outputId": "5bf73b43-ba7a-40a5-f894-ac32a3ea7e24"
      },
      "execution_count": 14,
      "outputs": [
        {
          "output_type": "stream",
          "name": "stdout",
          "text": [
            "[0, 21, 42]\n"
          ]
        }
      ]
    },
    {
      "cell_type": "code",
      "source": [
        "C = [ s[1] for s in [\"hi\", \"7Cs!\"] ]      # doesn't have to be numbers...\n",
        "print(C)"
      ],
      "metadata": {
        "id": "KtYWuLGrxGRV",
        "colab": {
          "base_uri": "https://localhost:8080/"
        },
        "outputId": "91cdd89b-feaf-48ff-ba92-96667ea903a1"
      },
      "execution_count": 15,
      "outputs": [
        {
          "output_type": "stream",
          "name": "stdout",
          "text": [
            "['i', 'C']\n"
          ]
        }
      ]
    },
    {
      "cell_type": "code",
      "source": [
        "\n",
        "# Let's try thinking about these...\n",
        "\n",
        "\n",
        "A = [ n+2 for n in   range(40,42) ]\n",
        "B = [ 42 for z in [0,1,2] ]\n",
        "C = [ z for z in [42,42] ]\n",
        "D = [ s[::-2] for s in ['fungic','y!a!y!'] ]\n",
        "L = [ [len(w),w] for w in  ['Hi','IST'] ]\n",
        "\n",
        "print(\"A is\", A)\n",
        "print(\"B is\", B)\n",
        "print(\"C is\", C)\n",
        "print(\"D is\", D)\n",
        "print(\"L is\", L)\n",
        "\n",
        "\n",
        "# then, see if they work the way you predict..."
      ],
      "metadata": {
        "id": "Eoj_EonMxJml",
        "colab": {
          "base_uri": "https://localhost:8080/"
        },
        "outputId": "ee03bc1f-598e-49ae-f862-edfdd6e26e9a"
      },
      "execution_count": 18,
      "outputs": [
        {
          "output_type": "stream",
          "name": "stdout",
          "text": [
            "A is [42, 43]\n",
            "B is [42, 42, 42]\n",
            "C is [42, 42]\n",
            "D is ['cgu', '!!!']\n",
            "L is [[2, 'Hi'], [3, 'IST']]\n"
          ]
        }
      ]
    },
    {
      "cell_type": "markdown",
      "source": [
        "_Ok!_  Now to create and apply some of our own...\n",
        "\n"
      ],
      "metadata": {
        "id": "0Ec9EGdzxQ_d"
      }
    },
    {
      "cell_type": "code",
      "source": [
        "E = [x**2 for x in range(1, 11) if x % 2 == 0]\n",
        "F = [word.upper() for word in ['apple', 'banana', 'avocado']]\n",
        "G = [word[-1] for word in ['hello', 'world', 'python']]\n",
        "H =[[x, x**2] for x in range(1, 6)]\n",
        "I = [x if x % 2 ==0 else -x for x in range(1, 11)]\n",
        "\n",
        "print(\"E is\", E)\n",
        "print(\"F is\", F)\n",
        "print(\"G is\", G)\n",
        "print(\"H is\", H)\n",
        "print(\"I is\", I)"
      ],
      "metadata": {
        "colab": {
          "base_uri": "https://localhost:8080/"
        },
        "id": "SNantSYrABGH",
        "outputId": "23e144a3-074d-4c9a-c693-300bda226c0d"
      },
      "execution_count": 20,
      "outputs": [
        {
          "output_type": "stream",
          "name": "stdout",
          "text": [
            "E is [4, 16, 36, 64, 100]\n",
            "F is ['APPLE', 'BANANA', 'AVOCADO']\n",
            "G is ['o', 'd', 'n']\n",
            "H is [[1, 1], [2, 4], [3, 9], [4, 16], [5, 25]]\n",
            "I is [-1, 2, -3, 4, -5, 6, -7, 8, -9, 10]\n"
          ]
        }
      ]
    },
    {
      "cell_type": "markdown",
      "source": [
        "### <font color=\"Coral\"><b>Task #3</b></font>: Punctuation scoring...\n",
        "\n",
        "_Stylometry_ is a field that quantifies stylistic features of language, especially to identify or characterize a specific author. Many _stylometric_ features have been proposed; one of the most persistent is _punctuation density_.\n",
        "\n",
        "Here, you'll\n",
        "+ use the LC technique to write a function to measure punctuation in a string (prose)\n",
        "+ compare two of your (prose) papers with two of another author's (prose) papers\n",
        "+ see if the results suggest a different _punctuation density_ between your and the other author's styles!\n",
        "+ similar to the sequences we're obtaining from the water-treatment plant, such a small number of samples can suggest whether/how to look further -- but isn't definitive by itself...\n"
      ],
      "metadata": {
        "id": "khE-AiioX2q7"
      }
    },
    {
      "cell_type": "code",
      "source": [
        "import string\n",
        "#\n",
        "# here, [1] create a function that scores punctuation as 1 and non-punctuation as 0, pun_one\n",
        "#       [2] use the list-comprehension technique to create a punctuation-scoring function, pun_all\n",
        "\n",
        "# use the above examples as a starting point!\n",
        "def pun_one(c):\n",
        "  \"\"\" pun_one returns 1 for punctuation, 0 otherwise\n",
        "  \"\"\"\n",
        "  if c in string.punctuation: return 1\n",
        "  else: return 0\n",
        "\n",
        "\n",
        "def pun_all(s):\n",
        "  \"\"\" returns the total # of punctuation in s, a string\n",
        "  \"\"\"\n",
        "  LC = [ pun_one(c) for c in s ]\n",
        "  total = sum(LC)  # add them all up!\n",
        "  return total\n",
        "\n",
        "#\n",
        "\n",
        "\n",
        "\n",
        "\n",
        "# tests\n",
        "print(\"pun_all(PLANKTON) should be 4 <->\", pun_all(PLANKTON))\n",
        "print(\"pun_all(PATRICK) should be 4 <->\", pun_all(PATRICK))\n",
        "# They're more similar, punctuation-wise than scrabble-wise"
      ],
      "metadata": {
        "id": "Oeyk-5dbZZXq",
        "colab": {
          "base_uri": "https://localhost:8080/"
        },
        "outputId": "e4c1c33d-e89d-401a-c206-503222e88cba"
      },
      "execution_count": 23,
      "outputs": [
        {
          "output_type": "stream",
          "name": "stdout",
          "text": [
            "pun_all(PLANKTON) should be 4 <-> 4\n",
            "pun_all(PATRICK) should be 4 <-> 4\n"
          ]
        }
      ]
    },
    {
      "cell_type": "markdown",
      "source": [
        "### An **advantage** of LCs:\n",
        "\n",
        "... is _efficiency_, both faster and more memory-efficient.\n",
        "\n",
        "For stylometric analysis, the more text you have, the more representative the results will be.\n",
        "\n",
        "Lsat time, we used one paragraph. This time, use two full documents:\n",
        "+ Copy-and-paste below two full papers you authored (if they're longer ones, great!)\n",
        "+ Copy-and-paste below two full papers authored by someone else\n",
        "+ Run all four to find the absolute and per-character use of punctuation in your style and the other author's style\n",
        "+ Are they different enough to suggest further investigation?\n",
        "\n"
      ],
      "metadata": {
        "id": "HIh3hTB-aali"
      }
    },
    {
      "cell_type": "markdown",
      "source": [
        "### Suggestions for \"other\" authors?\n",
        "+ exchange papers/prose and compare with a friend (fun!)\n",
        "+ there are lots of other opportunities, e.g.,\n",
        "  + [work by Rosalind Franklin](https://www.nature.com/articles/171740a0)  (likely need to be on campus to access this from Nature)\n",
        "  + [work by Jennifer Doudna](https://www.ncbi.nlm.nih.gov/pmc/articles/PMC6286148/)  (this one _might_ open anywhere)\n",
        "  + [copy a subset of Shakespeare's work](https://ocw.mit.edu/ans7870/6/6.006/s08/lecturenotes/files/t8.shakespeare.txt)  (this is openly available and plain-text)\n",
        "  + Don't worry about weird/unreadable characters\n",
        "    + as long as the results don't crash,\n",
        "    + those characters will likely be ignored by your scoring functions"
      ],
      "metadata": {
        "id": "NcPLA4k8f0ht"
      }
    },
    {
      "cell_type": "code",
      "source": [
        "#\n",
        "# The two works of yours and two of another author's (\"theirs\")\n",
        "#     These can - and should - be large\n",
        "#\n",
        "\n",
        "YOURS1 = \"\"\"  As Accenture evolves beyond 2009, its IT decision-making must prioritize delineating the organization's future state while utilizing insights gained from current IT maturity. A primary problem is reconciling the efficiency of standardized enterprise software with the necessity for agility and adaptation in a rapidly changing technological environment. Cynthia Rettig (2007) emphasizes that the intricacies of extensive ERP systems pose dangers of inflexibility, elevated maintenance expenses, and inefficiencies when excessively enhanced with multiple features. To achieve sustainability, Accenture must emphasize cloud-based solutions, modular architectures, and microservices that facilitate both centralization and flexibility. Moreover, cybersecurity and data governance must advance to confront rising digital dangers while guaranteeing adherence to changing legislation. By cultivating an agile IT culture, investing in ongoing education, and adopting AI and blockchain developments, Accenture can establish itself as a leader in digital transformation. This paper examines critical decisions and tactics to shape Accenture's IT landscape over the next decade, linking them to fundamental themes from The Trouble with Enterprise Software.\n",
        "\"\"\"\n",
        "\n",
        "YOURS2 = \"\"\"  The strategic transformation of PepsiAmericas from decentralized, manual operations to a highly integrated, data-driven enterprise is exemplified by its journey through IT maturity. This analysis evaluates the company's progression through various maturity stages, with a particular emphasis on the company's evolving IT capabilities, business objectives, and external environmental factors. The discussion underlines the critical phase during which PepsiAmericas' IT infrastructure effectively addressed emerging business requirements and suggests an optimal future state for its IT capabilities. In order to enhance the analysis, comparative insights are derived from the experiences of other organizations.\n",
        "\"\"\"\n",
        "\n",
        "THEIRS1 = \"\"\"  Here’s a funny programming story:\n",
        "\n",
        "One day, a programmer was tasked with fixing a bug in the code for a website. After hours of debugging, they finally found the problem: a single misplaced semicolon.\n",
        "\n",
        "Feeling relieved, the programmer went to grab a cup of coffee, but on the way back to their desk, they accidentally spilled the entire cup all over their keyboard.\n",
        "\n",
        "Frustrated, the programmer tried to dry off the keyboard and continued working, only to discover that the misplaced semicolon had somehow reappeared in the code.\n",
        "\n",
        "After some investigation, the programmer realized that the coffee spill had caused a key on the keyboard to stick, resulting in the semicolon being typed repeatedly without their knowledge.\n",
        "\n",
        "Moral of the story: always keep your coffee away from your keyboard when programming!\n",
        "\"\"\"\n",
        "\n",
        "THEIRS2 = \"\"\" My favorite line of all time was delivered by one of the most genuinely kind and loveable programmers I have ever met. I want to call him Gomer because he comes from a small mountain town in North Carolina and sometimes you can hear the twang in his voice. I am reluctant to use this nickname though because he is really brilliant and successful. But for this story, I will use that name. So keeping with theme, I will call his buddy, Andy. Andy, too, is a very bright developer and the two of them together were extraordinary problem solvers. One day I was commenting on how good this team was at solving problems and Gomer blurted out what I think is the funniest, unintentionally awkward compliment ever uttered. He said, “Andy is great in the shower!” We all just stopped and stared at him as he didn’t realize at first what he had said. As it dawned on him, he turned red and quickly explained that on multiple occasions he and Andy would work on a tough problem and leave work late without an answer. The next day Andy would come in with the answer that came to him while he was in the shower. While many of us can relate to what he meant, we will never ever let Gomer forget that line.\n",
        "\n",
        "—\n",
        "\n",
        "Software development is a serious business that requires a lot of discipline, knowledge, and professionalism. But there is no better cure for stress than friendly humor. Whether your sense of humor is dry, blatant, hilarious, or just plain stupid, use it wisely and it can be one of your most important soft skills.\n",
        "\n",
        "— Keith Shakib, asktheteam@keyholesoftware.com\n",
        "\n",
        "\n",
        "\"\"\""
      ],
      "metadata": {
        "id": "bnbtW18FdGbe"
      },
      "execution_count": 24,
      "outputs": []
    },
    {
      "cell_type": "code",
      "source": [
        "len(THEIRS2)"
      ],
      "metadata": {
        "id": "DBq9xxixhMCU",
        "colab": {
          "base_uri": "https://localhost:8080/"
        },
        "outputId": "b888ddb2-0f6d-4572-d6b4-8af98fa7f859"
      },
      "execution_count": 25,
      "outputs": [
        {
          "output_type": "execute_result",
          "data": {
            "text/plain": [
              "1565"
            ]
          },
          "metadata": {},
          "execution_count": 25
        }
      ]
    },
    {
      "cell_type": "code",
      "source": [
        "#\n",
        "# Here, run your punctuation-comparisons (absolute counts)\n",
        "#\n",
        "\n",
        "print(\"YOURS1, total punctuation:\", pun_all(YOURS1))\n",
        "print(\"YOURS2, total punctuation:\", pun_all(YOURS2))\n"
      ],
      "metadata": {
        "id": "LuPv_mZ5dVS-",
        "colab": {
          "base_uri": "https://localhost:8080/"
        },
        "outputId": "7a5bea1b-47f8-4058-e592-622a3eed26df"
      },
      "execution_count": 26,
      "outputs": [
        {
          "output_type": "stream",
          "name": "stdout",
          "text": [
            "YOURS1, total punctuation: 24\n",
            "YOURS2, total punctuation: 14\n"
          ]
        }
      ]
    },
    {
      "cell_type": "code",
      "source": [
        "#\n",
        "# Here, run your punctuation-comparisons (relative, per-character counts)\n",
        "#\n",
        "\n",
        "print(\"YOURS1, per-char punctuation:\", pun_all(YOURS1)/len(YOURS1))\n",
        "print(\"YOURS2, per-char punctuation:\", pun_all(YOURS2)/len(YOURS2))\n"
      ],
      "metadata": {
        "id": "aa7OXaM3eIqO",
        "colab": {
          "base_uri": "https://localhost:8080/"
        },
        "outputId": "cdd45572-5e27-42c6-c35e-fb30fd51b139"
      },
      "execution_count": 28,
      "outputs": [
        {
          "output_type": "stream",
          "name": "stdout",
          "text": [
            "YOURS1, per-char punctuation: 0.01921537229783827\n",
            "YOURS2, per-char punctuation: 0.019662921348314606\n"
          ]
        }
      ]
    },
    {
      "cell_type": "markdown",
      "source": [
        "If you'd like to try some additional stylistic-analysis, <br> see the \"Emotional Punctuation\" extra crdit (at the bottom of the notebook...)\n",
        "\n",
        "\n",
        "\n"
      ],
      "metadata": {
        "id": "_t4sXUfRs2g-"
      }
    },
    {
      "cell_type": "markdown",
      "source": [
        "### Next, we use list comprehensions for _analysis_:\n",
        "+ the number-guessing game\n",
        "+ the two-dice-rolling experiment (counting \"doubles\")\n",
        "+ the birthday-room experiment\n",
        "+ the Monty Hall (three-curtain) game, switch vs. stay...\n",
        "+ the random-walk **you'll analyze these**\n",
        "+ estimating pi **you'll _write_ and analyze these** !\n",
        "\n",
        "Onward!"
      ],
      "metadata": {
        "id": "jzQVp6yF6kgn"
      }
    },
    {
      "cell_type": "code",
      "source": [
        "#\n",
        "# Example while loop: the \"guessing game\"\n",
        "#\n",
        "\n",
        "from random import *\n",
        "\n",
        "def guess( hidden ):\n",
        "    \"\"\"\n",
        "        have the computer guess numbers until it gets the \"hidden\" value\n",
        "        return the number of guesses\n",
        "    \"\"\"\n",
        "    guess = hidden - 1      # start with a wrong guess + don't count it as a guess\n",
        "    number_of_guesses = 0   # start with no guesses made so far...\n",
        "\n",
        "    while guess != hidden:\n",
        "        #print(\"I guess\", guess)  # comment this out - avoid printing when analyzing!\n",
        "        guess = choice( range(0,100) )  # 0 to 99, inclusive\n",
        "        number_of_guesses += 1\n",
        "\n",
        "    return number_of_guesses\n",
        "\n",
        "# test our function!\n",
        "guess(42)"
      ],
      "metadata": {
        "id": "cTCBx52m6sCR",
        "colab": {
          "base_uri": "https://localhost:8080/"
        },
        "outputId": "15cf83ef-3668-48b1-c3a3-29ec620119a0"
      },
      "execution_count": 29,
      "outputs": [
        {
          "output_type": "execute_result",
          "data": {
            "text/plain": [
              "51"
            ]
          },
          "metadata": {},
          "execution_count": 29
        }
      ]
    },
    {
      "cell_type": "code",
      "source": [
        "# Let's run 10 number-guessing experiments!\n",
        "\n",
        "L = [ guess(42) for i in range(10) ]\n",
        "print(L)\n",
        "\n",
        "# 10 experiments: let's see them!!"
      ],
      "metadata": {
        "id": "6Vc1kZxz6zwa",
        "colab": {
          "base_uri": "https://localhost:8080/"
        },
        "outputId": "b5610a1e-2f00-4481-d21c-cfb65d2826c4"
      },
      "execution_count": 30,
      "outputs": [
        {
          "output_type": "stream",
          "name": "stdout",
          "text": [
            "[32, 5, 9, 42, 51, 73, 14, 101, 65, 2]\n"
          ]
        }
      ]
    },
    {
      "cell_type": "code",
      "source": [
        "# Let's see what the average results were\n",
        "print(\"len(L) is\", len(L))\n",
        "ave = sum(L)/len(L)\n",
        "print(\"average is\", ave )\n",
        "\n",
        "# try min and max, count of 42's, count of 92's, etc."
      ],
      "metadata": {
        "id": "aseFoD1P63US",
        "colab": {
          "base_uri": "https://localhost:8080/"
        },
        "outputId": "6a3b23f6-b6e5-43e6-904b-31e27560ddb9"
      },
      "execution_count": 31,
      "outputs": [
        {
          "output_type": "stream",
          "name": "stdout",
          "text": [
            "len(L) is 10\n",
            "average is 39.4\n"
          ]
        }
      ]
    },
    {
      "cell_type": "markdown",
      "source": [
        "### Next, an example with our dice-rolling experiment..."
      ],
      "metadata": {
        "id": "OlW1n-SZ66kW"
      }
    },
    {
      "cell_type": "code",
      "source": [
        "#\n",
        "# Let's try again... with the dice-rolling experiment\n",
        "#\n",
        "\n",
        "from random import choice\n",
        "\n",
        "def count_doubles( num_rolls ):\n",
        "    \"\"\"\n",
        "        have the computer roll two six-sided dice, counting the # of doubles\n",
        "        (same value on both dice)\n",
        "        Then, return the number of doubles...\n",
        "    \"\"\"\n",
        "    numdoubles = 0       # start with no doubles so far...\n",
        "\n",
        "    for i in range(0,num_rolls):   # roll repeatedly: i keeps track\n",
        "        d1 = choice( [1,2,3,4,5,6] )  # 0 to 6, inclusive\n",
        "        d2 = choice( range(1,7) )     # 0 to 6, inclusive\n",
        "        if d1 == d2:\n",
        "            numdoubles += 1\n",
        "            you = \"🙂\"\n",
        "        else:\n",
        "            you = \" \"\n",
        "\n",
        "        #print(\"run\", i, \"roll:\", d1, d2, you, flush=True)\n",
        "        #time.sleep(.01)\n",
        "\n",
        "    return numdoubles\n",
        "\n",
        "# test our function!\n",
        "count_doubles(300)"
      ],
      "metadata": {
        "id": "9Qle_IDf7YTU",
        "colab": {
          "base_uri": "https://localhost:8080/"
        },
        "outputId": "359355f6-0633-4f7a-b725-33f850e402f4"
      },
      "execution_count": 38,
      "outputs": [
        {
          "output_type": "execute_result",
          "data": {
            "text/plain": [
              "55"
            ]
          },
          "metadata": {},
          "execution_count": 38
        }
      ]
    },
    {
      "cell_type": "code",
      "source": [
        "L = [ count_doubles(300) for i in range(1000) ]\n",
        "print(\"doubles-counting: L[0:5] are\", L[0:5])\n",
        "print(\"doubles-counting: L[-5:] are\", L[-5:])\n",
        "#\n",
        "# Let's see what the average results were\n",
        "print(\"len(L) is\", len(L))\n",
        "ave = sum(L)/len(L)\n",
        "print(\"average is\", ave )\n",
        "\n",
        "# try min and max, count of 42's, count of 92's, etc."
      ],
      "metadata": {
        "id": "6tX-dj3m7hVW",
        "colab": {
          "base_uri": "https://localhost:8080/"
        },
        "outputId": "903dfe5e-01b6-4dd9-87d1-76083f06c733"
      },
      "execution_count": 35,
      "outputs": [
        {
          "output_type": "stream",
          "name": "stdout",
          "text": [
            "doubles-counting: L[0:5] are [57, 53, 37, 54, 60]\n",
            "doubles-counting: L[-5:] are [50, 55, 43, 48, 50]\n",
            "len(L) is 1000\n",
            "average is 49.862\n"
          ]
        }
      ]
    },
    {
      "cell_type": "markdown",
      "source": [
        "### Let's try the birthday-room..."
      ],
      "metadata": {
        "id": "YKyjzTAc7mHs"
      }
    },
    {
      "cell_type": "code",
      "source": [
        "\n",
        "# let's try our birthday-room experiment:\n",
        "\n",
        "from random import choice\n",
        "\n",
        "def birthday_room( days_in_year = 365 ):    # note: default input!\n",
        "    \"\"\"\n",
        "        run the birthday room experiment once!\n",
        "    \"\"\"\n",
        "    B = []\n",
        "    next_bday = choice( range(0,days_in_year) )\n",
        "\n",
        "    while next_bday not in B:\n",
        "        B += [ next_bday ]\n",
        "        next_bday = choice( range(0,days_in_year) )\n",
        "\n",
        "    B += [ next_bday ]\n",
        "    return B\n",
        "\n",
        "\n",
        "\n",
        "# test our three-curtain-game, many times:\n",
        "result = birthday_room()   # use the default value\n",
        "print(result)"
      ],
      "metadata": {
        "id": "cy-ChVtH7w98",
        "colab": {
          "base_uri": "https://localhost:8080/"
        },
        "outputId": "d3c41a00-3645-440b-b373-0edc9ca61b9f"
      },
      "execution_count": 39,
      "outputs": [
        {
          "output_type": "stream",
          "name": "stdout",
          "text": [
            "[4, 121, 282, 362, 220, 219, 195, 2, 273, 123, 11, 295, 349, 289, 128, 89, 344, 17, 199, 153, 1, 51, 18, 177, 113, 159, 141, 103, 220]\n"
          ]
        }
      ]
    },
    {
      "cell_type": "code",
      "source": [
        "\n",
        "L = [ len(birthday_room()) for i in range(1000) ]\n",
        "print(\"birthday room: L[0:5] are\", L[0:5])\n",
        "print(\"birthday room: L[-5:] are\", L[-5:])\n",
        "#\n",
        "# Let's see what the average results were\n",
        "print(\"len(L) is\", len(L))\n",
        "ave = sum(L)/len(L)\n",
        "print(\"average is\", ave )\n",
        "\n",
        "# try min and max, count of 42's, count of 92's, etc."
      ],
      "metadata": {
        "id": "HZVqUUnS76MF",
        "colab": {
          "base_uri": "https://localhost:8080/"
        },
        "outputId": "15309e62-16a1-44d0-966a-e74fed0c1f54"
      },
      "execution_count": 40,
      "outputs": [
        {
          "output_type": "stream",
          "name": "stdout",
          "text": [
            "birthday room: L[0:5] are [20, 27, 24, 20, 14]\n",
            "birthday room: L[-5:] are [29, 26, 22, 36, 17]\n",
            "len(L) is 1000\n",
            "average is 25.399\n"
          ]
        }
      ]
    },
    {
      "cell_type": "markdown",
      "source": [
        "### The Monty-Hall (three-curtain) switch/stay challenge:"
      ],
      "metadata": {
        "id": "aTcC1Aa477EF"
      }
    },
    {
      "cell_type": "code",
      "source": [
        "#\n",
        "# Example Monte Carlo simulation: the Monte-Carlo Monte Hall paradox\n",
        "#\n",
        "\n",
        "from random import choice\n",
        "\n",
        "def count_wins( N, original_choice, stay_or_switch ):\n",
        "    \"\"\"\n",
        "        run the Monte Hall paradox N times, with\n",
        "        original_choice, which can be 1, 2, or 3 and\n",
        "        stay_or_switch, which can be \"stay\" or \"switch\"\n",
        "        Count the number of wins and return that number.\n",
        "    \"\"\"\n",
        "    numwins = 0       # start with no wins so far...\n",
        "\n",
        "    for i in range(1,N+1):      # run repeatedly: i keeps track\n",
        "        win_curtain = choice([1,2,3])   # the curtain with the grand prize\n",
        "        original_choice = original_choice      # just a reminder that we have this variable\n",
        "        stay_or_switch = stay_or_switch        # a reminder that we have this, too\n",
        "\n",
        "        result = \"\"\n",
        "        if original_choice == win_curtain and stay_or_switch == \"stay\": result = \" Win!!!\"\n",
        "        elif original_choice == win_curtain and stay_or_switch == \"switch\": result = \"lose...\"\n",
        "        elif original_choice != win_curtain and stay_or_switch == \"stay\": result = \"lose...\"\n",
        "        elif original_choice != win_curtain and stay_or_switch == \"switch\": result = \" Win!!!\"\n",
        "\n",
        "        #print(\"run\", i, \"you\", result, flush=True)\n",
        "        #time.sleep(.025)\n",
        "\n",
        "        if result == \" Win!!!\":\n",
        "            numwins += 1\n",
        "\n",
        "\n",
        "    return numwins\n",
        "\n",
        "# test our three-curtain-game, many times:\n",
        "count_wins(300, 1, \"stay\")"
      ],
      "metadata": {
        "id": "IaOvr7c17_OV",
        "colab": {
          "base_uri": "https://localhost:8080/"
        },
        "outputId": "301fa7b7-c118-41fa-b135-69ca8bfe773a"
      },
      "execution_count": 41,
      "outputs": [
        {
          "output_type": "execute_result",
          "data": {
            "text/plain": [
              "103"
            ]
          },
          "metadata": {},
          "execution_count": 41
        }
      ]
    },
    {
      "cell_type": "code",
      "source": [
        "\n",
        "L = [ count_wins(300,1,\"stay\") for i in range(1000) ]\n",
        "print(\"curtain game: L[0:5] are\", L[0:5])\n",
        "print(\"curtain game: L[-5:] are\", L[-5:])\n",
        "#\n",
        "# Let's see what the average results were\n",
        "# print(\"len(L) is\", len(L))\n",
        "# ave = sum(L)/len(L)\n",
        "# print(\"average is\", ave )\n",
        "\n",
        "# try min and max, count of 42's, count of 92's, etc."
      ],
      "metadata": {
        "id": "bf68cWHx8BwX",
        "colab": {
          "base_uri": "https://localhost:8080/"
        },
        "outputId": "4b4ffd8a-7d69-4b3f-a9fd-e761333efd29"
      },
      "execution_count": 42,
      "outputs": [
        {
          "output_type": "stream",
          "name": "stdout",
          "text": [
            "curtain game: L[0:5] are [108, 102, 105, 107, 100]\n",
            "curtain game: L[-5:] are [101, 105, 89, 86, 105]\n"
          ]
        }
      ]
    },
    {
      "cell_type": "markdown",
      "source": [
        "## <b><font color=\"Coral\">Task #4</font></b>: Analyzing random walks of radius ``r``\n",
        "\n",
        "Here, the random-walk code is complete:"
      ],
      "metadata": {
        "id": "Xt65wY6E8EJl"
      }
    },
    {
      "cell_type": "code",
      "source": [
        "#\n",
        "# First, the random-walking code:\n",
        "#\n",
        "\n",
        "import random\n",
        "\n",
        "def rs():\n",
        "    \"\"\"One random step\"\"\"\n",
        "    return random.choice([-1, 1])\n",
        "\n",
        "def rwalk(radius):\n",
        "    \"\"\"Random walk between -radius and +radius  (starting at 0 by default)\"\"\"\n",
        "    totalsteps = 0          # Starting value of totalsteps (_not_ final value!)\n",
        "    start = 0               # Start location (_not_ the total # of steps)\n",
        "\n",
        "    while True:             # Run \"forever\" (really, until a return or break)\n",
        "        if start == -radius or start == radius:\n",
        "            return totalsteps # Phew!  Return totalsteps (stops the while loop)\n",
        "\n",
        "        start = start + rs()\n",
        "        totalsteps += 1     # addn totalsteps 1 (for all who miss Hmmm :-)\n",
        "\n",
        "        #print(\"at:\", start, flush=True) # To see what's happening / debugging\n",
        "        # ASCII = \"|\" + \"_\"*(start- -radius) + \"S\" + \"_\"*(radius-start) + \"|\"\n",
        "        # print(ASCII, flush=True) # To see what's happening / debugging\n",
        "\n",
        "    # it can never get here!\n",
        "\n",
        "# Let's test it:\n",
        "rwalk(5)   # walk randomly within our radius... until we hit a wall!"
      ],
      "metadata": {
        "id": "aUaJmE3D8QJ3",
        "colab": {
          "base_uri": "https://localhost:8080/"
        },
        "outputId": "9e789599-b9e9-4163-8722-cfdc54d560e8"
      },
      "execution_count": 43,
      "outputs": [
        {
          "output_type": "execute_result",
          "data": {
            "text/plain": [
              "15"
            ]
          },
          "metadata": {},
          "execution_count": 43
        }
      ]
    },
    {
      "cell_type": "markdown",
      "source": [
        "Your task: analyze the function ``rwalk`` for different values of the radius\n",
        "\n",
        "The next cell gets you started and asks the specific questions:"
      ],
      "metadata": {
        "id": "pCrrerSW8cnJ"
      }
    },
    {
      "cell_type": "code",
      "source": [
        "\n",
        "# Analyze!\n",
        "# create List Comprehensions that run rwalk(5) for 1000 times\n",
        "\n",
        "# Here is a starting example:\n",
        "L = [ rwalk(5) for i in range(1000) ]\n",
        "\n",
        "# then, find the average of those 1000 experiments for rwalk(5)\n",
        "average = sum(L)/len(L)\n",
        "print(\"The average for radius==5 (for 1000 trials) was\", average)\n",
        "\n",
        "\n",
        "# Next, try it for more values...\n",
        "# Then, you'll create a hypothesis about what's happening!\n",
        "\n"
      ],
      "metadata": {
        "id": "hHOPOnav8qyp",
        "colab": {
          "base_uri": "https://localhost:8080/"
        },
        "outputId": "f424654d-106c-4882-8971-34ee78e0ffa3"
      },
      "execution_count": 45,
      "outputs": [
        {
          "output_type": "stream",
          "name": "stdout",
          "text": [
            "The average for radius==5 (for 1000 trials) was 25.666\n"
          ]
        }
      ]
    },
    {
      "cell_type": "markdown",
      "source": [
        "#### <font color=\"Coral\"><b>Processes to try out</b></font>\n",
        "+ In the next cell, repeat the above for a radius of 6, 7, 8, 9, and 10\n",
        "+ It's fast to do:  Copy and paste and edit!!"
      ],
      "metadata": {
        "id": "6YttN3PVhOz8"
      }
    },
    {
      "cell_type": "code",
      "source": [
        "# Repeat the above for a radius of 6, 7, 8, 9, and 10\n",
        "# It's fast to do:  Copy and paste and edit!!\n",
        "\n",
        "for r in range(6, 11):  # Radii 6, 7, 8, 9, and 10\n",
        "    L = [rwalk(r) for _ in range(1000)]\n",
        "    avg = sum(L) / len(L)\n",
        "    print(f\"The average for radius {r} (for 1000 trials) was {avg:.2f}\")"
      ],
      "metadata": {
        "id": "l8JZFP0W9TRp",
        "colab": {
          "base_uri": "https://localhost:8080/"
        },
        "outputId": "9f605209-8071-4451-dd27-534c2bb7b97d"
      },
      "execution_count": 53,
      "outputs": [
        {
          "output_type": "stream",
          "name": "stdout",
          "text": [
            "The average for radius 6 (for 1000 trials) was 34.40\n",
            "The average for radius 7 (for 1000 trials) was 49.50\n",
            "The average for radius 8 (for 1000 trials) was 63.96\n",
            "The average for radius 9 (for 1000 trials) was 83.04\n",
            "The average for radius 10 (for 1000 trials) was 100.17\n"
          ]
        }
      ]
    },
    {
      "cell_type": "markdown",
      "source": [
        "#### <font color=\"Coral\"><b>Questions to answer</b></font>\n",
        "+ On average, how many steps does it seem to take to get \"to the edge\" when radius = r?\n",
        "+ How far away from the start would you expect our walker to be after 49 steps? after 100 steps?\n",
        "+ How far away from the start would you expect our walker to be after STEPS steps?\n",
        "\n",
        "<br>\n",
        "\n",
        "Feel free to answer these questions right in this cell:\n",
        "\n",
        "+ The expected number of steps needed to hit a boundary at ±r is roughly proportional to r\\*r. So when the radius is r, it takes about r\\*r steps on average to reach the edge.\n",
        "\n",
        "+ The typical (root-mean-square) displacement after N steps is approximately square root of N. After 49 steps, the walker is expected to be about\n",
        "sqrt(49) =7 steps away from the start.\n",
        "After 100 steps, about 100 = 10 steps away.\n",
        "\n",
        "+ In general after STEPS steps, the typical distance from the start is roughly sqrt(STEPS)\n",
        "<br>\n",
        "<br>\n",
        "\n",
        "\n",
        "\n",
        "\n",
        "\n",
        "\n",
        "<br>\n",
        "<br>\n",
        "<br>\n",
        "<br>\n",
        "<br>"
      ],
      "metadata": {
        "id": "ju9ZVOtKg3hU"
      }
    },
    {
      "cell_type": "markdown",
      "source": [
        "<br>\n",
        "<hr>\n",
        "<br>\n",
        "\n",
        "# <b>Libraries!</b>\n",
        "\n",
        "Python's deepest strength is the expanse of its _human_-community... .\n",
        "\n",
        "That is reflected, first-and-foremost, in its amazing slate of _libraries_\n",
        "+ Each library is a set of Python files (and, sometimes, other languages) that humans have assembled to address a task or need (or for fun or for exploration or ...)\n",
        "+ The <tt>import</tt> statement is how we access these libraries.\n",
        "\n",
        "The examples below introduce the <tt>requests</tt> library and show off its ability - using Python - to \"scrape\" websites and make \"API calls\"\n",
        "+ To \"scrape\" usually means to \"request the source of a webpage\"\n",
        "+ To make \"API calls\" usually means to \"access some _advertised_ raw data\"\n",
        "\n",
        "The webpage we will scrape is [this simple one I made](https://www.cs.hmc.edu/~dodds/demo.html). (Yay!)\n",
        "\n",
        "The raw data we will access is from the [International Space Station's API](http://open-notify.org/Open-Notify-API/ISS-Location-Now/)...\n",
        "\n"
      ],
      "metadata": {
        "id": "QhOHmwdLYfqN"
      }
    },
    {
      "cell_type": "code",
      "source": [
        "#\n",
        "# see if we have the requests library...\n",
        "#\n",
        "\n",
        "import requests"
      ],
      "metadata": {
        "id": "bRflpUeWeXA5"
      },
      "execution_count": 54,
      "outputs": []
    },
    {
      "cell_type": "code",
      "source": [
        "#\n",
        "# let's try it on a simple webpage\n",
        "#\n",
        "\n",
        "#\n",
        "# we assign the url and obtain the api-call result into result\n",
        "#    Note that result will be an object that contains many fields (not a simple string)\n",
        "#\n",
        "\n",
        "url = \"https://www.cs.hmc.edu/~dodds/demo.html\"\n",
        "result = requests.get(url)\n",
        "result\n",
        "\n",
        "# if it succeeded, you should see <Response [200]>\n",
        "# See the list of HTTP reponse codes for the full set!"
      ],
      "metadata": {
        "id": "7wYQAzd8ebPt"
      },
      "execution_count": null,
      "outputs": []
    },
    {
      "cell_type": "markdown",
      "source": [
        "[Here is Wikipedia's list of all HTTP response codes](https://en.wikipedia.org/wiki/List_of_HTTP_status_codes)\n",
        "+ 100's: information\n",
        "+ 200's: success           \n",
        "+ 300's: redirects\n",
        "+ 400's + 500's: errors\n",
        "\n",
        "Perhaps familiar:  404 <br>\n",
        "Especially fun:  418"
      ],
      "metadata": {
        "id": "2ICfZVIPedl7"
      }
    },
    {
      "cell_type": "code",
      "source": [
        "#\n",
        "# when exploring, you'll often obtain an unfamiliar object.\n",
        "# Here, we'll ask what type it is\n",
        "type(result)"
      ],
      "metadata": {
        "id": "vdlGB2y5eoPj"
      },
      "execution_count": null,
      "outputs": []
    },
    {
      "cell_type": "markdown",
      "source": [
        "How to access the data inside this object, ``result`` ?\n",
        "\n",
        "One way: [Head over to the online documentation](https://requests.readthedocs.io/en/latest/api/#requests.Response)\n",
        "\n",
        "In addition, you can \"look around\" in Python:\n",
        "\n",
        "Notice - the <tt>for</tt> loop! 😃"
      ],
      "metadata": {
        "id": "LMwyLARjeqZD"
      }
    },
    {
      "cell_type": "code",
      "source": [
        "# We can print all of the data members in an object with dir\n",
        "# Since dir returns a list, we will grab that list and loop over it:\n",
        "all_fields = dir(result)\n",
        "\n",
        "for field in all_fields:\n",
        "    if \"_\" not in field:\n",
        "        print(field)"
      ],
      "metadata": {
        "id": "p97FU0EoebxV"
      },
      "execution_count": null,
      "outputs": []
    },
    {
      "cell_type": "markdown",
      "source": [
        "Here, we will use <tt>f-strings</tt> to print four of the pieces of data inside <tt>result</tt>"
      ],
      "metadata": {
        "id": "ahi8U39Qe8ck"
      }
    },
    {
      "cell_type": "code",
      "source": [
        "#\n",
        "# Let's try printing a few of those fields (data members):\n",
        "print(f\"result.url         is {result.url}\")  # the original url\n",
        "print(f\"result.raw         is {result.raw}\")  # another object!\n",
        "print(f\"result.encoding    is {result.encoding}\")  # utf-8 is very common\n",
        "print(f\"result.status_code is {result.status_code}\")  # 200 is success!"
      ],
      "metadata": {
        "id": "6A_k2K_Oe79x"
      },
      "execution_count": null,
      "outputs": []
    },
    {
      "cell_type": "code",
      "source": [
        "# In this case, the result is a text file (HTML) Let's see it!\n",
        "contents = result.text\n",
        "print(contents)"
      ],
      "metadata": {
        "id": "h4NyWZh-fDLn"
      },
      "execution_count": null,
      "outputs": []
    },
    {
      "cell_type": "code",
      "source": [
        "# Yay!\n",
        "# This shows that you are able to \"scrape\" an arbitrary HTML page...\n",
        "\n",
        "# Now, we're off to more _structured_ data-gathering..."
      ],
      "metadata": {
        "id": "L3pQ7KNsfF8r"
      },
      "execution_count": null,
      "outputs": []
    },
    {
      "cell_type": "markdown",
      "source": [
        "#### Traversing the world - and web - <i>without a browser</i>.   \n",
        "\n",
        "<b>Using the ISS APIs</b>\n",
        "\n",
        "+ Here, you'll make some calls using `requests` to, first, the International Space Station API\n",
        "+ and, then, the US Geological Survey's earthquake API\n",
        "+ \"API\" is short for \"Application Programming Interface\"\n",
        "  + Admittedly, this is not a very informative name:\n",
        "  + The API is the set of services, which are functions and/or urls, provided by some software or site"
      ],
      "metadata": {
        "id": "7EViIbZ_fHc_"
      }
    },
    {
      "cell_type": "markdown",
      "source": [
        "Let's try it with the International Space Station api at [http://api.open-notify.org/iss-now.json](http://api.open-notify.org/iss-now.json)\n",
        "+ [This page has documentation on the ISS API](http://open-notify.org/Open-Notify-API/ISS-Location-Now/)"
      ],
      "metadata": {
        "id": "Ux6yqtZBfLQy"
      }
    },
    {
      "cell_type": "code",
      "source": [
        "#\n",
        "# we assign the url and obtain the api-call result into result\n",
        "#    Note that result will be an object that contains many fields (not a simple string)\n",
        "#\n",
        "\n",
        "import requests\n",
        "\n",
        "url = \"http://api.open-notify.org/iss-now.json\"   # this is sometimes called an \"endpoint\" ...\n",
        "result = requests.get(url)\n",
        "result\n",
        "\n",
        "# if it succeeds, you should see <Response [200]>"
      ],
      "metadata": {
        "id": "-m-JyBd7fJhU"
      },
      "execution_count": null,
      "outputs": []
    },
    {
      "cell_type": "code",
      "source": [
        "#\n",
        "# Let's try printing those shorter fields from before:\n",
        "print(f\"result.url         is {result.url}\")  # the original url\n",
        "print(f\"result.raw         is {result.raw}\")  # another object!\n",
        "print(f\"result.encoding    is {result.encoding}\")  # utf-8 is very common\n",
        "print(f\"result.status_code is {result.status_code}\")  # 200 is success!"
      ],
      "metadata": {
        "id": "Du795XlBfPdQ"
      },
      "execution_count": null,
      "outputs": []
    },
    {
      "cell_type": "code",
      "source": [
        "#\n",
        "# In this case, we know the result is a JSON file, and we can obtain it that way:\n",
        "json_contents = result.json()\n",
        "print(json_contents)\n",
        "\n",
        "# Remember:  json_contents will be a _dictionary_"
      ],
      "metadata": {
        "id": "Dne0gFhHfQQk"
      },
      "execution_count": null,
      "outputs": []
    },
    {
      "cell_type": "code",
      "source": [
        "#\n",
        "# Let's see how dictionaries work:\n",
        "\n",
        "json_contents['message']\n",
        "\n",
        "# thought experiment:  could we access the other components? What _types_ are they?!!"
      ],
      "metadata": {
        "id": "UQWuhT4MfTwS"
      },
      "execution_count": null,
      "outputs": []
    },
    {
      "cell_type": "markdown",
      "source": [
        "## JSON\n",
        "\n",
        "####  Let's make a brief JSON visit in Python\n",
        "\n",
        "In Python, the curly braces <tt>{</tt> and <tt>}</tt> show that data is in a ***dictionary***\n",
        "\n",
        "Dictionaries are much more flexible than lists!\n",
        "\n",
        "Alas, that means they are more complex:"
      ],
      "metadata": {
        "id": "QsuRZkTKfg-I"
      }
    },
    {
      "cell_type": "code",
      "source": [
        "# JSON is a javascript dictionary format -- almost the same as a Python dictionary:\n",
        "data = { 'key':'value',  'fave':42,  'list':[5,6,7,{'mascot':'Aliiien'}] }\n",
        "print(data)"
      ],
      "metadata": {
        "id": "nKo1OS5gfhri"
      },
      "execution_count": null,
      "outputs": []
    },
    {
      "cell_type": "markdown",
      "source": [
        "Most of the time this will be done for us by the ``requests`` library. So, we will simply receive the dictionary of data sent.\n",
        "\n",
        "Then, the trick is to \"extract\" the data fragments we want. (Sometimes it feels like forensics - or archaeology!) Try excavating items one **layer** at a time..."
      ],
      "metadata": {
        "id": "UUlgOVTRf3O-"
      }
    },
    {
      "cell_type": "markdown",
      "source": [
        "#### Remember: &nbsp; <i>not</i> every url returns json data...\n",
        "+ The url [https://www.cs.hmc.edu/~dodds/demo.html](https://www.cs.hmc.edu/~dodds/demo.html) returns a plain-text file with _markup_ text\n",
        "+ that is to say, with HTML tags, such as `<title>Title</title>` to designate the components of its content\n",
        "+ HTML stands for _hypertext markup language_   \n",
        "+ Often anything with tags similar to `<b>be bold!</b>` is called \"markup.\"\n",
        "\n",
        "Let's try our 5C homepages: they're HTML, not JSON:"
      ],
      "metadata": {
        "id": "n2ydEX9qf5u0"
      }
    },
    {
      "cell_type": "code",
      "source": [
        "#\n",
        "# here, we will obtain plain-text results from a request\n",
        "url = \"https://www.cs.hmc.edu/~dodds/demo.html\"  # try it + source\n",
        "# url = \"https://www.scrippscollege.edu/\"          # another possible site...\n",
        "# url = \"https://www.pitzer.edu/\"                  # another possible site...\n",
        "# url = \"https://www.cmc.edu/\"                     # and another!\n",
        "# url = \"https://www.cgu.edu/\"                       # Yay CGU!\n",
        "result = requests.get(url)\n",
        "print(f\"result is {result}\")        # Question: is the result a \"200\" response?!"
      ],
      "metadata": {
        "id": "PWb8L8DXgH0e"
      },
      "execution_count": null,
      "outputs": []
    },
    {
      "cell_type": "markdown",
      "source": [
        "#### For the moment, we will focus on API calls providing JSON\n",
        "+ We're reading-aligned, as we should be!\n",
        "+ The open-ended problem (the finale in this notebook) offers the _option_ of using raw html -- up to you...\n",
        "\n",
        "<br>\n",
        "\n",
        "<b>Let's try another ISS \"endpoint\" ~ one with all of the <i>people</i> in space.</b>\n",
        "\n",
        "It's at this url:  [http://api.open-notify.org/astros.json](http://api.open-notify.org/astros.json)"
      ],
      "metadata": {
        "id": "vkiBGFRrgFpp"
      }
    },
    {
      "cell_type": "code",
      "source": [
        "#\n",
        "# we assign the url and use requests.get to obtain the result into result_astro\n",
        "#\n",
        "#    Remember, result_astro will be an object that contains many fields (not a simple string)\n",
        "#\n",
        "\n",
        "import requests\n",
        "\n",
        "url = \"http://api.open-notify.org/astros.json\"   # this is sometimes called an \"endpoint\" ...\n",
        "result_astro = requests.get(url)\n",
        "result_astro\n",
        "\n",
        "# if it succeeded, you should see <Response [200]>"
      ],
      "metadata": {
        "id": "sH86gZ2Lf4Gc"
      },
      "execution_count": null,
      "outputs": []
    },
    {
      "cell_type": "code",
      "source": [
        "# If the request succeeded, we know the result is a JSON file, and we can obtain it that way.\n",
        "# Let's call our dictionary something more specific:\n",
        "\n",
        "astronauts = result_astro.json()\n",
        "print(astronauts)\n",
        "\n",
        "d = astronauts     # shorter to type\n",
        "\n",
        "# Remember:  astronauts will be a _dictionary_\n",
        "\n",
        "note = \"\"\" here's yesterday evening's result - it _should_ be the same this morning!\n",
        "\n",
        "{\"people\": [{\"craft\": \"ISS\", \"name\": \"Oleg Kononenko\"}, {\"craft\": \"ISS\", \"name\": \"Nikolai Chub\"},\n",
        "{\"craft\": \"ISS\", \"name\": \"Tracy Caldwell Dyson\"}, {\"craft\": \"ISS\", \"name\": \"Matthew Dominick\"},\n",
        "{\"craft\": \"ISS\", \"name\": \"Michael Barratt\"}, {\"craft\": \"ISS\", \"name\": \"Jeanette Epps\"},\n",
        "{\"craft\": \"ISS\", \"name\": \"Alexander Grebenkin\"}, {\"craft\": \"ISS\", \"name\": \"Butch Wilmore\"},\n",
        "{\"craft\": \"ISS\", \"name\": \"Sunita Williams\"}, {\"craft\": \"Tiangong\", \"name\": \"Li Guangsu\"},\n",
        "{\"craft\": \"Tiangong\", \"name\": \"Li Cong\"}, {\"craft\": \"Tiangong\", \"name\": \"Ye Guangfu\"}],\n",
        "\"number\": 12, \"message\": \"success\"}\n",
        "\"\"\""
      ],
      "metadata": {
        "id": "W0ePlL0FgZbE"
      },
      "execution_count": null,
      "outputs": []
    },
    {
      "cell_type": "markdown",
      "source": [
        "This is pretty intricate. Let's try unpacking this - _parsing it_ - with an in-class break-out challenge."
      ],
      "metadata": {
        "id": "0jtQGFX3gdj_"
      }
    },
    {
      "cell_type": "code",
      "source": [
        "# use this cell for the in-class challenges, which will be\n",
        "#    (1) to extract the value 12 from the dictionary d\n",
        "#    (2) to extract the name \"Sunita Williams\" from the dictionary d"
      ],
      "metadata": {
        "id": "iVA69g64dWZ_"
      },
      "execution_count": null,
      "outputs": []
    },
    {
      "cell_type": "markdown",
      "source": [
        "#### <font color=\"Coral\"><b>Astronaut challenges!</b></font>\n",
        "+ use the above example to extract <tt>\"Jeanette Epps\"</tt> from the data in the dictionary <tt>d</tt>\n",
        "+ use the above example to extract the string <tt>\"ok\"</tt> from the data in the dictionary <tt>d</tt>. <b>Hint</b>: use the name <tt>\"Nikolai Chub\"</tt>"
      ],
      "metadata": {
        "id": "Y8SR9ePvdZYD"
      }
    },
    {
      "cell_type": "code",
      "source": [
        "# use this cell - based on the example above - to share your solutions to the Astronaut challenges...\n",
        "\n"
      ],
      "metadata": {
        "id": "sBALADkjeRrL"
      },
      "execution_count": null,
      "outputs": []
    },
    {
      "cell_type": "markdown",
      "source": [
        "#### <font color=\"Coral\"><b>Your-own API-call and webscraping challenge!</b></font>\n",
        "+ There are two parts of this challenge:\n",
        "+ find another API, and then\n",
        "  + make a programmatic call to that API\n",
        "  + and extract a piece of data -- of your choice -- from the results\n",
        "  + and print it out (with context)\n",
        "+ then, find a _plain_ webpage that allows scraping\n",
        "  + scrape that page\n",
        "  + and print out the source!\n",
        "  + <b><font color=\"DodgerBlue\">  extra credit </b></font> &nbsp;&nbsp; for extracting an interesting piece of information from the page -- for example, using slicing, or using the <tt>find</tt> function.\n",
        "\n",
        "\n",
        "<br>\n",
        "\n",
        "You've done it! You've both\n",
        "+ used an API (an application programming interface, which provided a JSON), and\n",
        "+ scraped a webpage (the source of a page that you'd see in a browser)\n",
        "\n",
        "Congrats!!\n",
        "\n",
        "<br>\n",
        "<hr>\n",
        "<br>\n",
        "\n",
        "The final part of the notebook investigates the ***ethics*** of API calling and webscraping."
      ],
      "metadata": {
        "id": "6_n8Pys9eXt1"
      }
    },
    {
      "cell_type": "code",
      "source": [
        "#\n",
        "# use this cell for your API call - and data-extraction\n",
        "#"
      ],
      "metadata": {
        "id": "xs0Dapv7gHBI"
      },
      "execution_count": null,
      "outputs": []
    },
    {
      "cell_type": "code",
      "source": [
        "#\n",
        "# use this cell for your webscraping call - optional data-extraction\n",
        "#"
      ],
      "metadata": {
        "id": "hDPHHDwZgJLx"
      },
      "execution_count": null,
      "outputs": []
    },
    {
      "cell_type": "markdown",
      "source": [
        "#### You have a great start with libraries!\n",
        "\n",
        "We'll return to do more in future weeks...\n",
        "+ You might create a final project that involves scraping or API calls!\n",
        "+ It's increasingly common as more and more of our interactions are via browsers, the path to automation is via <tt>requests</tt>, _API calls_, and \"scraping\" ...\n",
        "\n",
        "As one dramatic example, **ChatGPT**'s entire knowledgebase is scraped from the web!"
      ],
      "metadata": {
        "id": "OMZB8Id4ge78"
      }
    },
    {
      "cell_type": "markdown",
      "source": [
        "<br>\n",
        "<hr>\n",
        "<br>\n",
        "\n",
        "# <b>Reading</b> this week\n",
        "\n",
        "<i>(When) Is webscraping legal and/or ethical?</i>\n",
        "\n",
        "<br>\n",
        "\n",
        "This week's reading includes \"1++\" short articles - about libraries, API calls, and webscraping. They investigate _what's ethical_ and _what's not_ ...\n",
        "\n",
        "<br>\n",
        "\n",
        "The first article  is entitled, [\"Is Web Scraping Ethical,\"](https://scrapeops.io/web-scraping-playbook/ethics-of-web-scraping/) by ScrapeOps.io. They're not impartial: they're a webscraping-tools company!\n",
        "\n",
        "<br>\n",
        "\n",
        "The \"+\" is the Facebook/Meta Terms of Service. (Perhaps that makes it \"+1\" instead of \"1+\"?)  This is  ***not***  asking you to read the whole document! Rather, this is specifically [Section 3, Subsection 2 \"What you can share and do on Meta Products.\"](https://www.facebook.com/terms/?section_id=section_3)  It's relatively short: it's one \"screenful.\"  \n",
        "\n",
        "<br>\n",
        "\n",
        "A second \"+\" is the following flowchart, by Sophie Chou of the MIT Media Lab and Pro Publica. Her original article was scraped (!?) by the Wayback Machine and so is available from there, as well.\n",
        "\n",
        "<br>\n",
        "\n",
        "<img src=\"https://www.storybench.org/wp-content/uploads/2016/04/flowchart_final.jpeg\">\n",
        "\n",
        "<br>\n",
        "\n",
        "Then, in response to these resources, reflect on any one or more of these three prompts:   \n",
        "+ (Prompt A) Look over Sophie Chiu's \"Should you scrape?\" flowchart. Find one decision node that you particularly agree -- or disagree -- with. Elaborate on why. (Feel free to note whether you feel this hw is keeping to the chart!)  \n",
        "+ (Prompt B) At the end of the first article there is a set of \"Principles for Responsible Scraping\" Looking that over, find one principle you particularly agree -- or disagree -- with and elaborate on why.\n",
        "+ (Prompt C) Having read some of Facebook's ToS, consider its stated requirement 3.2.3:  \"You may not access or collect data from our Products using automated means (without our prior permission).\"  Elaborate on what you think is included in the phrase \"automated means\" -- as well as what that phrase doesn't include.   \n",
        "\n",
        "As with each week's reading, responses should be carefully considered, but need not be very long (~5 or so sentences is wonderful).  \n"
      ],
      "metadata": {
        "id": "KcRkHHe_d0hP"
      }
    },
    {
      "cell_type": "markdown",
      "source": [
        "<br>\n",
        "<hr>\n",
        "<br>\n",
        "\n",
        "Feel free to use this cell for your thoughts on the ethics/fairness of webscraping:\n",
        "\n",
        "<br>\n",
        "<br>\n",
        "\n",
        "\n",
        "\n",
        "\n",
        "\n",
        "\n",
        "<br>\n",
        "<br>\n",
        "<hr>\n",
        "<br>\n",
        "\n"
      ],
      "metadata": {
        "id": "v4LH9D6UeGKO"
      }
    },
    {
      "cell_type": "markdown",
      "source": [
        "### **Congrats!**\n",
        "\n",
        "You have pulled together some of Python's most powerful - and most popular - features:\n",
        "+ to write functions that score different properties of interest\n",
        "  + vowels, scrabble scores, punctuation, ...\n",
        "  + pretty much anything you might need to measure is expressible using the list-comprehension strategy\n",
        "+ to use those functions in the analysis of authentic data (the prose)\n",
        "+ and to use those functions to run simulations and analyze the results!\n",
        "\n",
        "<br>"
      ],
      "metadata": {
        "id": "nKiRFkmIdubH"
      }
    },
    {
      "cell_type": "markdown",
      "source": [
        "# Submitting...\n",
        "\n",
        "Be sure to submit the url of _your_ copy -- with the challenges, questions, and programs composed --\n",
        "+ to Canvas in the appropriate spot\n",
        "+ by the appropriate Friday evening at 11:42pm\n",
        "+ shared with me (ZD)  ``zdodds@gmail.com``\n",
        "\n",
        "Remember that there are office-hours available, with me - and with CGU's Python tutor(s), as well!\n",
        "\n",
        "<br>\n",
        "\n",
        "\n",
        "As a reminder, the programming parts of Sci10 match the spirit of the course, in seeking, among other things:\n",
        "+ creativity/novelty\n",
        "+ personalization/individual context\n",
        "+ exploration and understanding (does it run?)"
      ],
      "metadata": {
        "id": "rNHGo2zHWUuo"
      }
    },
    {
      "cell_type": "markdown",
      "source": [
        "# <font color=\"DodgerBlue\"><b>Extra Credit</b></font>: pi-estimation challenge!"
      ],
      "metadata": {
        "id": "_hp27Xav6jAy"
      }
    },
    {
      "cell_type": "markdown",
      "source": [
        "### <font color=\"darkblue\"><b>Extra credit</b></font>: Estimating pi from \"pie\" ...\n",
        "\n",
        "\n",
        "Really, it's estimating pi from a circle!\n",
        "\n",
        "This is extra credit (up to +10) and _totally optional_ ...\n",
        "\n",
        "We'll motivate it in class, in one of the two weeks before this is due. 😀\n",
        "\n"
      ],
      "metadata": {
        "id": "BxwKcw4TePg2"
      }
    },
    {
      "cell_type": "code",
      "source": [
        "\n",
        "#\n",
        "# throwing a single dart\n",
        "#\n",
        "\n",
        "import random\n",
        "\n",
        "def dart():\n",
        "    \"\"\"Throws one dart between (-1,-1) and (1,1).\n",
        "       Returns True if it lands in the unit circle; otherwise, False.\n",
        "    \"\"\"\n",
        "    x = random.uniform(-1, 1)\n",
        "    y = random.uniform(-1, 1)\n",
        "    print(\"(x,y) are\", (x,y))   # you'll want to comment this out...\n",
        "\n",
        "    if x**2 + y**2 < 1:\n",
        "        return True  # HIT (within the unit circle)\n",
        "    else:\n",
        "        return False # missed (landed in one of the corners)\n",
        "\n",
        "# try it!\n",
        "result = dart()\n",
        "print(\"result is\", result)\n",
        "\n"
      ],
      "metadata": {
        "id": "2c29w_AHiR0i"
      },
      "execution_count": null,
      "outputs": []
    },
    {
      "cell_type": "markdown",
      "source": [
        "### Try it in a loop:"
      ],
      "metadata": {
        "id": "yd9sxJ5v4xQe"
      }
    },
    {
      "cell_type": "code",
      "source": [
        "# Try it ten times in a loop:\n",
        "\n",
        "for i in range(10):\n",
        "    result = dart()\n",
        "    if result == True:\n",
        "        print(\"   HIT the circle!\")\n",
        "    else:\n",
        "        print(\"   missed...\")\n",
        "\n",
        "\n",
        "# try adding up the number of hits, the number of total throws\n",
        "# remember that pi is approximately 4*hits/throws   (cool!)"
      ],
      "metadata": {
        "id": "31DIxlFx4zgJ"
      },
      "execution_count": null,
      "outputs": []
    },
    {
      "cell_type": "markdown",
      "source": [
        "### Expand this into <tt>forpi</tt>\n",
        "\n",
        "For a detailed explanation, see [the forpi/whilepi challenge](https://www.cs.hmc.edu/twiki/bin/view/CS5Fall2021/PiFromPieGold)"
      ],
      "metadata": {
        "id": "MSDf71jv48L_"
      }
    },
    {
      "cell_type": "code",
      "source": [
        "\n",
        "#\n",
        "# Write forpi(n)\n",
        "#\n",
        "\n",
        "#\n",
        "# For the full explanation, see https://www.cs.hmc.edu/twiki/bin/view/CS5Fall2021/PiFromPieGold\n",
        "#\n",
        "\n",
        "\n",
        "# This is only a starting point\n",
        "def forpi(N):\n",
        "    \"\"\"Throws N darts, estimating pi.\"\"\"\n",
        "    pi = 42     # A suitably poor initial estimate\n",
        "    throws = 0  # No throws yet\n",
        "    hits = 0    # No \"hits\" yet  (hits ~ in the circle)\n",
        "\n",
        "    return hits\n",
        "\n",
        "# Try it!\n",
        "forpi(10)"
      ],
      "metadata": {
        "id": "fA8GFgYl5EbH"
      },
      "execution_count": null,
      "outputs": []
    },
    {
      "cell_type": "markdown",
      "source": [
        "### Expand this into <tt>whilepi</tt>\n",
        "\n",
        "Again, a detailed explanation is available at [the forpi/whilepi challenge](https://www.cs.hmc.edu/twiki/bin/view/CS5Fall2021/PiFromPieGold)"
      ],
      "metadata": {
        "id": "NsCKY7oc5RJ0"
      }
    },
    {
      "cell_type": "code",
      "source": [
        "\n",
        "#\n",
        "# Write whilepi(n)\n",
        "#\n",
        "\n",
        "#\n",
        "# For the full explanation, see https://www.cs.hmc.edu/twiki/bin/view/CS5Fall2021/PiFromPieGold\n",
        "#\n",
        "\n",
        "\n",
        "# This is only a starting point\n",
        "def whilepi(err):\n",
        "    \"\"\"Throws N darts, estimating pi.\"\"\"\n",
        "    pi = 42     # A suitably poor initial estimate\n",
        "    throws = 0  # No throws yet\n",
        "    hits = 0    # No \"hits\" yet  (hits ~ in the circle)\n",
        "\n",
        "    return throws\n",
        "\n",
        "\n",
        "# Try it!\n",
        "whilepi(.01)"
      ],
      "metadata": {
        "id": "V8PEMATc5YcF"
      },
      "execution_count": null,
      "outputs": []
    },
    {
      "cell_type": "markdown",
      "source": [
        "<br>\n",
        "\n",
        "### <font color=\"darkblue\"><b>Also Extra Credit: pi-analysis</b></font>  \n",
        "\n",
        "Now, to put these to use!\n",
        "\n",
        "To analyze these, you should first create new versions that don't print anything!\n",
        "+ <b>create two new functions, below...</b>\n",
        "  + ``forpi_np(N)`` should be just like ``forpi`` but with no printing\n",
        "  + ``whilepi_np(N)`` should be just like ``whilepi`` but with no printing\n",
        "\n",
        "Reminders and guidance:\n",
        "+ They will still return the appropriate value, just as they have been doing above.\n",
        "+ Remember that `forpi_np(N)` returns the estimate of pi after N throws.\n",
        "+ remember that `whilepi_np(err)` returns the number of throws to estimate pi within err of 𝝅\n",
        "+ So, to that end, copy, paste, and rename your two functions, `forpi` and `whilepi`:\n",
        "\n",
        "<br>\n",
        "\n",
        "+ Create `forpi_np(N)` — the np means no printing.\n",
        "+ Similarly, create `whilepi_np(err)`\n",
        "\n",
        "<br>\n",
        "\n",
        "Then, using our List Comprehension techniques (see previous problems!) to analyze the behavior of our two pi-estimating functions:\n",
        "+ Use `range(742)` so that you're running 742 trials at a time...\n",
        "+ Other values are welcome    (It's surprisingly easy to give your machine much more work than it can handle!)\n",
        "+ Include answers (in a markdown cell or a comment in a code cell) to answer:\n",
        "\n",
        "<br>\n",
        "\n",
        "Questions:\n",
        "+ On average, how close to 𝝅 does `forpi_np(N)` get when `N = 1, 10, 100, 1000`  ?\n",
        "+ On average, how many throws are needed for `whilepi_np(e)` to get within `e = 1, .1, .01, 0.001` ?\n",
        "+ Note that these don't adhere to a clear function in the way that `rwalk` did...\n",
        "+ Here, the goal is seeing the trends, rather than eliciting an exact relationship.\n",
        "\n",
        "<br>\n",
        "\n",
        "Bigger-picture questions:\n",
        "+ Does forpi or whilepi estimate 𝝅 more efficiently? Why?\n",
        "+ Does forpi or whilepi estimate 𝝅 more accurately? Why?\n",
        "\n",
        "Just one phrase suffices on these, for sure..."
      ],
      "metadata": {
        "id": "_fNMCuTy5cSz"
      }
    },
    {
      "cell_type": "markdown",
      "source": [
        "### <font color=\"darkblue\"><b>Alternative and also Optional</b> &nbsp; _Emotional_ punctuation differences... ?!</b></font>\n",
        "\n",
        "Totally optional, as ever, for up to +4.6 points of extra credit:\n",
        "\n",
        "The punctuation-scoring functions ``pun_one`` and ``pun_all`` were more limited than they needed to be -- in their ability to distinguish authors:\n",
        "+ they were simply measuring a single dimension: the _amount_ of punctuation used\n",
        "\n",
        "However, the different punctuation marks themsleves are very idiosyncratic -- and very telling -- with respect to a particular author's style.\n",
        "\n",
        "For this extra-credit challenge, create at least two _additional_ punctuation-measuring functions (in the same manner and style as all the ones above), and then\n",
        "+ measure the _relative_ frequency of certain punctuation relative to the overall amount of punctuation in a string of prose\n",
        "+ do this for at least two marks - or sets of marks\n",
        "  + for example, how much of an _exclamation-point_ user are you?\n",
        "  + question marks?\n",
        "  + parens? quotes? hashtags?  There are so many!\n",
        "\n",
        "Then, compare that relative-frequence of _particular_ punctuation marks between your works (above) and the other author's works (again above).\n",
        "\n",
        "<br>\n",
        "\n",
        "Share the results: **Which punctuation usage is most telling in  distinguishing/separating the two styles?**\n",
        "\n",
        "\n",
        "\n",
        "\n"
      ],
      "metadata": {
        "id": "VBp9aff1zE1g"
      }
    },
    {
      "cell_type": "code",
      "source": [
        "#\n",
        "# Your additional punctuation-style explorations (optional!)\n",
        "#\n",
        "\n",
        "\n"
      ],
      "metadata": {
        "id": "PYzCMuGDcUwf"
      },
      "execution_count": null,
      "outputs": []
    }
  ],
  "metadata": {
    "colab": {
      "provenance": [],
      "include_colab_link": true
    },
    "kernelspec": {
      "display_name": "Python 3",
      "name": "python3"
    },
    "language_info": {
      "name": "python"
    }
  },
  "nbformat": 4,
  "nbformat_minor": 0
}