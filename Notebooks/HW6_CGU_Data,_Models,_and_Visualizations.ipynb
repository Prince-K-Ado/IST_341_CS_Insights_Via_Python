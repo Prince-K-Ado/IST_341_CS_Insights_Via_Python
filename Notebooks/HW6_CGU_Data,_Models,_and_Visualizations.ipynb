{
  "cells": [
    {
      "cell_type": "markdown",
      "metadata": {
        "id": "view-in-github",
        "colab_type": "text"
      },
      "source": [
        "<a href=\"https://colab.research.google.com/github/Prince-K-Ado/IST_341_CS_Insights_Via_Python/blob/main/Notebooks/HW6_CGU_Data%2C_Models%2C_and_Visualizations.ipynb\" target=\"_parent\"><img src=\"https://colab.research.google.com/assets/colab-badge.svg\" alt=\"Open In Colab\"/></a>"
      ]
    },
    {
      "cell_type": "markdown",
      "source": [
        "<br>\n",
        "\n",
        "# <font color=\"darkblue\"><b>HW6</b>: Data, Visualizations, and Modeling: 2025</font>\n",
        "\n",
        "\n",
        "This week we enter the \"Python Modeling\" ecosystem. The most important CS facet of this world is its use of Python libraries.\n",
        "\n",
        "That's where we begin!\n",
        "\n",
        "In addition, you'll need lots of data files -- be sure to download those to your local machine.\n",
        "\n",
        "From there, you can upload them as needed!\n",
        "\n",
        "_Plus_, you will have a workflow for analyzing, modeling, and visualizing _any_ file you might want to know more about!\n",
        "+ This is a fantastic starting-point for lots of projects,\n",
        "+ personal, professional, or the final project for this class...\n",
        "\n"
      ],
      "metadata": {
        "id": "rwLOmGlk6m9L"
      }
    },
    {
      "cell_type": "markdown",
      "source": [
        "First, let's explore (1) ``f\"strings\"`` and then (2) a bit about how libraries work. We will be using a lot of them!\n"
      ],
      "metadata": {
        "id": "oBI5lSNW7_ec"
      }
    },
    {
      "cell_type": "code",
      "source": [
        "#\n",
        "# f strings are Python's name for \"format strings\"\n",
        "#\n",
        "\n",
        "# Try this example:\n",
        "\n",
        "fave = 42               # a variable!\n",
        "\n",
        "s = f'fave is {fave}'   # an example f-string\n",
        "\n",
        "print(s)                # let's see it!"
      ],
      "metadata": {
        "id": "aslsugFW8aE9"
      },
      "execution_count": null,
      "outputs": []
    },
    {
      "cell_type": "code",
      "source": [
        "#\n",
        "# task: build your own f-string example to get familiar with it.\n",
        "#       Use at least two variables\n",
        "\n"
      ],
      "metadata": {
        "id": "re5ExirM9VIe"
      },
      "execution_count": null,
      "outputs": []
    },
    {
      "cell_type": "markdown",
      "source": [
        "### ``f strings`` are powerful!\n",
        "+ especially for \"making code talk to you\"!"
      ],
      "metadata": {
        "id": "kyd-IucC8u1X"
      }
    },
    {
      "cell_type": "code",
      "source": [
        "#\n",
        "# here is an example using a loop:\n",
        "#\n",
        "import random\n",
        "\n",
        "for i in range(0,42+1):   # remember: the end's excluded...\n",
        "\n",
        "  snack = random.choice( ['poptarts','poptarts','coffee'] )\n",
        "  print(f\"favorite snack #{i} is {snack}\")"
      ],
      "metadata": {
        "id": "_eQ0MY1h8xLe"
      },
      "execution_count": null,
      "outputs": []
    },
    {
      "cell_type": "code",
      "source": [
        "name = \"Kristina\"\n",
        "f\"Hi {name}!\""
      ],
      "metadata": {
        "id": "DRc3Cq0QbzP6"
      },
      "execution_count": null,
      "outputs": []
    },
    {
      "cell_type": "code",
      "source": [
        "# you can add an equals sign, and it will print the variable AND its value!\n",
        "# Here is an example:\n",
        "\n",
        "name = \"HJ\"\n",
        "f\"Hi, {name = }    (Yay!)\""
      ],
      "metadata": {
        "id": "SrzecXh26_iJ"
      },
      "execution_count": null,
      "outputs": []
    },
    {
      "cell_type": "markdown",
      "source": [
        "### Yay!  \n",
        "+ Being comfortable with ``f strings`` is a great skill to have. **You have it!**\n",
        "\n",
        "Next, we'll dive into libraries\n",
        "+ first, in general\n",
        "+ then for the Python Modeling realm specifically"
      ],
      "metadata": {
        "id": "MpeOldgB9jsA"
      }
    },
    {
      "cell_type": "markdown",
      "source": [
        "### Be sure to create or upload the file ``morefun.py``\n",
        "+ you'll use it in these next cells!\n",
        "+ here are the [data files](https://drive.google.com/drive/folders/14G4pJzjls3sgmx4mtl7ZWMlmvEUi2k5Z?usp=sharing) for this week\n",
        "+ here is the [Datasets for Modeling Google sheet](https://docs.google.com/spreadsheets/d/1sg3unpuomkdzj8JcpPnowNIkVIQwSB3A6-NR5CZTMhU/edit?gid=0#gid=0)"
      ],
      "metadata": {
        "id": "-_SN08ZE7aoD"
      }
    },
    {
      "cell_type": "code",
      "source": [
        "# Let's start by exploring library-imports in general\n",
        "# You'll need to upload this file... let's try it!\n",
        "\n",
        "# For reference, here is the code (two small functions) inside morefun.py:\n",
        "\"\"\"\n",
        "#\n",
        "# morefun.py\n",
        "#\n",
        "\n",
        "def f():\n",
        "    return 'returned from f'\n",
        "\n",
        "def fac():\n",
        "    return 'returned from fac'\n",
        "\"\"\"\n"
      ],
      "metadata": {
        "id": "LW_IJF7Q7Y2S"
      },
      "execution_count": null,
      "outputs": []
    },
    {
      "cell_type": "markdown",
      "source": [
        "#### Be sure you have uploaded or created `morefun.py` in your files at left"
      ],
      "metadata": {
        "id": "9GsngADW6ad1"
      }
    },
    {
      "cell_type": "code",
      "source": [
        "# other examples!"
      ],
      "metadata": {
        "id": "FKjC1ZY372T8"
      },
      "execution_count": null,
      "outputs": []
    },
    {
      "cell_type": "code",
      "source": [
        "# renaming library import\n",
        "import morefun as mandatoryfun\n",
        "mandatoryfun.f()"
      ],
      "metadata": {
        "id": "seWULguD92PP"
      },
      "execution_count": null,
      "outputs": []
    },
    {
      "cell_type": "code",
      "source": [
        "# single-function import\n",
        "from morefun import fac\n",
        "fac()"
      ],
      "metadata": {
        "id": "hYHj9ynq8Gu7"
      },
      "execution_count": null,
      "outputs": []
    },
    {
      "cell_type": "code",
      "source": [
        "# single-function renaming import\n",
        "from morefun import fac as fortyseven\n",
        "fortyseven()"
      ],
      "metadata": {
        "id": "JjVyBsxc95QY"
      },
      "execution_count": null,
      "outputs": []
    },
    {
      "cell_type": "code",
      "source": [
        "# all-functions import\n",
        "from morefun import *\n",
        "f()"
      ],
      "metadata": {
        "id": "uduwTZtF960X"
      },
      "execution_count": null,
      "outputs": []
    },
    {
      "cell_type": "markdown",
      "source": [
        "\n",
        "Now, let's make sure you can import all of the  libraries Python's Modeling ecosystem uses:"
      ],
      "metadata": {
        "id": "YsPGmbH48CM6"
      }
    },
    {
      "cell_type": "code",
      "source": [
        "# our libraries!\n",
        "import numpy as np      # numpy is Python's \"array\" library\n",
        "import pandas as pd     # Pandas is Python's \"data\" library (\"dataframe\" == spreadsheet)\n",
        "import seaborn as sns   # yay for Seaborn!"
      ],
      "metadata": {
        "id": "sidWmiEe6lqj"
      },
      "execution_count": null,
      "outputs": []
    },
    {
      "cell_type": "markdown",
      "source": [
        "If the above cell didn't work, let's look at it together!"
      ],
      "metadata": {
        "id": "f0trdod0-AjY"
      }
    },
    {
      "cell_type": "markdown",
      "source": [
        "<br>\n",
        "\n",
        "# <font color=\"darkblue\">HW6 libraries by example:\n",
        "###  Data - and House - Hunters...</font>\n",
        "\n",
        "Welcome to the wonderful world of real estate!\n",
        "\n",
        "Buying a home is a huge life decision, and it is important to be informed about the housing market.\n",
        "We will analyze some housing data using Pandas!\n",
        "\n",
        "What is pandas?\n",
        "+ Python Data Analysis System?\n",
        "+ Panel Data?\n",
        "+ probably a very cute animal!\n",
        "\n",
        "Pandas's key contribution is a special object called a \"DataFrame\" to store information.\n",
        "+ This is, basically, a spreadsheet that you will be able to manipulate programmatically with Python.\n",
        "\n",
        "We will see how convenient this data frame is!\n"
      ],
      "metadata": {
        "id": "_lZFSk9h-ROD"
      }
    },
    {
      "cell_type": "markdown",
      "source": [
        "### Pandas is built on top of ``numpy``\n",
        "+ ``numpy`` is a Python library for fast and efficient support of _arrays_\n",
        "+ _arrays_ are data structures containing all the same type of data\n",
        "+ they can be 1d (like lists), 2d (a matrix or a spreadsheet), or have even more dimensions:"
      ],
      "metadata": {
        "id": "DO1PI7_Y-e-c"
      }
    },
    {
      "cell_type": "code",
      "execution_count": null,
      "metadata": {
        "id": "4k610tix5DPl"
      },
      "outputs": [],
      "source": [
        "# Numpy is a Python library supporting fast, memory-efficient arrays of data\n",
        "# Let's try it!\n",
        "\n",
        "# this is numpy's traditional renaming import\n",
        "import numpy as np"
      ]
    },
    {
      "cell_type": "code",
      "execution_count": null,
      "metadata": {
        "id": "hfk68sW05DPl"
      },
      "outputs": [],
      "source": [
        "#\n",
        "# A few numpy examples...\n",
        "\n",
        "print( f\"np.arange(1,3,.25)     is    {np.arange(1,3,.25)}\\n\" )\n",
        "print( f\"np.linspace(1,3,9)     is    {np.linspace(1,3,9)}\\n\" )\n",
        "print( f\"np.ones( shape=(4,2) ) is  \\n{np.ones( shape=(4,2) )}\\n\" )\n",
        "print( f\"np.zeros( 3 )          is    {np.zeros( 3 )}\\n\" )\n"
      ]
    },
    {
      "cell_type": "code",
      "execution_count": null,
      "metadata": {
        "id": "9RKaxYs-5DPl"
      },
      "outputs": [],
      "source": [
        "# import three random-number-generation functions that create numpy arrays...\n",
        "from numpy.random import rand, randn, randint\n",
        "\n",
        "#\n",
        "# Here, we show how to convert numpy arrays to/from Python lists (and lists-of-lists, etc.)\n",
        "#\n",
        "\n",
        "A = randint(0,9,size=(2,4))   # let's use randint for ease of printing\n",
        "print(f\"A is\\n{A}\\n\")\n",
        "\n",
        "L = A.tolist()                # this converts to a Python structure!\n",
        "print(f\"L is\\n{L}\\n\")\n",
        "\n",
        "A = np.asarray(L)             # and back to a numpy array...\n",
        "print(f\"A is\\n{A}\\n\")\n",
        "\n",
        "# Notice the slight differences in printing: Python uses commas, Numpy does not"
      ]
    },
    {
      "cell_type": "code",
      "execution_count": null,
      "metadata": {
        "id": "F6BpxA0C5DPl"
      },
      "outputs": [],
      "source": [
        "# in-class \"screenshot challenge\" example\n",
        "\n",
        "# Python functions (range) and list comprehensions are still available...\n",
        "\n",
        "L = [ list(range(low,low+6)) for low in range(0,60,10) ]     # low runs over [0,10,20,30,40,50]\n",
        "\n",
        "A = np.asarray(L)        # convert to a numpy Array\n",
        "\n",
        "print(f\"A is\\n{A}\\n\")\n",
        "\n",
        "print(f\"A.shape is {A.shape}\")   # (nrows, ncols)    symmetry hiding the difference here..."
      ]
    },
    {
      "cell_type": "markdown",
      "metadata": {
        "id": "kXYSzYVh5DPl"
      },
      "source": [
        "<br>\n",
        "\n",
        "## <font color=\"firebrick\">Pandas and our housing dataset</font>"
      ]
    },
    {
      "cell_type": "code",
      "execution_count": null,
      "metadata": {
        "id": "D-w415DSMz04"
      },
      "outputs": [],
      "source": [
        "# Let's continue by importing the pandas library\n",
        "import pandas as pd   # abbreviated \"pd\""
      ]
    },
    {
      "cell_type": "markdown",
      "metadata": {
        "id": "MyXCMJm0Mz05"
      },
      "source": [
        "We have a housing csv (reminder: \"comma-separated values\") file with all the data we want to analyze (Thanks Internet!)\n",
        "\n",
        "Pandas has a function that makes it easy to import data: read_csv\n",
        "\n",
        "read_csv can take a whole bunch of different inputs, but for now, we can just pass in the name of the file we want to open as a string. If the file is not in the same folder as your notebook file, you can pass in a path from the notebook directory to the file directory (as a string).\n",
        "\n",
        "This function will automatically convert the data in the csv file into the data frame that pandas uses.\n",
        "Be sure to give the data frame a name for easy reference later!\n",
        "\n",
        "<br>\n",
        "<hr>\n",
        "<br>\n",
        "\n",
        "### Be sure to upload ``housing.csv`` to your Colab environment\n",
        "+ the upload is on the left sidebar with the \"folder\" icon..."
      ]
    },
    {
      "cell_type": "code",
      "execution_count": null,
      "metadata": {
        "id": "RxroYqSgMz06"
      },
      "outputs": [],
      "source": [
        "# We will import the data as a dataframe called \"zillow\"\n",
        "zillow = pd.read_csv('./housing.csv')"
      ]
    },
    {
      "cell_type": "markdown",
      "metadata": {
        "id": "vqgHBhQXMz07"
      },
      "source": [
        "You can type 'zillow' to view the data frame.\n",
        "By default, it will only display the first and last 5 rows of the data frame.\n",
        "Alternatively, you can use zillow.head(n) to view the first n (n<=60) rows only, or zillow.tail(n) to view the last n rows."
      ]
    },
    {
      "cell_type": "code",
      "execution_count": null,
      "metadata": {
        "id": "EE6o_xdqMz07"
      },
      "outputs": [],
      "source": [
        "# Let's see what our dataframe looks like\n",
        "zillow"
      ]
    },
    {
      "cell_type": "markdown",
      "metadata": {
        "id": "xAk7FoR6Mz08"
      },
      "source": [
        "As you can see, pandas organizes the data in a very user-friendly way (and there's a lot of data to be organized!)\n",
        "\n",
        "There are a lot of ways to view and access the data. We will go over some of the basic ones"
      ]
    },
    {
      "cell_type": "code",
      "execution_count": null,
      "metadata": {
        "id": "iRXjgzqSMz09"
      },
      "outputs": [],
      "source": [
        "# We can view all of the columns available\n",
        "zillow.columns"
      ]
    },
    {
      "cell_type": "markdown",
      "metadata": {
        "id": "DUjSMaEN5DPm"
      },
      "source": [
        "<br>\n",
        "\n",
        "#### References to explain all of these columns!\n",
        "+ The last column isn't real data, but a link to additional information. We'll drop it momentarily...\n",
        "+ This dataset is so large, however, that a reference to its columns may be needed.\n",
        "+ [This is a link to a plain-text file describing the columns in detail](https://www.kaggle.com/leeclemmer/exploratory-data-analysis-of-housing-in-ames-iowa)\n",
        "+ [This is a link to a Kaggle exploration of this dataset](https://www.kaggle.com/leeclemmer/exploratory-data-analysis-of-housing-in-ames-iowa)\n",
        "+ For this walkthrough, you may - or may not - need these, but they're here in case..."
      ]
    },
    {
      "cell_type": "code",
      "source": [
        "zillow.columns[-1]"
      ],
      "metadata": {
        "id": "-H2ijEf7-gcG"
      },
      "execution_count": null,
      "outputs": []
    },
    {
      "cell_type": "code",
      "execution_count": null,
      "metadata": {
        "id": "QWa__d855DPm"
      },
      "outputs": [],
      "source": [
        "# That last \"column\" is not really a column, let's drop it:\n",
        "ROW = 0\n",
        "COLUMN=1\n",
        "zillow2 = zillow.drop('Overall Qual', axis=COLUMN)\n",
        "zillow2"
      ]
    },
    {
      "cell_type": "code",
      "execution_count": null,
      "metadata": {
        "id": "0Hrk5jhvMz0-"
      },
      "outputs": [],
      "source": [
        "# We can access a column by inputting its name in brackets like so\n",
        "zillow['SalePrice']"
      ]
    },
    {
      "cell_type": "code",
      "execution_count": null,
      "metadata": {
        "id": "LVkLoiQPMz0_"
      },
      "outputs": [],
      "source": [
        "# We can access a single value by using its index\n",
        "zillow['SalePrice'][2925]"
      ]
    },
    {
      "cell_type": "code",
      "execution_count": null,
      "metadata": {
        "id": "UgrSyjmpMz0_"
      },
      "outputs": [],
      "source": [
        "# We even slice the column, as with a Python list...\n",
        "zillow['SalePrice'][0:3]"
      ]
    },
    {
      "cell_type": "code",
      "execution_count": null,
      "metadata": {
        "id": "dd37WlJeMz1A"
      },
      "outputs": [],
      "source": [
        "# We can use zillow.loc[n] to locate a house (one row) by its index number n (0-2929)\n",
        "zillow.loc[0]"
      ]
    },
    {
      "cell_type": "code",
      "execution_count": null,
      "metadata": {
        "id": "m5yEDxDH5DPm"
      },
      "outputs": [],
      "source": [
        "# a common pandas pattern is to create a series of Trues and Falses\n",
        "zillow['SalePrice'] == 172000\n",
        "\n",
        "# note that this applies the conditional to each of the elements of"
      ]
    },
    {
      "cell_type": "code",
      "execution_count": null,
      "metadata": {
        "id": "hYwPyRtM5DPm"
      },
      "outputs": [],
      "source": [
        "# this series of booleans can be used to \"subset\" a data frame\n",
        "\n",
        "# This command locates all of the houses whose sale prices are $172000\n",
        "zillow.loc[ zillow['SalePrice'] == 172000 ]"
      ]
    },
    {
      "cell_type": "code",
      "execution_count": null,
      "metadata": {
        "id": "6bnAjuPrMz1A"
      },
      "outputs": [],
      "source": [
        "#\n",
        "# This gives us access to a much smaller subset...\n",
        "houses_for_172k = zillow.loc[ zillow['SalePrice'] == 172000 ]\n",
        "print(f\"The len of houses_for_172k is {len(houses_for_172k)}\")"
      ]
    },
    {
      "cell_type": "code",
      "execution_count": null,
      "metadata": {
        "id": "H7R-U-jg5DPm"
      },
      "outputs": [],
      "source": [
        "# other boolean conditions are also welcome...\n",
        "\n",
        "# This command locates all of the houses whose sale prices are < $172000\n",
        "houses_under_172k = zillow.loc[ zillow['SalePrice'] < 172000 ]\n",
        "print(f\"The len of houses_under_172k is {len(houses_under_172k)}\")"
      ]
    },
    {
      "cell_type": "code",
      "execution_count": null,
      "metadata": {
        "id": "PWVILgZhMz1A"
      },
      "outputs": [],
      "source": [
        "# By default, loc[] extracts all columns of information\n",
        "# We can pass specific columns we want to view (as a list if there are more than 1)\n",
        "\n",
        "target_info = zillow.loc[zillow['SalePrice'] == 172000, ['SalePrice','Central Air', 'Full Bath']]\n",
        "target_info"
      ]
    },
    {
      "cell_type": "markdown",
      "metadata": {
        "id": "wWZMxZaFMz1B"
      },
      "source": [
        "When accessing data in a data frame, it is usually necessary to know the index of the data you want!\n",
        "\n",
        "Sometimes default indices are not useful.  As an example, we will re-index our data frame so that we can search for homes by order number!\n",
        "+ Note that Order number -- the column named 'Order' -- is simply 1 more than the default index\n",
        "+ So, this is not a huge change\n",
        "+ However, it means that, if you're a fan of 1-indexed data -- that choice is up to you!  \n",
        "+ (Admission:  &nbsp; Myself, I'm too used to/partial to 0-indexed data to change, generally speaking...)"
      ]
    },
    {
      "cell_type": "code",
      "execution_count": null,
      "metadata": {
        "id": "FnN85P7q5DPm"
      },
      "outputs": [],
      "source": [
        "# let's see the series of data that is zillow's 'Order' column:\n",
        "zillow['Order']"
      ]
    },
    {
      "cell_type": "code",
      "execution_count": null,
      "metadata": {
        "id": "qkFMMcDcMz1B"
      },
      "outputs": [],
      "source": [
        "# We can use zillow.set_index(column) to set a given column as our indices insetad of 0-2929!\n",
        "# Setting the 'inplace' parameter as True causes the existing data frame to change when we call set_index (insetad of creating a new data frame)\n",
        "# Setting the 'drop' parameter as False keeps the original column in the data frame (instead of deleting it)\n",
        "zillow_one = zillow.set_index('Order', drop=False)   # inplace = True  (if we want to replace the original)\n",
        "zillow_one"
      ]
    },
    {
      "cell_type": "code",
      "execution_count": null,
      "metadata": {
        "id": "hA35Y8z1Mz1C"
      },
      "outputs": [],
      "source": [
        "# Now we can use loc[] to find search for homes by order number\n",
        "zillow_one.loc[2930]\n",
        "\n",
        "# And you can make the index whatever you want!"
      ]
    },
    {
      "cell_type": "markdown",
      "metadata": {
        "id": "IpMHMSUmMz1C"
      },
      "source": [
        "<br>\n",
        "\n",
        "<b><font color=\"darkblue\">hw6pr1 intro:</font></b>\n",
        "\n",
        "Imagine that you wanted to find the all the houses in the dataset such that\n",
        "+ There is a Screen Porch with area more than 100 sq ft.  (Column: 'Screen Porch')  # there are 83\n",
        "+ There is a pool Porch with area more than 100 sq ft.    (Column: 'Pool Area')     # there are 13; 2 among the 83\n",
        "+ The Lot Area is greater than 14200 sq. ft.              (Column: 'Lot Area')     # there are 305; 1 among the 2 above\n",
        "\n",
        "We can \"chain\" a set of dataframes to find the order number of this house... and all of the data in its row.\n",
        "+ Below is that result, it's Order #2351 (index #2350)\n",
        "\n",
        "\n",
        "Model your solution to task #1 (next cell) on this!"
      ]
    },
    {
      "cell_type": "code",
      "execution_count": null,
      "metadata": {
        "id": "VfTB03zc5DPn"
      },
      "outputs": [],
      "source": [
        "z1 = zillow.loc[zillow['Screen Porch']>100]\n",
        "z2 = z1.loc[z1['Pool Area']>100]\n",
        "z3 = z2.loc[z2['Lot Area']>14200]\n",
        "z3\n",
        "\n",
        "#Pool Area (Continuous): Pool area in square feet"
      ]
    },
    {
      "cell_type": "markdown",
      "metadata": {
        "id": "Kp5W1fW55DPn"
      },
      "source": [
        "<br>\n",
        "\n",
        "<b><font color=\"darkblue\">hw6pr1 task:</font></b>\n",
        "\n",
        "You are working at a real estate company as an underpaid intern.\n",
        "Your boss asks you to find the order number of a house that they sold several years ago.\n",
        "They give you the following information:\n",
        "+ The SalePrice was less than $300000\n",
        "+ The Yr Sold is 2010\n",
        "+ The Lot Area is greater than 10000\n",
        "+ The number of \"above ground\" bedrooms (Bedroom AbvGr) is 3\n",
        "+ The Month Sold was June (June == 6)\n",
        "+ The overall quality score was 9 (out of 10)\n",
        "\n",
        "Find the order number of this house! (and all of the data in its row)\n",
        "+ HINT: Start by creating a NEW data frame that applies just one of the filters, and continue from there...\n",
        "+ ALSO: You'll know you have the correct result when you see it..."
      ]
    },
    {
      "cell_type": "code",
      "source": [
        "#\n",
        "# TASK!   Be sure to complete the hw6pr1 task above -- here in this cell...\n",
        "#\n",
        "\n",
        "\n",
        "\n",
        "\n",
        "\n",
        "\n",
        "\n",
        "\n"
      ],
      "metadata": {
        "id": "t1Eof63kw4-r"
      },
      "execution_count": null,
      "outputs": []
    },
    {
      "cell_type": "markdown",
      "metadata": {
        "id": "tvJ_Sjuj5DPn"
      },
      "source": [
        "# Sea-ing the Data! &nbsp;&nbsp; The `Seaborn` library\n",
        "\n",
        "There are many great tools like Pandas and Numpy that allow you to easily manipulate data.\n",
        "But what's often more important is VISUALIZING the data.\n",
        "\n",
        "Matplotlib provides a great way to create graphs from data, but the syntax is often very cumbersome.\n",
        "\n",
        "Seaborn is essentially a \"high-level\" library that uses matplotlib to make graphs with less required code!\n",
        "\n",
        "Where does the name \"Seaborn\" come from? We are open to suggestions..."
      ]
    },
    {
      "cell_type": "code",
      "execution_count": null,
      "metadata": {
        "id": "1U0wCAzi5DPn"
      },
      "outputs": [],
      "source": [
        "# We will need data in order to make graphs! We will use pandas\n",
        "import pandas as pd\n",
        "\n",
        "# matplotlib is an essential whenever we are making graphs!\n",
        "# Seaborn is simply a shortcut for using matplotlib!\n",
        "import matplotlib.pyplot as plt\n",
        "\n",
        "# Import Seaborn!\n",
        "import seaborn as sns"
      ]
    },
    {
      "cell_type": "markdown",
      "source": [
        "### Be sure to upload ``iris.csv`` for these next cells...\n",
        "\n",
        "or, create it with the data in the following cell..."
      ],
      "metadata": {
        "id": "9VjzG-k3__29"
      }
    },
    {
      "cell_type": "code",
      "source": [
        "# @title iris.csv data for copy-and-paste\n",
        "#\n",
        "# Here is the data to paste into iris.csv, if you create it...\n",
        "# (Don't keep the quotes or hashtag-lines.)\n",
        "\"\"\"\n",
        "sepallen,sepalwid,petallen,petalwid,irisname,adapted from https://en.wikipedia.org/wiki/Iris_flower_data_set\n",
        "4.6,3.6,1,0.2,setosa,\n",
        "4.3,3,1.1,0.1,setosa,\n",
        "5,3.2,1.2,0.2,setosa,\n",
        "5.8,4,1.2,0.2,setosa,\n",
        "4.4,3,1.3,0.2,setosa,\n",
        "4.4,3.2,1.3,0.2,setosa,\n",
        "4.5,2.3,1.3,0.3,setosa,\n",
        "4.7,3.2,1.3,0.2,setosa,\n",
        "5,3.5,1.3,0.3,setosa,\n",
        "5.4,3.9,1.3,0.4,setosa,\n",
        "5.5,3.5,1.3,0.2,setosa,\n",
        "4.4,2.9,1.4,0.2,setosa,\n",
        "4.6,3.4,1.4,0.3,setosa,\n",
        "4.6,3.2,1.4,0.2,setosa,\n",
        "4.8,3,1.4,0.1,setosa,\n",
        "4.8,3,1.4,0.3,setosa,\n",
        "4.9,3,1.4,0.2,setosa,\n",
        "5,3.6,1.4,0.2,setosa,\n",
        "5,3.3,1.4,0.2,setosa,\n",
        "5.1,3.5,1.4,0.2,setosa,\n",
        "5.1,3.5,1.4,0.3,setosa,\n",
        "5.2,3.4,1.4,0.2,setosa,\n",
        "5.5,4.2,1.4,0.2,setosa,\n",
        "4.6,3.1,1.5,0.2,setosa,\n",
        "4.9,3.1,1.5,0.1,setosa,\n",
        "4.9,3.1,1.5,0.1,setosa,\n",
        "4.9,3.1,1.5,0.1,setosa,\n",
        "5,3.4,1.5,0.2,setosa,\n",
        "5.1,3.8,1.5,0.3,setosa,\n",
        "5.1,3.7,1.5,0.4,setosa,\n",
        "5.1,3.4,1.5,0.2,setosa,\n",
        "5.2,3.5,1.5,0.2,setosa,\n",
        "5.3,3.7,1.5,0.2,setosa,\n",
        "5.4,3.7,1.5,0.2,setosa,\n",
        "5.7,4.4,1.5,0.4,setosa,\n",
        "4.7,3.2,1.6,0.2,setosa,\n",
        "4.8,3.4,1.6,0.2,setosa,\n",
        "5,3,1.6,0.2,setosa,\n",
        "5,3.4,1.6,0.4,setosa,\n",
        "5,3.5,1.6,0.6,setosa,\n",
        "5.1,3.8,1.6,0.2,setosa,\n",
        "5.1,3.3,1.7,0.5,setosa,\n",
        "5.4,3.9,1.7,0.4,setosa,\n",
        "5.4,3.4,1.7,0.2,setosa,\n",
        "5.7,3.8,1.7,0.3,setosa,\n",
        "4.8,3.4,1.9,0.2,setosa,\n",
        "5.1,3.8,1.9,0.4,setosa,\n",
        "7,3.2,4.7,1.4,versicolor,\n",
        "4.9,2.4,3.3,1,versicolor,\n",
        "5,2.3,3.3,1,versicolor,\n",
        "5,2,3.5,1,versicolor,\n",
        "5.7,2.6,3.5,1,versicolor,\n",
        "5.6,2.9,3.6,1.3,versicolor,\n",
        "5.5,2.4,3.7,1,versicolor,\n",
        "5.5,2.4,3.8,1.1,versicolor,\n",
        "5.2,2.7,3.9,1.4,versicolor,\n",
        "5.6,2.5,3.9,1.1,versicolor,\n",
        "5.8,2.7,3.9,1.2,versicolor,\n",
        "5.5,2.3,4,1.3,versicolor,\n",
        "5.5,2.5,4,1.3,versicolor,\n",
        "5.8,2.6,4,1.2,versicolor,\n",
        "6,2.2,4,1,versicolor,\n",
        "6.1,2.8,4,1.3,versicolor,\n",
        "5.6,3,4.1,1.3,versicolor,\n",
        "5.8,2.7,4.1,1,versicolor,\n",
        "5.6,2.7,4.2,1.3,versicolor,\n",
        "5.7,3,4.2,1.2,versicolor,\n",
        "5.9,3,4.2,1.5,versicolor,\n",
        "6.4,2.9,4.3,1.3,versicolor,\n",
        "5.5,2.6,4.4,1.2,versicolor,\n",
        "6.3,2.3,4.4,1.3,versicolor,\n",
        "6.6,3,4.4,1.4,versicolor,\n",
        "6.7,3.1,4.4,1.4,versicolor,\n",
        "5.4,3,4.5,1.5,versicolor,\n",
        "5.6,3,4.5,1.5,versicolor,\n",
        "5.7,2.8,4.5,1.3,versicolor,\n",
        "6,2.9,4.5,1.5,versicolor,\n",
        "6,3.4,4.5,1.6,versicolor,\n",
        "6.2,2.2,4.5,1.5,versicolor,\n",
        "6.4,3.2,4.5,1.5,versicolor,\n",
        "6.1,3,4.6,1.4,versicolor,\n",
        "6.5,2.8,4.6,1.5,versicolor,\n",
        "6.6,2.9,4.6,1.3,versicolor,\n",
        "6.1,2.9,4.7,1.4,versicolor,\n",
        "6.1,2.8,4.7,1.2,versicolor,\n",
        "6.3,3.3,4.7,1.6,versicolor,\n",
        "6.7,3.1,4.7,1.5,versicolor,\n",
        "5.9,3.2,4.8,1.8,versicolor,\n",
        "6.8,2.8,4.8,1.4,versicolor,\n",
        "6.3,2.5,4.9,1.5,versicolor,\n",
        "6.9,3.1,4.9,1.5,versicolor,\n",
        "6.7,3,5,1.7,versicolor,\n",
        "6,2.7,5.1,1.6,versicolor,\n",
        "4.9,2.5,4.5,1.7,virginica,\n",
        "6,3,4.8,1.8,virginica,\n",
        "6.2,2.8,4.8,1.8,virginica,\n",
        "5.6,2.8,4.9,2,virginica,\n",
        "6.1,3,4.9,1.8,virginica,\n",
        "6.3,2.7,4.9,1.8,virginica,\n",
        "5.7,2.5,5,2,virginica,\n",
        "6,2.2,5,1.5,virginica,\n",
        "6.3,2.5,5,1.9,virginica,\n",
        "5.8,2.8,5.1,2.4,virginica,\n",
        "5.8,2.7,5.1,1.9,virginica,\n",
        "5.9,3,5.1,1.8,virginica,\n",
        "6.3,2.8,5.1,1.5,virginica,\n",
        "6.5,3.2,5.1,2,virginica,\n",
        "6.9,3.1,5.1,2.3,virginica,\n",
        "6.5,3,5.2,2,virginica,\n",
        "6.7,3,5.2,2.3,virginica,\n",
        "6.4,2.7,5.3,1.9,virginica,\n",
        "6.4,3.2,5.3,2.3,virginica,\n",
        "6.2,3.4,5.4,2.3,virginica,\n",
        "6.9,3.1,5.4,2.1,virginica,\n",
        "6.4,3.1,5.5,1.8,virginica,\n",
        "6.5,3,5.5,1.8,virginica,\n",
        "6.8,3,5.5,2.1,virginica,\n",
        "6.1,2.6,5.6,1.4,virginica,\n",
        "6.3,2.9,5.6,1.8,virginica,\n",
        "6.3,3.4,5.6,2.4,virginica,\n",
        "6.4,2.8,5.6,2.1,virginica,\n",
        "6.4,2.8,5.6,2.2,virginica,\n",
        "6.7,3.1,5.6,2.4,virginica,\n",
        "6.7,3.3,5.7,2.1,virginica,\n",
        "6.7,3.3,5.7,2.5,virginica,\n",
        "6.9,3.2,5.7,2.3,virginica,\n",
        "6.5,3,5.8,2.2,virginica,\n",
        "6.7,2.5,5.8,1.8,virginica,\n",
        "7.2,3,5.8,1.6,virginica,\n",
        "6.8,3.2,5.9,2.3,virginica,\n",
        "7.1,3,5.9,2.1,virginica,\n",
        "7.2,3.2,6,1.8,virginica,\n",
        "7.2,3.6,6.1,2.5,virginica,\n",
        "7.4,2.8,6.1,1.9,virginica,\n",
        "7.7,3,6.1,2.3,virginica,\n",
        "7.3,2.9,6.3,1.8,virginica,\n",
        "7.9,3.8,6.4,2,virginica,\n",
        "7.6,3,6.6,2.1,virginica,\n",
        "7.7,3.8,6.7,2.2,virginica,\n",
        "7.7,2.8,6.7,2,virginica,\n",
        "7.7,2.6,6.9,2.3,virginica,\n",
        "4.2,4.7,4.7,0.042,alieniris,\n",
        "4.2,4.77,4.7,0.047,alieniris,\n",
        "\"\"\""
      ],
      "metadata": {
        "cellView": "form",
        "id": "ZxknsOH9xH0M"
      },
      "execution_count": null,
      "outputs": []
    },
    {
      "cell_type": "code",
      "execution_count": null,
      "metadata": {
        "id": "_-age-kI5DPn"
      },
      "outputs": [],
      "source": [
        "# Next, we import import our dataframe using pandas\n",
        "iris_orig = pd.read_csv('./iris.csv')\n",
        "iris_orig"
      ]
    },
    {
      "cell_type": "code",
      "execution_count": null,
      "metadata": {
        "id": "WVRnmdvL5DPn"
      },
      "outputs": [],
      "source": [
        "# we can drop a series of data (a row or a column)\n",
        "# they're indicated by numeric value, row~0, col~1, but let's use readable names instead:\n",
        "ROW = 0\n",
        "COLUMN = 1\n",
        "\n",
        "iris2 = iris_orig.drop('adapted from https://en.wikipedia.org/wiki/Iris_flower_data_set', axis=COLUMN)\n",
        "iris2\n",
        "\n",
        "# iris2 is a new dataframe, without that unwanted column (really just one element taking up a whole column...)\n"
      ]
    },
    {
      "cell_type": "code",
      "execution_count": null,
      "metadata": {
        "id": "82pVK4sf5DPn"
      },
      "outputs": [],
      "source": [
        "# Those last two rows look suspicious...\n",
        "iris3 = iris2.drop(142, axis=ROW)\n",
        "iris4 = iris3.drop(141, axis=ROW)\n",
        "iris = iris4\n",
        "iris                 # our final dataframe-name"
      ]
    },
    {
      "cell_type": "code",
      "execution_count": null,
      "metadata": {
        "id": "3mzxJ9Mz5DPn"
      },
      "outputs": [],
      "source": [
        "# To illustrate the beauty of data visualization...\n",
        "# Let's start with perhaps the most powerful type of plot applicable to this data set: a pair plot\n",
        "\n",
        "# The POWER of seaborn: one-line code\n",
        "PairPlot = sns.pairplot(data=iris, hue='irisname')\n",
        "# Making graphs has never been easier!\n",
        "\n",
        "# Unpacking this...\n",
        "# pairplot() is the function that - you guessed it - makes the pairplot\n",
        "# 'data' is ... where the data comes from (our pandas data frame)\n",
        "# 'hue' colors the dots based on values in the designated ('Species') column in the data frame\n",
        "\n",
        "# What on Earth is a pair plot?\n",
        "# A scatter plot compares two values (i.e. length and width)\n",
        "# A pair plot simply creates a scatter plot of every possible pair of values\n",
        "# You can see which values are being compared by looking at the labels!\n",
        "# The diagonal plots however are simply the distribution of a single value (a 'univariate' distribution)\n",
        "\n",
        "# Why did we name the plot?\n",
        "# Without a name, an not-very-informative storage location (?) gets printed at the top of the graph..."
      ]
    },
    {
      "cell_type": "code",
      "execution_count": null,
      "metadata": {
        "id": "T15CTynT5DPn"
      },
      "outputs": [],
      "source": [
        "# Now we know how striking Seaborn and data visualization can be\n",
        "# Let's explore the relationship between petal length and petal width using a single scatter plot\n",
        "\n",
        "ScatterPlot = sns.scatterplot(x='petallen', y='petalwid', data=iris, hue='irisname')\n",
        "\n",
        "# Unpacking this...\n",
        "# scatterplot() is the function that - you guessed it - makes the scatterplot\n",
        "# 'x' is ... the data for the x axis\n",
        "# 'y' is ... the data for the y axis\n",
        "\n",
        "# Can you find this graph in the pair plot?"
      ]
    },
    {
      "cell_type": "code",
      "execution_count": null,
      "metadata": {
        "id": "QxbCiI835DPn"
      },
      "outputs": [],
      "source": [
        "# We see that there may be some kind of linear relationship between these variables!\n",
        "# We can use a lmplot (linear model) to add regression lines to the data\n",
        "\n",
        "LmPlot = sns.lmplot(x='petallen', y='petalwid', data=iris)\n",
        "\n",
        "# If you add the 'hue' parameter, the data will become separated by species and you can view the best-fit line for each species\n",
        "\n",
        "# ... there seems to be no built in feature to find the equation of the best-fit line within Seaborn (?)\n",
        "# Not needed for this week, but NumPy and SciPy will provide that model"
      ]
    },
    {
      "cell_type": "code",
      "execution_count": null,
      "metadata": {
        "id": "JpDcHNyj5DPn"
      },
      "outputs": [],
      "source": [
        "# Let's try something else now...\n",
        "# Which flowers have the longest petals?\n",
        "# You could create something like a dot plot or a box plot, but let's try a more musical approach:\n",
        "\n",
        "ViolinPlot = sns.violinplot(x='irisname', y='petallen', data=iris, inner='stick')\n",
        "\n",
        "# Unpacking this...\n",
        "# 'inner' draws a stick for each data point\n",
        "# Notice that the plots get wider in areas with more sticks!\n",
        "\n",
        "# A violin plot is very similar to a box-and-whiskers plot, but has more detail (and is much cooler)\n",
        "# It's also a histogram: just on its side (and mirrored!)"
      ]
    },
    {
      "cell_type": "markdown",
      "metadata": {
        "id": "IzhucaHS5DPn"
      },
      "source": [
        "As you can see, seaborn provides a path for creating informative plots from a dataframe...\n",
        "\n",
        "### <font color=\"darkblue\"><b> hw6pr2</b></font>\n",
        "\n",
        "#### Your task...\n",
        "+ Is to first check out the [Seaborn Gallery](https://seaborn.pydata.org/examples/index.html) for more ideas that might strike your interest...\n",
        "+ And the very large selection is at the [Matplotlib Gallery](https://matplotlib.org/stable/gallery/index.html)\n",
        "+ And another, the [Python Graph Gallery is here](https://python-graph-gallery.com/all-charts/)\n",
        "+ Then, create ** at least three additional plots ** -- one from each of those three galleries as inspiration...\n",
        "+ Using their data is 100% ok, so this is really \"curated exploration\"\n",
        "  + \"Curated Exploration\" is an academic term for Copy-and-Paste! (CaP)\n",
        "  + CaP is a best friend of data-visualization <font size=\"-2\">Process syntax is more a \"substrate for thought\" than data-visualization syntax, so the latter, perhaps, warrants fewer neurons.</font>\n",
        "+ Then, go beyond Copy-and-Paste:\n",
        "+ Create **three more plots** in which\n",
        "  + Two of them use - in any way - the data from our class datasets (the iris, births, digits, titanic, or housing datasets). Be sure to upload that data!\n",
        "  + One of them uses an external visualization as a start -- and then is changed through some creative decision of your own. It can be aesthetic (change of color/font/etc) or by altering its data-or-data-parameters (different data or different ways of handling it).\n",
        "\n",
        "There are two examples copy-and-pasted visualization below.\n",
        "+ Take a look!\n",
        "+ The second one needs the ``digits.csv`` data uploaded and available.\n",
        "+ It shows one of the digits. (Perhaps try changing which one it shows!)"
      ]
    },
    {
      "cell_type": "code",
      "execution_count": null,
      "metadata": {
        "id": "kMQqMt6D5Epb"
      },
      "outputs": [],
      "source": [
        "# our libraries!\n",
        "import numpy as np      # numpy is Python's \"array\" library\n",
        "import pandas as pd     # Pandas is Python's \"data\" library (\"dataframe\" == spreadsheet)\n",
        "import seaborn as sns   # yay for Seaborn!"
      ]
    },
    {
      "cell_type": "code",
      "source": [
        "# you will want at least three \"CaP\" visualizations here...  # here's a spot for the first..."
      ],
      "metadata": {
        "id": "e-v8PnjcAle_"
      },
      "execution_count": null,
      "outputs": []
    },
    {
      "cell_type": "code",
      "source": [
        "# you will want at least three \"CaP\" visualizations here...  # here's a spot for the second..."
      ],
      "metadata": {
        "id": "x6xM6oMkAl1e"
      },
      "execution_count": null,
      "outputs": []
    },
    {
      "cell_type": "code",
      "source": [
        "# you will want at least three \"CaP\" visualizations here...  # here's a spot for the third..."
      ],
      "metadata": {
        "id": "Dp7m0Hp6AmKn"
      },
      "execution_count": null,
      "outputs": []
    },
    {
      "cell_type": "markdown",
      "metadata": {
        "id": "003PXpQy5Epb"
      },
      "source": [
        "\n",
        "#### Example of a directly web-copied visualization\n",
        "+ This is from the seaborn gallery\n",
        "+ It shows off a \"heatmap\" visualization\n",
        "+ and uses the built-in <i>flights</i> data\n",
        "\n",
        "This example is here to emphasize\n",
        "+ including the original and your customized version\n",
        "+ how to visualize the digits (important!)"
      ]
    },
    {
      "cell_type": "code",
      "execution_count": null,
      "metadata": {
        "id": "JHnjJY0g5Epc"
      },
      "outputs": [],
      "source": [
        "#\n",
        "# Making sure a provided example works, as-is...\n",
        "#\n",
        "\n",
        "import matplotlib.pyplot as plt\n",
        "import seaborn as sns\n",
        "sns.set_theme()\n",
        "\n",
        "# Load the example flights dataset and convert to long-form\n",
        "flights_long = sns.load_dataset(\"flights\")\n",
        "flights = (\n",
        "    flights_long\n",
        "    .pivot(index=\"month\", columns=\"year\", values=\"passengers\")\n",
        ")\n",
        "\n",
        "# Draw a heatmap with the numeric values in each cell\n",
        "f, ax = plt.subplots(figsize=(9, 6))\n",
        "sns.heatmap(flights, annot=True, fmt=\"d\", linewidths=.5, ax=ax)\n",
        "\n",
        "# Interesting... perhaps change the annot=False to annot=True..."
      ]
    },
    {
      "cell_type": "markdown",
      "source": [
        "### Let's adapt it to display one of our hand-written digits, from the `digits` dataset\n",
        "\n",
        "#### Example of using our own data\n",
        "+ Be sure that `digits.csv` is uploaded and available, at left\n",
        "+ This example creates a variation of the above \"heatmap\" visualization\n",
        "+ and uses the `digits` data\n",
        "+ (be sure to upload that data)"
      ],
      "metadata": {
        "id": "nkSNuI-Y27z7"
      }
    },
    {
      "cell_type": "code",
      "source": [
        "import matplotlib.pyplot as plt\n",
        "import seaborn as sns\n",
        "import pandas as pd\n",
        "import numpy as np\n",
        "sns.set_theme()\n",
        "\n",
        "# Load the example flights dataset and convert to long-form\n",
        "digits_orig = pd.read_csv('./digits.csv')\n",
        "list_of_column_names = digits_orig.columns\n",
        "\n",
        "ROW = 0\n",
        "COLUMN = 1\n",
        "digits2 = digits_orig.drop( list_of_column_names[-1], axis=COLUMN)  # drop the rightmost column - it's just a url\n",
        "# digits2 = digits_orig.copy()   # if we had already removed that column by hand in the spreadsheet, use this...\n",
        "digitsB = digits2.values  # get a numpy array (digitsA) from the dataframe (digits2)\n",
        "digitsA = digitsB.astype(int)\n",
        "\n",
        "row_to_show = 42   # choose the digit (row) you want to show...  (it's the sheets index - 2)\n",
        "\n",
        "pixels_as_row = digitsA[row_to_show,0:64]\n",
        "print(\"pixels as 1d numpy array (row):\\n\", pixels_as_row)\n",
        "\n",
        "pixels_as_image = np.reshape(pixels_as_row, (8,8))   # reshape into a 2d 8x8 array (image)\n",
        "print(\"\\npixels as 2d numpy array (image):\\n\", pixels_as_image)\n",
        "\n",
        "# create the figure, f, and the axes, ax:\n",
        "f, ax = plt.subplots(figsize=(9, 6))\n",
        "\n",
        "# colormap choice! Fun!   www.practicalpythonfordatascience.com/ap_seaborn_palette or seaborn.pydata.org/tutorial/color_palettes.html\n",
        "our_colormap = sns.color_palette(\"light:b\", as_cmap=True)\n",
        "\n",
        "# Draw a heatmap with the numeric values in each cell (make annot=False to remove the values)\n",
        "sns.heatmap(pixels_as_image, annot=True, fmt=\"d\", linewidths=.5, ax=ax, cmap=our_colormap)"
      ],
      "metadata": {
        "id": "ww36rBSO3MID"
      },
      "execution_count": null,
      "outputs": []
    },
    {
      "cell_type": "markdown",
      "source": [
        "### Now, create three ofyour own visualizations..."
      ],
      "metadata": {
        "id": "aUpYy2bsxZjs"
      }
    },
    {
      "cell_type": "code",
      "source": [
        "# you will want at least three \"adapted\" visualizations here...  # here's a spot for the first..."
      ],
      "metadata": {
        "id": "NfJ_1DIdxmKO"
      },
      "execution_count": null,
      "outputs": []
    },
    {
      "cell_type": "code",
      "source": [
        "# you will want at least three \"adapted\" visualizations here...  # here's a spot for the second..."
      ],
      "metadata": {
        "id": "8LL6eimDxmq2"
      },
      "execution_count": null,
      "outputs": []
    },
    {
      "cell_type": "code",
      "source": [
        "# you will want at least three \"adapted\" visualizations here...  # here's a spot for the third..."
      ],
      "metadata": {
        "id": "_PuYL3Kxxnhq"
      },
      "execution_count": null,
      "outputs": []
    },
    {
      "cell_type": "markdown",
      "source": [
        "As you see, seaborn provides a resource for creating informative plots from a dataframe...\n",
        "\n",
        "<br>\n",
        "\n",
        "Next, we dive into model-building, whose goal is to create predictive/explanatory models from the data.\n",
        "\n",
        "<br>\n",
        "<hr>\n",
        "<br>"
      ],
      "metadata": {
        "id": "jI1Hvie78CxZ"
      }
    },
    {
      "cell_type": "markdown",
      "source": [
        "# <font color=\"darkblue\"><b>hw6pr3</b></font> &nbsp; Linear Regression\n",
        "\n",
        "#### Linear Regression  &nbsp;&nbsp; hw6 part 3\n",
        "\n",
        "+ _Linear Regression_ is sometimes considered the \"first\" approach to model-building.\n",
        "+ Indeed, it's fast, and it's powerful.\n",
        "\n",
        "+ A few <font color=\"DodgerBlue\"><b>limitations</b></font> of linear regression:\n",
        "  + By default, linear regression predicts _continuous_ variables (features) from other _continuous_ features\n",
        "  + For example, you'll see below that we create a Linear Regression model to predict flowers' <tt>sepalwid</tt> from their <tt>petallen</tt>\n",
        "  + Also, Linear Regression makes the strong assumption that the input-output relationship is linear...\n",
        "    + In practice, this means that doubling the input will double the output (and halving the input will halve the output), after accounting for the average offset\n",
        "  + Not every relationship ***is*** linear -- but many are.\n",
        "  + Plus, we can always just treat a relationship as linear -- just to see how well or poorly that approximation does!  \n",
        "\n",
        "+ On the whole, linear regression has a lot more positives than negatives!\n",
        "+ Here are some <font color=\"Coral\"><b>upsides</b></font> of linear regression:\n",
        "  + Every modeling library has already implemented it for you! (we will use <tt>scikit-learn</tt>)\n",
        "  + It can handle any number of dimensions of input and output.\n",
        "    + A one-dimensional regression (one input and one output) is a _line_.\n",
        "    + A two-dimensional regression (two inputs and one output) is a _plane_.\n",
        "    + <font size=\"-2\">More dimensions are harder to visualize. They're usually called _hyperplanes_. I imagine them as just planes for which you can swap different input features.</font>\n",
        "\n",
        "<br>\n",
        "<hr>\n",
        "<br>\n",
        "\n",
        "+ <i>The example</i>, below, asks you to first run this example of linear regression of <tt>sepalwid</tt> vs. <tt>petallen</tt> in the <tt>iris.csv</tt> flower data.\n",
        "   + To make sure this works, be sure you have uploaded - and have available - the `iris.csv` dataset.\n",
        "   + Then, <font color=\"Coral\"><b>adapt this example to at least one dataset of your own</b></font>. &nbsp;&nbsp; <font size=\"-2\">totally optional EC for adding, too, an example with inputs that are 2d or more</font>"
      ],
      "metadata": {
        "id": "g67mmPRYxrU2"
      }
    },
    {
      "cell_type": "code",
      "source": [
        "# Load the iris data from iris_cleaned.csv\n",
        "import pandas as pd\n",
        "\n",
        "iris_df = pd.read_csv('iris_cleaned.csv')   # this is a dataframe"
      ],
      "metadata": {
        "id": "BZmQhsPC0NCG"
      },
      "execution_count": null,
      "outputs": []
    },
    {
      "cell_type": "code",
      "source": [
        "# optional: loop over all rows\n",
        "\n",
        "# for row in iris_df.iterrows():\n",
        "#     print(row)\n",
        "\n",
        "iris_df   # default display"
      ],
      "metadata": {
        "id": "rsYN6QIU0UHb"
      },
      "execution_count": null,
      "outputs": []
    },
    {
      "cell_type": "code",
      "source": [
        "# Create a Linear Regression model\n",
        "import sklearn\n",
        "from matplotlib import pyplot as plt\n",
        "\n",
        "from sklearn.linear_model import LinearRegression\n",
        "\n",
        "# Create and fit the model\n",
        "model = LinearRegression()\n",
        "X = iris_df[['petallen']].values  # Input feature as 2D array\n",
        "y = iris_df['sepalwid'].values    # Target variable as 1D array\n",
        "model.fit(X, y)\n",
        "\n",
        "# Make predictions using the model\n",
        "y_pred = model.predict(X)\n",
        "\n",
        "# Plot the results\n",
        "plt.figure(figsize=(8, 6))\n",
        "plt.scatter(X, y, color='blue', label='Actual data')\n",
        "plt.plot(X, y_pred, color='red', label='Linear regression')\n",
        "plt.xlabel('Petal Length')\n",
        "plt.ylabel('Sepal Width')\n",
        "plt.title('Linear Regression: Sepal Width vs Petal Length')\n",
        "plt.legend()\n",
        "plt.show()\n",
        "\n",
        "# Print the model coefficients\n",
        "print(f\"Slope: {model.coef_[0]:.4f}\")\n",
        "print(f\"Intercept: {model.intercept_:.4f}\")\n",
        "\n",
        "# Calculate R-squared score\n",
        "r2_score = model.score(X, y)\n",
        "print(f\"R-squared score: {r2_score:.4f}\")"
      ],
      "metadata": {
        "id": "qnQkX3Nn0UiD"
      },
      "execution_count": null,
      "outputs": []
    },
    {
      "cell_type": "markdown",
      "source": [
        "###  **Yay!**  Our predictive model is complete!\n",
        "\n",
        "#### How did it do?\n",
        "\n",
        "Well, we note that\n",
        "+ It's really not a very good model.\n",
        "+ An R-squared value of 0.17 means that\n",
        "  + only 17% of the variance in the output <tt>sepalwid</tt> is explained by the input <tt>petallen</tt>\n",
        "  + this means that modeling-by-just-using-the-average is almost as good!\n",
        "\n",
        "To be honest, I was expecting the relationship to be stronger. Because it's so weak,\n",
        "+ My non-biologist, non-botanist self takes this as evidence that the petal and sepal are more different - in their biological function - than I'd previously imagined.\n",
        "  + <font size=\"-2\">I had figured sepals were just \"more petals\" ... but <a href=\"https://www.fs.usda.gov/wildflowers/beauty/iris/flower.shtml#:~:text=The%20petals%20(sometimes%20called%20%E2%80%9Cstandards,The%20iris%20style%20arm.\">apparently</a> ... the petals are for structure/support and the sepals are \"landing pads\" to attract bees to the flower. Ok!</font>\n",
        "\n",
        "<br>\n",
        "<br>\n",
        "\n",
        "Just for illustration, let's create a \"model-by-just-using-the-average\" - it's below.\n",
        "+ Note, that this is not needed for your model. It's good to know it's there!"
      ],
      "metadata": {
        "id": "-cZgANVg05Rk"
      }
    },
    {
      "cell_type": "code",
      "source": [
        "def predict_sepal_width_via_avg(petal_length=4.2):\n",
        "    \"\"\"\n",
        "    Predicts sepal width by simply returning the average sepal width,\n",
        "    ignoring the input petal length\n",
        "\n",
        "    Args:\n",
        "        petal_length (float): The petal length value (ignored)\n",
        "\n",
        "    Returns:\n",
        "        float: Average sepal width value\n",
        "    \"\"\"\n",
        "    # Calculate average sepal width from training data\n",
        "    avg_sepal_width = iris_df['sepalwid'].mean()\n",
        "\n",
        "    # Return the average, regardless of input\n",
        "    return avg_sepal_width\n",
        "\n",
        "print(f\"defined the model: {predict_sepal_width_via_avg = }\")"
      ],
      "metadata": {
        "id": "aE-klMC71Gn6"
      },
      "execution_count": null,
      "outputs": []
    },
    {
      "cell_type": "code",
      "source": [
        "# Test the function with same sample value\n",
        "test_petal_length = 2.5\n",
        "predicted_width_avg = predict_sepal_width_via_avg(test_petal_length)\n",
        "print(f\"For a petal length of {test_petal_length}, the predicted sepal width (using average) is {predicted_width_avg:.2f}\")"
      ],
      "metadata": {
        "id": "YkxW1jsa1NrY"
      },
      "execution_count": null,
      "outputs": []
    },
    {
      "cell_type": "markdown",
      "source": [
        "#### Second example:\n",
        "\n",
        "Let's run the \"very first\" linear regression ... ?!\n",
        "\n",
        "This uses the dataset of 1078 heights -- from the 1890's/1900's.\n",
        "\n",
        "Be sure to upload - and have avaialable - the `pearson_dataset.csv` file"
      ],
      "metadata": {
        "id": "hzAUMDMZ1W10"
      }
    },
    {
      "cell_type": "code",
      "source": [
        "# Let's run a linear regression on the pearson dataset. First, we load it:\n",
        "\n",
        "import pandas as pd\n",
        "pearson_df = pd.read_csv('./pearson_dataset.csv')\n",
        "pearson_df"
      ],
      "metadata": {
        "id": "Bwwn_sI_1iIU"
      },
      "execution_count": null,
      "outputs": []
    },
    {
      "cell_type": "code",
      "source": [
        "import matplotlib.pyplot as plt\n",
        "import seaborn as sns\n",
        "\n",
        "# Create scatter plot of heights data\n",
        "plt.figure(figsize=(10,6))\n",
        "sns.scatterplot(data=pearson_df, x='sheight', y='fheight', alpha=0.5)\n",
        "\n",
        "# Fit linear regression\n",
        "from sklearn.linear_model import LinearRegression\n",
        "X = pearson_df[['sheight']].values\n",
        "y = pearson_df['fheight'].values\n",
        "reg = LinearRegression().fit(X, y)\n",
        "\n",
        "# Plot regression line\n",
        "plt.plot(X, reg.predict(X), color='red', linewidth=2)\n",
        "\n",
        "plt.title('Father vs Son Heights with Linear Regression')\n",
        "plt.xlabel('Son Height (inches)')\n",
        "plt.ylabel('Father Height (inches)')\n",
        "\n",
        "# Calculate and print R-squared, slope and intercept\n",
        "r2 = reg.score(X, y)\n",
        "slope = reg.coef_[0]\n",
        "intercept = reg.intercept_\n",
        "\n",
        "print(f\"Slope: {slope:.4f}\")\n",
        "print(f\"Intercept: {intercept:.4f}\")\n",
        "print(f\"R-squared: {r2:.4f}\")"
      ],
      "metadata": {
        "id": "dfP_c3Yo1mTi"
      },
      "execution_count": null,
      "outputs": []
    },
    {
      "cell_type": "markdown",
      "source": [
        "### How did it do?\n",
        "+ It worked!\n",
        "+ The model is compelling, but not particularly strong (R-squared about 0.25)\n",
        "  + <font size=\"-2\">This makes sense: &nbsp; height is loosely, but only loosely, correlated with parent height</font>\n",
        "+ One wonders if the overall average continues to rise. (I suspect so...)\n",
        "+ Key takeaway: &nbsp; ***regression*** is a historical name, not a helpfully suggestive one, for the process of <i>building a model with floating-point outputs, i.e., continuous outputs</i>\n",
        "  + <font size=\"-2\">Very often there's no \"regression\" to any mean -- or any \"regression\" to anything at all. Just continuous outputs...</font>\n",
        "\n",
        "  <br>\n",
        "  <hr>\n",
        "  <br>"
      ],
      "metadata": {
        "id": "w4t-G6b01wPE"
      }
    },
    {
      "cell_type": "markdown",
      "source": [
        "### <font color=\"DarkBlue\"><b>hw6pr3</b></font> &nbsp; Your own regression...\n",
        "\n",
        "Take it away!  \n",
        "\n",
        "From here,  <font color=\"Coral\"><b>adapt from the above examples to build a linear-regression model for at least one dataset of your own</b></font>:\n",
        "+ Choose a different dataset than the iris and pearson datasets...\n",
        "+ Choose any two <i>continuous</i> features -- that is, features with varying numeric values <i>in which their relative values are meaningful</i>\n",
        "  + Numeric values that are simply an encoding for different labels are ***not*** continuous features.\n",
        "+ Be sure to run at least one 1d linear regression.\n",
        "+ Be sure to create a short markdown cell that reflects on how well/poorly your model does...\n",
        "  + Above, there are two examples of this -- feel free to adapt those.\n",
        "  + What is the R-squared value? What is the slope? The intercept?\n",
        "  + Is it surprising that line-fitting does well/poorly for your example?\n",
        "  + Or would that be something you expect in your case?\n",
        "+ <font size=\"-2\"><font color=\"DodgerBlue\">totally optional EC</font> for adding, a second Linear-Regression example with inputs that are two-dimensional or higher</font>"
      ],
      "metadata": {
        "id": "ErvPFlM510r7"
      }
    },
    {
      "cell_type": "code",
      "source": [
        "#\n",
        "# your own regression(s)...\n",
        "#"
      ],
      "metadata": {
        "id": "ROX1f9BI2kiF"
      },
      "execution_count": null,
      "outputs": []
    },
    {
      "cell_type": "markdown",
      "source": [
        "# Reading for hw6...    \n",
        "\n",
        "As we transition into AI/Machine Learning for the next few weeks, this week's reading takes a more <u>policy-based</u>, rather than socially-normed, view:\n",
        "+ it's a NYTimes article from a few years ago -- nice, because it has a definite, wide-angle stance on regulating AI:\n",
        "+ [How to Regulate Artificial Intelligence](https://www.nytimes.com/2017/09/01/opinion/artificial-intelligence-regulations-rules.html)\n",
        "+ [locally-hosted/Claremont-hosted pdf copy](https://drive.google.com/file/d/1EZcygQdk40J0dJTZ1vp0F20rIoQU27nH/view)\n",
        "\n",
        "<br>\n",
        "<hr>\n",
        "<br>\n",
        "\n",
        "<font size=\"+1\">Consider the author's three proposed principles, which elaborate Isaac Asimov's \"laws\"</font>:\n",
        "+ AIs must obey human society's laws\n",
        "+ AIs must disclose themselves as such\n",
        "+ AIs cannot retain confidential information (w/o permission)\n",
        "\n",
        "Choose one (or more) of these principles with which to agree or disagree, bringing in your own experience and perspective.\n",
        "\n",
        "Alternative paths and balancing acts are, as always, welcome! For example -- this article was written before conversational AI was a reality. Do you feel there are differences in the appropriate principles or guidance for regulating today's AI agents and their authors?\n",
        "\n",
        "<hr>\n",
        "\n",
        "<br><br>"
      ],
      "metadata": {
        "id": "Q7WMTWu-9Snq"
      }
    },
    {
      "cell_type": "markdown",
      "source": [
        "Feel free to use either of these cells for your reflection on _How we should regulate AI\" ??\n",
        "\n",
        "<br><br>\n",
        "<br><br>"
      ],
      "metadata": {
        "id": "1EGkxIUx9aMg"
      }
    },
    {
      "cell_type": "markdown",
      "source": [
        "# <font color=\"DodgerBlue\">Congratulations!</font>\n",
        "\n",
        "You're data'ing and model-building!\n",
        "\n",
        "For the next few weeks, we'll continue this process...\n",
        "\n",
        "<br>\n",
        "\n",
        "Also, remember that we have a \"computing-interview-type\" demo-and-discussion (before April 1).\n",
        "+ Sign up for a time on [this Google sheet](https://docs.google.com/spreadsheets/d/1jRh-PF0UwM06lj9RhNX6DaDZFOnIcfffM6cF9BNztTA/edit?gid=0#gid=0).\n",
        "\n",
        "<br>\n",
        "\n",
        "All gathering momentum for a final project -- and a final presentation -- in April/May.\n"
      ],
      "metadata": {
        "id": "qGHLUsylENcR"
      }
    },
    {
      "cell_type": "markdown",
      "source": [
        "# <font color=\"Coral\"><b>Submitting</b></font>\n",
        "\n",
        "Submit this in the usual way to the IST 341 Canvas site...\n",
        "\n",
        "Be sure to share it with me at ``zdodds@gmail.com``"
      ],
      "metadata": {
        "id": "diwqmRCIEhpe"
      }
    },
    {
      "cell_type": "code",
      "source": [],
      "metadata": {
        "id": "EAPvPwTV93l4"
      },
      "execution_count": null,
      "outputs": []
    }
  ],
  "metadata": {
    "kernelspec": {
      "display_name": "Python 3",
      "language": "python",
      "name": "python3"
    },
    "language_info": {
      "codemirror_mode": {
        "name": "ipython",
        "version": 3
      },
      "file_extension": ".py",
      "mimetype": "text/x-python",
      "name": "python",
      "nbconvert_exporter": "python",
      "pygments_lexer": "ipython3",
      "version": "3.10.2"
    },
    "colab": {
      "provenance": [],
      "collapsed_sections": [
        "rwLOmGlk6m9L",
        "_lZFSk9h-ROD",
        "tvJ_Sjuj5DPn",
        "g67mmPRYxrU2"
      ],
      "include_colab_link": true
    }
  },
  "nbformat": 4,
  "nbformat_minor": 0
}