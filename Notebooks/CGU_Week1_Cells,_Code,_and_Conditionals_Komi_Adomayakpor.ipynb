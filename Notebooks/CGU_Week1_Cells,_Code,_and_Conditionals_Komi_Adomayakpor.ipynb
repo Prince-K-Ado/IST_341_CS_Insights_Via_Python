{
  "cells": [
    {
      "cell_type": "markdown",
      "metadata": {
        "colab_type": "text",
        "id": "view-in-github"
      },
      "source": [
        "<a href=\"https://colab.research.google.com/github/Prince-K-Ado/IST_341_CS_Insights_Via_Python/blob/main/CGU_Week1_Cells%2C_Code%2C_and_Conditionals_Komi_Adomayakpor.ipynb\" target=\"_parent\"><img src=\"https://colab.research.google.com/assets/colab-badge.svg\" alt=\"Open In Colab\"/></a>"
      ]
    },
    {
      "cell_type": "markdown",
      "metadata": {
        "id": "NoXM4SE7QVPh"
      },
      "source": [
        "# Welcome to IST 341, everyone!!!!!! <font color=\"Blue\">{Komi Adomayakpor}</font>\n",
        "\n",
        "+ Let's dive in into this language learning\n",
        "\n",
        "#### Initials: K.A\n",
        "\n",
        "_\"CS Insights via Python\"_\n",
        "\n",
        "##### This notebook can be found as well in my [GitHub Repo.](https://github.com/Prince-K-Ado/IST_341_CS_Insights_Via_Python)\n",
        "\n",
        "##### Nice!!! Continuing to explore Git pull actions into local editor.\n"
      ]
    },
    {
      "cell_type": "markdown",
      "metadata": {
        "id": "XYrs0QreNBM8"
      },
      "source": [
        "### <font color=\"darkblue\"><b>Welcome to Python notebooks! 🐍</b></font>\n",
        "\n",
        "***Computing*** is a powerful technique for discovery, in IS and IT, in science and **engineering**, and in many fields.\n",
        "\n",
        "This Python notebook _interleaves_ descriptions with its computations. Both text and code are hosted in ***cells***:\n",
        "   + _description cells_, like this cell, are in **markdown**, a widely-used language for <u>presenting</u> ideas with text, pictures, etc. 📖\n",
        "   + Markdown can be **bold**\n",
        "   + _computation cells_, which you will see just below, are in **Python**, a widely-used language for <u>executing</u> ideas, that is, _code_  💻\n",
        "\n",
        "In the <u>following cells </u>, you'll ~create~ **_bring to life_** a description with some details about yourself.\n",
        "\n",
        "In the cells after that, you'll read, run, and compose ~~Java~~ Python scripts (snippets)\n",
        "\n",
        "\n"
      ]
    },
    {
      "cell_type": "code",
      "execution_count": 1,
      "metadata": {
        "colab": {
          "base_uri": "https://localhost:8080/"
        },
        "id": "cwvfwfoIDk4I",
        "outputId": "e4795f47-1fda-4cfa-9223-9550580a8c93"
      },
      "outputs": [
        {
          "data": {
            "text/plain": [
              "42"
            ]
          },
          "execution_count": 1,
          "metadata": {},
          "output_type": "execute_result"
        }
      ],
      "source": [
        "# Here is a coding cell. Try it!\n",
        "\n",
        "41 + 1"
      ]
    },
    {
      "cell_type": "markdown",
      "metadata": {
        "id": "ki_QjFa6dkUY"
      },
      "source": [
        "### <font color=\"FireBrick\"><b>Overview of Week1's Python Notebook</b> (this notebook)</font>\n",
        "\n",
        "This notebook itself offers examples and guidance for diving in to computing with Python and communicating with notebooks and markdown.\n",
        "\n",
        "This assignment, solo or in a team of 2-3, asks you to\n",
        "+ work through the examples,\n",
        "+ trying out examples as they arise\n",
        "+ answering questions that are interspersed\n",
        "+ writing new cells, markdown or Python, as the challenges arise\n",
        "\n",
        "Specifically, there are several waypoints in this notebook:\n",
        "1. when you complete an \"introduction\" markdown cell, about yourself\n",
        "2. when you have tried out and generated new data of various types\n",
        "3. when you have worked on the \"Four fours\" problem (finding all but 4!)\n",
        "4. when you've run and analyzed the first (very unfair) rock-paper-scissors example\n",
        "5. when you've created a fair - and complete - RPS example\n",
        "6. and, when you've authored a choose-your-own-adventure interactive fiction, using a number of different control structures to navigate various story-threads..., and\n",
        "7. reading an article about how language can influence thought -- and then reflecting on how you've \"bumped into the boundaries\" of language!  \n",
        "\n",
        "\n"
      ]
    },
    {
      "cell_type": "markdown",
      "metadata": {
        "id": "M7dzL4m4fPYf"
      },
      "source": [
        "# Make your own <u>copy</u> of this notebook\n",
        "\n",
        "### Do this now...   &nbsp;&nbsp; _Troubles? Let me know._\n",
        "\n",
        "<br>\n",
        "\n",
        "With the starter notebook, you'll be able to read the content.\n",
        "When signed in with Google, you'll be able to run it.\n",
        "But you won't be able to _edit_ until you have your own copy.\n",
        "\n",
        "So, to get started, make your own copy of this notebook:\n",
        "+ it will be stored in your space in Google Drive\n",
        "+ you'll need to use Google credentials to make a copy and run cells\n",
        "+ from there, you can edit, answer, and compose\n",
        "\n",
        "<br>\n",
        "\n",
        "### Submitting\n",
        "\n",
        "When you're ready to submit, be sure to\n",
        "+ **share** your new copied-and-edited notebook with me:\n",
        "   + `zdodds@gmail.com`\n",
        "+ and **submit** the url to your new copied-and-edited notebook at the appropriate spot on Canvas"
      ]
    },
    {
      "cell_type": "markdown",
      "metadata": {
        "id": "SqlZ-RCK6jJV"
      },
      "source": [
        "# Markdown cells"
      ]
    },
    {
      "cell_type": "markdown",
      "metadata": {
        "id": "0e0JxCVbJY3C"
      },
      "source": [
        "### Your task\n",
        "\n",
        "The next few cells show a few example introductions...\n",
        "\n",
        "__Your task__ is to create a new markdown cell that answers the same questions as these...\n",
        "\n",
        "If you're working in a team, create one for each person."
      ]
    },
    {
      "cell_type": "markdown",
      "metadata": {
        "id": "bvOcPiH26gpY"
      },
      "source": [
        "### <font color=\"DodgerBlue\"><b>Introduction: Zach</b></font>\n",
        "+ _Name_:  Zach Dodds\n",
        "+ _School_:  Harvey Mudd -- plus, CGU!\n",
        "+ _Two favorite things_:  \n",
        "   + My favorite beverage is __coffee__ and\n",
        "   + one of my many favorite snacks are __poptarts__\n",
        "+ _Two least-favorite things_:   \n",
        "   + My least-favorite coffee is __decaf__ and\n",
        "   + my least-favorite poptarts-flavor is <b>[ranch dressing](https://www.kztv10.com/hidden-valley-ranch-flavored-pop-tarts-box-viral/)</b> [Not a real thing!]\n",
        "+ _Links to 4-6 things_ I find interesting/fun/inspiring/informative etc:\n",
        "   + The first chat bot that can actually chat:   [ChatGPT](https://openai.com/blog/chatgpt/)  &nbsp;  (Yay!)\n",
        "   + The long-running [Tiobe Index page](https://www.tiobe.com/tiobe-index/) &nbsp; (I tend to check this once a month... :-)\n",
        "   + An animation of a white blood cell squeezing through a blood vessel:  [The Inner Life of the Cell](https://xvivo.com/examples/the-inner-life-of-the-cell/) <br> <!-- To me, this is the \"Star Trek\" of Biology... -->  <font size=\"-2\">Here is Veritasium's less dramatic and more understandable version: [Body's Molecular Machines](https://www.youtube.com/watch?v=X_tYrnv_o6A)</font>\n",
        "   + The [color-names page where I found DodgerBlue](https://www.w3schools.com/colors/colors_names.asp)!\n",
        "   + The [Markdown Reference I used](https://www.markdownguide.org/basic-syntax/)\n",
        "   + A [page with my picture - admittedly, from a while ago!](https://www.hmc.edu/about/news/experts/zachary-dodds/)\n",
        "\n",
        "<br>"
      ]
    },
    {
      "cell_type": "markdown",
      "metadata": {
        "id": "QNwjzF1czSez"
      },
      "source": [
        "### <font color=\"darkgold\"><b>Introduction: the Three-Eyed Alien</b></font>\n",
        "\n",
        "+ _Name_:  Three-eyed alien\n",
        "+ _School_:  HMC, CGU, happy anywhere in Claremont or the known universe!\n",
        "+ _Two favorite things_:  \n",
        "   + My favorite number is __42__\n",
        "   + My favorite number-of-eyes is __3__\n",
        "+ _Two least-favorite things_:   \n",
        "   + Really dislike __lack of space__\n",
        "   + and __slower-than-light travel__\n",
        "+ _Links to 4-6 things_ that are interesting/fun/inspiring/informative etc:\n",
        "   + [Cousins at Disney](https://toystory.disney.com/aliens) &nbsp; but real aliens are 2d, not 3d!\n",
        "   + Favorite site for [hats](https://www.etsy.com/market/magenta_wool_hat) &nbsp;\n",
        "   + Skiing about 60 miles from Claremont: &nbsp; [Bear Mountain](https://www.bigbearmountainresort.com/)  \n",
        "   + [Fish n Chips poptarts!](https://www.pinterest.com/pin/486670303483830609/) &nbsp; Not sold to humans, I'm afraid...\n",
        "   + a [page with other three-eyed alien pictures - from Etsy!](https://www.etsy.com/ca/market/three_eyed_alien)\n"
      ]
    },
    {
      "cell_type": "markdown",
      "metadata": {
        "id": "axrlZzixXIV1"
      },
      "source": [
        "### <font color=\"FireBrick\"><b>Introduction: You!</b></font>\n",
        "\n",
        "+ _Name_:  Komi Adomayakpor\n",
        "+ _School_:  \n",
        "  + California Graduate University\n",
        "+ _Two favorite things_:  \n",
        "  + Classic Music\n",
        "  + Puzzle\n",
        "+ _Two least-favorite things_: Go shopping, Long flights   \n",
        "+ _Links to 4-6 things_ that are interesting/fun/inspiring/etc:\n",
        "   + [Chess](https://lichess.org/)\n",
        "   + [Reeborg's World](https://reeborg.ca/index_en.html)\n",
        "   + [Replit](https://replit.com/~)\n",
        "   + [Major Payne Movie]() Sorry I don't have a link for this one. You can find it on [Amazon](https://www.amazon.com/ref=nav_logo) or [Youtube](https://www.youtube.com/) 😆🚀\n",
        "   + Gifs are always better than Pictures.\n",
        "   ![Gifs](https://media3.giphy.com/media/v1.Y2lkPTc5MGI3NjExMnlwdmQwcHN0OGFpMzZwajlmbzFobXc2Y2RvMXpjbDY2eDNzYXh0OSZlcD12MV9pbnRlcm5hbF9naWZfYnlfaWQmY3Q9Zw/LqafmeaBVxCRG/giphy.gif)\n",
        "   + Monopoly<br>\n",
        "   ![Monopoly](https://media3.giphy.com/media/v1.Y2lkPTc5MGI3NjExbnBwcXhvYzJxNDNubGRjeGJyM25wczd4NDI1MzIzeXZ0dHB3eTJiciZlcD12MV9pbnRlcm5hbF9naWZfYnlfaWQmY3Q9Zw/UKAtmV5DUmnT0LjZhG/giphy.gif)\n",
        "   + if you're able, link to a page with your picture, too!"
      ]
    },
    {
      "cell_type": "markdown",
      "metadata": {
        "id": "YReRJVZLXUG0"
      },
      "source": [
        "### <font color=\"Indigo\"><b>Introduction: You, two!  (if a team of two)</b></font>\n",
        "\n",
        "+ _Name_:  \n",
        "+ _School_:  \n",
        "+ _Two favorite things_:  \n",
        "+ _Two least-favorite things_:   \n",
        "+ _Links to 4-6 things_ that are interesting/fun/inspiring/etc:\n",
        "   + One...\n",
        "   + Two...\n",
        "   + and so on...\n",
        "   + if you're able, link to a page with your picture, too!\n"
      ]
    },
    {
      "cell_type": "markdown",
      "metadata": {
        "id": "IHspQgMgdkbg"
      },
      "source": [
        "# Code cells"
      ]
    },
    {
      "cell_type": "markdown",
      "metadata": {
        "id": "meZNmZg4CpfP"
      },
      "source": [
        "### <font color=\"darkblue\"><b>Code cells: &nbsp; <i>Executable</i> expression</b></font>\n",
        "\n",
        "The next section of this notebook demonstrates several *code cells* and invites you to try - and build - several of your own.\n",
        "\n",
        "This next cell holds a short, scripted conversation. Try it:\n",
        "\n",
        "(ChatGPT, it is not!)\n"
      ]
    },
    {
      "cell_type": "code",
      "execution_count": 2,
      "metadata": {
        "colab": {
          "base_uri": "https://localhost:8080/"
        },
        "id": "PX16cW1aLQq1",
        "outputId": "79c55856-388b-4ee4-e0ba-21bb7abbe2d0"
      },
      "outputs": [
        {
          "name": "stdout",
          "output_type": "stream",
          "text": [
            "Welcome, Komi\n",
            "\n",
            "My favorite number is 42, naturally.\n",
            "\n",
            "Nice! 12 is solid. And very numeric!\n",
            "Plus, it's close to the best number, 42.\n"
          ]
        }
      ],
      "source": [
        "# This is a code cell.\n",
        "# To run it, click play at left or type ctrl-enter (cmd-enter)\n",
        "\n",
        "\n",
        "answer = input(\"What is your name? \")\n",
        "print(\"Welcome,\", answer)\n",
        "print()\n",
        "\n",
        "print(\"My favorite number is 42, naturally.\")\n",
        "fav_num = input(\"What is your favorite number? \")\n",
        "print()\n",
        "\n",
        "print(\"Nice!\", fav_num, \"is solid. And very numeric!\")\n",
        "print(\"Plus, it's close to the best number, 42.\")"
      ]
    },
    {
      "cell_type": "code",
      "execution_count": null,
      "metadata": {
        "id": "fbMnn9Xqq3Y4"
      },
      "outputs": [],
      "source": []
    },
    {
      "cell_type": "markdown",
      "metadata": {
        "id": "yzbg8tydDRFF"
      },
      "source": [
        "### <font color=\"darkblue\"><b>Variables and <i>values</i></b></font>\n",
        "\n",
        "The above cell, when run, interacts with a user. Notice!\n",
        "+ The <tt>input</tt> function pauses for user input.\n",
        "+ The <tt>answer</tt> variable \"catches\" the user's input.\n",
        "+ The <tt>print</tt> function, well, prints things!\n",
        "+ The single-equals-sign <tt>=</tt> is <u>assignment</u>\n",
        "   + it's <u><i>assigning</i></u> the left-side <i>variable</i> to be a name for the right-side <i>value</i>\n",
        "   + thus, the variable <tt>answer</tt> is a name for the user's input (what the user typed)\n",
        "   + and, the variable <tt>fav_num</tt> is a name for the next user input (what the user typed)\n"
      ]
    },
    {
      "cell_type": "markdown",
      "metadata": {
        "id": "D9PhlqFUbqkL"
      },
      "source": [
        "### <font color=\"darkblue\"><b><i>Variables</i> vs. <i>values</i></b></font>\n",
        "\n",
        "This is an important distinction: <i>variables</i> vs. <i>values</i>:\n",
        "+ Variables give names to values. For example,\n",
        "+ The <tt>answer</tt> variable gives the name <tt>answer</tt> to the user's first input.\n",
        "+ The <tt>fav_num</tt> variable gives the name <tt>fav_num</tt> to the user's second input.\n",
        "\n",
        "In the next cell, notice that <tt>fav_num</tt> continues to hold the user-input value:"
      ]
    },
    {
      "cell_type": "code",
      "execution_count": 3,
      "metadata": {
        "colab": {
          "base_uri": "https://localhost:8080/"
        },
        "id": "zfjuDVZSE6kd",
        "outputId": "dc2b07ab-d69a-40b3-c9f3-36ee87d5f71e"
      },
      "outputs": [
        {
          "name": "stdout",
          "output_type": "stream",
          "text": [
            "fav_num is 12\n"
          ]
        }
      ],
      "source": [
        "print(\"fav_num is\", fav_num)"
      ]
    },
    {
      "cell_type": "markdown",
      "metadata": {
        "id": "tfSroVG_BGlD"
      },
      "source": [
        "### <font color=\"darkblue\"><b><i>Short AI Challenge</i></b></font>\n",
        "+ <tt>fav_num</tt> is a <i>string</i> not an <i>integer</i>\n",
        "+ that is, <tt>fav_num</tt> is a sequence of characters, not a numeric value\n",
        "\n",
        "<b><font color=\"Cinnamon\">Challenge</font></b>: Use AI to print the number that's one BIGGER than <tt>fav_num</tt>. That is, <tt>fav_num+1</tt>\n",
        "+ This is tricky, because we need to create an integer in order to add 1\n",
        "+ See if you can work with AI to make this work!\n",
        "+ Be sure what you're printing uses <tt>fav_num</tt>\n",
        "+ That way, it will work <i>no matter the value</i> that <tt>fav_num</tt> has!"
      ]
    },
    {
      "cell_type": "code",
      "execution_count": 4,
      "metadata": {
        "colab": {
          "base_uri": "https://localhost:8080/"
        },
        "id": "H4jGTuxEAhN-",
        "outputId": "cba9563a-be82-41cd-b152-760202adaa3c"
      },
      "outputs": [
        {
          "name": "stdout",
          "output_type": "stream",
          "text": [
            "13\n"
          ]
        }
      ],
      "source": [
        "# prompt: convert the input stored in fav_num into an integer, add 1 to that number, and print it.\n",
        "\n",
        "# Convert fav_num to an integer and add 1\n",
        "try:\n",
        "  fav_num_int = int(fav_num)\n",
        "  print(fav_num_int + 1)\n",
        "except ValueError:\n",
        "  print(\"Invalid input. Please enter a valid integer for your favorite number.\")\n"
      ]
    },
    {
      "cell_type": "markdown",
      "metadata": {
        "id": "yKgcC7vqR_V7"
      },
      "source": [
        "### <font color=\"darkblue\"><b><i>Operators</i> and <i>Composition</i></b></font>\n",
        "\n",
        "CS usually means _Computer Science_\n",
        "\n",
        "However, CS is more accurately thought of as _Compositional Science_:\n",
        "+ Software/programs are collections of small behaviors, carefully composed together  \n",
        "+ Computers themselves are simply large compositions of smaller machines, each of which contributes to the whole\n",
        "\n",
        "The conceptual effort of CS is predominantly creating _compositions_\n",
        "+ Determining the pieces needed for the task at hand, then\n",
        "+ Assembling those pieces into the overall system desired\n",
        "\n",
        "<br>\n",
        "\n",
        "If CS is _Compositional Science_, let's dive in!\n",
        "\n",
        "We'll use the Four fours challenge.\n",
        "\n",
        "First, try out some example ___computations___:"
      ]
    },
    {
      "cell_type": "code",
      "execution_count": 5,
      "metadata": {
        "colab": {
          "base_uri": "https://localhost:8080/"
        },
        "id": "Bxj7vIZFYio3",
        "outputId": "a396a171-e43c-48db-9ab6-813f328a92f4"
      },
      "outputs": [
        {
          "data": {
            "text/plain": [
              "42"
            ]
          },
          "execution_count": 5,
          "metadata": {},
          "output_type": "execute_result"
        }
      ],
      "source": [
        "# This is a code-cell, which should be runnable with the arrow,\n",
        "# also with (control-enter) or (command-return)\n",
        "\n",
        "35 + 7"
      ]
    },
    {
      "cell_type": "code",
      "execution_count": 6,
      "metadata": {
        "colab": {
          "base_uri": "https://localhost:8080/"
        },
        "id": "MSbR9gE5Ym-W",
        "outputId": "5309312d-c735-4737-d153-18ee7592241e"
      },
      "outputs": [
        {
          "data": {
            "text/plain": [
              "10000000000000000000000000000000000000000000000000000000000000000000000000000000000000000000000000000"
            ]
          },
          "execution_count": 6,
          "metadata": {},
          "output_type": "execute_result"
        }
      ],
      "source": [
        "# Try running this cell to compute a googol\n",
        "# This is the number after which Google was named!\n",
        "\n",
        "10**100   # ** is power operator"
      ]
    },
    {
      "cell_type": "code",
      "execution_count": 7,
      "metadata": {
        "colab": {
          "base_uri": "https://localhost:8080/"
        },
        "id": "_5uXKX2KYyjk",
        "outputId": "3d5646e9-4862-47d8-d634-e4eb611f0d1b"
      },
      "outputs": [
        {
          "data": {
            "text/plain": [
              "2.0"
            ]
          },
          "execution_count": 7,
          "metadata": {},
          "output_type": "execute_result"
        }
      ],
      "source": [
        "# This cell imports the math library and then runs a function from it.\n",
        "# (The square root of 4 is 2, as you'll see :-)\n",
        "\n",
        "from math import *    # imports the sqrt function and others\n",
        "sqrt(4)"
      ]
    },
    {
      "cell_type": "code",
      "execution_count": 8,
      "metadata": {
        "colab": {
          "base_uri": "https://localhost:8080/"
        },
        "id": "L6vcRkZWY1aL",
        "outputId": "284bc038-dda3-4885-9531-6f5f5315fed4"
      },
      "outputs": [
        {
          "data": {
            "text/plain": [
              "3628800"
            ]
          },
          "execution_count": 8,
          "metadata": {},
          "output_type": "execute_result"
        }
      ],
      "source": [
        "# Here is an example of the \"factorial\" function. factorial(4) is 1*2*3*4, which is 24\n",
        "\n",
        "factorial(10)     # also imported from the math library"
      ]
    },
    {
      "cell_type": "code",
      "execution_count": 9,
      "metadata": {
        "colab": {
          "base_uri": "https://localhost:8080/"
        },
        "id": "6pcaQF7xRKTD",
        "outputId": "96c9e2c9-1da3-4f8d-f5c7-507c7a7ad39f"
      },
      "outputs": [
        {
          "data": {
            "text/plain": [
              "3628800"
            ]
          },
          "execution_count": 9,
          "metadata": {},
          "output_type": "execute_result"
        }
      ],
      "source": [
        "1*2*3*4*5*6*7*8*9*10"
      ]
    },
    {
      "cell_type": "code",
      "execution_count": 10,
      "metadata": {
        "colab": {
          "base_uri": "https://localhost:8080/"
        },
        "id": "mVQwZMOyZel9",
        "outputId": "ef78566b-a12b-45e8-81cc-d5151e61abe2"
      },
      "outputs": [
        {
          "name": "stdout",
          "output_type": "stream",
          "text": [
            "Zero is 0\n",
            "One is 1\n",
            "Two is 1.0\n"
          ]
        }
      ],
      "source": [
        "# This cell shows how printing works. Try it!\n",
        "# It should print:   Zero is 0\n",
        "#             and:   One is 1       actually, 1.0, This is ok!\n",
        "#\n",
        "# Notice that this sets you up for the Four fours challenge!\n",
        "\n",
        "print(\"Zero is\", 4+4-4-4)\n",
        "print(\"One is\", 1)                 # Uh oh! No non-fours allowed!!\n",
        "print(\"Two is\", (4/4) * (4/4)  )   # Uh oh! This is incorrect... temporarily\n",
        "\n",
        "\n",
        "\n"
      ]
    },
    {
      "cell_type": "code",
      "execution_count": 11,
      "metadata": {
        "colab": {
          "base_uri": "https://localhost:8080/"
        },
        "id": "qpBNpg3iT6WJ",
        "outputId": "9f295b5a-96f9-4546-ef83-575f117867b6"
      },
      "outputs": [
        {
          "data": {
            "text/plain": [
              "18.0"
            ]
          },
          "execution_count": 11,
          "metadata": {},
          "output_type": "execute_result"
        }
      ],
      "source": [
        "-4 + sqrt(4) + factorial(4) - 4"
      ]
    },
    {
      "cell_type": "markdown",
      "metadata": {
        "id": "n8v3V2pNaMY0"
      },
      "source": [
        "### <font color=\"darkblue\"><b><i>Challenge</i>: Four fours</b></font>\n",
        "\n",
        "+ The challenge: add several more lines similar to the above line to compute values from `0` to `24`\n",
        "  + you should compute at least 21 of these 25 values (from 0 through 24) using exactly four fours -- and no other numbers).\n",
        "  + why only 21 of the 25 possibilities? So that you can skip <u>four</u>, if they give you trouble!\n",
        "  \n",
        "<br>\n",
        "\n",
        "+ You may use any of Python's arithmetic operations:\n",
        "  + `-`    subtraction or negation\n",
        "  + `*`    multiplication\n",
        "  + `/`    division\n",
        "  + `(   )`    parentheses for grouping\n",
        "  + `**`    power\n",
        "\n",
        "<br>\n",
        "\n",
        "#### hints and notes:\n",
        "+ Results with decimals: 1.0, 2.0, etc. are totally OK!\n",
        "+ You may also use 44 or 4.4, each of which count as two fours,\n",
        "+ or .4, which counts as one four.\n",
        "+ or, `sqrt`, for example `math.sqrt(4)` (or others, from the `math` library\n",
        "+ or, `factorial`, for example `math.factorial(4)` (or others).\n",
        "\n",
        "#### desired results:\n",
        "Here are what the results, but not the source code, will look like.\n",
        "Remember you need only 21 of them!\n",
        "\n",
        "<code><pre>\n",
        "Zero is 0\n",
        "One is 1\n",
        "Two is 2\n",
        "Three is 3\n",
        "Four is 4\n",
        "Five is 5\n",
        "Six is 6\n",
        "Seven is 7\n",
        "Eight is 8\n",
        "Nine is 9\n",
        "Ten is 10\n",
        "Eleven is 11\n",
        "Twelve is 12\n",
        "Thirteen is 13\n",
        "Fourteen is 14\n",
        "Fifteen is 15\n",
        "Sixteen is 16\n",
        "Seventeen is 17\n",
        "Eighteen is 18\n",
        "Nineteen is 19\n",
        "Twenty is 20\n",
        "Twenty-one is 21\n",
        "Twenty-two is 22\n",
        "Twenty-three is 23\n",
        "Twenty-four is 24\n",
        "Twenty-five is 25\n",
        "</pre></code>\n",
        "\n",
        "\n",
        "\n",
        "\n",
        "\n",
        "\n"
      ]
    },
    {
      "cell_type": "markdown",
      "metadata": {
        "id": "iRS2xfeAEeOR"
      },
      "source": [
        "### <font color=\"darkblue\"><b>Use AI!</b></font>\n",
        "\n",
        "You're encouraged to use AI to help you...\n",
        "\n",
        "Remember -- AI can be helpful, and AI can be misleading.\n",
        "\n",
        "The skill of our era:\n",
        "+ <b><i>keep AI's help</i></b>\n",
        "+ skip what's unhelpful\n",
        "+ practice <i><u>describing</u></i> that difference...\n",
        "  + to yourself...\n",
        "  + to others..."
      ]
    },
    {
      "cell_type": "code",
      "execution_count": 12,
      "metadata": {
        "colab": {
          "base_uri": "https://localhost:8080/"
        },
        "id": "bKNTfuQjFQiT",
        "outputId": "1f66ee5d-9683-45db-92d1-d0b66783cbf7"
      },
      "outputs": [
        {
          "name": "stdout",
          "output_type": "stream",
          "text": [
            "Zero is 0\n",
            "One is 1.0\n",
            "Two is 2.0\n",
            "Three is 3.0\n",
            "Four is 4\n",
            "Five is 5.0\n",
            "Six is 6.0\n",
            "Seven is 7.0\n",
            "Eight is 8\n",
            "Nine is 9.0\n",
            "Ten is 10.0\n",
            "Eleven is 11.0\n",
            "Twelve is 12.0\n",
            "Thirteen is 13.0\n",
            "Fourteen is 14.0\n",
            "Fifteen is 15.0\n",
            "Sixteen is 16\n",
            "Seventeen is 17.0\n",
            "Eighteen is 18.0\n",
            "Nineteen is 19.0\n",
            "Twenty is 20\n",
            "Twenty-one is 21.0\n",
            "Twenty-two is 22.0\n",
            "Twenty-three is 23.0\n",
            "Twenty-four is 24\n"
          ]
        }
      ],
      "source": [
        "# prompt: Only using a combination of 4 fours and available operators for math in python\n",
        "# Print the number 0 to 24\n",
        "# You can skip four results if it gives trouble.\n",
        "# Double-check the results for accuracy. e.g: 0 operation should give 0, 1 should give 1\n",
        "# with operation ((4/4)*(4/4)) and so forth.\n",
        "#      4:  should be \"4 + (4 - 4)*4\",\n",
        "#      5:  \"(4*4 + 4) / 4\",\n",
        "#     6:  \"((4 + 4)/4) + 4\",\n",
        "#     7:  \"(4 + 4) - (4/4)\",\n",
        "#     8:  \"4 + 4 + 4 - 4\",\n",
        "#     9:  \"4 + 4 + (4/4)\",\n",
        "#     10: \"(44 - 4) / 4\",               # 44 counts as two ‘4’s\n",
        "#     11: \"(44 / 4) * (4**0)\",          # Ensures exactly four '4's total\n",
        "#     12: \"(4 - 4/4) * 4\",\n",
        "#     13: \"(math.factorial(4) / math.sqrt(4)) + (4/4)\",\n",
        "#     14: \"((4 / .4) + 4) * (4**0)\",\n",
        "#     15: \"(4*4) - (4/4)\",\n",
        "#     16: \"4 + 4 + 4 + 4\",\n",
        "#     17: \"((4**2) + (4/4)) * (4**0)\",\n",
        "#     18: \"((4**2) + math.sqrt(4)) * (4**0)\",\n",
        "#     19: \"math.factorial(4) - (4 + (4/4))\",          # 24 - (4+1)=19\n",
        "#     20: \"(math.factorial(4) - 4) + (4 - 4)\",        # 24 -4=20 plus 0\n",
        "#     21: \"math.factorial(4) - (4 - (4/4))\",          # 24 - (4-1)=21\n",
        "#     22: \"(math.factorial(4) - math.sqrt(4)) + (4-4)\",  # 24-2=22 plus 0\n",
        "#     23: \"math.factorial(4) - ((4/4) * (4**0))\",     # 24 - (1*1)=23\n",
        "#     24: \"math.factorial(4) + ((4-4) * (4**0))\"\n",
        "\n",
        "from math import *\n",
        "\n",
        "print(\"Zero is\", (4 - 4) * (4 - 4))\n",
        "print(\"One is\", (4 / 4) * (4 / 4))\n",
        "print(\"Two is\", (4 / 4) + (4 / 4))\n",
        "print(\"Three is\", (4 + 4 + 4) / 4)\n",
        "print(\"Four is\", 4 + (4 - 4) * 4)\n",
        "print(\"Five is\", (4 * 4 + 4) / 4)\n",
        "print(\"Six is\", ((4 + 4) / 4) + 4)\n",
        "print(\"Seven is\", (4 + 4) - (4 / 4))\n",
        "print(\"Eight is\", 4 + 4 + 4 - 4)\n",
        "print(\"Nine is\", 4 + 4 + (4 / 4))\n",
        "print(\"Ten is\", (44 - 4) / 4)\n",
        "print(\"Eleven is\", (44 / 4) * (4**0))\n",
        "print(\"Twelve is\", (4 - 4/4) * 4)\n",
        "print(\"Thirteen is\", (factorial(4) / sqrt(4)) + (4/4))\n",
        "print(\"Fourteen is\", ((4 / .4) + 4) * (4**0))\n",
        "print(\"Fifteen is\", (4*4) - (4/4))\n",
        "print(\"Sixteen is\", 4 + 4 + 4 + 4)\n",
        "print(\"Seventeen is\", ((4**2) + (4/4)) * (4**0))\n",
        "print(\"Eighteen is\", ((4**2) + sqrt(4)) * (4**0))\n",
        "print(\"Nineteen is\", factorial(4) - (4 + (4/4)))\n",
        "print(\"Twenty is\", (factorial(4) - 4) + (4 - 4))\n",
        "print(\"Twenty-one is\", factorial(4) - (4 - (4/4)))\n",
        "print(\"Twenty-two is\", (factorial(4) - sqrt(4)) + (4-4))\n",
        "print(\"Twenty-three is\", factorial(4) - ((4/4) * (4**0)))\n",
        "print(\"Twenty-four is\", factorial(4) + ((4-4) * (4**0)))\n"
      ]
    },
    {
      "cell_type": "code",
      "execution_count": 13,
      "metadata": {
        "cellView": "code",
        "colab": {
          "base_uri": "https://localhost:8080/"
        },
        "id": "sKyO0_HEaXXs",
        "outputId": "87506e06-d7d8-4d48-c284-5cd51c84715b"
      },
      "outputs": [
        {
          "name": "stdout",
          "output_type": "stream",
          "text": [
            "Zero is 0\n",
            "One is 1.0\n"
          ]
        }
      ],
      "source": [
        "#\n",
        "#  Here is a space for your explorations and solutions\n",
        "#       to the Four fours challenge.\n",
        "#\n",
        "# This will get you started.\n",
        "\n",
        "import math\n",
        "\n",
        "print(\"Zero is\", 4+4-4-4)\n",
        "print(\"One is\", (4/4)*(4/4))  # yay!  exactly four fours - and no other digits\n",
        "\n"
      ]
    },
    {
      "cell_type": "markdown",
      "metadata": {
        "id": "3AJ4cFJsMAMs"
      },
      "source": [
        "### <font color=\"darkblue\"><b>Data</b></font>\n",
        "\n",
        "The Four fours challenge uses _only_ numeric data, stereotypical of computing.\n",
        "\n",
        "In general, however, data can be numeric or sequential.\n",
        "\n",
        "Here are the two most important examples of each:\n",
        "+ <tt>46</tt>, <tt>42</tt>, <tt>-40</tt>, <tt>0</tt>, and <tt>1000000000000</tt> are <i>integers</i>. Integers are a _numeric_ type.\n",
        "   + in Python they are of type <font color=\"darkred\"><b><tt>int</tt></b></font>\n",
        "+ <tt>3.14</tt>, <tt>46.0</tt>, <tt>-.001</tt> are <i>floating-point</i> values: numeric with a fractional part - even if that fractional part is zero.\n",
        "   + in Python these are of type <font color=\"darkred\"><b><tt>float</tt></b></font>\n",
        "+ <tt>\"claremont\"</tt>, <tt>'Python'</tt>, and <tt>\"ATG\"</tt> are <i>strings</i>. They are sequences of characters. Single-quotes <tt>'like this'</tt> and double-quotes <tt>\"like this\"</tt> are both ok and both equivalent.\n",
        "   + strings in Python are of type <font color=\"darkred\"><b><tt>str</tt></b></font>\n",
        "+ <tt>[4,6]</tt>, <tt>[4,5,6]</tt>, <tt>[ \"scripps\", \"pitzer\", \"cgu\" ]</tt>, and <tt>[ [7,\"scripps\"], [6,\"pitzer\"], [3,\"cgu\"] ]</tt> are <i>lists</i>, sequences of anything at all...\n",
        "   + in Python they are of type <font color=\"darkred\"><b><tt>list</tt></b></font>\n",
        "\n",
        "The next cell provides working examples.\n",
        "\n",
        "The following cell asks you to create one of each -- with your own context added. :-)"
      ]
    },
    {
      "cell_type": "code",
      "execution_count": 14,
      "metadata": {
        "colab": {
          "base_uri": "https://localhost:8080/"
        },
        "id": "q1maiptdOM7E",
        "outputId": "95271841-5d6e-4e87-ccf0-49ff9179576c"
      },
      "outputs": [
        {
          "name": "stdout",
          "output_type": "stream",
          "text": [
            "Our examples:\n",
            "\n",
            "fav_num is 46 \n",
            "  type(fav_num) is <class 'int'>\n",
            "\n",
            "pi is 3.14 \n",
            "  type(pi) is <class 'float'>\n",
            "\n",
            "inator_creator is Dr. Heinz Doofenshmirtz \n",
            "  type(inator_creator) is <class 'str'>\n",
            "\n",
            "L is ['jan', 31, 'feb', 28, 'mar', 31] \n",
            "  type(L) is <class 'list'>\n",
            "\n"
          ]
        }
      ],
      "source": [
        "#\n",
        "# examples of the most important four types of data\n",
        "#   Numeric:     int, float\n",
        "#   Sequential:  str, list\n",
        "#\n",
        "\n",
        "print(\"Our examples:\")\n",
        "print()\n",
        "\n",
        "fav_num = 46      # an int\n",
        "pi = 3.14         # a float\n",
        "\n",
        "inator_creator = 'Dr. Heinz Doofenshmirtz'  # a string\n",
        "L = [\"jan\", 31, \"feb\", 28, \"mar\", 31]       # a list, of ints and strings\n",
        "\n",
        "#\n",
        "# now, let's print them -- and print their types:\n",
        "#\n",
        "print(\"fav_num is\", fav_num, \"\\n  type(fav_num) is\", type(fav_num))\n",
        "print()  # prints a blank line, \"\\n\" is another way to go to a newline\n",
        "\n",
        "print(\"pi is\", pi, \"\\n  type(pi) is\", type(pi))\n",
        "print()\n",
        "\n",
        "print(\"inator_creator is\", inator_creator, \"\\n  type(inator_creator) is\", type(inator_creator))\n",
        "print()\n",
        "\n",
        "print(\"L is\", L, \"\\n  type(L) is\", type(L))\n",
        "print()\n",
        "\n",
        "\n",
        "#\n",
        "# You'll notice that Python uses <class 'int'> instead of int, and so on...\n",
        "# No worries!\n",
        "#"
      ]
    },
    {
      "cell_type": "code",
      "execution_count": 15,
      "metadata": {
        "colab": {
          "base_uri": "https://localhost:8080/"
        },
        "id": "ZZ4wnCP5bx5u",
        "outputId": "5fdf565f-dc1d-42aa-99f7-bbdbc0e6e835"
      },
      "outputs": [
        {
          "name": "stdout",
          "output_type": "stream",
          "text": [
            "Your examples:\n",
            "23\n",
            "32.123\n",
            "Smith\n",
            "[1.13, 'will', 23]\n"
          ]
        }
      ],
      "source": [
        "#\n",
        "# Here, create at least one example of int, float, str, and list data\n",
        "#\n",
        "#     + Feel free to copy-and-paste-then-edit from the above cell\n",
        "#\n",
        "#     + The objective is to try out variables, assignment, and printing\n",
        "#     + with your own names, data, etc.\n",
        "#\n",
        "#     + Try it out...  Creativity is the goal...\n",
        "#\n",
        "#     + Errors?  Ask us - or whoever's next to you... :-)\n",
        "#\n",
        "#\n",
        "\n",
        "print(\"Your examples:\")\n",
        "\n",
        "# int\n",
        "a = 23\n",
        "print(a)\n",
        "\n",
        "#float\n",
        "b = 32.123\n",
        "print(b)\n",
        "\n",
        "#str\n",
        "name = \"Smith\"\n",
        "print(name)\n",
        "\n",
        "#list\n",
        "list1 =[1.13 , \"will\", 23]\n",
        "print(list1)\n",
        "\n",
        "\n"
      ]
    },
    {
      "cell_type": "markdown",
      "metadata": {
        "id": "ffp0PnOAFEid"
      },
      "source": [
        "### <font color=\"darkblue\"><b>A notebook's cells are global...</b></font>\n",
        "\n",
        "All notebook cells <u>share</u> a set of variables and their values!\n",
        "+ These are called <tt>global</tt> variables and values.\n",
        "+ These global variables and values are really convenient for exploration\n",
        "   + We can just keep exploring, cell-by-cell.\n",
        "+ It runs into trouble, however, when variable names get re-used (<i>Aargh!</i>)\n",
        "   + Re-use of a variable is called <i><b>clobbering</b></i>\n",
        "\n",
        "Let's clobber <tt>fav_num</tt> here:\n"
      ]
    },
    {
      "cell_type": "code",
      "execution_count": 16,
      "metadata": {
        "colab": {
          "base_uri": "https://localhost:8080/"
        },
        "id": "w2TFwHq1IIuR",
        "outputId": "55ff88fb-2a65-4fb4-9e6c-ccda1de193cd"
      },
      "outputs": [
        {
          "name": "stdout",
          "output_type": "stream",
          "text": [
            "fav_num before is 46\n",
            "fav_num after is 1925\n"
          ]
        }
      ],
      "source": [
        "#\n",
        "# example of clobbering fav_num\n",
        "#\n",
        "\n",
        "print(\"fav_num before is\", fav_num)\n",
        "\n",
        "fav_num = 1925            # Founded it!  (This was CGU's founding year.)\n",
        "\n",
        "print(\"fav_num after is\", fav_num)\n"
      ]
    },
    {
      "cell_type": "code",
      "execution_count": 17,
      "metadata": {
        "id": "Li_RTYycImxB"
      },
      "outputs": [],
      "source": [
        "#\n",
        "# Thought experiment:\n",
        "#   What do you think happens if you re-run the above cell?!\n",
        "#   Try it out... No need to answer the question beyond trying it! :-)\n",
        "#\n"
      ]
    },
    {
      "cell_type": "markdown",
      "metadata": {
        "id": "5s912UI0uUIQ"
      },
      "source": [
        "# <font color=\"darkblue\"><b>Conditionals</b></font>\n",
        "\n",
        "### Conditionals are <i>Code Paths</i>\n",
        "\n",
        "In Python, all decisions are made through three keywords:\n",
        "+ <tt>if</tt>, <tt>elif</tt>, and <tt>else</tt>  \n",
        "+ These allow you to make decisions based on the value of data\n",
        "+ And those decisions can direct code to take different actions.\n",
        "\n",
        "These control structures are called ***conditionals***\n",
        "\n",
        "As an example of a conditional control structure, try the following cell.\n",
        "\n",
        "It plays a very unfair (and impolite) version of rock-paper-scissors:"
      ]
    },
    {
      "cell_type": "code",
      "execution_count": 18,
      "metadata": {
        "colab": {
          "base_uri": "https://localhost:8080/"
        },
        "id": "wcPI5RwlYXxv",
        "outputId": "827596a8-e9c4-410a-a377-638d14d4b48c"
      },
      "outputs": [
        {
          "name": "stdout",
          "output_type": "stream",
          "text": [
            "You win. Aargh!\n"
          ]
        }
      ],
      "source": [
        "comp = \"rock\"\n",
        "user = \"paper\"\n",
        "\n",
        "if comp == 'paper' and user == 'paper':\n",
        "    print('We tie. Try again?')\n",
        "\n",
        "elif comp == 'rock':\n",
        "\n",
        "    if user == 'scissors':\n",
        "        print('I win! *_*')\n",
        "    else:\n",
        "        print('You win. Aargh!')"
      ]
    },
    {
      "cell_type": "code",
      "execution_count": 19,
      "metadata": {
        "id": "CTDHo1GMgo8Z"
      },
      "outputs": [],
      "source": [
        "comp = 'rock'\n",
        "user = 'rock'\n",
        "\n",
        "if comp == 'rock':\n",
        "\n",
        "  if user == 'paper':\n",
        "    print ('I win * *! ')\n",
        "  elif user == 'scissors':\n",
        "    print ('You win.')\n",
        "else:\n",
        "  print ('Tie.')\n"
      ]
    },
    {
      "cell_type": "code",
      "execution_count": 20,
      "metadata": {
        "colab": {
          "base_uri": "https://localhost:8080/"
        },
        "id": "PePi_NZwjgZN",
        "outputId": "c5998af4-99e5-45fb-ee64-531ce2aea1af"
      },
      "outputs": [
        {
          "name": "stdout",
          "output_type": "stream",
          "text": [
            "I win * *! \n",
            "An awful tie\n"
          ]
        }
      ],
      "source": [
        "comp = 'rock'\n",
        "user = 'rock'\n",
        "\n",
        "if comp == 'rock':\n",
        "\tprint ('I win * *! ')\n",
        "\n",
        "if user == 'paper':\n",
        "\tprint ('You win. ')\n",
        "\n",
        "else:\n",
        "\tprint ('An awful tie')"
      ]
    },
    {
      "cell_type": "code",
      "execution_count": 21,
      "metadata": {
        "colab": {
          "base_uri": "https://localhost:8080/"
        },
        "id": "bQmbrQ3lxRSG",
        "outputId": "c8876b65-c472-4ac7-8d1e-7b6e9121cb52"
      },
      "outputs": [
        {
          "name": "stdout",
          "output_type": "stream",
          "text": [
            "Welcome, Kia !\n",
            "\n",
            "I challenge you to rock-paper-scissors! Prepare to be vanquished!\n",
            "\n",
            "You chose rock\n",
            "But I chose paper...\n",
            "My paper smothers your rock!\n",
            "\n",
            "Try again, if you dare...\n"
          ]
        }
      ],
      "source": [
        "# A very unfair game of rock-paper-scissors\n",
        "\n",
        "user_name = input(\"What is your name? \")\n",
        "print(\"Welcome,\", user_name, \"!\")\n",
        "print()\n",
        "\n",
        "print(\"I challenge you to rock-paper-scissors! Prepare to be vanquished!\")\n",
        "\n",
        "user_choice = input(\"Which do you choose? (rock/paper/scissors):\")\n",
        "print()\n",
        "\n",
        "if user_choice == \"rock\":\n",
        "  print(\"You chose\", user_choice)\n",
        "  print(\"But I chose paper...\")   # this doesn't seem fair...\n",
        "  print(\"My paper smothers your rock!\")\n",
        "\n",
        "elif user_choice == \"paper\":\n",
        "  print(\"You chose\", user_choice, \"?\")\n",
        "  print(\"I'm sorry: My scissors have confetti'd you!\")\n",
        "\n",
        "else:\n",
        "  print(\"You chose\", user_choice)\n",
        "  print(\"Wow. You chose poorly!\")\n",
        "  print(\"I win.\")\n",
        "\n",
        "\n",
        "print()\n",
        "print(\"Try again, if you dare...\")\n"
      ]
    },
    {
      "cell_type": "markdown",
      "metadata": {
        "id": "LVDqFSCqz_Qa"
      },
      "source": [
        "### <u><b>To Do</b></u>\n",
        "\n",
        "### Run the above cell several times...\n",
        "\n",
        "+ Try different inputs, including <tt>rock</tt>, <tt>paper</tt>, <tt>scissors</tt>, and some others. Experiment!\n",
        "+ In each case, consider the results...\n",
        "\n",
        "<br>\n",
        "\n",
        "### <u><b>To Answer</b></u>\n",
        "\n",
        "Feel free to include your answers here, just after each question. (A couple of these are completed as examples.)\n",
        "\n",
        "+ In the above cell, which lines run when <tt>user_choice</tt> is equal to ``\"rock\"``?\n",
        "   + <b>Answer</b>:  lines 13-15, the <tt>if</tt> block's body, are run in this case\n",
        "+ In the above cell, which lines run when <tt>user_choice</tt> is equal to ``\"paper\"``?\n",
        "   + <b>Answer</b>: lines 18-19. The <tt>if</tt> blocks are run.\n",
        "+ In the above cell, which lines run when <tt>user_choice</tt> is equal to ``\"Paper\"``? (Hint: it's different than above!)\n",
        "   + <b>Answer</b>: When user_choice is \"Paper\": Lines 21-24 run.\n",
        "+ In the above cell, which lines run when <tt>user_choice</tt> is equal to <tt>POPTARTS!</tt>?\n",
        "   + <b>Answer</b>: When user_choice is \"POPTARTS!\": Lines 21-24 run.\n",
        "+ If you delete just the <tt>if</tt> block (lines 12-15) entirely, how does the program's behavior change?\n",
        "   + <b>Answer</b>:  This breaks the code: it's a syntax error to have an <tt>elif</tt> or an <tt>else</tt> without an initial <tt>if</tt>!\n",
        "+ What if you delete just the <tt>elif</tt> block (lines 17-19)?\n",
        "   + <b>Answer</b>:Then “paper” falls into the else block, so there is no special handling for “paper.”\n",
        "+ What if you delete just the <tt>else</tt> block (lines 21-24)?\n",
        "   + <b>Answer</b>: There is no default branch, so inputs other than “rock” or “paper” do nothing.\n",
        "+ What if you change just the keyword <tt>elif</tt> to the keyword <tt>if</tt> on line 17? How does the program's behavior change?\n",
        "   + <b>Answer</b>: Both if statements run independently, so any non-“paper” choice triggers the else even if the first if was true.\n",
        "<br>\n",
        "\n",
        "### <u><b>To Notice</b></u>\n",
        "\n",
        "+ In the above cell, notice that to **test** if a variable is equal to a value, Python uses two equal signs\n",
        "   + <tt>user_choice == \"rock\"</tt> is a <u>test</u>\n",
        "+ On the other hand, to **set** a variable to a value, Python uses one equal sign\n",
        "  + <tt>user_choice = input(\"Which?\")</tt> <i>sets</i> <tt>user_choice</tt>. (It's not a test.)\n",
        "+ The **body** of each conditional block is indented. This is how Python knows when the block ends.\n",
        "   + When its indentation ends, so does that _block_ of code.\n",
        "\n",
        "\n"
      ]
    },
    {
      "cell_type": "markdown",
      "metadata": {
        "id": "b5Nkx_-LC0SM"
      },
      "source": [
        "# <font color=\"darkblue\"><b><i>Nested</i> Conditionals</b></font>\n",
        "\n",
        "That's it!\n",
        "\n",
        "Incredibly, that's all there is to know about conditionals!\n",
        "\n",
        "(Although there's value to practicing further!)\n",
        "\n",
        "Even more incredibly, ***this is all that's needed for <u>any</u> computational decision-making at all***\n",
        "+ <tt>if</tt>, <tt>elif</tt>, and <tt>else</tt> are all that are needed\n",
        "+ Every conditional must begin with an <tt>if</tt>. The <tt>elif</tt> and <tt>else</tt> blocks are optional.\n",
        "+ Sophistication, power, and intricacy can be built through ***nesting***\n",
        "\n",
        "Below is a more sophisticated -- and more fair -- rock-paper-scissors example. + It uses _nested_ conditionals to keep track of both the user's choice and the computer's choice.\n",
        "\n",
        "You'll see the line <tt>comp_choice = random.choice([\"rock\",\"paper\",\"scissors\"])</tt>\n",
        "+ This line makes a random choice from the three options\n",
        "+ It assigns that choice to the variable <tt>comp_choice</tt>\n",
        "+ We don't know which it's chosen!\n",
        "\n",
        "Try it out!"
      ]
    },
    {
      "cell_type": "code",
      "execution_count": 22,
      "metadata": {
        "colab": {
          "base_uri": "https://localhost:8080/"
        },
        "id": "0EGxVgVmIDOu",
        "outputId": "762cc44e-62c6-4594-886f-d35dc8f63500"
      },
      "outputs": [
        {
          "name": "stdout",
          "output_type": "stream",
          "text": [
            "Welcome, bal !\n",
            "\n",
            "Ready for RPS? Choose wisely!!\n",
            "\n",
            "You chose paper\n",
            "  I chose rock\n",
            "\n",
            "You have ventured into the unknown...\n",
            "... but I probably won!!\n",
            "\n",
            "Try again!\n"
          ]
        }
      ],
      "source": [
        "#\n",
        "# A fairer but incomplete game of rock-paper-scissors\n",
        "#\n",
        "\n",
        "import random       # imports a library (named random)\n",
        "                    # for making random choices\n",
        "\n",
        "user_name = input(\"What is your name? \")\n",
        "print(\"Welcome,\", user_name, \"!\")\n",
        "print()\n",
        "\n",
        "print(\"Ready for RPS? Choose wisely!!\")\n",
        "user_choice = input(\"Which do you choose? (rock/paper/scissors):\")\n",
        "comp_choice = random.choice([\"rock\",\"paper\",\"scissors\"])\n",
        "print()\n",
        "\n",
        "# We print both choices\n",
        "print(\"You chose\", user_choice)\n",
        "print(\"  I chose\", comp_choice)\n",
        "print()\n",
        "\n",
        "\n",
        "# We can handle different possibilities with nested conditionals\n",
        "\n",
        "if user_choice == \"rock\":\n",
        "\n",
        "  if comp_choice == \"rock\":\n",
        "    print(\"Aargh! We tied (but my rock was rockier!)\")\n",
        "  elif comp_choice == \"paper\":\n",
        "    print(\"I win! My paper outclasses any rock!\")\n",
        "  else:\n",
        "    print('Alack! Your rock cast my scissors asunder.')\n",
        "\n",
        "else:\n",
        "\n",
        "  print(\"You have ventured into the unknown...\")\n",
        "  print(\"... but I probably won!!\")\n",
        "\n",
        "\n",
        "\n",
        "print()\n",
        "print(\"Try again!\")\n"
      ]
    },
    {
      "cell_type": "markdown",
      "metadata": {
        "id": "uMmkLijNKtFa"
      },
      "source": [
        "# <font color=\"darkblue\"><b>Your Task: a <i>real</i> RPS...</b></font>\n",
        "\n",
        "Above is a _start_ to a real RPS challenge. It's fair, but incomplete.\n",
        "\n",
        "<br>\n",
        "\n",
        "Your task, in the following cell, is to create a complete, fair-playing RPS-like game:\n",
        "+ it should run and should handle at least nine possibilities correctly\n",
        "+ they can be rock-paper-scissors or your own options...\n",
        "+ use creative/personalized dialog!\n",
        "\n",
        "<br>\n",
        "\n",
        "There are lots of extra-credit possibilities, as well:\n",
        "+ create an RPS-variation of your own design\n",
        "   + There are several variants that involve bears.\n",
        "   + Perhaps bear-stag-sagehen?\n",
        "   + Could have more than three options, e.g., [rock-paper-scissors-lizard-spock](https://www.youtube.com/watch?v=x5Q6-wMx-K8)\n",
        "+ use better/sharper dialog!\n",
        "+ include \"easter eggs\" - for example, different behavior if the name is recognized...\n",
        "   + With conditionals, there's no limit to the code-paths possible...\n",
        "\n",
        "<br>\n",
        "\n",
        "But, don't spend too much time on RPS...\n",
        "\n",
        "... because the final task, your Python Adventure, awaits!\n"
      ]
    },
    {
      "cell_type": "code",
      "execution_count": 23,
      "metadata": {
        "colab": {
          "base_uri": "https://localhost:8080/"
        },
        "id": "fcLcTxiwPAOQ",
        "outputId": "0adcd6b9-bdc3-44b9-e061-efc1f45d35bf"
      },
      "outputs": [
        {
          "name": "stdout",
          "output_type": "stream",
          "text": [
            "Welcome to the Rock-Paper-Scissors game! Let's go!\n",
            "\n",
            "    _______\n",
            "---'   ____)\n",
            "      (_____)\n",
            "      (_____)\n",
            "      (____)\n",
            "---.__(___)\n",
            "\n",
            " Computer chose: \n",
            " \n",
            "    _______\n",
            "---'   ____)\n",
            "      (_____)\n",
            "      (_____)\n",
            "      (____)\n",
            "---.__(___)\n",
            " \n",
            " It's a draw\n"
          ]
        }
      ],
      "source": [
        "#\n",
        "# Your fair, complete RPS or RPS-variant  (this cell)\n",
        "#\n",
        "#\n",
        "# Use the previous, unfair/incomplete examples as starting points and resources\n",
        "# and keep adding/fixing/creating from there... .\n",
        "#\n",
        "\n",
        "rock = '''\n",
        "    _______\n",
        "---'   ____)\n",
        "      (_____)\n",
        "      (_____)\n",
        "      (____)\n",
        "---.__(___)\n",
        "'''\n",
        "\n",
        "paper = '''\n",
        "    _______\n",
        "---'   ____)____\n",
        "          ______)\n",
        "          _______)\n",
        "         _______)\n",
        "---.__________)\n",
        "'''\n",
        "\n",
        "scissors = '''\n",
        "    _______\n",
        "---'   ____)____\n",
        "          ______)\n",
        "       __________)\n",
        "      (____)\n",
        "---.__(___)\n",
        "'''\n",
        "\n",
        "import random\n",
        "\n",
        "# Start the  game\n",
        "print(\"Welcome to the Rock-Paper-Scissors game! Let\\'s go!\")\n",
        "\n",
        "# Capturing the user input\n",
        "player = input(\"Rock...Paper...Scissors.... What do you choose? Type 0 for Rock, 1 for Paper, or 2 for Scissors.\\n\")\n",
        "# Converting the user input\n",
        "player_int = int(player)\n",
        "# Listing the parameters of the game\n",
        "list = [rock, paper, scissors]\n",
        "\n",
        "# Calling the import function for a random number\n",
        "cpu = random.randint(0,len(list)-1)\n",
        "\n",
        "# Putting the if statements into perspective and combining the list and possible outcomes into the print statements\n",
        "\n",
        "if player_int >= 3 or player_int < 0:\n",
        "  print(\"You have typed an invalid number, Try again!\")\n",
        "  # print(f\"{list[player_int]}\\n Computer chose: \\n {list[cpu]} \\n Error! Try again\" )\n",
        "elif player_int == 0 and cpu == 2:\n",
        "  print(f\"{list[0]}\\n Computer Chose:\\n {list[cpu]} \\n You win.\")\n",
        "elif player_int == 1 and cpu == 0:\n",
        "  print(f\"{list[1]}\\n Computer Chose:\\n {list[cpu]} \\n You win.\")\n",
        "elif player_int == 2 and cpu ==1:\n",
        "  print(f\"{list[2]}\\n Computer Chose:\\n {list[cpu]} \\n You win.\")\n",
        "elif player_int == cpu:\n",
        "  print(f\"{list[player_int]}\\n Computer chose: \\n {list[cpu]} \\n It\\'s a draw\" )\n",
        "\n",
        "else:\n",
        "  print(f\"{list[player_int]}\\n Computer chose: \\n {list[cpu]} \\n You lose.\")"
      ]
    },
    {
      "cell_type": "markdown",
      "metadata": {
        "id": "z5GHXttzVHYV"
      },
      "source": [
        "# <font color=\"darkblue\"><b>Adventure! (example)</b></font>\n",
        "\n",
        "Try running the cell below and then read it over.\n",
        "\n",
        "It is an example \"interactive fiction\" adventure:\n",
        "+ featuring poptarts  (naturally)\n",
        "+ with multiple outcomes available  (only two, in this case)\n",
        "\n",
        "With this as an example, the final problem asks you to create-your-own-adventure...  (see the details below)."
      ]
    },
    {
      "cell_type": "code",
      "execution_count": 24,
      "metadata": {
        "colab": {
          "base_uri": "https://localhost:8080/"
        },
        "id": "M2KYNZknVNJr",
        "outputId": "359730d3-1c7a-4760-d8f7-83c0f6ba552a"
      },
      "outputs": [
        {
          "name": "stdout",
          "output_type": "stream",
          "text": [
            "\n",
            "Welcome, KA -- to the UnderMine, a labyrinth\n",
            "beneath CGU's unending academic complex, with weighty\n",
            "wonders and unreal quantities...of poptarts!\n",
            "\n",
            "Your quest: To find--and partake of--a poptart!\n",
            "\n",
            "Each to their own, then.\n",
            "\n",
            "On to the quest!\n",
            "\n",
            "\n",
            "A corridor stretches before you; its dim lighting betrays, to\n",
            "one side, a table supporting nameless forms of inorganic bulk\n",
            "and, to the other, a door ajar, leaking laughter--is that\n",
            "laughter?--of lab-goers.\n",
            "\n",
            "\n",
            "As you approach the table, its hazy burdens loom ever larger,\n",
            "until...\n",
            "\n",
            "...they resolve into unending stacks of poptarts, foil\n",
            "shimmering.  You succeed, sumptuously, in sating the\n",
            "challenge--and your hunger.\n",
            "Go well, KA !\n"
          ]
        }
      ],
      "source": [
        "# Title for this example adventure:   The Quest.\n",
        "#\n",
        "# Notes on how to \"win\" or \"lose\" this adventure:\n",
        "#   To win, choose the table.\n",
        "#   To lose, choose the door.\n",
        "\n",
        "\n",
        "def adventure():\n",
        "    \"\"\"This function runs one session of interactive fiction\n",
        "       Well, it's \"fiction,\" depending on the pill color chosen...\n",
        "       Arguments: no arguments (prompted text doesn't count as an argument)\n",
        "       Results: no results     (printing doesn't count as a result)\n",
        "    \"\"\"\n",
        "    user_name = input(\"What do they call you, worthy adventurer? \")\n",
        "\n",
        "    print()\n",
        "    print(\"Welcome,\", user_name, \"-- to the UnderMine, a labyrinth\")\n",
        "    print(\"beneath CGU's unending academic complex, with weighty\")\n",
        "    print(\"wonders and unreal quantities...of poptarts!\")\n",
        "    print()\n",
        "\n",
        "    print(\"Your quest: To find--and partake of--a poptart!\")\n",
        "    print()\n",
        "    flavor = input(\"What flavor do you seek? \")\n",
        "    if flavor == \"strawberry\":\n",
        "        print(\"Wise! You show deep poptart experience.\")\n",
        "    elif flavor == \"s'mores\":\n",
        "        print(\"The taste of the campfire: well chosen, adventurer!\")\n",
        "    else:\n",
        "        print(\"Each to their own, then.\")\n",
        "    print()\n",
        "\n",
        "    print(\"On to the quest!\\n\\n\")\n",
        "    print(\"A corridor stretches before you; its dim lighting betrays, to\")\n",
        "    print(\"one side, a table supporting nameless forms of inorganic bulk\")\n",
        "    print(\"and, to the other, a door ajar, leaking laughter--is that\")\n",
        "    print(\"laughter?--of lab-goers.\")\n",
        "    print()\n",
        "\n",
        "    choice1 = input(\"Do you choose the table or the door? [table/door] \")\n",
        "    print()\n",
        "\n",
        "    if choice1 == \"table\":\n",
        "        print(\"As you approach the table, its hazy burdens loom ever larger,\")\n",
        "        print(\"until...\")\n",
        "        print()\n",
        "        print(\"...they resolve into unending stacks of poptarts, foil\")\n",
        "        print(\"shimmering.  You succeed, sumptuously, in sating the\")\n",
        "        print(\"challenge--and your hunger.\")\n",
        "        print(\"Go well,\", user_name, \"!\")\n",
        "\n",
        "    else:\n",
        "        print(\"You push the door into a gathering of sagefowl, athenas,\")\n",
        "        print(\"and stags alike, all relishing their tasks. Teamwork and\")\n",
        "        print(\"merriment abound here, except...\")\n",
        "        print()\n",
        "        print(\"...they have consumed ALL of the poptarts! Drifts of wrappers\")\n",
        "        print(\"coat the floor.  Dizzy, you grasp for a pastry. None is at\")\n",
        "        print(\"hand. You exhale and slip under the teeming tide of foil as\")\n",
        "        print(\"it finishes winding around you.\")\n",
        "        print(\"Farewell,\", user_name, \".\")\n",
        "\n",
        "\n",
        "#\n",
        "# The above adventure is defined in a _function_  (next week: functions!)\n",
        "#\n",
        "# This means it's defined, but it does not run until we call it.\n",
        "# This line below calls it:\n",
        "adventure()"
      ]
    },
    {
      "cell_type": "markdown",
      "metadata": {
        "id": "oqzSX1aKDhq-"
      },
      "source": [
        "# <font color=\"darkblue\"><b>Adventure (Yours!)</b></font>\n",
        "\n",
        "### Interactive Fiction\n",
        "\n",
        "For this problem, you-the-author should create a Python program (built on the starting template above) that is a work of interactive fiction, a.k.a., a choose-your-own-adventure program.\n",
        "\n",
        "Its goals are\n",
        "+ to build experience with control structures! Your adventure needs at least 5 <tt>if</tt>-based control structures, noted below.\n",
        "+ to begin writing code in a function (the template does this using <tt>def adventure():</tt> at the top of the cell) -- and then running it (by calling <tt>adventure()</tt> at the bottom of the cell\n",
        "+ to invite story-telling (in Python)!\n",
        "\n",
        "<br>\n",
        "\n",
        "### Conditional structures to include:\n",
        "\n",
        "The example story includes two if-based control structures: (a) an <tt>if-elif-else</tt> and (b) an <tt>if-else</tt>\n",
        "\n",
        "For this challenge, you use each of five conditional control structures in a creative way that affects the story or dialog\n",
        "+ They don't have to appear in this or any order\n",
        "+ You're welcome to have many more than this, if you wish!\n",
        "+ Here are the control structures to be sure to include:\n",
        "   + An `if`, `elif`, and `else` control structure (with exactly one `elif`)\n",
        "   + An `if`, `elif`, `elif`, ... and `else` control structure (with at least two `elif`s and a trailing `else`)\n",
        "   + An `if`, `else` control structure (with zero `elif`s)\n",
        "   + An `if`, `elif`, ... control structure (with one or more `elif`s but no trailing `else` at all)\n",
        "   + A plain `if` control structure (with no trailing `elif` nor trailing `else` at all)\n",
        "\n",
        "<i>Keep things light!</i>\n",
        "+ There are forums for all forms of expression, and this one's goals is really contextualizing conditionals in CS.\n",
        "+ Know that, poentially, lots of people (our tutors! us!) will read—and run—your story: we look forward to it!\n",
        "+ It's appreciated if you describe how to \"win\" your adventure at the top of your cell, in a comment\n",
        "\n",
        "Also, please be mindful of the time you spend!\n",
        "\n",
        "The goal here is _not_ to take a lot of time.\n",
        "+ It's easy to let time slip away: the poptart adventure above took much longer than I originally thought it would—and it has only two control structures!\n",
        "\n",
        "<br>\n",
        "\n",
        "### I look forward to your adventure!\n"
      ]
    },
    {
      "cell_type": "code",
      "execution_count": 25,
      "metadata": {
        "colab": {
          "base_uri": "https://localhost:8080/"
        },
        "id": "3CuGtAfYPqCi",
        "outputId": "3f1b3e69-3953-42b7-fbf3-0b2a4ed7f934"
      },
      "outputs": [
        {
          "name": "stderr",
          "output_type": "stream",
          "text": [
            "<>:19: SyntaxWarning: invalid escape sequence '\\`'\n",
            "<>:71: SyntaxWarning: invalid escape sequence '\\ '\n",
            "<>:105: SyntaxWarning: invalid escape sequence '\\ '\n",
            "<>:127: SyntaxWarning: invalid escape sequence '\\`'\n",
            "<>:19: SyntaxWarning: invalid escape sequence '\\`'\n",
            "<>:71: SyntaxWarning: invalid escape sequence '\\ '\n",
            "<>:105: SyntaxWarning: invalid escape sequence '\\ '\n",
            "<>:127: SyntaxWarning: invalid escape sequence '\\`'\n",
            "C:\\Users\\adokh\\AppData\\Local\\Temp\\ipykernel_49536\\2985102469.py:19: SyntaxWarning: invalid escape sequence '\\`'\n",
            "  print('''\n",
            "C:\\Users\\adokh\\AppData\\Local\\Temp\\ipykernel_49536\\2985102469.py:71: SyntaxWarning: invalid escape sequence '\\ '\n",
            "  print(''' ==========+\n",
            "C:\\Users\\adokh\\AppData\\Local\\Temp\\ipykernel_49536\\2985102469.py:105: SyntaxWarning: invalid escape sequence '\\ '\n",
            "  print('''\n",
            "C:\\Users\\adokh\\AppData\\Local\\Temp\\ipykernel_49536\\2985102469.py:127: SyntaxWarning: invalid escape sequence '\\`'\n",
            "  print('''*******************************************************************************\n"
          ]
        },
        {
          "name": "stdout",
          "output_type": "stream",
          "text": [
            "\n",
            "Welcome, ka !\n",
            "\n",
            "*******************************************************************************\n",
            "          |                   |                  |                     |\n",
            " _________|________________.=\"\"_;=.______________|_____________________|_______\n",
            "|                   |  ,-\"_,=\"\"     `\"=.|                  |\n",
            "|___________________|__\"=._o`\"-._        `\"=.______________|___________________\n",
            "          |                `\"=._o`\"=._      _`\"=._                     |\n",
            " _________|_____________________:=._o \"=._.\"_.-=\"'\"=.__________________|_______\n",
            "|                   |    __.--\" , ; `\"=._o.\" ,-\"\"\"-._ \".   |\n",
            "|___________________|_._\"  ,. .` ` `` ,  `\"-._\"-._   \". '__|___________________\n",
            "          |           |o`\"=._` , \"` `; .\". ,  \"-._\"-._; ;              |\n",
            " _________|___________| ;`-.o`\"=._; .\" ` '`.\"\\` . \"-._ /_______________|_______\n",
            "|                   | |o;    `\"-.o`\"=._``  '` \" ,__.--o;   |\n",
            "|___________________|_| ;     (#) `-.o `\"=.`_.--\"_o.-; ;___|___________________\n",
            "____/______/______/___|o;._    \"      `\".o|o_.--\"    ;o;____/______/______/____\n",
            "/______/______/______/_\"=._o--._        ; | ;        ; ;/______/______/______/_\n",
            "____/______/______/______/__\"=._o--._   ;o|o;     _._;o;____/______/______/____\n",
            "/______/______/______/______/____\"=._o._; | ;_.--\"o.--\"_/______/______/______/_\n",
            "____/______/______/______/______/_____\"=.o|o_.--\"\"___/______/______/______/____\n",
            "/______/______/______/______/______/______/______/______/______/______/_____ /\n",
            "*******************************************************************************\n",
            "\n",
            "Welcome to Treasure Island.\n",
            "Your mission is to find the treasure.\n",
            "⠀⠀⠀⠀⠀⠀⠀⠀⠀⠀⠀⠀⠀⠀⠀⠀⠀⠀⠀⠀⠀⠀⠀⠀⠀\n",
            "⠀⠀⠀⠀⠀⠀⠀⠀⣀⣀⣠⣤⣤⣤⣤⣤⣤⣤⣤⣄⣀⣀⠀⠀⠀⠀⠀⠀⠀⠀\n",
            "⠀⠀⠀⢀⣤⣴⣾⣿⣿⡿⠿⠿⠿⠟⠛⠛⠻⠿⠿⠿⢿⣿⣿⣷⣦⣤⡀⠀⠀⠀\n",
            "⠀⢀⣼⣿⡿⠛⠉⠁⠀⠀⠀⠀⠀⠀⠀⠀⠀⠀⠀⠀⠀⠀⠈⠉⠛⢿⣿⣧⡀⠀\n",
            "⠀⢸⡟⠁⠀⠀⠀⠀⠀⠀⠀⠀⠀⠀⠀⠀⠀⠀⠀⠀⠀⠀⠀⠀⠀⠀⠈⢻⡇⠀\n",
            "⠀⠈⢻⣦⡀⠀⠀⠀⠀⠀⠀⠀⠀⠀⠀⠀⠀⠀⠀⠀⠀⠀⠀⠀⠀⢀⣴⡟⠁⠀\n",
            "⠀⠀⠀⠈⠛⠳⢦⣤⣄⣀⣀⡀⠀⠀⠀⠀⠀⠀⢀⣀⣀⣠⣤⡴⠞⠛⠁⠀⠀⠀\n",
            "⠀⠀⠀⠀⠀⠀⠀⠀⠈⠉⠙⠛⠛⠛⠛⠛⠛⠛⠛⠋⠉⠉⠀⠀⠀⠀⠀⠀⠀\n",
            "      \n",
            "You fell into a hole. \n",
            "Game over.\n",
            "\n"
          ]
        }
      ],
      "source": [
        "# Title for this adventure:   __Love island___\n",
        "#\n",
        "# Notes on how to \"win\" or \"lose\" this adventure:\n",
        "#   To win, choose the table.\n",
        "#   To lose, choose the door.\n",
        "\n",
        "\n",
        "def adventure():\n",
        "    \"\"\"This function runs one session of interactive fiction\n",
        "       Well, it's \"fiction,\" depending on the path chosen...\n",
        "       Arguments: no arguments (prompted text doesn't count as an argument)\n",
        "       Results: no results     (printing doesn't count as a result)\n",
        "    \"\"\"\n",
        "    user_name = input(\"What do they call you, worthy adventurer? \")\n",
        "\n",
        "    print()\n",
        "    print(\"Welcome,\", user_name, \"!\")\n",
        "\n",
        "    print('''\n",
        "*******************************************************************************\n",
        "          |                   |                  |                     |\n",
        " _________|________________.=\"\"_;=.______________|_____________________|_______\n",
        "|                   |  ,-\"_,=\"\"     `\"=.|                  |\n",
        "|___________________|__\"=._o`\"-._        `\"=.______________|___________________\n",
        "          |                `\"=._o`\"=._      _`\"=._                     |\n",
        " _________|_____________________:=._o \"=._.\"_.-=\"'\"=.__________________|_______\n",
        "|                   |    __.--\" , ; `\"=._o.\" ,-\"\"\"-._ \".   |\n",
        "|___________________|_._\"  ,. .` ` `` ,  `\"-._\"-._   \". '__|___________________\n",
        "          |           |o`\"=._` , \"` `; .\". ,  \"-._\"-._; ;              |\n",
        " _________|___________| ;`-.o`\"=._; .\" ` '`.\"\\` . \"-._ /_______________|_______\n",
        "|                   | |o;    `\"-.o`\"=._``  '` \" ,__.--o;   |\n",
        "|___________________|_| ;     (#) `-.o `\"=.`_.--\"_o.-; ;___|___________________\n",
        "____/______/______/___|o;._    \"      `\".o|o_.--\"    ;o;____/______/______/____\n",
        "/______/______/______/_\"=._o--._        ; | ;        ; ;/______/______/______/_\n",
        "____/______/______/______/__\"=._o--._   ;o|o;     _._;o;____/______/______/____\n",
        "/______/______/______/______/____\"=._o._; | ;_.--\"o.--\"_/______/______/______/_\n",
        "____/______/______/______/______/_____\"=.o|o_.--\"\"___/______/______/______/____\n",
        "/______/______/______/______/______/______/______/______/______/______/_____ /\n",
        "*******************************************************************************\n",
        "''')\n",
        "    print(\"Welcome to Treasure Island.\")\n",
        "    print(\"Your mission is to find the treasure.\")\n",
        "\n",
        "    #https://www.draw.io/?lightbox=1&highlight=0000ff&edit=_blank&layers=1&nav=1&title=Treasure%20Island%20Conditional.drawio#Uhttps%3A%2F%2Fdrive.google.com%2Fuc%3Fid%3D1oDe4ehjWZipYRsVfeAx2HyB7LCQ8_Fvi%26export%3Ddownload\n",
        "\n",
        "    #Write your code below this line 👇\n",
        "    direction = input(\"Do you want to go 'Left' or 'Right?' \\n\")\n",
        "\n",
        "    # Alternative input\n",
        "    # direction1 = input('You\\'re at a crossroad, where do you want to go? Type \"left\" or \"right\".\\n')\n",
        "    lower_direction = direction.lower()\n",
        "\n",
        "    if lower_direction == \"left\":\n",
        "      print('''                     __\n",
        "                                        _.-~  )\n",
        "                              _..--~~~~,'   ,-/     _\n",
        "                          .-'. . . .'   ,-','    ,' )\n",
        "                        ,'. . . _   ,--~,-'__..-'  ,'\n",
        "                      ,'. . .  (@)' ---~~~~      ,'\n",
        "                      /. . . . '~~             ,-'\n",
        "                    /. . . . .             ,-'\n",
        "                    ; . . . .  - .        ,'\n",
        "                  : . . . .       _     /\n",
        "                  . . . . .          `-.:\n",
        "                . . . ./  - .          )\n",
        "                .  . . |  _____..---.._/ ____ Seal _\n",
        "          ~---~~~~----~~~~             ~~''')\n",
        "      river = input('You arrived at a lake. Would you like to \"Swim\" or \"Wait?\"\\n').lower()\n",
        "      # river1 = input('You\\'ve come to a lake. There is an island in the middle of the lake. Type \"wait\" to wait for a boat. Type \"swim\" to swim across.').lower()\n",
        "      if river=='wait':\n",
        "        print(''' ==========+\n",
        "    |  __  __  ||\n",
        "    | |  ||  | ||\n",
        "    | |  ||  | ||\n",
        "    | |__||__| |--\n",
        "    |  __  __()|\\ Peeking in and...\n",
        "    | |  ||  | +|\n",
        "    | |  ||  | ||\n",
        "    | |  ||  | ||\n",
        "    | |__||__| ||\n",
        "    |__________|- ''')\n",
        "        door = input('You arrived on the shore with to 3 doors of different colors. \"Red\", \"Blue\" and \"Yellow\". Which color do you chose?\\n').lower()\n",
        "        if door == 'red':\n",
        "          print('''               (  .      )\n",
        "              )           (              )\n",
        "                    .  '   .   '  .  '  .\n",
        "            (    , )       (.   )  (   ',    )\n",
        "            .' ) ( . )    ,  ( ,     )   ( .\n",
        "          ). , ( .   (  ) ( , ')  .' (  ,    )\n",
        "        (_,) . ), ) _) _,')  (, ) '. )  ,. (' )\n",
        "    ^^^^^^^^^^^^^^^^^^^^^^^^^^^^^^^^^^^^^^^^^^''')\n",
        "          print(\"You have been burned by fire.\\nGame over.\\n\")\n",
        "        elif door == 'blue':\n",
        "          print('''                _.---._     .---.\n",
        "                __...---' .---. `---'-.   `.\n",
        "      ~ -~ -.-''__.--' _.'( | )`.  `.  `._ :\n",
        "    -.~~ .'__-'_ .--'' ._`---'_.-.  `.   `-`.\n",
        "      ~ ~_~-~-~_ ~ -._ -._``---. -.    `-._   `.\n",
        "        ~- ~ ~ -_ -~ ~ -.._ _ _ _ ..-_ `.  `-._``--.._\n",
        "        ~~-~ ~-_ _~ ~-~ ~ -~ _~~_-~ -._  `-.  -. `-._``--.._.--''. ~ -~_\n",
        "            ~~ -~_-~ _~- _~~ _~-_~ ~-_~~ ~-.___    -._  `-.__   `. `. ~ -_~\n",
        "          jgs   ~~ _~- ~~- -_~  ~- ~ - _~~- _~~ ~---...__ _    ._ .` `. ~-_~\n",
        "                    ~ ~- _~~- _-_~ ~-_ ~-~ ~_-~ _~- ~_~-_~  ~--.....--~ -~_ ~\n",
        "                        ~ ~ - ~  ~ ~~ - ~~-  ~~- ~-  ~ -~ ~ ~ -~~-  ~- ~-~ ''')\n",
        "          print('''\n",
        "\n",
        "                                            _..-=~=-._\n",
        "                                        _.-~'          ~.\n",
        "                            __..---~~~~~                 ~.\n",
        "                      _.-~~                      _.._     ~.\n",
        "                  _ -~_                         /    \\      ;\n",
        "                  ( ` '@)                       {      |      :\n",
        "                  /                             |      |      :\n",
        "                /     /}         (  )          |      |     .-\n",
        "                /     //-=-~-_-_  |  |          \\      ;    .'\n",
        "              /     //     | =._-|  }/ / / /_.==\\     ; _.'   *\n",
        "              ( oo  //|     = )  ~| /.__..-='|    \\    :'     **\n",
        "              ====||*|    / /    + )    \\   |_.-~`\\   :      |**\n",
        "                  |*| *   / /    / /      \\  |     ([ ])     /|||(\n",
        "              *    |*    /_/    / /       (  ]     `/ \\'     /|||_\n",
        "            **(*   |   (((|   /_/      __/_/__    -| |--    _|_|__\n",
        "            *|\\|             (((|      -----     __|_|__\n",
        "          __/||||__            '''\n",
        "          '''''')\n",
        "          print(\"You came face to face with a crocodiles and dinosaurs. You are eaten.\\nGame over.\\n\")\n",
        "        elif door == 'yellow':\n",
        "          print('''*******************************************************************************\n",
        "              |                   |                  |                     |\n",
        "    _________|________________.=\"\"_;=.______________|_____________________|_______\n",
        "    |                   |  ,-\"_,=\"\"     `\"=.|                  |\n",
        "    |___________________|__\"=._o`\"-._        `\"=.______________|___________________\n",
        "              |                `\"=._o`\"=._      _`\"=._                     |\n",
        "    _________|_____________________:=._o \"=._.\"_.-=\"'\"=.__________________|_______\n",
        "    |                   |    __.--\" , ; `\"=._o.\" ,-\"\"\"-._ \".   |\n",
        "    |___________________|_._\"  ,. .` ` `` ,  `\"-._\"-._   \". '__|___________________\n",
        "              |           |o`\"=._` , \"` `; .\". ,  \"-._\"-._; ;              |\n",
        "    _________|___________| ;`-.o`\"=._; .\" ` '`.\"\\` . \"-._ /_______________|_______\n",
        "    |                   | |o;    `\"-.o`\"=._``  '` \" ,__.--o;   |\n",
        "    |___________________|_| ;     (#) `-.o `\"=.`_.--\"_o.-; ;___|___________________\n",
        "    ____/______/______/___|o;._    \"      `\".o|o_.--\"    ;o;____/______/______/____\n",
        "    /______/______/______/_\"=._o--._        ; | ;        ; ;/______/______/______/_\n",
        "    ____/______/______/______/__\"=._o--._   ;o|o;     _._;o;____/______/______/____\n",
        "    /______/______/______/______/____\"=._o._; | ;_.--\"o.--\"_/______/______/______/_\n",
        "    ____/______/______/______/______/_____\"=.o|o_.--\"\"___/______/______/______/____\n",
        "    /______/______/______/______/______/______/______/______/______/______/______/_\n",
        "    *******************************************************************************''')\n",
        "          print(\"You discovered the chest treasure. \\nYou win.\")\n",
        "        else:\n",
        "          print(\"Game over.\")\n",
        "      else:\n",
        "        print(\"You have been attacked by trout. \\nGame over.\\n\")\n",
        "    else:\n",
        "      print('''⠀⠀⠀⠀⠀⠀⠀⠀⠀⠀⠀⠀⠀⠀⠀⠀⠀⠀⠀⠀⠀⠀⠀⠀⠀\n",
        "⠀⠀⠀⠀⠀⠀⠀⠀⣀⣀⣠⣤⣤⣤⣤⣤⣤⣤⣤⣄⣀⣀⠀⠀⠀⠀⠀⠀⠀⠀\n",
        "⠀⠀⠀⢀⣤⣴⣾⣿⣿⡿⠿⠿⠿⠟⠛⠛⠻⠿⠿⠿⢿⣿⣿⣷⣦⣤⡀⠀⠀⠀\n",
        "⠀⢀⣼⣿⡿⠛⠉⠁⠀⠀⠀⠀⠀⠀⠀⠀⠀⠀⠀⠀⠀⠀⠈⠉⠛⢿⣿⣧⡀⠀\n",
        "⠀⢸⡟⠁⠀⠀⠀⠀⠀⠀⠀⠀⠀⠀⠀⠀⠀⠀⠀⠀⠀⠀⠀⠀⠀⠀⠈⢻⡇⠀\n",
        "⠀⠈⢻⣦⡀⠀⠀⠀⠀⠀⠀⠀⠀⠀⠀⠀⠀⠀⠀⠀⠀⠀⠀⠀⠀⢀⣴⡟⠁⠀\n",
        "⠀⠀⠀⠈⠛⠳⢦⣤⣄⣀⣀⡀⠀⠀⠀⠀⠀⠀⢀⣀⣀⣠⣤⡴⠞⠛⠁⠀⠀⠀\n",
        "⠀⠀⠀⠀⠀⠀⠀⠀⠈⠉⠙⠛⠛⠛⠛⠛⠛⠛⠛⠋⠉⠉⠀⠀⠀⠀⠀⠀⠀\n",
        "      ''')\n",
        "      print(\"You fell into a hole. \\nGame over.\\n\")\n",
        "\n",
        "\n",
        "\n",
        "#\n",
        "# The above adventure is defined in a _function_  (next week: functions!)\n",
        "#\n",
        "# This means it's defined, but it does not run until we call it.\n",
        "# This line below calls it:\n",
        "adventure()"
      ]
    },
    {
      "cell_type": "markdown",
      "metadata": {
        "id": "_hi9IzD5eb-O"
      },
      "source": [
        "# <font color=\"darkblue\"><b>Reading and Response</b></font>\n",
        "\n",
        "### There is often a \"reading-and-response challenge\"\n",
        "+ There is usually one of these each week...\n",
        "+ It often complements the programming portion for that week...\n",
        "+ **Response**    We ask you to compose a response to each article. It can be short (4-5 sentences is great), and the goal is to engage with something in each article and incorporate your own thoughts and experiences into your response.\n",
        "  + The responses are worth about 5 points each week.\n",
        "  + Include your response in the cell below...\\\n",
        "  \n",
        "\n",
        "<br>\n",
        "\n",
        "### This week's reading is about _language_\n",
        "+ Here is the [article in the NYTimes](https://www.nytimes.com/2010/08/29/magazine/29language-t.html)\n",
        "+ Here is a [local pdf copy](https://www.cs.hmc.edu/twiki/pub/CS5/Reading0Gold/language_shapes.pdf), in case you don't have access the NYTimes version\n",
        "\n",
        "<br>\n",
        "\n",
        "#### What to do...\n",
        "\n",
        "+ After you have read the above excerpt (or whole article), create a response to the article that addresses one or both of the following prompts in a plain-text file named hw0pr0.txt, which you should submit through the submissions system.\n",
        "  + Have there been moments in which you felt that your language or another language \"got in the way\" of something you wanted to accomplish? That is, have you \"bumped into a language's boundaries,\" in the manner suggested by the article? Elaborate briefly.  or\n",
        "  + To what extent do artificial languages (such as Python or Picobot) have the ability to shape human thought, if at all? Or are such languages fundamentally different from human ones, such as Guugu Yimithirr and English?\n",
        "+ You only need write a few sentences in the next cell down; a paragraph of 4-6 sentences certainly suffices. More are welcome, but the real goal is that your response shows you have thought about the article and added your own experience or insights to its ideas.\n",
        "\n"
      ]
    },
    {
      "cell_type": "markdown",
      "metadata": {
        "id": "lGWfvhGde9RA"
      },
      "source": [
        "## <font color=\"darkblue\"><b>Response to \"Does language shape how we think?!\"</b></font>\n",
        "\n",
        "<br>\n",
        "\n",
        "Python and Picobot can structure human problem-solving and mold our thinking. Clear and consistent thinking is supported by these languages' strong logical frameworks which eliminate ambiguity. Artificial languages are more rigid but universally interpretable within their domain since they lack cultural or emotional richness. They influence cognitive processes like computational thinking by encouraging users to reduce issues into structured, manageable steps. They do not shape worldview like natural languages. Consequently, artificial languages modify thought within their specialized contexts but do not redefine human perception like linguistic relativity predicts for natural languages.\n",
        "\n",
        "\n",
        "<br>\n",
        "<br>"
      ]
    },
    {
      "cell_type": "markdown",
      "metadata": {
        "id": "rNHGo2zHWUuo"
      },
      "source": [
        "# <B>Submitting...</B>\n",
        "\n",
        "Be sure to submit the url of _your_ copy -- with the challenges, questions, and programs composed --\n",
        "+ to Canvas in the appropriate spot\n",
        "+ by the _following_ Friday evening, any time...\n",
        "\n",
        "Remember that there is lots of cgu-based tutoring support (the Python tutoring), as well as office-hour support available...\n",
        "\n",
        "<br>\n",
        "\n",
        "The programming parts of IST341, especially this one, seek poptarts -- as well as\n",
        "+ creativity/novelty\n",
        "+ personalization/individual context\n",
        "+ exploration and understanding (does it run?)"
      ]
    }
  ],
  "metadata": {
    "colab": {
      "include_colab_link": true,
      "provenance": []
    },
    "kernelspec": {
      "display_name": "Python 3",
      "name": "python3"
    },
    "language_info": {
      "codemirror_mode": {
        "name": "ipython",
        "version": 3
      },
      "file_extension": ".py",
      "mimetype": "text/x-python",
      "name": "python",
      "nbconvert_exporter": "python",
      "pygments_lexer": "ipython3",
      "version": "3.13.1"
    }
  },
  "nbformat": 4,
  "nbformat_minor": 0
}
